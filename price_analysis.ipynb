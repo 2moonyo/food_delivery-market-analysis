{
 "cells": [
  {
   "cell_type": "code",
   "execution_count": 1,
   "metadata": {},
   "outputs": [],
   "source": [
    "import sqlite3\n",
    "import pandas as pd\n",
    "#from sqlalchemy import create_engine"
   ]
  },
  {
   "cell_type": "code",
   "execution_count": 2,
   "metadata": {},
   "outputs": [],
   "source": [
    "%reload_ext sql"
   ]
  },
  {
   "cell_type": "code",
   "execution_count": 3,
   "metadata": {},
   "outputs": [],
   "source": [
    "%sql sqlite:///databases/deliveroo.db"
   ]
  },
  {
   "cell_type": "code",
   "execution_count": 2,
   "metadata": {},
   "outputs": [],
   "source": [
    "# Create connections to the databases\n",
    "del_conn = sqlite3.connect(r'./databases/deliveroo.db')\n",
    "take_conn = sqlite3.connect(r'./databases/takeaway.db')\n",
    "uber_conn = sqlite3.connect(r'./databases/ubereats.db')\n",
    "\n",
    "# Creat cursor objects\n",
    "del_cur = del_conn.cursor()\n",
    "take_cur = take_conn.cursor()\n",
    "uber_cur = uber_conn.cursor()"
   ]
  },
  {
   "cell_type": "markdown",
   "metadata": {},
   "source": [
    "- Which restaurants have the best price-rating ratio?"
   ]
  },
  {
   "cell_type": "code",
   "execution_count": 4,
   "metadata": {},
   "outputs": [
    {
     "data": {
      "text/plain": [
       "[('Yokubō - Meal Kits', 5.0, 4.72),\n",
       " ('La Bagatelle de Lou', 5.0, 10.0),\n",
       " ('Neuhaus Woluwe Shopping', 5.0, 32.31),\n",
       " ('Moochie Aalst', 4.9, 1.72),\n",
       " ('The Kind Coconut', 4.9, 3.31)]"
      ]
     },
     "execution_count": 4,
     "metadata": {},
     "output_type": "execute_result"
    }
   ],
   "source": [
    "# 1. Deliveroo\n",
    "\n",
    "# Chance '500+' to 500 in the restaurants table\n",
    "del_cur.execute(\"\"\"\n",
    "    UPDATE restaurants\n",
    "    SET rating_number = 500\n",
    "    WHERE rating_number = '500+';\n",
    "\"\"\")\n",
    "\n",
    "# Convert rating_number to integer\n",
    "\n",
    "del_cur.execute(\"\"\"\n",
    "    UPDATE restaurants\n",
    "    SET rating_number = CAST(rating_number AS INTEGER);\n",
    "\"\"\")\n",
    "\n",
    "# Convert price to float\n",
    "del_cur.execute(\"\"\"\n",
    "    UPDATE menu_items\n",
    "    SET price = CAST(price AS REAL);\n",
    "\"\"\")\n",
    "\n",
    "# Delete rows with NULL in category\n",
    "del_cur.execute(\"\"\"\n",
    "    DELETE FROM restaurants\n",
    "    WHERE category IS NULL;\n",
    "\"\"\")\n",
    "\n",
    "# Get the top 5 restaurants with the best price-rating ratio\n",
    "del_restaurants = del_cur.execute(\"\"\"\n",
    "    SELECT r.name AS rest_name, rating, ROUND(AVG(m.price), 2) AS avg_item_price\n",
    "    FROM restaurants AS r\n",
    "    INNER JOIN menu_items AS m\n",
    "    ON r.id = m.restaurant_id\n",
    "    GROUP BY rest_name\n",
    "    ORDER BY rating DESC, avg_item_price ASC\n",
    "    LIMIT 5;\n",
    "\n",
    "\"\"\")\n",
    "top5_deliveroo = del_restaurants.fetchall()\n",
    "top5_deliveroo"
   ]
  },
  {
   "cell_type": "code",
   "execution_count": 5,
   "metadata": {},
   "outputs": [
    {
     "data": {
      "text/plain": [
       "[('Le Corner', 5, 2.36),\n",
       " ('Pâtisserie Doce Tentação', 5, 2.63),\n",
       " (\"Frituur op't Hoekske\", 5, 2.86),\n",
       " ('QueTacos', 5, 2.86),\n",
       " ('JD-Corner', 5, 2.91)]"
      ]
     },
     "execution_count": 5,
     "metadata": {},
     "output_type": "execute_result"
    }
   ],
   "source": [
    "# 2. Takeaway\n",
    "\n",
    "take_restaurants = take_cur.execute(\"\"\"\n",
    "    SELECT r.name AS rest_name, ratings AS rating, ROUND(AVG(m.price), 2) AS avg_item_price\n",
    "    FROM restaurants AS r\n",
    "    INNER JOIN menuItems AS m\n",
    "    USING(primarySlug)\n",
    "    GROUP BY rest_name\n",
    "    ORDER BY ratings DESC, avg_item_price ASC\n",
    "    LIMIT 5;\n",
    "\"\"\")\n",
    "top5_takeaway = take_restaurants.fetchall()\n",
    "top5_takeaway"
   ]
  },
  {
   "cell_type": "code",
   "execution_count": 6,
   "metadata": {},
   "outputs": [
    {
     "data": {
      "text/plain": [
       "[(\"T'more enjoy\", 5.0, 4.7),\n",
       " ('Boba Club', 5.0, 6.06),\n",
       " ('CrÃ¨merie Marie', 5.0, 7.68),\n",
       " ('JanYa Thai Wok', 5.0, 10.51),\n",
       " ('Carrefour Express - Merksem Lambrechtshoek', 4.9, 3.62)]"
      ]
     },
     "execution_count": 6,
     "metadata": {},
     "output_type": "execute_result"
    }
   ],
   "source": [
    "# 3. Uber Eats\n",
    "\n",
    "# Correct price on the menu_items table\n",
    "uber_cur.execute(\"\"\"\n",
    "    UPDATE menu_items\n",
    "    SET price = price / 100;\n",
    "\"\"\")\n",
    "\n",
    "uber_restaurants = uber_cur.execute(\"\"\"\n",
    "    SELECT title AS rest_title, rating__rating_value AS rating, ROUND(AVG(price), 2) AS avg_item_price\n",
    "    FROM restaurants AS r\n",
    "    INNER JOIN menu_items AS m\n",
    "    ON r.id = m.restaurant_id\n",
    "    GROUP BY title\n",
    "    ORDER BY rating__rating_value DESC, avg_item_price ASC    \n",
    "    LIMIT 5;\n",
    "\n",
    "\"\"\")\n",
    "top5_uber = uber_restaurants.fetchall()\n",
    "top5_uber"
   ]
  },
  {
   "cell_type": "code",
   "execution_count": null,
   "metadata": {},
   "outputs": [],
   "source": []
  },
  {
   "cell_type": "code",
   "execution_count": null,
   "metadata": {},
   "outputs": [],
   "source": []
  },
  {
   "cell_type": "code",
   "execution_count": 58,
   "metadata": {},
   "outputs": [
    {
     "data": {
      "text/plain": [
       "(nan, nan, nan, nan, nan, nan)\n",
       "Ketchup                           1298\n",
       "Fanta                             1166\n",
       "Sprite                             935\n",
       "Mayonaise                          858\n",
       "Andalouse                          707\n",
       "                                  ... \n",
       "🥘 Thaïse currysoep 🌶️ (vegan🌱)       1\n",
       "🥜 Poke Bowl Poulet Teriyaki          1\n",
       "🥤 Coca Cola Zero 33cl                1\n",
       "🥤 Coca cola 33cl                     1\n",
       "🥩 Carpaccio                          1\n",
       "Name: count, Length: 101791, dtype: int64"
      ]
     },
     "execution_count": 58,
     "metadata": {},
     "output_type": "execute_result"
    }
   ],
   "source": [
    "# What is the price distribution of menu items?\n",
    "\n",
    "del_items = del_cur.execute(\"\"\"\n",
    "    SELECT *\n",
    "    FROM menu_items;\n",
    "                   \n",
    "               \"\"\")\n",
    "\n",
    "col_names = del_items.description\n",
    "df = pd.DataFrame(del_items.fetchall())\n",
    "df.columns = col_names\n",
    "df['name'].value_counts()"
   ]
  },
  {
   "cell_type": "code",
   "execution_count": 59,
   "metadata": {},
   "outputs": [],
   "source": [
    "# How do delivery fees vary accross platforms and locations?"
   ]
  },
  {
   "cell_type": "code",
   "execution_count": 39,
   "metadata": {},
   "outputs": [
    {
     "data": {
      "text/html": [
       "<div>\n",
       "<style scoped>\n",
       "    .dataframe tbody tr th:only-of-type {\n",
       "        vertical-align: middle;\n",
       "    }\n",
       "\n",
       "    .dataframe tbody tr th {\n",
       "        vertical-align: top;\n",
       "    }\n",
       "\n",
       "    .dataframe thead th {\n",
       "        text-align: right;\n",
       "    }\n",
       "</style>\n",
       "<table border=\"1\" class=\"dataframe\">\n",
       "  <thead>\n",
       "    <tr style=\"text-align: right;\">\n",
       "      <th></th>\n",
       "      <th>0</th>\n",
       "      <th>1</th>\n",
       "      <th>2</th>\n",
       "    </tr>\n",
       "  </thead>\n",
       "  <tbody>\n",
       "    <tr>\n",
       "      <th>0</th>\n",
       "      <td>1</td>\n",
       "      <td>6</td>\n",
       "      <td>7</td>\n",
       "    </tr>\n",
       "    <tr>\n",
       "      <th>1</th>\n",
       "      <td>1</td>\n",
       "      <td>6</td>\n",
       "      <td>7</td>\n",
       "    </tr>\n",
       "    <tr>\n",
       "      <th>2</th>\n",
       "      <td>1</td>\n",
       "      <td>6</td>\n",
       "      <td>7</td>\n",
       "    </tr>\n",
       "    <tr>\n",
       "      <th>3</th>\n",
       "      <td>1</td>\n",
       "      <td>6</td>\n",
       "      <td>7</td>\n",
       "    </tr>\n",
       "    <tr>\n",
       "      <th>4</th>\n",
       "      <td>1</td>\n",
       "      <td>6</td>\n",
       "      <td>7</td>\n",
       "    </tr>\n",
       "    <tr>\n",
       "      <th>...</th>\n",
       "      <td>...</td>\n",
       "      <td>...</td>\n",
       "      <td>...</td>\n",
       "    </tr>\n",
       "    <tr>\n",
       "      <th>2711</th>\n",
       "      <td>1</td>\n",
       "      <td>6</td>\n",
       "      <td>7</td>\n",
       "    </tr>\n",
       "    <tr>\n",
       "      <th>2712</th>\n",
       "      <td>1</td>\n",
       "      <td>6</td>\n",
       "      <td>7</td>\n",
       "    </tr>\n",
       "    <tr>\n",
       "      <th>2713</th>\n",
       "      <td>1</td>\n",
       "      <td>6</td>\n",
       "      <td>7</td>\n",
       "    </tr>\n",
       "    <tr>\n",
       "      <th>2714</th>\n",
       "      <td>1</td>\n",
       "      <td>6</td>\n",
       "      <td>7</td>\n",
       "    </tr>\n",
       "    <tr>\n",
       "      <th>2715</th>\n",
       "      <td>1</td>\n",
       "      <td>6</td>\n",
       "      <td>7</td>\n",
       "    </tr>\n",
       "  </tbody>\n",
       "</table>\n",
       "<p>2716 rows × 3 columns</p>\n",
       "</div>"
      ],
      "text/plain": [
       "      0  1  2\n",
       "0     1  6  7\n",
       "1     1  6  7\n",
       "2     1  6  7\n",
       "3     1  6  7\n",
       "4     1  6  7\n",
       "...  .. .. ..\n",
       "2711  1  6  7\n",
       "2712  1  6  7\n",
       "2713  1  6  7\n",
       "2714  1  6  7\n",
       "2715  1  6  7\n",
       "\n",
       "[2716 rows x 3 columns]"
      ]
     },
     "execution_count": 39,
     "metadata": {},
     "output_type": "execute_result"
    }
   ],
   "source": [
    "take_cursor.execute(\"\"\"\n",
    "    SELECT 1 AS name, 6 AS category, 7 AS address\n",
    "                    FROM restaurants\n",
    "\"\"\")\n",
    "\n",
    "df_take_rest = pd.DataFrame(take_cursor.fetchall())\n",
    "df_take_rest"
   ]
  }
 ],
 "metadata": {
  "kernelspec": {
   "display_name": "sqlenv",
   "language": "python",
   "name": "python3"
  },
  "language_info": {
   "codemirror_mode": {
    "name": "ipython",
    "version": 3
   },
   "file_extension": ".py",
   "mimetype": "text/x-python",
   "name": "python",
   "nbconvert_exporter": "python",
   "pygments_lexer": "ipython3",
   "version": "3.10.0"
  }
 },
 "nbformat": 4,
 "nbformat_minor": 2
}
