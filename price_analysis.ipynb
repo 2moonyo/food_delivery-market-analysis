{
 "cells": [
  {
   "cell_type": "markdown",
   "metadata": {},
   "source": [
    "## Delivery Market Analysis on Price\n",
    "\n",
    "- Importing the necessary libraries"
   ]
  },
  {
   "cell_type": "code",
   "execution_count": 1,
   "metadata": {},
   "outputs": [],
   "source": [
    "import sqlite3\n",
    "import plotly.express as px\n",
    "import plotly.graph_objects as go\n",
    "import pandas as pd\n"
   ]
  },
  {
   "cell_type": "markdown",
   "metadata": {},
   "source": [
    "Combine the relevant fields of all three databases into one table inside a separate database (to keep it organized)."
   ]
  },
  {
   "cell_type": "code",
   "execution_count": 2,
   "metadata": {},
   "outputs": [
    {
     "data": {
      "text/plain": [
       "<sqlite3.Cursor at 0x1cd7de23540>"
      ]
     },
     "execution_count": 2,
     "metadata": {},
     "output_type": "execute_result"
    }
   ],
   "source": [
    "# Create a new bd to combine the relevant info from all three databases, conenct and attach connection to other databases, create table\n",
    "conn = sqlite3.connect('./databases/combined.db')\n",
    "conn.execute(\"ATTACH DATABASE './databases/deliveroo.db' AS del\")\n",
    "conn.execute(\"ATTACH DATABASE './databases/takeaway.db' AS take\")\n",
    "conn.execute(\"ATTACH DATABASE './databases/ubereats.db' AS uber\")\n",
    "\n",
    "# create new table to combine all platforms - rest_id to text due to Takeaway ID format\n",
    "cur = conn.cursor()\n",
    "cur.execute(\"\"\"\n",
    "    CREATE TABLE main.restaurants (\n",
    "        id INTEGER PRIMARY KEY,\n",
    "        platform TEXT,\n",
    "        rest_id TEXT,\n",
    "        rest_name TEXT,\n",
    "        rating REAL,\n",
    "        rating_count INTEGER,\n",
    "        delivery_fee REAL,\n",
    "        city TEXT,\n",
    "        zip_code INTEGER,\n",
    "        latitude REAL,\n",
    "        longitude REAL,         \n",
    "        item_id INTEGER,\n",
    "        item_name TEXT,\n",
    "        price REAL\n",
    "    )\n",
    "\"\"\")"
   ]
  },
  {
   "cell_type": "markdown",
   "metadata": {},
   "source": [
    "- Add the data from each app and fill the new 'platform' column for each app."
   ]
  },
  {
   "cell_type": "code",
   "execution_count": 3,
   "metadata": {},
   "outputs": [
    {
     "data": {
      "text/plain": [
       "<sqlite3.Cursor at 0x1cd7de23540>"
      ]
     },
     "execution_count": 3,
     "metadata": {},
     "output_type": "execute_result"
    }
   ],
   "source": [
    "# Add data from Deliveroo\n",
    "cur.execute(\"\"\"\n",
    "    INSERT INTO main.restaurants (rest_id, rest_name, rating, rating_count, delivery_fee, zip_code,  latitude, longitude, item_id, item_name, price)\n",
    "    SELECT r.id, r.name, r.rating, r.rating_number, r.delivery_fee, postal_code, latitude, longitude,  m.id, m.name, price\n",
    "    FROM del.restaurants AS r\n",
    "    INNER JOIN del.menu_items AS m\n",
    "    ON r.id = m.restaurant_id\n",
    "\"\"\")\n",
    "\n",
    "# Fill platform column - Deliveroo\n",
    "cur.execute(\"\"\"\n",
    "    UPDATE main.restaurants\n",
    "    SET platform = 'Deliveroo';\n",
    "\"\"\")\n",
    "\n",
    "# Add data from Takeaway\n",
    "cur.execute(\"\"\"\n",
    "    INSERT INTO main.restaurants (rest_id, rest_name, rating, rating_count, delivery_fee, city, latitude, longitude, item_id, item_name, price)\n",
    "    SELECT r.restaurant_id, r.name, ratings, ratingsNumber, deliveryFee, city, latitude, longitude, m.id, m.name, price\n",
    "    FROM take.restaurants AS r\n",
    "    INNER JOIN take.menuItems AS m\n",
    "    USING(primarySlug)           \n",
    "\"\"\")\n",
    "\n",
    "# Fill platform column - Takeaway\n",
    "cur.execute(\"\"\"\n",
    "    UPDATE main.restaurants\n",
    "    SET platform = 'Takeaway'\n",
    "    WHERE platform IS NULL;\n",
    "\"\"\")\n",
    "\n",
    "# Add data from Uber Eats (extract zip zode from location__address col)\n",
    "cur.execute(\"\"\"\n",
    "    INSERT INTO main.restaurants (rest_id, rest_name, rating, rating_count, city, zip_code, latitude, longitude, item_id, item_name, price)\n",
    "    SELECT r.id, r.title, r.rating__rating_value, r.rating__review_count, location__city, substr(location__address, -4, 4), location__latitude, location__longitude, m.id, m.name, m.price\n",
    "    FROM uber.restaurants AS r\n",
    "    INNER JOIN uber.menu_items AS m\n",
    "    ON r.id = m.restaurant_id;\n",
    "\"\"\")\n",
    "\n",
    "# Fill platform column - Uber Eats\n",
    "cur.execute(\"\"\"\n",
    "    UPDATE main.restaurants\n",
    "    SET platform = 'UberEats'\n",
    "    WHERE platform IS NULL;\n",
    "\"\"\")"
   ]
  },
  {
   "cell_type": "markdown",
   "metadata": {},
   "source": [
    "Now that we have the information from the three platforms into one, we can start exploring and cleaning the data."
   ]
  },
  {
   "cell_type": "code",
   "execution_count": 4,
   "metadata": {},
   "outputs": [
    {
     "data": {
      "text/plain": [
       "<sqlite3.Cursor at 0x1cd7de23540>"
      ]
     },
     "execution_count": 4,
     "metadata": {},
     "output_type": "execute_result"
    }
   ],
   "source": [
    "# Delete negative sign from price\n",
    "cur.execute(\"\"\"\n",
    "    UPDATE main.restaurants\n",
    "    SET price = REPLACE(price, '-', '')\n",
    "\"\"\")\n",
    "\n",
    "# Delete + sig from rating count\n",
    "cur.execute(\"\"\"\n",
    "    UPDATE main.restaurants\n",
    "    SET rating_count = REPLACE(rating_count, '+', '')\n",
    "\"\"\")\n",
    "\n",
    "# Remove rows without price\n",
    "cur.execute(\"\"\"\n",
    "    DELETE\n",
    "    FROM main.restaurants\n",
    "    WHERE price = 0.0\n",
    "\"\"\")\n",
    "\n",
    "# Change data type to INTEGER for rating_count and zip_code\n",
    "# rating_count\n",
    "cur.execute(\"\"\"\n",
    "    UPDATE main.restaurants\n",
    "    SET rating_count = CAST(rating_count AS INTEGER)\n",
    "    WHERE typeof(rating_count) = 'text';\n",
    "\"\"\")\n",
    "# zip_code\n",
    "cur.execute(\"\"\"\n",
    "    UPDATE main.restaurants\n",
    "    SET zip_code = CAST(zip_code AS INTEGER)\n",
    "    WHERE typeof(zip_code) = 'text';\n",
    "\"\"\")\n",
    "\n",
    "# Correct prices for Uber Eats (after verifying samples on the Uber Eats website)\n",
    "cur.execute(\"\"\"\n",
    "    UPDATE main.restaurants\n",
    "    SET price = price / 100\n",
    "    WHERE platform = 'UberEats';\n",
    "\"\"\")"
   ]
  },
  {
   "cell_type": "markdown",
   "metadata": {},
   "source": [
    "After further exploring the data, the following is noticeable about extra high and low prices: <br>\n",
    "- Prices over 100 correspond to expensive champagne or wine bottles, going up to about EUR 250. <br>\n",
    "- Some high prices were simply incorrect eg. Vegetable Samosa with a price of EUR 600.0 <br>\n",
    "- Some low prices as well, like a Chocolate Rainbow\tdonut from Dunkin Donuts for EUR 0.10 (although we wish it was the actual price). <br><br>\n",
    "Chamgpagne and wine bottles were kept in the table, since they represent actual products available for purchase. <br>\n",
    "The others were removed:\n",
    "\n",
    "\n"
   ]
  },
  {
   "cell_type": "code",
   "execution_count": 5,
   "metadata": {},
   "outputs": [
    {
     "data": {
      "text/plain": [
       "<sqlite3.Cursor at 0x1cd7de23540>"
      ]
     },
     "execution_count": 5,
     "metadata": {},
     "output_type": "execute_result"
    }
   ],
   "source": [
    "cur.execute(\"\"\"\n",
    "    DELETE\n",
    "    FROM main.restaurants\n",
    "    WHERE price > 250\n",
    "    OR price < 0.15;\n",
    "\"\"\")"
   ]
  },
  {
   "cell_type": "markdown",
   "metadata": {},
   "source": [
    "### Price related analysis\n",
    "### - What is the price distribution of menu items?"
   ]
  },
  {
   "cell_type": "code",
   "execution_count": 6,
   "metadata": {},
   "outputs": [],
   "source": [
    "# Get the min, max, range, and average price for each platform\n",
    "price_dist_query = cur.execute(\"\"\"\n",
    "SELECT \n",
    "    platform,\n",
    "    MIN(price) AS min_price,\n",
    "    MAX(price) AS max_price,\n",
    "    MAX(price) - MIN(price) AS price_range, \n",
    "    ROUND(AVG(price), 2) AS avg_price\n",
    "FROM main.restaurants\n",
    "GROUP BY platform\n",
    "ORDER BY avg_price, price_range;\n",
    "            \"\"\")"
   ]
  },
  {
   "cell_type": "code",
   "execution_count": 7,
   "metadata": {},
   "outputs": [
    {
     "data": {
      "application/vnd.plotly.v1+json": {
       "config": {
        "plotlyServerURL": "https://plot.ly"
       },
       "data": [
        {
         "alignmentgroup": "True",
         "hovertemplate": "<b>%{x}</b><br>Minimum Price: € %{y:.2f}<extra></extra>",
         "legendgroup": "",
         "marker": {
          "color": "#55828b",
          "pattern": {
           "shape": ""
          }
         },
         "name": "",
         "offsetgroup": "",
         "orientation": "v",
         "showlegend": false,
         "text": [
          0.15,
          0.15,
          0.15
         ],
         "textposition": "outside",
         "texttemplate": "€%{text:.2f}",
         "type": "bar",
         "x": [
          "Deliveroo",
          "UberEats",
          "Takeaway"
         ],
         "xaxis": "x",
         "y": [
          0.15,
          0.15,
          0.15
         ],
         "yaxis": "y"
        }
       ],
       "layout": {
        "barmode": "relative",
        "height": 500,
        "legend": {
         "tracegroupgap": 0
        },
        "template": {
         "data": {
          "bar": [
           {
            "error_x": {
             "color": "#2a3f5f"
            },
            "error_y": {
             "color": "#2a3f5f"
            },
            "marker": {
             "line": {
              "color": "#E5ECF6",
              "width": 0.5
             },
             "pattern": {
              "fillmode": "overlay",
              "size": 10,
              "solidity": 0.2
             }
            },
            "type": "bar"
           }
          ],
          "barpolar": [
           {
            "marker": {
             "line": {
              "color": "#E5ECF6",
              "width": 0.5
             },
             "pattern": {
              "fillmode": "overlay",
              "size": 10,
              "solidity": 0.2
             }
            },
            "type": "barpolar"
           }
          ],
          "carpet": [
           {
            "aaxis": {
             "endlinecolor": "#2a3f5f",
             "gridcolor": "white",
             "linecolor": "white",
             "minorgridcolor": "white",
             "startlinecolor": "#2a3f5f"
            },
            "baxis": {
             "endlinecolor": "#2a3f5f",
             "gridcolor": "white",
             "linecolor": "white",
             "minorgridcolor": "white",
             "startlinecolor": "#2a3f5f"
            },
            "type": "carpet"
           }
          ],
          "choropleth": [
           {
            "colorbar": {
             "outlinewidth": 0,
             "ticks": ""
            },
            "type": "choropleth"
           }
          ],
          "contour": [
           {
            "colorbar": {
             "outlinewidth": 0,
             "ticks": ""
            },
            "colorscale": [
             [
              0,
              "#0d0887"
             ],
             [
              0.1111111111111111,
              "#46039f"
             ],
             [
              0.2222222222222222,
              "#7201a8"
             ],
             [
              0.3333333333333333,
              "#9c179e"
             ],
             [
              0.4444444444444444,
              "#bd3786"
             ],
             [
              0.5555555555555556,
              "#d8576b"
             ],
             [
              0.6666666666666666,
              "#ed7953"
             ],
             [
              0.7777777777777778,
              "#fb9f3a"
             ],
             [
              0.8888888888888888,
              "#fdca26"
             ],
             [
              1,
              "#f0f921"
             ]
            ],
            "type": "contour"
           }
          ],
          "contourcarpet": [
           {
            "colorbar": {
             "outlinewidth": 0,
             "ticks": ""
            },
            "type": "contourcarpet"
           }
          ],
          "heatmap": [
           {
            "colorbar": {
             "outlinewidth": 0,
             "ticks": ""
            },
            "colorscale": [
             [
              0,
              "#0d0887"
             ],
             [
              0.1111111111111111,
              "#46039f"
             ],
             [
              0.2222222222222222,
              "#7201a8"
             ],
             [
              0.3333333333333333,
              "#9c179e"
             ],
             [
              0.4444444444444444,
              "#bd3786"
             ],
             [
              0.5555555555555556,
              "#d8576b"
             ],
             [
              0.6666666666666666,
              "#ed7953"
             ],
             [
              0.7777777777777778,
              "#fb9f3a"
             ],
             [
              0.8888888888888888,
              "#fdca26"
             ],
             [
              1,
              "#f0f921"
             ]
            ],
            "type": "heatmap"
           }
          ],
          "heatmapgl": [
           {
            "colorbar": {
             "outlinewidth": 0,
             "ticks": ""
            },
            "colorscale": [
             [
              0,
              "#0d0887"
             ],
             [
              0.1111111111111111,
              "#46039f"
             ],
             [
              0.2222222222222222,
              "#7201a8"
             ],
             [
              0.3333333333333333,
              "#9c179e"
             ],
             [
              0.4444444444444444,
              "#bd3786"
             ],
             [
              0.5555555555555556,
              "#d8576b"
             ],
             [
              0.6666666666666666,
              "#ed7953"
             ],
             [
              0.7777777777777778,
              "#fb9f3a"
             ],
             [
              0.8888888888888888,
              "#fdca26"
             ],
             [
              1,
              "#f0f921"
             ]
            ],
            "type": "heatmapgl"
           }
          ],
          "histogram": [
           {
            "marker": {
             "pattern": {
              "fillmode": "overlay",
              "size": 10,
              "solidity": 0.2
             }
            },
            "type": "histogram"
           }
          ],
          "histogram2d": [
           {
            "colorbar": {
             "outlinewidth": 0,
             "ticks": ""
            },
            "colorscale": [
             [
              0,
              "#0d0887"
             ],
             [
              0.1111111111111111,
              "#46039f"
             ],
             [
              0.2222222222222222,
              "#7201a8"
             ],
             [
              0.3333333333333333,
              "#9c179e"
             ],
             [
              0.4444444444444444,
              "#bd3786"
             ],
             [
              0.5555555555555556,
              "#d8576b"
             ],
             [
              0.6666666666666666,
              "#ed7953"
             ],
             [
              0.7777777777777778,
              "#fb9f3a"
             ],
             [
              0.8888888888888888,
              "#fdca26"
             ],
             [
              1,
              "#f0f921"
             ]
            ],
            "type": "histogram2d"
           }
          ],
          "histogram2dcontour": [
           {
            "colorbar": {
             "outlinewidth": 0,
             "ticks": ""
            },
            "colorscale": [
             [
              0,
              "#0d0887"
             ],
             [
              0.1111111111111111,
              "#46039f"
             ],
             [
              0.2222222222222222,
              "#7201a8"
             ],
             [
              0.3333333333333333,
              "#9c179e"
             ],
             [
              0.4444444444444444,
              "#bd3786"
             ],
             [
              0.5555555555555556,
              "#d8576b"
             ],
             [
              0.6666666666666666,
              "#ed7953"
             ],
             [
              0.7777777777777778,
              "#fb9f3a"
             ],
             [
              0.8888888888888888,
              "#fdca26"
             ],
             [
              1,
              "#f0f921"
             ]
            ],
            "type": "histogram2dcontour"
           }
          ],
          "mesh3d": [
           {
            "colorbar": {
             "outlinewidth": 0,
             "ticks": ""
            },
            "type": "mesh3d"
           }
          ],
          "parcoords": [
           {
            "line": {
             "colorbar": {
              "outlinewidth": 0,
              "ticks": ""
             }
            },
            "type": "parcoords"
           }
          ],
          "pie": [
           {
            "automargin": true,
            "type": "pie"
           }
          ],
          "scatter": [
           {
            "fillpattern": {
             "fillmode": "overlay",
             "size": 10,
             "solidity": 0.2
            },
            "type": "scatter"
           }
          ],
          "scatter3d": [
           {
            "line": {
             "colorbar": {
              "outlinewidth": 0,
              "ticks": ""
             }
            },
            "marker": {
             "colorbar": {
              "outlinewidth": 0,
              "ticks": ""
             }
            },
            "type": "scatter3d"
           }
          ],
          "scattercarpet": [
           {
            "marker": {
             "colorbar": {
              "outlinewidth": 0,
              "ticks": ""
             }
            },
            "type": "scattercarpet"
           }
          ],
          "scattergeo": [
           {
            "marker": {
             "colorbar": {
              "outlinewidth": 0,
              "ticks": ""
             }
            },
            "type": "scattergeo"
           }
          ],
          "scattergl": [
           {
            "marker": {
             "colorbar": {
              "outlinewidth": 0,
              "ticks": ""
             }
            },
            "type": "scattergl"
           }
          ],
          "scattermapbox": [
           {
            "marker": {
             "colorbar": {
              "outlinewidth": 0,
              "ticks": ""
             }
            },
            "type": "scattermapbox"
           }
          ],
          "scatterpolar": [
           {
            "marker": {
             "colorbar": {
              "outlinewidth": 0,
              "ticks": ""
             }
            },
            "type": "scatterpolar"
           }
          ],
          "scatterpolargl": [
           {
            "marker": {
             "colorbar": {
              "outlinewidth": 0,
              "ticks": ""
             }
            },
            "type": "scatterpolargl"
           }
          ],
          "scatterternary": [
           {
            "marker": {
             "colorbar": {
              "outlinewidth": 0,
              "ticks": ""
             }
            },
            "type": "scatterternary"
           }
          ],
          "surface": [
           {
            "colorbar": {
             "outlinewidth": 0,
             "ticks": ""
            },
            "colorscale": [
             [
              0,
              "#0d0887"
             ],
             [
              0.1111111111111111,
              "#46039f"
             ],
             [
              0.2222222222222222,
              "#7201a8"
             ],
             [
              0.3333333333333333,
              "#9c179e"
             ],
             [
              0.4444444444444444,
              "#bd3786"
             ],
             [
              0.5555555555555556,
              "#d8576b"
             ],
             [
              0.6666666666666666,
              "#ed7953"
             ],
             [
              0.7777777777777778,
              "#fb9f3a"
             ],
             [
              0.8888888888888888,
              "#fdca26"
             ],
             [
              1,
              "#f0f921"
             ]
            ],
            "type": "surface"
           }
          ],
          "table": [
           {
            "cells": {
             "fill": {
              "color": "#EBF0F8"
             },
             "line": {
              "color": "white"
             }
            },
            "header": {
             "fill": {
              "color": "#C8D4E3"
             },
             "line": {
              "color": "white"
             }
            },
            "type": "table"
           }
          ]
         },
         "layout": {
          "annotationdefaults": {
           "arrowcolor": "#2a3f5f",
           "arrowhead": 0,
           "arrowwidth": 1
          },
          "autotypenumbers": "strict",
          "coloraxis": {
           "colorbar": {
            "outlinewidth": 0,
            "ticks": ""
           }
          },
          "colorscale": {
           "diverging": [
            [
             0,
             "#8e0152"
            ],
            [
             0.1,
             "#c51b7d"
            ],
            [
             0.2,
             "#de77ae"
            ],
            [
             0.3,
             "#f1b6da"
            ],
            [
             0.4,
             "#fde0ef"
            ],
            [
             0.5,
             "#f7f7f7"
            ],
            [
             0.6,
             "#e6f5d0"
            ],
            [
             0.7,
             "#b8e186"
            ],
            [
             0.8,
             "#7fbc41"
            ],
            [
             0.9,
             "#4d9221"
            ],
            [
             1,
             "#276419"
            ]
           ],
           "sequential": [
            [
             0,
             "#0d0887"
            ],
            [
             0.1111111111111111,
             "#46039f"
            ],
            [
             0.2222222222222222,
             "#7201a8"
            ],
            [
             0.3333333333333333,
             "#9c179e"
            ],
            [
             0.4444444444444444,
             "#bd3786"
            ],
            [
             0.5555555555555556,
             "#d8576b"
            ],
            [
             0.6666666666666666,
             "#ed7953"
            ],
            [
             0.7777777777777778,
             "#fb9f3a"
            ],
            [
             0.8888888888888888,
             "#fdca26"
            ],
            [
             1,
             "#f0f921"
            ]
           ],
           "sequentialminus": [
            [
             0,
             "#0d0887"
            ],
            [
             0.1111111111111111,
             "#46039f"
            ],
            [
             0.2222222222222222,
             "#7201a8"
            ],
            [
             0.3333333333333333,
             "#9c179e"
            ],
            [
             0.4444444444444444,
             "#bd3786"
            ],
            [
             0.5555555555555556,
             "#d8576b"
            ],
            [
             0.6666666666666666,
             "#ed7953"
            ],
            [
             0.7777777777777778,
             "#fb9f3a"
            ],
            [
             0.8888888888888888,
             "#fdca26"
            ],
            [
             1,
             "#f0f921"
            ]
           ]
          },
          "colorway": [
           "#636efa",
           "#EF553B",
           "#00cc96",
           "#ab63fa",
           "#FFA15A",
           "#19d3f3",
           "#FF6692",
           "#B6E880",
           "#FF97FF",
           "#FECB52"
          ],
          "font": {
           "color": "#2a3f5f"
          },
          "geo": {
           "bgcolor": "white",
           "lakecolor": "white",
           "landcolor": "#E5ECF6",
           "showlakes": true,
           "showland": true,
           "subunitcolor": "white"
          },
          "hoverlabel": {
           "align": "left"
          },
          "hovermode": "closest",
          "mapbox": {
           "style": "light"
          },
          "paper_bgcolor": "white",
          "plot_bgcolor": "#E5ECF6",
          "polar": {
           "angularaxis": {
            "gridcolor": "white",
            "linecolor": "white",
            "ticks": ""
           },
           "bgcolor": "#E5ECF6",
           "radialaxis": {
            "gridcolor": "white",
            "linecolor": "white",
            "ticks": ""
           }
          },
          "scene": {
           "xaxis": {
            "backgroundcolor": "#E5ECF6",
            "gridcolor": "white",
            "gridwidth": 2,
            "linecolor": "white",
            "showbackground": true,
            "ticks": "",
            "zerolinecolor": "white"
           },
           "yaxis": {
            "backgroundcolor": "#E5ECF6",
            "gridcolor": "white",
            "gridwidth": 2,
            "linecolor": "white",
            "showbackground": true,
            "ticks": "",
            "zerolinecolor": "white"
           },
           "zaxis": {
            "backgroundcolor": "#E5ECF6",
            "gridcolor": "white",
            "gridwidth": 2,
            "linecolor": "white",
            "showbackground": true,
            "ticks": "",
            "zerolinecolor": "white"
           }
          },
          "shapedefaults": {
           "line": {
            "color": "#2a3f5f"
           }
          },
          "ternary": {
           "aaxis": {
            "gridcolor": "white",
            "linecolor": "white",
            "ticks": ""
           },
           "baxis": {
            "gridcolor": "white",
            "linecolor": "white",
            "ticks": ""
           },
           "bgcolor": "#E5ECF6",
           "caxis": {
            "gridcolor": "white",
            "linecolor": "white",
            "ticks": ""
           }
          },
          "title": {
           "x": 0.05
          },
          "xaxis": {
           "automargin": true,
           "gridcolor": "white",
           "linecolor": "white",
           "ticks": "",
           "title": {
            "standoff": 15
           },
           "zerolinecolor": "white",
           "zerolinewidth": 2
          },
          "yaxis": {
           "automargin": true,
           "gridcolor": "white",
           "linecolor": "white",
           "ticks": "",
           "title": {
            "standoff": 15
           },
           "zerolinecolor": "white",
           "zerolinewidth": 2
          }
         }
        },
        "title": {
         "text": "Minimum item price by Platform"
        },
        "width": 500,
        "xaxis": {
         "anchor": "y",
         "domain": [
          0,
          1
         ],
         "title": {
          "text": "Platform"
         }
        },
        "yaxis": {
         "anchor": "x",
         "domain": [
          0,
          1
         ],
         "title": {
          "text": "Min price"
         }
        }
       }
      }
     },
     "metadata": {},
     "output_type": "display_data"
    },
    {
     "data": {
      "application/vnd.plotly.v1+json": {
       "config": {
        "plotlyServerURL": "https://plot.ly"
       },
       "data": [
        {
         "alignmentgroup": "True",
         "hovertemplate": "<b>%{x}</b><br>Maximum Price: € %{y:.2f}<extra></extra>",
         "legendgroup": "Deliveroo",
         "marker": {
          "color": "#55828b",
          "pattern": {
           "shape": ""
          }
         },
         "name": "Deliveroo",
         "offsetgroup": "Deliveroo",
         "orientation": "v",
         "showlegend": true,
         "text": [
          250
         ],
         "textposition": "outside",
         "texttemplate": "€%{text:.2f}",
         "type": "bar",
         "x": [
          "Deliveroo"
         ],
         "xaxis": "x",
         "y": [
          250
         ],
         "yaxis": "y"
        },
        {
         "alignmentgroup": "True",
         "hovertemplate": "<b>%{x}</b><br>Maximum Price: € %{y:.2f}<extra></extra>",
         "legendgroup": "UberEats",
         "marker": {
          "color": "#87bba2",
          "pattern": {
           "shape": ""
          }
         },
         "name": "UberEats",
         "offsetgroup": "UberEats",
         "orientation": "v",
         "showlegend": true,
         "text": [
          230
         ],
         "textposition": "outside",
         "texttemplate": "€%{text:.2f}",
         "type": "bar",
         "x": [
          "UberEats"
         ],
         "xaxis": "x",
         "y": [
          230
         ],
         "yaxis": "y"
        },
        {
         "alignmentgroup": "True",
         "hovertemplate": "<b>%{x}</b><br>Maximum Price: € %{y:.2f}<extra></extra>",
         "legendgroup": "Takeaway",
         "marker": {
          "color": "#87bba2",
          "pattern": {
           "shape": ""
          }
         },
         "name": "Takeaway",
         "offsetgroup": "Takeaway",
         "orientation": "v",
         "showlegend": true,
         "text": [
          150
         ],
         "textposition": "outside",
         "texttemplate": "€%{text:.2f}",
         "type": "bar",
         "x": [
          "Takeaway"
         ],
         "xaxis": "x",
         "y": [
          150
         ],
         "yaxis": "y"
        }
       ],
       "layout": {
        "barmode": "relative",
        "height": 500,
        "legend": {
         "title": {
          "text": "Platform"
         },
         "tracegroupgap": 0
        },
        "template": {
         "data": {
          "bar": [
           {
            "error_x": {
             "color": "#2a3f5f"
            },
            "error_y": {
             "color": "#2a3f5f"
            },
            "marker": {
             "line": {
              "color": "#E5ECF6",
              "width": 0.5
             },
             "pattern": {
              "fillmode": "overlay",
              "size": 10,
              "solidity": 0.2
             }
            },
            "type": "bar"
           }
          ],
          "barpolar": [
           {
            "marker": {
             "line": {
              "color": "#E5ECF6",
              "width": 0.5
             },
             "pattern": {
              "fillmode": "overlay",
              "size": 10,
              "solidity": 0.2
             }
            },
            "type": "barpolar"
           }
          ],
          "carpet": [
           {
            "aaxis": {
             "endlinecolor": "#2a3f5f",
             "gridcolor": "white",
             "linecolor": "white",
             "minorgridcolor": "white",
             "startlinecolor": "#2a3f5f"
            },
            "baxis": {
             "endlinecolor": "#2a3f5f",
             "gridcolor": "white",
             "linecolor": "white",
             "minorgridcolor": "white",
             "startlinecolor": "#2a3f5f"
            },
            "type": "carpet"
           }
          ],
          "choropleth": [
           {
            "colorbar": {
             "outlinewidth": 0,
             "ticks": ""
            },
            "type": "choropleth"
           }
          ],
          "contour": [
           {
            "colorbar": {
             "outlinewidth": 0,
             "ticks": ""
            },
            "colorscale": [
             [
              0,
              "#0d0887"
             ],
             [
              0.1111111111111111,
              "#46039f"
             ],
             [
              0.2222222222222222,
              "#7201a8"
             ],
             [
              0.3333333333333333,
              "#9c179e"
             ],
             [
              0.4444444444444444,
              "#bd3786"
             ],
             [
              0.5555555555555556,
              "#d8576b"
             ],
             [
              0.6666666666666666,
              "#ed7953"
             ],
             [
              0.7777777777777778,
              "#fb9f3a"
             ],
             [
              0.8888888888888888,
              "#fdca26"
             ],
             [
              1,
              "#f0f921"
             ]
            ],
            "type": "contour"
           }
          ],
          "contourcarpet": [
           {
            "colorbar": {
             "outlinewidth": 0,
             "ticks": ""
            },
            "type": "contourcarpet"
           }
          ],
          "heatmap": [
           {
            "colorbar": {
             "outlinewidth": 0,
             "ticks": ""
            },
            "colorscale": [
             [
              0,
              "#0d0887"
             ],
             [
              0.1111111111111111,
              "#46039f"
             ],
             [
              0.2222222222222222,
              "#7201a8"
             ],
             [
              0.3333333333333333,
              "#9c179e"
             ],
             [
              0.4444444444444444,
              "#bd3786"
             ],
             [
              0.5555555555555556,
              "#d8576b"
             ],
             [
              0.6666666666666666,
              "#ed7953"
             ],
             [
              0.7777777777777778,
              "#fb9f3a"
             ],
             [
              0.8888888888888888,
              "#fdca26"
             ],
             [
              1,
              "#f0f921"
             ]
            ],
            "type": "heatmap"
           }
          ],
          "heatmapgl": [
           {
            "colorbar": {
             "outlinewidth": 0,
             "ticks": ""
            },
            "colorscale": [
             [
              0,
              "#0d0887"
             ],
             [
              0.1111111111111111,
              "#46039f"
             ],
             [
              0.2222222222222222,
              "#7201a8"
             ],
             [
              0.3333333333333333,
              "#9c179e"
             ],
             [
              0.4444444444444444,
              "#bd3786"
             ],
             [
              0.5555555555555556,
              "#d8576b"
             ],
             [
              0.6666666666666666,
              "#ed7953"
             ],
             [
              0.7777777777777778,
              "#fb9f3a"
             ],
             [
              0.8888888888888888,
              "#fdca26"
             ],
             [
              1,
              "#f0f921"
             ]
            ],
            "type": "heatmapgl"
           }
          ],
          "histogram": [
           {
            "marker": {
             "pattern": {
              "fillmode": "overlay",
              "size": 10,
              "solidity": 0.2
             }
            },
            "type": "histogram"
           }
          ],
          "histogram2d": [
           {
            "colorbar": {
             "outlinewidth": 0,
             "ticks": ""
            },
            "colorscale": [
             [
              0,
              "#0d0887"
             ],
             [
              0.1111111111111111,
              "#46039f"
             ],
             [
              0.2222222222222222,
              "#7201a8"
             ],
             [
              0.3333333333333333,
              "#9c179e"
             ],
             [
              0.4444444444444444,
              "#bd3786"
             ],
             [
              0.5555555555555556,
              "#d8576b"
             ],
             [
              0.6666666666666666,
              "#ed7953"
             ],
             [
              0.7777777777777778,
              "#fb9f3a"
             ],
             [
              0.8888888888888888,
              "#fdca26"
             ],
             [
              1,
              "#f0f921"
             ]
            ],
            "type": "histogram2d"
           }
          ],
          "histogram2dcontour": [
           {
            "colorbar": {
             "outlinewidth": 0,
             "ticks": ""
            },
            "colorscale": [
             [
              0,
              "#0d0887"
             ],
             [
              0.1111111111111111,
              "#46039f"
             ],
             [
              0.2222222222222222,
              "#7201a8"
             ],
             [
              0.3333333333333333,
              "#9c179e"
             ],
             [
              0.4444444444444444,
              "#bd3786"
             ],
             [
              0.5555555555555556,
              "#d8576b"
             ],
             [
              0.6666666666666666,
              "#ed7953"
             ],
             [
              0.7777777777777778,
              "#fb9f3a"
             ],
             [
              0.8888888888888888,
              "#fdca26"
             ],
             [
              1,
              "#f0f921"
             ]
            ],
            "type": "histogram2dcontour"
           }
          ],
          "mesh3d": [
           {
            "colorbar": {
             "outlinewidth": 0,
             "ticks": ""
            },
            "type": "mesh3d"
           }
          ],
          "parcoords": [
           {
            "line": {
             "colorbar": {
              "outlinewidth": 0,
              "ticks": ""
             }
            },
            "type": "parcoords"
           }
          ],
          "pie": [
           {
            "automargin": true,
            "type": "pie"
           }
          ],
          "scatter": [
           {
            "fillpattern": {
             "fillmode": "overlay",
             "size": 10,
             "solidity": 0.2
            },
            "type": "scatter"
           }
          ],
          "scatter3d": [
           {
            "line": {
             "colorbar": {
              "outlinewidth": 0,
              "ticks": ""
             }
            },
            "marker": {
             "colorbar": {
              "outlinewidth": 0,
              "ticks": ""
             }
            },
            "type": "scatter3d"
           }
          ],
          "scattercarpet": [
           {
            "marker": {
             "colorbar": {
              "outlinewidth": 0,
              "ticks": ""
             }
            },
            "type": "scattercarpet"
           }
          ],
          "scattergeo": [
           {
            "marker": {
             "colorbar": {
              "outlinewidth": 0,
              "ticks": ""
             }
            },
            "type": "scattergeo"
           }
          ],
          "scattergl": [
           {
            "marker": {
             "colorbar": {
              "outlinewidth": 0,
              "ticks": ""
             }
            },
            "type": "scattergl"
           }
          ],
          "scattermapbox": [
           {
            "marker": {
             "colorbar": {
              "outlinewidth": 0,
              "ticks": ""
             }
            },
            "type": "scattermapbox"
           }
          ],
          "scatterpolar": [
           {
            "marker": {
             "colorbar": {
              "outlinewidth": 0,
              "ticks": ""
             }
            },
            "type": "scatterpolar"
           }
          ],
          "scatterpolargl": [
           {
            "marker": {
             "colorbar": {
              "outlinewidth": 0,
              "ticks": ""
             }
            },
            "type": "scatterpolargl"
           }
          ],
          "scatterternary": [
           {
            "marker": {
             "colorbar": {
              "outlinewidth": 0,
              "ticks": ""
             }
            },
            "type": "scatterternary"
           }
          ],
          "surface": [
           {
            "colorbar": {
             "outlinewidth": 0,
             "ticks": ""
            },
            "colorscale": [
             [
              0,
              "#0d0887"
             ],
             [
              0.1111111111111111,
              "#46039f"
             ],
             [
              0.2222222222222222,
              "#7201a8"
             ],
             [
              0.3333333333333333,
              "#9c179e"
             ],
             [
              0.4444444444444444,
              "#bd3786"
             ],
             [
              0.5555555555555556,
              "#d8576b"
             ],
             [
              0.6666666666666666,
              "#ed7953"
             ],
             [
              0.7777777777777778,
              "#fb9f3a"
             ],
             [
              0.8888888888888888,
              "#fdca26"
             ],
             [
              1,
              "#f0f921"
             ]
            ],
            "type": "surface"
           }
          ],
          "table": [
           {
            "cells": {
             "fill": {
              "color": "#EBF0F8"
             },
             "line": {
              "color": "white"
             }
            },
            "header": {
             "fill": {
              "color": "#C8D4E3"
             },
             "line": {
              "color": "white"
             }
            },
            "type": "table"
           }
          ]
         },
         "layout": {
          "annotationdefaults": {
           "arrowcolor": "#2a3f5f",
           "arrowhead": 0,
           "arrowwidth": 1
          },
          "autotypenumbers": "strict",
          "coloraxis": {
           "colorbar": {
            "outlinewidth": 0,
            "ticks": ""
           }
          },
          "colorscale": {
           "diverging": [
            [
             0,
             "#8e0152"
            ],
            [
             0.1,
             "#c51b7d"
            ],
            [
             0.2,
             "#de77ae"
            ],
            [
             0.3,
             "#f1b6da"
            ],
            [
             0.4,
             "#fde0ef"
            ],
            [
             0.5,
             "#f7f7f7"
            ],
            [
             0.6,
             "#e6f5d0"
            ],
            [
             0.7,
             "#b8e186"
            ],
            [
             0.8,
             "#7fbc41"
            ],
            [
             0.9,
             "#4d9221"
            ],
            [
             1,
             "#276419"
            ]
           ],
           "sequential": [
            [
             0,
             "#0d0887"
            ],
            [
             0.1111111111111111,
             "#46039f"
            ],
            [
             0.2222222222222222,
             "#7201a8"
            ],
            [
             0.3333333333333333,
             "#9c179e"
            ],
            [
             0.4444444444444444,
             "#bd3786"
            ],
            [
             0.5555555555555556,
             "#d8576b"
            ],
            [
             0.6666666666666666,
             "#ed7953"
            ],
            [
             0.7777777777777778,
             "#fb9f3a"
            ],
            [
             0.8888888888888888,
             "#fdca26"
            ],
            [
             1,
             "#f0f921"
            ]
           ],
           "sequentialminus": [
            [
             0,
             "#0d0887"
            ],
            [
             0.1111111111111111,
             "#46039f"
            ],
            [
             0.2222222222222222,
             "#7201a8"
            ],
            [
             0.3333333333333333,
             "#9c179e"
            ],
            [
             0.4444444444444444,
             "#bd3786"
            ],
            [
             0.5555555555555556,
             "#d8576b"
            ],
            [
             0.6666666666666666,
             "#ed7953"
            ],
            [
             0.7777777777777778,
             "#fb9f3a"
            ],
            [
             0.8888888888888888,
             "#fdca26"
            ],
            [
             1,
             "#f0f921"
            ]
           ]
          },
          "colorway": [
           "#636efa",
           "#EF553B",
           "#00cc96",
           "#ab63fa",
           "#FFA15A",
           "#19d3f3",
           "#FF6692",
           "#B6E880",
           "#FF97FF",
           "#FECB52"
          ],
          "font": {
           "color": "#2a3f5f"
          },
          "geo": {
           "bgcolor": "white",
           "lakecolor": "white",
           "landcolor": "#E5ECF6",
           "showlakes": true,
           "showland": true,
           "subunitcolor": "white"
          },
          "hoverlabel": {
           "align": "left"
          },
          "hovermode": "closest",
          "mapbox": {
           "style": "light"
          },
          "paper_bgcolor": "white",
          "plot_bgcolor": "#E5ECF6",
          "polar": {
           "angularaxis": {
            "gridcolor": "white",
            "linecolor": "white",
            "ticks": ""
           },
           "bgcolor": "#E5ECF6",
           "radialaxis": {
            "gridcolor": "white",
            "linecolor": "white",
            "ticks": ""
           }
          },
          "scene": {
           "xaxis": {
            "backgroundcolor": "#E5ECF6",
            "gridcolor": "white",
            "gridwidth": 2,
            "linecolor": "white",
            "showbackground": true,
            "ticks": "",
            "zerolinecolor": "white"
           },
           "yaxis": {
            "backgroundcolor": "#E5ECF6",
            "gridcolor": "white",
            "gridwidth": 2,
            "linecolor": "white",
            "showbackground": true,
            "ticks": "",
            "zerolinecolor": "white"
           },
           "zaxis": {
            "backgroundcolor": "#E5ECF6",
            "gridcolor": "white",
            "gridwidth": 2,
            "linecolor": "white",
            "showbackground": true,
            "ticks": "",
            "zerolinecolor": "white"
           }
          },
          "shapedefaults": {
           "line": {
            "color": "#2a3f5f"
           }
          },
          "ternary": {
           "aaxis": {
            "gridcolor": "white",
            "linecolor": "white",
            "ticks": ""
           },
           "baxis": {
            "gridcolor": "white",
            "linecolor": "white",
            "ticks": ""
           },
           "bgcolor": "#E5ECF6",
           "caxis": {
            "gridcolor": "white",
            "linecolor": "white",
            "ticks": ""
           }
          },
          "title": {
           "x": 0.05
          },
          "xaxis": {
           "automargin": true,
           "gridcolor": "white",
           "linecolor": "white",
           "ticks": "",
           "title": {
            "standoff": 15
           },
           "zerolinecolor": "white",
           "zerolinewidth": 2
          },
          "yaxis": {
           "automargin": true,
           "gridcolor": "white",
           "linecolor": "white",
           "ticks": "",
           "title": {
            "standoff": 15
           },
           "zerolinecolor": "white",
           "zerolinewidth": 2
          }
         }
        },
        "title": {
         "text": "Maximum item price by Platform"
        },
        "width": 500,
        "xaxis": {
         "anchor": "y",
         "categoryarray": [
          "Deliveroo",
          "UberEats",
          "Takeaway"
         ],
         "categoryorder": "array",
         "domain": [
          0,
          1
         ],
         "title": {
          "text": "Platform"
         }
        },
        "yaxis": {
         "anchor": "x",
         "domain": [
          0,
          1
         ],
         "title": {
          "text": "Max price"
         }
        }
       }
      }
     },
     "metadata": {},
     "output_type": "display_data"
    },
    {
     "data": {
      "application/vnd.plotly.v1+json": {
       "config": {
        "plotlyServerURL": "https://plot.ly"
       },
       "data": [
        {
         "alignmentgroup": "True",
         "hovertemplate": "<b>%{x}</b><br>Average Price: € %{y:.2f}<extra></extra>",
         "legendgroup": "Deliveroo",
         "marker": {
          "color": "#87bba2",
          "pattern": {
           "shape": ""
          }
         },
         "name": "Deliveroo",
         "offsetgroup": "Deliveroo",
         "orientation": "v",
         "showlegend": true,
         "text": [
          7.4
         ],
         "textposition": "outside",
         "texttemplate": "€%{text:.2f}",
         "type": "bar",
         "x": [
          "Deliveroo"
         ],
         "xaxis": "x",
         "y": [
          7.4
         ],
         "yaxis": "y"
        },
        {
         "alignmentgroup": "True",
         "hovertemplate": "<b>%{x}</b><br>Average Price: € %{y:.2f}<extra></extra>",
         "legendgroup": "UberEats",
         "marker": {
          "color": "#87bba2",
          "pattern": {
           "shape": ""
          }
         },
         "name": "UberEats",
         "offsetgroup": "UberEats",
         "orientation": "v",
         "showlegend": true,
         "text": [
          9.17
         ],
         "textposition": "outside",
         "texttemplate": "€%{text:.2f}",
         "type": "bar",
         "x": [
          "UberEats"
         ],
         "xaxis": "x",
         "y": [
          9.17
         ],
         "yaxis": "y"
        },
        {
         "alignmentgroup": "True",
         "hovertemplate": "<b>%{x}</b><br>Average Price: € %{y:.2f}<extra></extra>",
         "legendgroup": "Takeaway",
         "marker": {
          "color": "#55828b",
          "pattern": {
           "shape": ""
          }
         },
         "name": "Takeaway",
         "offsetgroup": "Takeaway",
         "orientation": "v",
         "showlegend": true,
         "text": [
          9.98
         ],
         "textposition": "outside",
         "texttemplate": "€%{text:.2f}",
         "type": "bar",
         "x": [
          "Takeaway"
         ],
         "xaxis": "x",
         "y": [
          9.98
         ],
         "yaxis": "y"
        }
       ],
       "layout": {
        "barmode": "relative",
        "height": 500,
        "legend": {
         "title": {
          "text": "Platform"
         },
         "tracegroupgap": 0
        },
        "template": {
         "data": {
          "bar": [
           {
            "error_x": {
             "color": "#2a3f5f"
            },
            "error_y": {
             "color": "#2a3f5f"
            },
            "marker": {
             "line": {
              "color": "#E5ECF6",
              "width": 0.5
             },
             "pattern": {
              "fillmode": "overlay",
              "size": 10,
              "solidity": 0.2
             }
            },
            "type": "bar"
           }
          ],
          "barpolar": [
           {
            "marker": {
             "line": {
              "color": "#E5ECF6",
              "width": 0.5
             },
             "pattern": {
              "fillmode": "overlay",
              "size": 10,
              "solidity": 0.2
             }
            },
            "type": "barpolar"
           }
          ],
          "carpet": [
           {
            "aaxis": {
             "endlinecolor": "#2a3f5f",
             "gridcolor": "white",
             "linecolor": "white",
             "minorgridcolor": "white",
             "startlinecolor": "#2a3f5f"
            },
            "baxis": {
             "endlinecolor": "#2a3f5f",
             "gridcolor": "white",
             "linecolor": "white",
             "minorgridcolor": "white",
             "startlinecolor": "#2a3f5f"
            },
            "type": "carpet"
           }
          ],
          "choropleth": [
           {
            "colorbar": {
             "outlinewidth": 0,
             "ticks": ""
            },
            "type": "choropleth"
           }
          ],
          "contour": [
           {
            "colorbar": {
             "outlinewidth": 0,
             "ticks": ""
            },
            "colorscale": [
             [
              0,
              "#0d0887"
             ],
             [
              0.1111111111111111,
              "#46039f"
             ],
             [
              0.2222222222222222,
              "#7201a8"
             ],
             [
              0.3333333333333333,
              "#9c179e"
             ],
             [
              0.4444444444444444,
              "#bd3786"
             ],
             [
              0.5555555555555556,
              "#d8576b"
             ],
             [
              0.6666666666666666,
              "#ed7953"
             ],
             [
              0.7777777777777778,
              "#fb9f3a"
             ],
             [
              0.8888888888888888,
              "#fdca26"
             ],
             [
              1,
              "#f0f921"
             ]
            ],
            "type": "contour"
           }
          ],
          "contourcarpet": [
           {
            "colorbar": {
             "outlinewidth": 0,
             "ticks": ""
            },
            "type": "contourcarpet"
           }
          ],
          "heatmap": [
           {
            "colorbar": {
             "outlinewidth": 0,
             "ticks": ""
            },
            "colorscale": [
             [
              0,
              "#0d0887"
             ],
             [
              0.1111111111111111,
              "#46039f"
             ],
             [
              0.2222222222222222,
              "#7201a8"
             ],
             [
              0.3333333333333333,
              "#9c179e"
             ],
             [
              0.4444444444444444,
              "#bd3786"
             ],
             [
              0.5555555555555556,
              "#d8576b"
             ],
             [
              0.6666666666666666,
              "#ed7953"
             ],
             [
              0.7777777777777778,
              "#fb9f3a"
             ],
             [
              0.8888888888888888,
              "#fdca26"
             ],
             [
              1,
              "#f0f921"
             ]
            ],
            "type": "heatmap"
           }
          ],
          "heatmapgl": [
           {
            "colorbar": {
             "outlinewidth": 0,
             "ticks": ""
            },
            "colorscale": [
             [
              0,
              "#0d0887"
             ],
             [
              0.1111111111111111,
              "#46039f"
             ],
             [
              0.2222222222222222,
              "#7201a8"
             ],
             [
              0.3333333333333333,
              "#9c179e"
             ],
             [
              0.4444444444444444,
              "#bd3786"
             ],
             [
              0.5555555555555556,
              "#d8576b"
             ],
             [
              0.6666666666666666,
              "#ed7953"
             ],
             [
              0.7777777777777778,
              "#fb9f3a"
             ],
             [
              0.8888888888888888,
              "#fdca26"
             ],
             [
              1,
              "#f0f921"
             ]
            ],
            "type": "heatmapgl"
           }
          ],
          "histogram": [
           {
            "marker": {
             "pattern": {
              "fillmode": "overlay",
              "size": 10,
              "solidity": 0.2
             }
            },
            "type": "histogram"
           }
          ],
          "histogram2d": [
           {
            "colorbar": {
             "outlinewidth": 0,
             "ticks": ""
            },
            "colorscale": [
             [
              0,
              "#0d0887"
             ],
             [
              0.1111111111111111,
              "#46039f"
             ],
             [
              0.2222222222222222,
              "#7201a8"
             ],
             [
              0.3333333333333333,
              "#9c179e"
             ],
             [
              0.4444444444444444,
              "#bd3786"
             ],
             [
              0.5555555555555556,
              "#d8576b"
             ],
             [
              0.6666666666666666,
              "#ed7953"
             ],
             [
              0.7777777777777778,
              "#fb9f3a"
             ],
             [
              0.8888888888888888,
              "#fdca26"
             ],
             [
              1,
              "#f0f921"
             ]
            ],
            "type": "histogram2d"
           }
          ],
          "histogram2dcontour": [
           {
            "colorbar": {
             "outlinewidth": 0,
             "ticks": ""
            },
            "colorscale": [
             [
              0,
              "#0d0887"
             ],
             [
              0.1111111111111111,
              "#46039f"
             ],
             [
              0.2222222222222222,
              "#7201a8"
             ],
             [
              0.3333333333333333,
              "#9c179e"
             ],
             [
              0.4444444444444444,
              "#bd3786"
             ],
             [
              0.5555555555555556,
              "#d8576b"
             ],
             [
              0.6666666666666666,
              "#ed7953"
             ],
             [
              0.7777777777777778,
              "#fb9f3a"
             ],
             [
              0.8888888888888888,
              "#fdca26"
             ],
             [
              1,
              "#f0f921"
             ]
            ],
            "type": "histogram2dcontour"
           }
          ],
          "mesh3d": [
           {
            "colorbar": {
             "outlinewidth": 0,
             "ticks": ""
            },
            "type": "mesh3d"
           }
          ],
          "parcoords": [
           {
            "line": {
             "colorbar": {
              "outlinewidth": 0,
              "ticks": ""
             }
            },
            "type": "parcoords"
           }
          ],
          "pie": [
           {
            "automargin": true,
            "type": "pie"
           }
          ],
          "scatter": [
           {
            "fillpattern": {
             "fillmode": "overlay",
             "size": 10,
             "solidity": 0.2
            },
            "type": "scatter"
           }
          ],
          "scatter3d": [
           {
            "line": {
             "colorbar": {
              "outlinewidth": 0,
              "ticks": ""
             }
            },
            "marker": {
             "colorbar": {
              "outlinewidth": 0,
              "ticks": ""
             }
            },
            "type": "scatter3d"
           }
          ],
          "scattercarpet": [
           {
            "marker": {
             "colorbar": {
              "outlinewidth": 0,
              "ticks": ""
             }
            },
            "type": "scattercarpet"
           }
          ],
          "scattergeo": [
           {
            "marker": {
             "colorbar": {
              "outlinewidth": 0,
              "ticks": ""
             }
            },
            "type": "scattergeo"
           }
          ],
          "scattergl": [
           {
            "marker": {
             "colorbar": {
              "outlinewidth": 0,
              "ticks": ""
             }
            },
            "type": "scattergl"
           }
          ],
          "scattermapbox": [
           {
            "marker": {
             "colorbar": {
              "outlinewidth": 0,
              "ticks": ""
             }
            },
            "type": "scattermapbox"
           }
          ],
          "scatterpolar": [
           {
            "marker": {
             "colorbar": {
              "outlinewidth": 0,
              "ticks": ""
             }
            },
            "type": "scatterpolar"
           }
          ],
          "scatterpolargl": [
           {
            "marker": {
             "colorbar": {
              "outlinewidth": 0,
              "ticks": ""
             }
            },
            "type": "scatterpolargl"
           }
          ],
          "scatterternary": [
           {
            "marker": {
             "colorbar": {
              "outlinewidth": 0,
              "ticks": ""
             }
            },
            "type": "scatterternary"
           }
          ],
          "surface": [
           {
            "colorbar": {
             "outlinewidth": 0,
             "ticks": ""
            },
            "colorscale": [
             [
              0,
              "#0d0887"
             ],
             [
              0.1111111111111111,
              "#46039f"
             ],
             [
              0.2222222222222222,
              "#7201a8"
             ],
             [
              0.3333333333333333,
              "#9c179e"
             ],
             [
              0.4444444444444444,
              "#bd3786"
             ],
             [
              0.5555555555555556,
              "#d8576b"
             ],
             [
              0.6666666666666666,
              "#ed7953"
             ],
             [
              0.7777777777777778,
              "#fb9f3a"
             ],
             [
              0.8888888888888888,
              "#fdca26"
             ],
             [
              1,
              "#f0f921"
             ]
            ],
            "type": "surface"
           }
          ],
          "table": [
           {
            "cells": {
             "fill": {
              "color": "#EBF0F8"
             },
             "line": {
              "color": "white"
             }
            },
            "header": {
             "fill": {
              "color": "#C8D4E3"
             },
             "line": {
              "color": "white"
             }
            },
            "type": "table"
           }
          ]
         },
         "layout": {
          "annotationdefaults": {
           "arrowcolor": "#2a3f5f",
           "arrowhead": 0,
           "arrowwidth": 1
          },
          "autotypenumbers": "strict",
          "coloraxis": {
           "colorbar": {
            "outlinewidth": 0,
            "ticks": ""
           }
          },
          "colorscale": {
           "diverging": [
            [
             0,
             "#8e0152"
            ],
            [
             0.1,
             "#c51b7d"
            ],
            [
             0.2,
             "#de77ae"
            ],
            [
             0.3,
             "#f1b6da"
            ],
            [
             0.4,
             "#fde0ef"
            ],
            [
             0.5,
             "#f7f7f7"
            ],
            [
             0.6,
             "#e6f5d0"
            ],
            [
             0.7,
             "#b8e186"
            ],
            [
             0.8,
             "#7fbc41"
            ],
            [
             0.9,
             "#4d9221"
            ],
            [
             1,
             "#276419"
            ]
           ],
           "sequential": [
            [
             0,
             "#0d0887"
            ],
            [
             0.1111111111111111,
             "#46039f"
            ],
            [
             0.2222222222222222,
             "#7201a8"
            ],
            [
             0.3333333333333333,
             "#9c179e"
            ],
            [
             0.4444444444444444,
             "#bd3786"
            ],
            [
             0.5555555555555556,
             "#d8576b"
            ],
            [
             0.6666666666666666,
             "#ed7953"
            ],
            [
             0.7777777777777778,
             "#fb9f3a"
            ],
            [
             0.8888888888888888,
             "#fdca26"
            ],
            [
             1,
             "#f0f921"
            ]
           ],
           "sequentialminus": [
            [
             0,
             "#0d0887"
            ],
            [
             0.1111111111111111,
             "#46039f"
            ],
            [
             0.2222222222222222,
             "#7201a8"
            ],
            [
             0.3333333333333333,
             "#9c179e"
            ],
            [
             0.4444444444444444,
             "#bd3786"
            ],
            [
             0.5555555555555556,
             "#d8576b"
            ],
            [
             0.6666666666666666,
             "#ed7953"
            ],
            [
             0.7777777777777778,
             "#fb9f3a"
            ],
            [
             0.8888888888888888,
             "#fdca26"
            ],
            [
             1,
             "#f0f921"
            ]
           ]
          },
          "colorway": [
           "#636efa",
           "#EF553B",
           "#00cc96",
           "#ab63fa",
           "#FFA15A",
           "#19d3f3",
           "#FF6692",
           "#B6E880",
           "#FF97FF",
           "#FECB52"
          ],
          "font": {
           "color": "#2a3f5f"
          },
          "geo": {
           "bgcolor": "white",
           "lakecolor": "white",
           "landcolor": "#E5ECF6",
           "showlakes": true,
           "showland": true,
           "subunitcolor": "white"
          },
          "hoverlabel": {
           "align": "left"
          },
          "hovermode": "closest",
          "mapbox": {
           "style": "light"
          },
          "paper_bgcolor": "white",
          "plot_bgcolor": "#E5ECF6",
          "polar": {
           "angularaxis": {
            "gridcolor": "white",
            "linecolor": "white",
            "ticks": ""
           },
           "bgcolor": "#E5ECF6",
           "radialaxis": {
            "gridcolor": "white",
            "linecolor": "white",
            "ticks": ""
           }
          },
          "scene": {
           "xaxis": {
            "backgroundcolor": "#E5ECF6",
            "gridcolor": "white",
            "gridwidth": 2,
            "linecolor": "white",
            "showbackground": true,
            "ticks": "",
            "zerolinecolor": "white"
           },
           "yaxis": {
            "backgroundcolor": "#E5ECF6",
            "gridcolor": "white",
            "gridwidth": 2,
            "linecolor": "white",
            "showbackground": true,
            "ticks": "",
            "zerolinecolor": "white"
           },
           "zaxis": {
            "backgroundcolor": "#E5ECF6",
            "gridcolor": "white",
            "gridwidth": 2,
            "linecolor": "white",
            "showbackground": true,
            "ticks": "",
            "zerolinecolor": "white"
           }
          },
          "shapedefaults": {
           "line": {
            "color": "#2a3f5f"
           }
          },
          "ternary": {
           "aaxis": {
            "gridcolor": "white",
            "linecolor": "white",
            "ticks": ""
           },
           "baxis": {
            "gridcolor": "white",
            "linecolor": "white",
            "ticks": ""
           },
           "bgcolor": "#E5ECF6",
           "caxis": {
            "gridcolor": "white",
            "linecolor": "white",
            "ticks": ""
           }
          },
          "title": {
           "x": 0.05
          },
          "xaxis": {
           "automargin": true,
           "gridcolor": "white",
           "linecolor": "white",
           "ticks": "",
           "title": {
            "standoff": 15
           },
           "zerolinecolor": "white",
           "zerolinewidth": 2
          },
          "yaxis": {
           "automargin": true,
           "gridcolor": "white",
           "linecolor": "white",
           "ticks": "",
           "title": {
            "standoff": 15
           },
           "zerolinecolor": "white",
           "zerolinewidth": 2
          }
         }
        },
        "title": {
         "text": "Average Item Price by Platform"
        },
        "width": 500,
        "xaxis": {
         "anchor": "y",
         "categoryarray": [
          "Deliveroo",
          "UberEats",
          "Takeaway"
         ],
         "categoryorder": "array",
         "domain": [
          0,
          1
         ],
         "title": {
          "text": "Platform"
         }
        },
        "yaxis": {
         "anchor": "x",
         "domain": [
          0,
          1
         ],
         "title": {
          "text": "Average Price"
         }
        }
       }
      }
     },
     "metadata": {},
     "output_type": "display_data"
    }
   ],
   "source": [
    "price_dist_data = price_dist_query.fetchall()\n",
    "price_dist_data = pd.DataFrame(price_dist_data, columns=[x[0] for x in price_dist_query.description])\n",
    "\n",
    "price_dist_long = price_dist_data.melt(\n",
    "    id_vars=\"platform\",  \n",
    "    var_name=\"metric\",   \n",
    "    value_name=\"value\" \n",
    ").sort_values(by='platform')\n",
    "\n",
    "# Plot min price per platform\n",
    "min_fig = px.bar(price_dist_data, \n",
    "             x=\"platform\", \n",
    "             y=\"min_price\", \n",
    "             orientation='v',\n",
    "             text = 'min_price',\n",
    "             hover_data=[\"platform\", \"min_price\"],\n",
    "             height = 500,\n",
    "             width = 500,\n",
    "             title=\"Minimum item price by Platform\",\n",
    "             labels={\"platform\": \"Platform\", \"min_price\": \"Min price\", },\n",
    "            color_discrete_sequence=[\"#55828b\"]\n",
    ")\n",
    "\n",
    "# Change how info shows when hoovering over the bars\n",
    "min_fig.update_traces(\n",
    "    hovertemplate=\"<b>%{x}</b><br>Minimum Price: € %{y:.2f}<extra></extra>\",  \n",
    "    texttemplate=\"€%{text:.2f}\", \n",
    "    textposition=\"outside\"  \n",
    ")\n",
    "min_fig.show()\n",
    "\n",
    "# Plot max price per platform\n",
    "max_fig = px.bar(price_dist_data, \n",
    "             x=\"platform\", \n",
    "             y=\"max_price\", \n",
    "             orientation='v',\n",
    "             text = 'max_price',\n",
    "             hover_data=[\"platform\", \"max_price\"],\n",
    "             height = 500,\n",
    "             width = 500,\n",
    "             title=\"Maximum item price by Platform\",\n",
    "             labels={\"platform\": \"Platform\", \"max_price\": \"Max price\", },\n",
    "             color_discrete_sequence=[\"#87bba2\"],\n",
    "             color=\"platform\", \n",
    "\n",
    "             color_discrete_map={\n",
    "            \"Uber\": \"#87bba2\",      \n",
    "            \"Takeaway\": \"#87bba2\",   \n",
    "            \"Deliveroo\": \"#55828b\"   \n",
    "            }\n",
    ")\n",
    "\n",
    "max_fig.update_traces(\n",
    "    hovertemplate=\"<b>%{x}</b><br>Maximum Price: € %{y:.2f}<extra></extra>\",  \n",
    "    texttemplate=\"€%{text:.2f}\",  \n",
    "    textposition=\"outside\"  \n",
    ")\n",
    "max_fig.show()\n",
    "\n",
    "# Plot avg price per platform\n",
    "avg_fig = px.bar(\n",
    "    price_dist_data,\n",
    "    x=\"platform\",\n",
    "    y=\"avg_price\",\n",
    "    orientation='v',\n",
    "    text=\"avg_price\",  \n",
    "    hover_data={\"platform\": False, \"avg_price\": False},  \n",
    "    height=500,\n",
    "    width=500,\n",
    "    title=\"Average Item Price by Platform\",\n",
    "    labels={\"platform\": \"Platform\", \"avg_price\": \"Average Price\"},\n",
    "    color=\"platform\", \n",
    "    color_discrete_sequence=[\"#87bba2\"], \n",
    "    color_discrete_map={\n",
    "        \"Uber\": \"55828b\",      \n",
    "        \"Takeaway\": \"#55828b\",   \n",
    "        \"Deliveroo\": \"#87bba2\"   \n",
    "    }\n",
    ")\n",
    "\n",
    "avg_fig.update_traces(\n",
    "    hovertemplate=\"<b>%{x}</b><br>Average Price: € %{y:.2f}<extra></extra>\",  \n",
    "    texttemplate=\"€%{text:.2f}\", \n",
    "    textposition=\"outside\" \n",
    ")\n",
    "avg_fig.show()\n"
   ]
  },
  {
   "cell_type": "markdown",
   "metadata": {},
   "source": [
    "### - Which restaurants have the best price-to-rating ratio? <br>"
   ]
  },
  {
   "cell_type": "markdown",
   "metadata": {},
   "source": [
    "- Best overall:"
   ]
  },
  {
   "cell_type": "code",
   "execution_count": 8,
   "metadata": {},
   "outputs": [
    {
     "data": {
      "text/plain": [
       "[('Takeaway', 'QueTacos', 5.0, 2.86)]"
      ]
     },
     "execution_count": 8,
     "metadata": {},
     "output_type": "execute_result"
    }
   ],
   "source": [
    "best_restaurant = cur.execute(\"\"\"\n",
    "SELECT platform, rest_name, rating,\n",
    "ROUND(AVG(price), 2) AS avg_price\n",
    "FROM main.restaurants\n",
    "WHERE rating_count >= 10\n",
    "GROUP BY rest_id \n",
    "ORDER BY rating DESC, avg_price ASC\n",
    "LIMIT 1;\n",
    "            \"\"\").fetchall()\n",
    "best_restaurant"
   ]
  },
  {
   "cell_type": "markdown",
   "metadata": {},
   "source": [
    "- Top per platform:"
   ]
  },
  {
   "cell_type": "code",
   "execution_count": 9,
   "metadata": {},
   "outputs": [],
   "source": [
    "best_per_platform_query = \"\"\"\n",
    "WITH ranked_restaurants AS (\n",
    "    SELECT platform, rest_name, rating, \n",
    "            ROUND(AVG(price), 2) AS avg_price,\n",
    "            ROW_NUMBER() OVER (PARTITION BY platform ORDER BY rating DESC, ROUND(AVG(price), 2) ASC) AS rank\n",
    "    FROM main.restaurants\n",
    "    WHERE rating_count >= 10\n",
    "    GROUP BY platform, rest_id, rest_name, rating\n",
    ")\n",
    "SELECT platform, rest_name, rating, avg_price\n",
    "FROM ranked_restaurants\n",
    "WHERE rank = 1;\n",
    "\"\"\"\n",
    "\n",
    "best_per_platform_df = pd.DataFrame(cur.execute(best_per_platform_query).fetchall(), columns=[x[0] for x in cur.execute(best_per_platform_query).description])\n",
    "\n",
    "best_per_platform_long = best_per_platform_df.melt(\n",
    "    id_vars=[\"platform\", 'rest_name'], \n",
    "    var_name=\"metric\",   \n",
    "    value_name=\"value\"   \n",
    ").sort_values(by='platform')\n",
    "\n",
    "best_per_platform_long['platform_rest_name'] = (best_per_platform_long['platform'] + \" - \" + best_per_platform_long['rest_name'])"
   ]
  },
  {
   "cell_type": "code",
   "execution_count": 10,
   "metadata": {},
   "outputs": [
    {
     "data": {
      "application/vnd.plotly.v1+json": {
       "config": {
        "plotlyServerURL": "https://plot.ly"
       },
       "data": [
        {
         "alignmentgroup": "True",
         "customdata": [
          [
           "rating"
          ],
          [
           "rating"
          ],
          [
           "rating"
          ]
         ],
         "hovertemplate": "<b>%{x}</b><br>%{y:.2f}<extra></extra>",
         "legendgroup": "rating",
         "marker": {
          "color": "#87bba2",
          "pattern": {
           "shape": ""
          }
         },
         "name": "rating",
         "offsetgroup": "rating",
         "orientation": "v",
         "showlegend": true,
         "text": [
          4.9,
          5,
          5
         ],
         "textposition": "inside",
         "texttemplate": "%{text:.2f}",
         "type": "bar",
         "x": [
          "Deliveroo - Moochie Aalst",
          "Takeaway - QueTacos",
          "UberEats - T'more enjoy"
         ],
         "xaxis": "x",
         "y": [
          4.9,
          5,
          5
         ],
         "yaxis": "y"
        },
        {
         "alignmentgroup": "True",
         "customdata": [
          [
           "avg_price"
          ],
          [
           "avg_price"
          ],
          [
           "avg_price"
          ]
         ],
         "hovertemplate": "<b>%{x}</b><br>%{y:.2f}<extra></extra>",
         "legendgroup": "avg_price",
         "marker": {
          "color": "#55828b",
          "pattern": {
           "shape": ""
          }
         },
         "name": "avg_price",
         "offsetgroup": "avg_price",
         "orientation": "v",
         "showlegend": true,
         "text": [
          5.05,
          2.86,
          4.7
         ],
         "textposition": "inside",
         "texttemplate": "%{text:.2f}",
         "type": "bar",
         "x": [
          "Deliveroo - Moochie Aalst",
          "Takeaway - QueTacos",
          "UberEats - T'more enjoy"
         ],
         "xaxis": "x",
         "y": [
          5.05,
          2.86,
          4.7
         ],
         "yaxis": "y"
        }
       ],
       "layout": {
        "barmode": "group",
        "height": 500,
        "legend": {
         "title": {
          "text": "metric"
         },
         "tracegroupgap": 0
        },
        "template": {
         "data": {
          "bar": [
           {
            "error_x": {
             "color": "#2a3f5f"
            },
            "error_y": {
             "color": "#2a3f5f"
            },
            "marker": {
             "line": {
              "color": "#E5ECF6",
              "width": 0.5
             },
             "pattern": {
              "fillmode": "overlay",
              "size": 10,
              "solidity": 0.2
             }
            },
            "type": "bar"
           }
          ],
          "barpolar": [
           {
            "marker": {
             "line": {
              "color": "#E5ECF6",
              "width": 0.5
             },
             "pattern": {
              "fillmode": "overlay",
              "size": 10,
              "solidity": 0.2
             }
            },
            "type": "barpolar"
           }
          ],
          "carpet": [
           {
            "aaxis": {
             "endlinecolor": "#2a3f5f",
             "gridcolor": "white",
             "linecolor": "white",
             "minorgridcolor": "white",
             "startlinecolor": "#2a3f5f"
            },
            "baxis": {
             "endlinecolor": "#2a3f5f",
             "gridcolor": "white",
             "linecolor": "white",
             "minorgridcolor": "white",
             "startlinecolor": "#2a3f5f"
            },
            "type": "carpet"
           }
          ],
          "choropleth": [
           {
            "colorbar": {
             "outlinewidth": 0,
             "ticks": ""
            },
            "type": "choropleth"
           }
          ],
          "contour": [
           {
            "colorbar": {
             "outlinewidth": 0,
             "ticks": ""
            },
            "colorscale": [
             [
              0,
              "#0d0887"
             ],
             [
              0.1111111111111111,
              "#46039f"
             ],
             [
              0.2222222222222222,
              "#7201a8"
             ],
             [
              0.3333333333333333,
              "#9c179e"
             ],
             [
              0.4444444444444444,
              "#bd3786"
             ],
             [
              0.5555555555555556,
              "#d8576b"
             ],
             [
              0.6666666666666666,
              "#ed7953"
             ],
             [
              0.7777777777777778,
              "#fb9f3a"
             ],
             [
              0.8888888888888888,
              "#fdca26"
             ],
             [
              1,
              "#f0f921"
             ]
            ],
            "type": "contour"
           }
          ],
          "contourcarpet": [
           {
            "colorbar": {
             "outlinewidth": 0,
             "ticks": ""
            },
            "type": "contourcarpet"
           }
          ],
          "heatmap": [
           {
            "colorbar": {
             "outlinewidth": 0,
             "ticks": ""
            },
            "colorscale": [
             [
              0,
              "#0d0887"
             ],
             [
              0.1111111111111111,
              "#46039f"
             ],
             [
              0.2222222222222222,
              "#7201a8"
             ],
             [
              0.3333333333333333,
              "#9c179e"
             ],
             [
              0.4444444444444444,
              "#bd3786"
             ],
             [
              0.5555555555555556,
              "#d8576b"
             ],
             [
              0.6666666666666666,
              "#ed7953"
             ],
             [
              0.7777777777777778,
              "#fb9f3a"
             ],
             [
              0.8888888888888888,
              "#fdca26"
             ],
             [
              1,
              "#f0f921"
             ]
            ],
            "type": "heatmap"
           }
          ],
          "heatmapgl": [
           {
            "colorbar": {
             "outlinewidth": 0,
             "ticks": ""
            },
            "colorscale": [
             [
              0,
              "#0d0887"
             ],
             [
              0.1111111111111111,
              "#46039f"
             ],
             [
              0.2222222222222222,
              "#7201a8"
             ],
             [
              0.3333333333333333,
              "#9c179e"
             ],
             [
              0.4444444444444444,
              "#bd3786"
             ],
             [
              0.5555555555555556,
              "#d8576b"
             ],
             [
              0.6666666666666666,
              "#ed7953"
             ],
             [
              0.7777777777777778,
              "#fb9f3a"
             ],
             [
              0.8888888888888888,
              "#fdca26"
             ],
             [
              1,
              "#f0f921"
             ]
            ],
            "type": "heatmapgl"
           }
          ],
          "histogram": [
           {
            "marker": {
             "pattern": {
              "fillmode": "overlay",
              "size": 10,
              "solidity": 0.2
             }
            },
            "type": "histogram"
           }
          ],
          "histogram2d": [
           {
            "colorbar": {
             "outlinewidth": 0,
             "ticks": ""
            },
            "colorscale": [
             [
              0,
              "#0d0887"
             ],
             [
              0.1111111111111111,
              "#46039f"
             ],
             [
              0.2222222222222222,
              "#7201a8"
             ],
             [
              0.3333333333333333,
              "#9c179e"
             ],
             [
              0.4444444444444444,
              "#bd3786"
             ],
             [
              0.5555555555555556,
              "#d8576b"
             ],
             [
              0.6666666666666666,
              "#ed7953"
             ],
             [
              0.7777777777777778,
              "#fb9f3a"
             ],
             [
              0.8888888888888888,
              "#fdca26"
             ],
             [
              1,
              "#f0f921"
             ]
            ],
            "type": "histogram2d"
           }
          ],
          "histogram2dcontour": [
           {
            "colorbar": {
             "outlinewidth": 0,
             "ticks": ""
            },
            "colorscale": [
             [
              0,
              "#0d0887"
             ],
             [
              0.1111111111111111,
              "#46039f"
             ],
             [
              0.2222222222222222,
              "#7201a8"
             ],
             [
              0.3333333333333333,
              "#9c179e"
             ],
             [
              0.4444444444444444,
              "#bd3786"
             ],
             [
              0.5555555555555556,
              "#d8576b"
             ],
             [
              0.6666666666666666,
              "#ed7953"
             ],
             [
              0.7777777777777778,
              "#fb9f3a"
             ],
             [
              0.8888888888888888,
              "#fdca26"
             ],
             [
              1,
              "#f0f921"
             ]
            ],
            "type": "histogram2dcontour"
           }
          ],
          "mesh3d": [
           {
            "colorbar": {
             "outlinewidth": 0,
             "ticks": ""
            },
            "type": "mesh3d"
           }
          ],
          "parcoords": [
           {
            "line": {
             "colorbar": {
              "outlinewidth": 0,
              "ticks": ""
             }
            },
            "type": "parcoords"
           }
          ],
          "pie": [
           {
            "automargin": true,
            "type": "pie"
           }
          ],
          "scatter": [
           {
            "fillpattern": {
             "fillmode": "overlay",
             "size": 10,
             "solidity": 0.2
            },
            "type": "scatter"
           }
          ],
          "scatter3d": [
           {
            "line": {
             "colorbar": {
              "outlinewidth": 0,
              "ticks": ""
             }
            },
            "marker": {
             "colorbar": {
              "outlinewidth": 0,
              "ticks": ""
             }
            },
            "type": "scatter3d"
           }
          ],
          "scattercarpet": [
           {
            "marker": {
             "colorbar": {
              "outlinewidth": 0,
              "ticks": ""
             }
            },
            "type": "scattercarpet"
           }
          ],
          "scattergeo": [
           {
            "marker": {
             "colorbar": {
              "outlinewidth": 0,
              "ticks": ""
             }
            },
            "type": "scattergeo"
           }
          ],
          "scattergl": [
           {
            "marker": {
             "colorbar": {
              "outlinewidth": 0,
              "ticks": ""
             }
            },
            "type": "scattergl"
           }
          ],
          "scattermapbox": [
           {
            "marker": {
             "colorbar": {
              "outlinewidth": 0,
              "ticks": ""
             }
            },
            "type": "scattermapbox"
           }
          ],
          "scatterpolar": [
           {
            "marker": {
             "colorbar": {
              "outlinewidth": 0,
              "ticks": ""
             }
            },
            "type": "scatterpolar"
           }
          ],
          "scatterpolargl": [
           {
            "marker": {
             "colorbar": {
              "outlinewidth": 0,
              "ticks": ""
             }
            },
            "type": "scatterpolargl"
           }
          ],
          "scatterternary": [
           {
            "marker": {
             "colorbar": {
              "outlinewidth": 0,
              "ticks": ""
             }
            },
            "type": "scatterternary"
           }
          ],
          "surface": [
           {
            "colorbar": {
             "outlinewidth": 0,
             "ticks": ""
            },
            "colorscale": [
             [
              0,
              "#0d0887"
             ],
             [
              0.1111111111111111,
              "#46039f"
             ],
             [
              0.2222222222222222,
              "#7201a8"
             ],
             [
              0.3333333333333333,
              "#9c179e"
             ],
             [
              0.4444444444444444,
              "#bd3786"
             ],
             [
              0.5555555555555556,
              "#d8576b"
             ],
             [
              0.6666666666666666,
              "#ed7953"
             ],
             [
              0.7777777777777778,
              "#fb9f3a"
             ],
             [
              0.8888888888888888,
              "#fdca26"
             ],
             [
              1,
              "#f0f921"
             ]
            ],
            "type": "surface"
           }
          ],
          "table": [
           {
            "cells": {
             "fill": {
              "color": "#EBF0F8"
             },
             "line": {
              "color": "white"
             }
            },
            "header": {
             "fill": {
              "color": "#C8D4E3"
             },
             "line": {
              "color": "white"
             }
            },
            "type": "table"
           }
          ]
         },
         "layout": {
          "annotationdefaults": {
           "arrowcolor": "#2a3f5f",
           "arrowhead": 0,
           "arrowwidth": 1
          },
          "autotypenumbers": "strict",
          "coloraxis": {
           "colorbar": {
            "outlinewidth": 0,
            "ticks": ""
           }
          },
          "colorscale": {
           "diverging": [
            [
             0,
             "#8e0152"
            ],
            [
             0.1,
             "#c51b7d"
            ],
            [
             0.2,
             "#de77ae"
            ],
            [
             0.3,
             "#f1b6da"
            ],
            [
             0.4,
             "#fde0ef"
            ],
            [
             0.5,
             "#f7f7f7"
            ],
            [
             0.6,
             "#e6f5d0"
            ],
            [
             0.7,
             "#b8e186"
            ],
            [
             0.8,
             "#7fbc41"
            ],
            [
             0.9,
             "#4d9221"
            ],
            [
             1,
             "#276419"
            ]
           ],
           "sequential": [
            [
             0,
             "#0d0887"
            ],
            [
             0.1111111111111111,
             "#46039f"
            ],
            [
             0.2222222222222222,
             "#7201a8"
            ],
            [
             0.3333333333333333,
             "#9c179e"
            ],
            [
             0.4444444444444444,
             "#bd3786"
            ],
            [
             0.5555555555555556,
             "#d8576b"
            ],
            [
             0.6666666666666666,
             "#ed7953"
            ],
            [
             0.7777777777777778,
             "#fb9f3a"
            ],
            [
             0.8888888888888888,
             "#fdca26"
            ],
            [
             1,
             "#f0f921"
            ]
           ],
           "sequentialminus": [
            [
             0,
             "#0d0887"
            ],
            [
             0.1111111111111111,
             "#46039f"
            ],
            [
             0.2222222222222222,
             "#7201a8"
            ],
            [
             0.3333333333333333,
             "#9c179e"
            ],
            [
             0.4444444444444444,
             "#bd3786"
            ],
            [
             0.5555555555555556,
             "#d8576b"
            ],
            [
             0.6666666666666666,
             "#ed7953"
            ],
            [
             0.7777777777777778,
             "#fb9f3a"
            ],
            [
             0.8888888888888888,
             "#fdca26"
            ],
            [
             1,
             "#f0f921"
            ]
           ]
          },
          "colorway": [
           "#636efa",
           "#EF553B",
           "#00cc96",
           "#ab63fa",
           "#FFA15A",
           "#19d3f3",
           "#FF6692",
           "#B6E880",
           "#FF97FF",
           "#FECB52"
          ],
          "font": {
           "color": "#2a3f5f"
          },
          "geo": {
           "bgcolor": "white",
           "lakecolor": "white",
           "landcolor": "#E5ECF6",
           "showlakes": true,
           "showland": true,
           "subunitcolor": "white"
          },
          "hoverlabel": {
           "align": "left"
          },
          "hovermode": "closest",
          "mapbox": {
           "style": "light"
          },
          "paper_bgcolor": "white",
          "plot_bgcolor": "#E5ECF6",
          "polar": {
           "angularaxis": {
            "gridcolor": "white",
            "linecolor": "white",
            "ticks": ""
           },
           "bgcolor": "#E5ECF6",
           "radialaxis": {
            "gridcolor": "white",
            "linecolor": "white",
            "ticks": ""
           }
          },
          "scene": {
           "xaxis": {
            "backgroundcolor": "#E5ECF6",
            "gridcolor": "white",
            "gridwidth": 2,
            "linecolor": "white",
            "showbackground": true,
            "ticks": "",
            "zerolinecolor": "white"
           },
           "yaxis": {
            "backgroundcolor": "#E5ECF6",
            "gridcolor": "white",
            "gridwidth": 2,
            "linecolor": "white",
            "showbackground": true,
            "ticks": "",
            "zerolinecolor": "white"
           },
           "zaxis": {
            "backgroundcolor": "#E5ECF6",
            "gridcolor": "white",
            "gridwidth": 2,
            "linecolor": "white",
            "showbackground": true,
            "ticks": "",
            "zerolinecolor": "white"
           }
          },
          "shapedefaults": {
           "line": {
            "color": "#2a3f5f"
           }
          },
          "ternary": {
           "aaxis": {
            "gridcolor": "white",
            "linecolor": "white",
            "ticks": ""
           },
           "baxis": {
            "gridcolor": "white",
            "linecolor": "white",
            "ticks": ""
           },
           "bgcolor": "#E5ECF6",
           "caxis": {
            "gridcolor": "white",
            "linecolor": "white",
            "ticks": ""
           }
          },
          "title": {
           "x": 0.05
          },
          "xaxis": {
           "automargin": true,
           "gridcolor": "white",
           "linecolor": "white",
           "ticks": "",
           "title": {
            "standoff": 15
           },
           "zerolinecolor": "white",
           "zerolinewidth": 2
          },
          "yaxis": {
           "automargin": true,
           "gridcolor": "white",
           "linecolor": "white",
           "ticks": "",
           "title": {
            "standoff": 15
           },
           "zerolinecolor": "white",
           "zerolinewidth": 2
          }
         }
        },
        "title": {
         "text": "Best price-rating restaurants by Platform"
        },
        "width": 500,
        "xaxis": {
         "anchor": "y",
         "domain": [
          0,
          1
         ],
         "title": {
          "text": "Best restaurant per platform"
         }
        },
        "yaxis": {
         "anchor": "x",
         "domain": [
          0,
          1
         ],
         "title": {
          "text": "Average item price and rating"
         }
        }
       }
      }
     },
     "metadata": {},
     "output_type": "display_data"
    }
   ],
   "source": [
    "best_per_platform_fig = px.bar(\n",
    "    best_per_platform_long,\n",
    "    height=500,\n",
    "    width=500,\n",
    "    orientation='v',\n",
    "    x='platform_rest_name',\n",
    "    y=\"value\",\n",
    "    color=\"metric\",  \n",
    "    barmode=\"group\",  \n",
    "    title=\"Best price-rating restaurants by Platform\",\n",
    "    labels={\"value\": \"Average item price and rating\", \"platform_rest_name\": \"Best restaurant per platform\"},\n",
    "    text='value',\n",
    "    hover_data={\"platform_rest_name\": True, \"metric\": True, 'value': True},\n",
    "    color_discrete_sequence='metric',\n",
    "        color_discrete_map={     \n",
    "        \"avg_price\": \"#55828b\",   \n",
    "        \"rating\": \"#87bba2\"   \n",
    "    }\n",
    ")\n",
    "\n",
    "\n",
    "best_per_platform_fig.update_traces(\n",
    "    hovertemplate=\"<b>%{x}</b><br>%{y:.2f}<extra></extra>\",  \n",
    "    texttemplate=\"%{text:.2f}\", \n",
    "    textposition=\"inside\" \n",
    ")\n",
    "best_per_platform_fig.show()"
   ]
  },
  {
   "cell_type": "markdown",
   "metadata": {},
   "source": [
    "- Top 3 restaurants per platform"
   ]
  },
  {
   "cell_type": "code",
   "execution_count": 11,
   "metadata": {},
   "outputs": [
    {
     "data": {
      "application/vnd.plotly.v1+json": {
       "config": {
        "plotlyServerURL": "https://plot.ly"
       },
       "data": [
        {
         "alignmentgroup": "True",
         "customdata": [
          [
           "Rating"
          ],
          [
           "Rating"
          ],
          [
           "Rating"
          ]
         ],
         "hovertemplate": "<b>%{x}</b><br>%{y:.2f}<extra></extra>",
         "legendgroup": "Rating",
         "marker": {
          "color": "#87bba2",
          "pattern": {
           "shape": ""
          }
         },
         "name": "Rating",
         "offsetgroup": "Rating",
         "orientation": "v",
         "showlegend": true,
         "text": [
          4.9,
          4.9,
          4.9
         ],
         "textposition": "inside",
         "texttemplate": "%{text:.2f}",
         "type": "bar",
         "x": [
          "Moochie Aalst",
          "The Kind Coconut",
          "The Shack"
         ],
         "xaxis": "x",
         "y": [
          4.9,
          4.9,
          4.9
         ],
         "yaxis": "y"
        },
        {
         "alignmentgroup": "True",
         "customdata": [
          [
           "Avg. item price €"
          ],
          [
           "Avg. item price €"
          ],
          [
           "Avg. item price €"
          ]
         ],
         "hovertemplate": "<b>%{x}</b><br>%{y:.2f}<extra></extra>",
         "legendgroup": "Avg. item price €",
         "marker": {
          "color": "#55828b",
          "pattern": {
           "shape": ""
          }
         },
         "name": "Avg. item price €",
         "offsetgroup": "Avg. item price €",
         "orientation": "v",
         "showlegend": true,
         "text": [
          5.05,
          7.17,
          5.74
         ],
         "textposition": "inside",
         "texttemplate": "%{text:.2f}",
         "type": "bar",
         "x": [
          "Moochie Aalst",
          "The Kind Coconut",
          "The Shack"
         ],
         "xaxis": "x",
         "y": [
          5.05,
          7.17,
          5.74
         ],
         "yaxis": "y"
        }
       ],
       "layout": {
        "barmode": "group",
        "height": 500,
        "legend": {
         "title": {
          "text": "metric"
         },
         "tracegroupgap": 0
        },
        "template": {
         "data": {
          "bar": [
           {
            "error_x": {
             "color": "#2a3f5f"
            },
            "error_y": {
             "color": "#2a3f5f"
            },
            "marker": {
             "line": {
              "color": "#E5ECF6",
              "width": 0.5
             },
             "pattern": {
              "fillmode": "overlay",
              "size": 10,
              "solidity": 0.2
             }
            },
            "type": "bar"
           }
          ],
          "barpolar": [
           {
            "marker": {
             "line": {
              "color": "#E5ECF6",
              "width": 0.5
             },
             "pattern": {
              "fillmode": "overlay",
              "size": 10,
              "solidity": 0.2
             }
            },
            "type": "barpolar"
           }
          ],
          "carpet": [
           {
            "aaxis": {
             "endlinecolor": "#2a3f5f",
             "gridcolor": "white",
             "linecolor": "white",
             "minorgridcolor": "white",
             "startlinecolor": "#2a3f5f"
            },
            "baxis": {
             "endlinecolor": "#2a3f5f",
             "gridcolor": "white",
             "linecolor": "white",
             "minorgridcolor": "white",
             "startlinecolor": "#2a3f5f"
            },
            "type": "carpet"
           }
          ],
          "choropleth": [
           {
            "colorbar": {
             "outlinewidth": 0,
             "ticks": ""
            },
            "type": "choropleth"
           }
          ],
          "contour": [
           {
            "colorbar": {
             "outlinewidth": 0,
             "ticks": ""
            },
            "colorscale": [
             [
              0,
              "#0d0887"
             ],
             [
              0.1111111111111111,
              "#46039f"
             ],
             [
              0.2222222222222222,
              "#7201a8"
             ],
             [
              0.3333333333333333,
              "#9c179e"
             ],
             [
              0.4444444444444444,
              "#bd3786"
             ],
             [
              0.5555555555555556,
              "#d8576b"
             ],
             [
              0.6666666666666666,
              "#ed7953"
             ],
             [
              0.7777777777777778,
              "#fb9f3a"
             ],
             [
              0.8888888888888888,
              "#fdca26"
             ],
             [
              1,
              "#f0f921"
             ]
            ],
            "type": "contour"
           }
          ],
          "contourcarpet": [
           {
            "colorbar": {
             "outlinewidth": 0,
             "ticks": ""
            },
            "type": "contourcarpet"
           }
          ],
          "heatmap": [
           {
            "colorbar": {
             "outlinewidth": 0,
             "ticks": ""
            },
            "colorscale": [
             [
              0,
              "#0d0887"
             ],
             [
              0.1111111111111111,
              "#46039f"
             ],
             [
              0.2222222222222222,
              "#7201a8"
             ],
             [
              0.3333333333333333,
              "#9c179e"
             ],
             [
              0.4444444444444444,
              "#bd3786"
             ],
             [
              0.5555555555555556,
              "#d8576b"
             ],
             [
              0.6666666666666666,
              "#ed7953"
             ],
             [
              0.7777777777777778,
              "#fb9f3a"
             ],
             [
              0.8888888888888888,
              "#fdca26"
             ],
             [
              1,
              "#f0f921"
             ]
            ],
            "type": "heatmap"
           }
          ],
          "heatmapgl": [
           {
            "colorbar": {
             "outlinewidth": 0,
             "ticks": ""
            },
            "colorscale": [
             [
              0,
              "#0d0887"
             ],
             [
              0.1111111111111111,
              "#46039f"
             ],
             [
              0.2222222222222222,
              "#7201a8"
             ],
             [
              0.3333333333333333,
              "#9c179e"
             ],
             [
              0.4444444444444444,
              "#bd3786"
             ],
             [
              0.5555555555555556,
              "#d8576b"
             ],
             [
              0.6666666666666666,
              "#ed7953"
             ],
             [
              0.7777777777777778,
              "#fb9f3a"
             ],
             [
              0.8888888888888888,
              "#fdca26"
             ],
             [
              1,
              "#f0f921"
             ]
            ],
            "type": "heatmapgl"
           }
          ],
          "histogram": [
           {
            "marker": {
             "pattern": {
              "fillmode": "overlay",
              "size": 10,
              "solidity": 0.2
             }
            },
            "type": "histogram"
           }
          ],
          "histogram2d": [
           {
            "colorbar": {
             "outlinewidth": 0,
             "ticks": ""
            },
            "colorscale": [
             [
              0,
              "#0d0887"
             ],
             [
              0.1111111111111111,
              "#46039f"
             ],
             [
              0.2222222222222222,
              "#7201a8"
             ],
             [
              0.3333333333333333,
              "#9c179e"
             ],
             [
              0.4444444444444444,
              "#bd3786"
             ],
             [
              0.5555555555555556,
              "#d8576b"
             ],
             [
              0.6666666666666666,
              "#ed7953"
             ],
             [
              0.7777777777777778,
              "#fb9f3a"
             ],
             [
              0.8888888888888888,
              "#fdca26"
             ],
             [
              1,
              "#f0f921"
             ]
            ],
            "type": "histogram2d"
           }
          ],
          "histogram2dcontour": [
           {
            "colorbar": {
             "outlinewidth": 0,
             "ticks": ""
            },
            "colorscale": [
             [
              0,
              "#0d0887"
             ],
             [
              0.1111111111111111,
              "#46039f"
             ],
             [
              0.2222222222222222,
              "#7201a8"
             ],
             [
              0.3333333333333333,
              "#9c179e"
             ],
             [
              0.4444444444444444,
              "#bd3786"
             ],
             [
              0.5555555555555556,
              "#d8576b"
             ],
             [
              0.6666666666666666,
              "#ed7953"
             ],
             [
              0.7777777777777778,
              "#fb9f3a"
             ],
             [
              0.8888888888888888,
              "#fdca26"
             ],
             [
              1,
              "#f0f921"
             ]
            ],
            "type": "histogram2dcontour"
           }
          ],
          "mesh3d": [
           {
            "colorbar": {
             "outlinewidth": 0,
             "ticks": ""
            },
            "type": "mesh3d"
           }
          ],
          "parcoords": [
           {
            "line": {
             "colorbar": {
              "outlinewidth": 0,
              "ticks": ""
             }
            },
            "type": "parcoords"
           }
          ],
          "pie": [
           {
            "automargin": true,
            "type": "pie"
           }
          ],
          "scatter": [
           {
            "fillpattern": {
             "fillmode": "overlay",
             "size": 10,
             "solidity": 0.2
            },
            "type": "scatter"
           }
          ],
          "scatter3d": [
           {
            "line": {
             "colorbar": {
              "outlinewidth": 0,
              "ticks": ""
             }
            },
            "marker": {
             "colorbar": {
              "outlinewidth": 0,
              "ticks": ""
             }
            },
            "type": "scatter3d"
           }
          ],
          "scattercarpet": [
           {
            "marker": {
             "colorbar": {
              "outlinewidth": 0,
              "ticks": ""
             }
            },
            "type": "scattercarpet"
           }
          ],
          "scattergeo": [
           {
            "marker": {
             "colorbar": {
              "outlinewidth": 0,
              "ticks": ""
             }
            },
            "type": "scattergeo"
           }
          ],
          "scattergl": [
           {
            "marker": {
             "colorbar": {
              "outlinewidth": 0,
              "ticks": ""
             }
            },
            "type": "scattergl"
           }
          ],
          "scattermapbox": [
           {
            "marker": {
             "colorbar": {
              "outlinewidth": 0,
              "ticks": ""
             }
            },
            "type": "scattermapbox"
           }
          ],
          "scatterpolar": [
           {
            "marker": {
             "colorbar": {
              "outlinewidth": 0,
              "ticks": ""
             }
            },
            "type": "scatterpolar"
           }
          ],
          "scatterpolargl": [
           {
            "marker": {
             "colorbar": {
              "outlinewidth": 0,
              "ticks": ""
             }
            },
            "type": "scatterpolargl"
           }
          ],
          "scatterternary": [
           {
            "marker": {
             "colorbar": {
              "outlinewidth": 0,
              "ticks": ""
             }
            },
            "type": "scatterternary"
           }
          ],
          "surface": [
           {
            "colorbar": {
             "outlinewidth": 0,
             "ticks": ""
            },
            "colorscale": [
             [
              0,
              "#0d0887"
             ],
             [
              0.1111111111111111,
              "#46039f"
             ],
             [
              0.2222222222222222,
              "#7201a8"
             ],
             [
              0.3333333333333333,
              "#9c179e"
             ],
             [
              0.4444444444444444,
              "#bd3786"
             ],
             [
              0.5555555555555556,
              "#d8576b"
             ],
             [
              0.6666666666666666,
              "#ed7953"
             ],
             [
              0.7777777777777778,
              "#fb9f3a"
             ],
             [
              0.8888888888888888,
              "#fdca26"
             ],
             [
              1,
              "#f0f921"
             ]
            ],
            "type": "surface"
           }
          ],
          "table": [
           {
            "cells": {
             "fill": {
              "color": "#EBF0F8"
             },
             "line": {
              "color": "white"
             }
            },
            "header": {
             "fill": {
              "color": "#C8D4E3"
             },
             "line": {
              "color": "white"
             }
            },
            "type": "table"
           }
          ]
         },
         "layout": {
          "annotationdefaults": {
           "arrowcolor": "#2a3f5f",
           "arrowhead": 0,
           "arrowwidth": 1
          },
          "autotypenumbers": "strict",
          "coloraxis": {
           "colorbar": {
            "outlinewidth": 0,
            "ticks": ""
           }
          },
          "colorscale": {
           "diverging": [
            [
             0,
             "#8e0152"
            ],
            [
             0.1,
             "#c51b7d"
            ],
            [
             0.2,
             "#de77ae"
            ],
            [
             0.3,
             "#f1b6da"
            ],
            [
             0.4,
             "#fde0ef"
            ],
            [
             0.5,
             "#f7f7f7"
            ],
            [
             0.6,
             "#e6f5d0"
            ],
            [
             0.7,
             "#b8e186"
            ],
            [
             0.8,
             "#7fbc41"
            ],
            [
             0.9,
             "#4d9221"
            ],
            [
             1,
             "#276419"
            ]
           ],
           "sequential": [
            [
             0,
             "#0d0887"
            ],
            [
             0.1111111111111111,
             "#46039f"
            ],
            [
             0.2222222222222222,
             "#7201a8"
            ],
            [
             0.3333333333333333,
             "#9c179e"
            ],
            [
             0.4444444444444444,
             "#bd3786"
            ],
            [
             0.5555555555555556,
             "#d8576b"
            ],
            [
             0.6666666666666666,
             "#ed7953"
            ],
            [
             0.7777777777777778,
             "#fb9f3a"
            ],
            [
             0.8888888888888888,
             "#fdca26"
            ],
            [
             1,
             "#f0f921"
            ]
           ],
           "sequentialminus": [
            [
             0,
             "#0d0887"
            ],
            [
             0.1111111111111111,
             "#46039f"
            ],
            [
             0.2222222222222222,
             "#7201a8"
            ],
            [
             0.3333333333333333,
             "#9c179e"
            ],
            [
             0.4444444444444444,
             "#bd3786"
            ],
            [
             0.5555555555555556,
             "#d8576b"
            ],
            [
             0.6666666666666666,
             "#ed7953"
            ],
            [
             0.7777777777777778,
             "#fb9f3a"
            ],
            [
             0.8888888888888888,
             "#fdca26"
            ],
            [
             1,
             "#f0f921"
            ]
           ]
          },
          "colorway": [
           "#636efa",
           "#EF553B",
           "#00cc96",
           "#ab63fa",
           "#FFA15A",
           "#19d3f3",
           "#FF6692",
           "#B6E880",
           "#FF97FF",
           "#FECB52"
          ],
          "font": {
           "color": "#2a3f5f"
          },
          "geo": {
           "bgcolor": "white",
           "lakecolor": "white",
           "landcolor": "#E5ECF6",
           "showlakes": true,
           "showland": true,
           "subunitcolor": "white"
          },
          "hoverlabel": {
           "align": "left"
          },
          "hovermode": "closest",
          "mapbox": {
           "style": "light"
          },
          "paper_bgcolor": "white",
          "plot_bgcolor": "#E5ECF6",
          "polar": {
           "angularaxis": {
            "gridcolor": "white",
            "linecolor": "white",
            "ticks": ""
           },
           "bgcolor": "#E5ECF6",
           "radialaxis": {
            "gridcolor": "white",
            "linecolor": "white",
            "ticks": ""
           }
          },
          "scene": {
           "xaxis": {
            "backgroundcolor": "#E5ECF6",
            "gridcolor": "white",
            "gridwidth": 2,
            "linecolor": "white",
            "showbackground": true,
            "ticks": "",
            "zerolinecolor": "white"
           },
           "yaxis": {
            "backgroundcolor": "#E5ECF6",
            "gridcolor": "white",
            "gridwidth": 2,
            "linecolor": "white",
            "showbackground": true,
            "ticks": "",
            "zerolinecolor": "white"
           },
           "zaxis": {
            "backgroundcolor": "#E5ECF6",
            "gridcolor": "white",
            "gridwidth": 2,
            "linecolor": "white",
            "showbackground": true,
            "ticks": "",
            "zerolinecolor": "white"
           }
          },
          "shapedefaults": {
           "line": {
            "color": "#2a3f5f"
           }
          },
          "ternary": {
           "aaxis": {
            "gridcolor": "white",
            "linecolor": "white",
            "ticks": ""
           },
           "baxis": {
            "gridcolor": "white",
            "linecolor": "white",
            "ticks": ""
           },
           "bgcolor": "#E5ECF6",
           "caxis": {
            "gridcolor": "white",
            "linecolor": "white",
            "ticks": ""
           }
          },
          "title": {
           "x": 0.05
          },
          "xaxis": {
           "automargin": true,
           "gridcolor": "white",
           "linecolor": "white",
           "ticks": "",
           "title": {
            "standoff": 15
           },
           "zerolinecolor": "white",
           "zerolinewidth": 2
          },
          "yaxis": {
           "automargin": true,
           "gridcolor": "white",
           "linecolor": "white",
           "ticks": "",
           "title": {
            "standoff": 15
           },
           "zerolinecolor": "white",
           "zerolinewidth": 2
          }
         }
        },
        "title": {
         "text": "Best price-rating restaurants - Deliveroo"
        },
        "width": 500,
        "xaxis": {
         "anchor": "y",
         "domain": [
          0,
          1
         ],
         "title": {
          "text": "Restaurant"
         }
        },
        "yaxis": {
         "anchor": "x",
         "domain": [
          0,
          1
         ],
         "title": {
          "text": "Average item price and rating"
         }
        }
       }
      }
     },
     "metadata": {},
     "output_type": "display_data"
    }
   ],
   "source": [
    "# Deliveroo\n",
    "best_deliveroo = cur.execute(\"\"\"\n",
    "SELECT rest_name, rating,\n",
    "ROUND(AVG(price), 2) AS avg_price\n",
    "FROM main.restaurants\n",
    "WHERE rating_count >= 10\n",
    "AND platform = 'Deliveroo'\n",
    "GROUP BY rest_id \n",
    "ORDER BY rating DESC, avg_price ASC\n",
    "LIMIT 3;\n",
    "            \"\"\")\n",
    "best_deliveroo_df = pd.DataFrame(best_deliveroo.fetchall(), columns=['Restaurant', 'Rating', 'Avg. item price €'])\n",
    "\n",
    "\n",
    "# plot\n",
    "best_takeaway_df_long = best_deliveroo_df.melt(\n",
    "    id_vars=[\"Restaurant\"], \n",
    "    var_name=\"metric\",   \n",
    "    value_name=\"value\"   \n",
    ").sort_values(by='Restaurant')\n",
    "\n",
    "best_takeaway_df_long_fig = px.bar(\n",
    "    best_takeaway_df_long ,\n",
    "    height=500,\n",
    "    width=500,\n",
    "    orientation='v',\n",
    "    x='Restaurant',\n",
    "    y=\"value\",\n",
    "    color=\"metric\",  \n",
    "    barmode=\"group\",  \n",
    "    title=\"Best price-rating restaurants - Deliveroo\",\n",
    "    labels={\"value\": \"Average item price and rating\", \"platform_rest_name\": \"Best restaurant per platform\"},\n",
    "    text='value',\n",
    "    hover_data={\"Restaurant\": True, \"metric\": True, 'value': True},\n",
    "    color_discrete_sequence=['#87bba2', \"#55828b\"],\n",
    ")\n",
    "\n",
    "best_takeaway_df_long_fig.update_traces(\n",
    "    hovertemplate=\"<b>%{x}</b><br>%{y:.2f}<extra></extra>\",  \n",
    "    texttemplate=\"%{text:.2f}\", \n",
    "    textposition=\"inside\" \n",
    ")\n",
    "best_takeaway_df_long_fig.show()\n"
   ]
  },
  {
   "cell_type": "code",
   "execution_count": 12,
   "metadata": {},
   "outputs": [
    {
     "data": {
      "application/vnd.plotly.v1+json": {
       "config": {
        "plotlyServerURL": "https://plot.ly"
       },
       "data": [
        {
         "alignmentgroup": "True",
         "customdata": [
          [
           "Rating"
          ],
          [
           "Rating"
          ],
          [
           "Rating"
          ]
         ],
         "hovertemplate": "<b>%{x}</b><br>%{y:.2f}<extra></extra>",
         "legendgroup": "Rating",
         "marker": {
          "color": "#87bba2",
          "pattern": {
           "shape": ""
          }
         },
         "name": "Rating",
         "offsetgroup": "Rating",
         "orientation": "v",
         "showlegend": true,
         "text": [
          5,
          5,
          5
         ],
         "textposition": "inside",
         "texttemplate": "%{text:.2f}",
         "type": "bar",
         "x": [
          "Frituur op't Hoekske",
          "Pain d'Or",
          "QueTacos"
         ],
         "xaxis": "x",
         "y": [
          5,
          5,
          5
         ],
         "yaxis": "y"
        },
        {
         "alignmentgroup": "True",
         "customdata": [
          [
           "Avg. item price €"
          ],
          [
           "Avg. item price €"
          ],
          [
           "Avg. item price €"
          ]
         ],
         "hovertemplate": "<b>%{x}</b><br>%{y:.2f}<extra></extra>",
         "legendgroup": "Avg. item price €",
         "marker": {
          "color": "#55828b",
          "pattern": {
           "shape": ""
          }
         },
         "name": "Avg. item price €",
         "offsetgroup": "Avg. item price €",
         "orientation": "v",
         "showlegend": true,
         "text": [
          2.86,
          3.9,
          2.86
         ],
         "textposition": "inside",
         "texttemplate": "%{text:.2f}",
         "type": "bar",
         "x": [
          "Frituur op't Hoekske",
          "Pain d'Or",
          "QueTacos"
         ],
         "xaxis": "x",
         "y": [
          2.86,
          3.9,
          2.86
         ],
         "yaxis": "y"
        }
       ],
       "layout": {
        "barmode": "group",
        "height": 500,
        "legend": {
         "title": {
          "text": "metric"
         },
         "tracegroupgap": 0
        },
        "template": {
         "data": {
          "bar": [
           {
            "error_x": {
             "color": "#2a3f5f"
            },
            "error_y": {
             "color": "#2a3f5f"
            },
            "marker": {
             "line": {
              "color": "#E5ECF6",
              "width": 0.5
             },
             "pattern": {
              "fillmode": "overlay",
              "size": 10,
              "solidity": 0.2
             }
            },
            "type": "bar"
           }
          ],
          "barpolar": [
           {
            "marker": {
             "line": {
              "color": "#E5ECF6",
              "width": 0.5
             },
             "pattern": {
              "fillmode": "overlay",
              "size": 10,
              "solidity": 0.2
             }
            },
            "type": "barpolar"
           }
          ],
          "carpet": [
           {
            "aaxis": {
             "endlinecolor": "#2a3f5f",
             "gridcolor": "white",
             "linecolor": "white",
             "minorgridcolor": "white",
             "startlinecolor": "#2a3f5f"
            },
            "baxis": {
             "endlinecolor": "#2a3f5f",
             "gridcolor": "white",
             "linecolor": "white",
             "minorgridcolor": "white",
             "startlinecolor": "#2a3f5f"
            },
            "type": "carpet"
           }
          ],
          "choropleth": [
           {
            "colorbar": {
             "outlinewidth": 0,
             "ticks": ""
            },
            "type": "choropleth"
           }
          ],
          "contour": [
           {
            "colorbar": {
             "outlinewidth": 0,
             "ticks": ""
            },
            "colorscale": [
             [
              0,
              "#0d0887"
             ],
             [
              0.1111111111111111,
              "#46039f"
             ],
             [
              0.2222222222222222,
              "#7201a8"
             ],
             [
              0.3333333333333333,
              "#9c179e"
             ],
             [
              0.4444444444444444,
              "#bd3786"
             ],
             [
              0.5555555555555556,
              "#d8576b"
             ],
             [
              0.6666666666666666,
              "#ed7953"
             ],
             [
              0.7777777777777778,
              "#fb9f3a"
             ],
             [
              0.8888888888888888,
              "#fdca26"
             ],
             [
              1,
              "#f0f921"
             ]
            ],
            "type": "contour"
           }
          ],
          "contourcarpet": [
           {
            "colorbar": {
             "outlinewidth": 0,
             "ticks": ""
            },
            "type": "contourcarpet"
           }
          ],
          "heatmap": [
           {
            "colorbar": {
             "outlinewidth": 0,
             "ticks": ""
            },
            "colorscale": [
             [
              0,
              "#0d0887"
             ],
             [
              0.1111111111111111,
              "#46039f"
             ],
             [
              0.2222222222222222,
              "#7201a8"
             ],
             [
              0.3333333333333333,
              "#9c179e"
             ],
             [
              0.4444444444444444,
              "#bd3786"
             ],
             [
              0.5555555555555556,
              "#d8576b"
             ],
             [
              0.6666666666666666,
              "#ed7953"
             ],
             [
              0.7777777777777778,
              "#fb9f3a"
             ],
             [
              0.8888888888888888,
              "#fdca26"
             ],
             [
              1,
              "#f0f921"
             ]
            ],
            "type": "heatmap"
           }
          ],
          "heatmapgl": [
           {
            "colorbar": {
             "outlinewidth": 0,
             "ticks": ""
            },
            "colorscale": [
             [
              0,
              "#0d0887"
             ],
             [
              0.1111111111111111,
              "#46039f"
             ],
             [
              0.2222222222222222,
              "#7201a8"
             ],
             [
              0.3333333333333333,
              "#9c179e"
             ],
             [
              0.4444444444444444,
              "#bd3786"
             ],
             [
              0.5555555555555556,
              "#d8576b"
             ],
             [
              0.6666666666666666,
              "#ed7953"
             ],
             [
              0.7777777777777778,
              "#fb9f3a"
             ],
             [
              0.8888888888888888,
              "#fdca26"
             ],
             [
              1,
              "#f0f921"
             ]
            ],
            "type": "heatmapgl"
           }
          ],
          "histogram": [
           {
            "marker": {
             "pattern": {
              "fillmode": "overlay",
              "size": 10,
              "solidity": 0.2
             }
            },
            "type": "histogram"
           }
          ],
          "histogram2d": [
           {
            "colorbar": {
             "outlinewidth": 0,
             "ticks": ""
            },
            "colorscale": [
             [
              0,
              "#0d0887"
             ],
             [
              0.1111111111111111,
              "#46039f"
             ],
             [
              0.2222222222222222,
              "#7201a8"
             ],
             [
              0.3333333333333333,
              "#9c179e"
             ],
             [
              0.4444444444444444,
              "#bd3786"
             ],
             [
              0.5555555555555556,
              "#d8576b"
             ],
             [
              0.6666666666666666,
              "#ed7953"
             ],
             [
              0.7777777777777778,
              "#fb9f3a"
             ],
             [
              0.8888888888888888,
              "#fdca26"
             ],
             [
              1,
              "#f0f921"
             ]
            ],
            "type": "histogram2d"
           }
          ],
          "histogram2dcontour": [
           {
            "colorbar": {
             "outlinewidth": 0,
             "ticks": ""
            },
            "colorscale": [
             [
              0,
              "#0d0887"
             ],
             [
              0.1111111111111111,
              "#46039f"
             ],
             [
              0.2222222222222222,
              "#7201a8"
             ],
             [
              0.3333333333333333,
              "#9c179e"
             ],
             [
              0.4444444444444444,
              "#bd3786"
             ],
             [
              0.5555555555555556,
              "#d8576b"
             ],
             [
              0.6666666666666666,
              "#ed7953"
             ],
             [
              0.7777777777777778,
              "#fb9f3a"
             ],
             [
              0.8888888888888888,
              "#fdca26"
             ],
             [
              1,
              "#f0f921"
             ]
            ],
            "type": "histogram2dcontour"
           }
          ],
          "mesh3d": [
           {
            "colorbar": {
             "outlinewidth": 0,
             "ticks": ""
            },
            "type": "mesh3d"
           }
          ],
          "parcoords": [
           {
            "line": {
             "colorbar": {
              "outlinewidth": 0,
              "ticks": ""
             }
            },
            "type": "parcoords"
           }
          ],
          "pie": [
           {
            "automargin": true,
            "type": "pie"
           }
          ],
          "scatter": [
           {
            "fillpattern": {
             "fillmode": "overlay",
             "size": 10,
             "solidity": 0.2
            },
            "type": "scatter"
           }
          ],
          "scatter3d": [
           {
            "line": {
             "colorbar": {
              "outlinewidth": 0,
              "ticks": ""
             }
            },
            "marker": {
             "colorbar": {
              "outlinewidth": 0,
              "ticks": ""
             }
            },
            "type": "scatter3d"
           }
          ],
          "scattercarpet": [
           {
            "marker": {
             "colorbar": {
              "outlinewidth": 0,
              "ticks": ""
             }
            },
            "type": "scattercarpet"
           }
          ],
          "scattergeo": [
           {
            "marker": {
             "colorbar": {
              "outlinewidth": 0,
              "ticks": ""
             }
            },
            "type": "scattergeo"
           }
          ],
          "scattergl": [
           {
            "marker": {
             "colorbar": {
              "outlinewidth": 0,
              "ticks": ""
             }
            },
            "type": "scattergl"
           }
          ],
          "scattermapbox": [
           {
            "marker": {
             "colorbar": {
              "outlinewidth": 0,
              "ticks": ""
             }
            },
            "type": "scattermapbox"
           }
          ],
          "scatterpolar": [
           {
            "marker": {
             "colorbar": {
              "outlinewidth": 0,
              "ticks": ""
             }
            },
            "type": "scatterpolar"
           }
          ],
          "scatterpolargl": [
           {
            "marker": {
             "colorbar": {
              "outlinewidth": 0,
              "ticks": ""
             }
            },
            "type": "scatterpolargl"
           }
          ],
          "scatterternary": [
           {
            "marker": {
             "colorbar": {
              "outlinewidth": 0,
              "ticks": ""
             }
            },
            "type": "scatterternary"
           }
          ],
          "surface": [
           {
            "colorbar": {
             "outlinewidth": 0,
             "ticks": ""
            },
            "colorscale": [
             [
              0,
              "#0d0887"
             ],
             [
              0.1111111111111111,
              "#46039f"
             ],
             [
              0.2222222222222222,
              "#7201a8"
             ],
             [
              0.3333333333333333,
              "#9c179e"
             ],
             [
              0.4444444444444444,
              "#bd3786"
             ],
             [
              0.5555555555555556,
              "#d8576b"
             ],
             [
              0.6666666666666666,
              "#ed7953"
             ],
             [
              0.7777777777777778,
              "#fb9f3a"
             ],
             [
              0.8888888888888888,
              "#fdca26"
             ],
             [
              1,
              "#f0f921"
             ]
            ],
            "type": "surface"
           }
          ],
          "table": [
           {
            "cells": {
             "fill": {
              "color": "#EBF0F8"
             },
             "line": {
              "color": "white"
             }
            },
            "header": {
             "fill": {
              "color": "#C8D4E3"
             },
             "line": {
              "color": "white"
             }
            },
            "type": "table"
           }
          ]
         },
         "layout": {
          "annotationdefaults": {
           "arrowcolor": "#2a3f5f",
           "arrowhead": 0,
           "arrowwidth": 1
          },
          "autotypenumbers": "strict",
          "coloraxis": {
           "colorbar": {
            "outlinewidth": 0,
            "ticks": ""
           }
          },
          "colorscale": {
           "diverging": [
            [
             0,
             "#8e0152"
            ],
            [
             0.1,
             "#c51b7d"
            ],
            [
             0.2,
             "#de77ae"
            ],
            [
             0.3,
             "#f1b6da"
            ],
            [
             0.4,
             "#fde0ef"
            ],
            [
             0.5,
             "#f7f7f7"
            ],
            [
             0.6,
             "#e6f5d0"
            ],
            [
             0.7,
             "#b8e186"
            ],
            [
             0.8,
             "#7fbc41"
            ],
            [
             0.9,
             "#4d9221"
            ],
            [
             1,
             "#276419"
            ]
           ],
           "sequential": [
            [
             0,
             "#0d0887"
            ],
            [
             0.1111111111111111,
             "#46039f"
            ],
            [
             0.2222222222222222,
             "#7201a8"
            ],
            [
             0.3333333333333333,
             "#9c179e"
            ],
            [
             0.4444444444444444,
             "#bd3786"
            ],
            [
             0.5555555555555556,
             "#d8576b"
            ],
            [
             0.6666666666666666,
             "#ed7953"
            ],
            [
             0.7777777777777778,
             "#fb9f3a"
            ],
            [
             0.8888888888888888,
             "#fdca26"
            ],
            [
             1,
             "#f0f921"
            ]
           ],
           "sequentialminus": [
            [
             0,
             "#0d0887"
            ],
            [
             0.1111111111111111,
             "#46039f"
            ],
            [
             0.2222222222222222,
             "#7201a8"
            ],
            [
             0.3333333333333333,
             "#9c179e"
            ],
            [
             0.4444444444444444,
             "#bd3786"
            ],
            [
             0.5555555555555556,
             "#d8576b"
            ],
            [
             0.6666666666666666,
             "#ed7953"
            ],
            [
             0.7777777777777778,
             "#fb9f3a"
            ],
            [
             0.8888888888888888,
             "#fdca26"
            ],
            [
             1,
             "#f0f921"
            ]
           ]
          },
          "colorway": [
           "#636efa",
           "#EF553B",
           "#00cc96",
           "#ab63fa",
           "#FFA15A",
           "#19d3f3",
           "#FF6692",
           "#B6E880",
           "#FF97FF",
           "#FECB52"
          ],
          "font": {
           "color": "#2a3f5f"
          },
          "geo": {
           "bgcolor": "white",
           "lakecolor": "white",
           "landcolor": "#E5ECF6",
           "showlakes": true,
           "showland": true,
           "subunitcolor": "white"
          },
          "hoverlabel": {
           "align": "left"
          },
          "hovermode": "closest",
          "mapbox": {
           "style": "light"
          },
          "paper_bgcolor": "white",
          "plot_bgcolor": "#E5ECF6",
          "polar": {
           "angularaxis": {
            "gridcolor": "white",
            "linecolor": "white",
            "ticks": ""
           },
           "bgcolor": "#E5ECF6",
           "radialaxis": {
            "gridcolor": "white",
            "linecolor": "white",
            "ticks": ""
           }
          },
          "scene": {
           "xaxis": {
            "backgroundcolor": "#E5ECF6",
            "gridcolor": "white",
            "gridwidth": 2,
            "linecolor": "white",
            "showbackground": true,
            "ticks": "",
            "zerolinecolor": "white"
           },
           "yaxis": {
            "backgroundcolor": "#E5ECF6",
            "gridcolor": "white",
            "gridwidth": 2,
            "linecolor": "white",
            "showbackground": true,
            "ticks": "",
            "zerolinecolor": "white"
           },
           "zaxis": {
            "backgroundcolor": "#E5ECF6",
            "gridcolor": "white",
            "gridwidth": 2,
            "linecolor": "white",
            "showbackground": true,
            "ticks": "",
            "zerolinecolor": "white"
           }
          },
          "shapedefaults": {
           "line": {
            "color": "#2a3f5f"
           }
          },
          "ternary": {
           "aaxis": {
            "gridcolor": "white",
            "linecolor": "white",
            "ticks": ""
           },
           "baxis": {
            "gridcolor": "white",
            "linecolor": "white",
            "ticks": ""
           },
           "bgcolor": "#E5ECF6",
           "caxis": {
            "gridcolor": "white",
            "linecolor": "white",
            "ticks": ""
           }
          },
          "title": {
           "x": 0.05
          },
          "xaxis": {
           "automargin": true,
           "gridcolor": "white",
           "linecolor": "white",
           "ticks": "",
           "title": {
            "standoff": 15
           },
           "zerolinecolor": "white",
           "zerolinewidth": 2
          },
          "yaxis": {
           "automargin": true,
           "gridcolor": "white",
           "linecolor": "white",
           "ticks": "",
           "title": {
            "standoff": 15
           },
           "zerolinecolor": "white",
           "zerolinewidth": 2
          }
         }
        },
        "title": {
         "text": "Best price-rating restaurants - Takeaway"
        },
        "width": 500,
        "xaxis": {
         "anchor": "y",
         "domain": [
          0,
          1
         ],
         "title": {
          "text": "Restaurant"
         }
        },
        "yaxis": {
         "anchor": "x",
         "domain": [
          0,
          1
         ],
         "title": {
          "text": "Average item price and rating"
         }
        }
       }
      }
     },
     "metadata": {},
     "output_type": "display_data"
    }
   ],
   "source": [
    "# Takeaway\n",
    "best_takeaway =cur.execute(\"\"\"\n",
    "SELECT rest_name, rating,\n",
    "ROUND(AVG(price), 2) AS avg_price\n",
    "FROM main.restaurants\n",
    "WHERE rating_count >= 10\n",
    "AND platform = 'Takeaway'\n",
    "GROUP BY rest_id \n",
    "ORDER BY rating DESC, avg_price ASC\n",
    "LIMIT 3;\n",
    "            \"\"\")\n",
    "\n",
    "best_takeaway_df = pd.DataFrame(best_takeaway.fetchall(), columns=['Restaurant', 'Rating', 'Avg. item price €'])\n",
    "\n",
    "# plot\n",
    "best_takeaway_df_long = best_takeaway_df.melt(\n",
    "    id_vars=[\"Restaurant\"], \n",
    "    var_name=\"metric\",   \n",
    "    value_name=\"value\"   \n",
    ").sort_values(by='Restaurant')\n",
    "\n",
    "\n",
    "best_takeaway_df_fig = px.bar(\n",
    "    best_takeaway_df_long ,\n",
    "    height=500,\n",
    "    width=500,\n",
    "    orientation='v',\n",
    "    x='Restaurant',\n",
    "    y=\"value\",\n",
    "    color=\"metric\",  \n",
    "    barmode=\"group\",  \n",
    "    title=\"Best price-rating restaurants - Takeaway\",\n",
    "    labels={\"value\": \"Average item price and rating\", \"platform_rest_name\": \"Best restaurant per platform\"},\n",
    "    text='value',\n",
    "    hover_data={\"Restaurant\": True, \"metric\": True, 'value': True},\n",
    "    color_discrete_sequence=['#87bba2', \"#55828b\"],\n",
    ")\n",
    "\n",
    "\n",
    "best_takeaway_df_fig.update_traces(\n",
    "    hovertemplate=\"<b>%{x}</b><br>%{y:.2f}<extra></extra>\",  \n",
    "    texttemplate=\"%{text:.2f}\", \n",
    "    textposition=\"inside\" \n",
    ")\n",
    "best_takeaway_df_fig.show()"
   ]
  },
  {
   "cell_type": "code",
   "execution_count": 13,
   "metadata": {},
   "outputs": [
    {
     "data": {
      "application/vnd.plotly.v1+json": {
       "config": {
        "plotlyServerURL": "https://plot.ly"
       },
       "data": [
        {
         "alignmentgroup": "True",
         "customdata": [
          [
           "Rating"
          ],
          [
           "Rating"
          ],
          [
           "Rating"
          ]
         ],
         "hovertemplate": "<b>%{x}</b><br>%{y:.2f}<extra></extra>",
         "legendgroup": "Rating",
         "marker": {
          "color": "#87bba2",
          "pattern": {
           "shape": ""
          }
         },
         "name": "Rating",
         "offsetgroup": "Rating",
         "orientation": "v",
         "showlegend": true,
         "text": [
          5,
          5,
          5
         ],
         "textposition": "inside",
         "texttemplate": "%{text:.2f}",
         "type": "bar",
         "x": [
          "Boba Club",
          "CrÃ¨merie Marie",
          "T'more enjoy"
         ],
         "xaxis": "x",
         "y": [
          5,
          5,
          5
         ],
         "yaxis": "y"
        },
        {
         "alignmentgroup": "True",
         "customdata": [
          [
           "Avg. item price €"
          ],
          [
           "Avg. item price €"
          ],
          [
           "Avg. item price €"
          ]
         ],
         "hovertemplate": "<b>%{x}</b><br>%{y:.2f}<extra></extra>",
         "legendgroup": "Avg. item price €",
         "marker": {
          "color": "#55828b",
          "pattern": {
           "shape": ""
          }
         },
         "name": "Avg. item price €",
         "offsetgroup": "Avg. item price €",
         "orientation": "v",
         "showlegend": true,
         "text": [
          6.06,
          7.68,
          4.7
         ],
         "textposition": "inside",
         "texttemplate": "%{text:.2f}",
         "type": "bar",
         "x": [
          "Boba Club",
          "CrÃ¨merie Marie",
          "T'more enjoy"
         ],
         "xaxis": "x",
         "y": [
          6.06,
          7.68,
          4.7
         ],
         "yaxis": "y"
        }
       ],
       "layout": {
        "barmode": "group",
        "height": 500,
        "legend": {
         "title": {
          "text": "metric"
         },
         "tracegroupgap": 0
        },
        "template": {
         "data": {
          "bar": [
           {
            "error_x": {
             "color": "#2a3f5f"
            },
            "error_y": {
             "color": "#2a3f5f"
            },
            "marker": {
             "line": {
              "color": "#E5ECF6",
              "width": 0.5
             },
             "pattern": {
              "fillmode": "overlay",
              "size": 10,
              "solidity": 0.2
             }
            },
            "type": "bar"
           }
          ],
          "barpolar": [
           {
            "marker": {
             "line": {
              "color": "#E5ECF6",
              "width": 0.5
             },
             "pattern": {
              "fillmode": "overlay",
              "size": 10,
              "solidity": 0.2
             }
            },
            "type": "barpolar"
           }
          ],
          "carpet": [
           {
            "aaxis": {
             "endlinecolor": "#2a3f5f",
             "gridcolor": "white",
             "linecolor": "white",
             "minorgridcolor": "white",
             "startlinecolor": "#2a3f5f"
            },
            "baxis": {
             "endlinecolor": "#2a3f5f",
             "gridcolor": "white",
             "linecolor": "white",
             "minorgridcolor": "white",
             "startlinecolor": "#2a3f5f"
            },
            "type": "carpet"
           }
          ],
          "choropleth": [
           {
            "colorbar": {
             "outlinewidth": 0,
             "ticks": ""
            },
            "type": "choropleth"
           }
          ],
          "contour": [
           {
            "colorbar": {
             "outlinewidth": 0,
             "ticks": ""
            },
            "colorscale": [
             [
              0,
              "#0d0887"
             ],
             [
              0.1111111111111111,
              "#46039f"
             ],
             [
              0.2222222222222222,
              "#7201a8"
             ],
             [
              0.3333333333333333,
              "#9c179e"
             ],
             [
              0.4444444444444444,
              "#bd3786"
             ],
             [
              0.5555555555555556,
              "#d8576b"
             ],
             [
              0.6666666666666666,
              "#ed7953"
             ],
             [
              0.7777777777777778,
              "#fb9f3a"
             ],
             [
              0.8888888888888888,
              "#fdca26"
             ],
             [
              1,
              "#f0f921"
             ]
            ],
            "type": "contour"
           }
          ],
          "contourcarpet": [
           {
            "colorbar": {
             "outlinewidth": 0,
             "ticks": ""
            },
            "type": "contourcarpet"
           }
          ],
          "heatmap": [
           {
            "colorbar": {
             "outlinewidth": 0,
             "ticks": ""
            },
            "colorscale": [
             [
              0,
              "#0d0887"
             ],
             [
              0.1111111111111111,
              "#46039f"
             ],
             [
              0.2222222222222222,
              "#7201a8"
             ],
             [
              0.3333333333333333,
              "#9c179e"
             ],
             [
              0.4444444444444444,
              "#bd3786"
             ],
             [
              0.5555555555555556,
              "#d8576b"
             ],
             [
              0.6666666666666666,
              "#ed7953"
             ],
             [
              0.7777777777777778,
              "#fb9f3a"
             ],
             [
              0.8888888888888888,
              "#fdca26"
             ],
             [
              1,
              "#f0f921"
             ]
            ],
            "type": "heatmap"
           }
          ],
          "heatmapgl": [
           {
            "colorbar": {
             "outlinewidth": 0,
             "ticks": ""
            },
            "colorscale": [
             [
              0,
              "#0d0887"
             ],
             [
              0.1111111111111111,
              "#46039f"
             ],
             [
              0.2222222222222222,
              "#7201a8"
             ],
             [
              0.3333333333333333,
              "#9c179e"
             ],
             [
              0.4444444444444444,
              "#bd3786"
             ],
             [
              0.5555555555555556,
              "#d8576b"
             ],
             [
              0.6666666666666666,
              "#ed7953"
             ],
             [
              0.7777777777777778,
              "#fb9f3a"
             ],
             [
              0.8888888888888888,
              "#fdca26"
             ],
             [
              1,
              "#f0f921"
             ]
            ],
            "type": "heatmapgl"
           }
          ],
          "histogram": [
           {
            "marker": {
             "pattern": {
              "fillmode": "overlay",
              "size": 10,
              "solidity": 0.2
             }
            },
            "type": "histogram"
           }
          ],
          "histogram2d": [
           {
            "colorbar": {
             "outlinewidth": 0,
             "ticks": ""
            },
            "colorscale": [
             [
              0,
              "#0d0887"
             ],
             [
              0.1111111111111111,
              "#46039f"
             ],
             [
              0.2222222222222222,
              "#7201a8"
             ],
             [
              0.3333333333333333,
              "#9c179e"
             ],
             [
              0.4444444444444444,
              "#bd3786"
             ],
             [
              0.5555555555555556,
              "#d8576b"
             ],
             [
              0.6666666666666666,
              "#ed7953"
             ],
             [
              0.7777777777777778,
              "#fb9f3a"
             ],
             [
              0.8888888888888888,
              "#fdca26"
             ],
             [
              1,
              "#f0f921"
             ]
            ],
            "type": "histogram2d"
           }
          ],
          "histogram2dcontour": [
           {
            "colorbar": {
             "outlinewidth": 0,
             "ticks": ""
            },
            "colorscale": [
             [
              0,
              "#0d0887"
             ],
             [
              0.1111111111111111,
              "#46039f"
             ],
             [
              0.2222222222222222,
              "#7201a8"
             ],
             [
              0.3333333333333333,
              "#9c179e"
             ],
             [
              0.4444444444444444,
              "#bd3786"
             ],
             [
              0.5555555555555556,
              "#d8576b"
             ],
             [
              0.6666666666666666,
              "#ed7953"
             ],
             [
              0.7777777777777778,
              "#fb9f3a"
             ],
             [
              0.8888888888888888,
              "#fdca26"
             ],
             [
              1,
              "#f0f921"
             ]
            ],
            "type": "histogram2dcontour"
           }
          ],
          "mesh3d": [
           {
            "colorbar": {
             "outlinewidth": 0,
             "ticks": ""
            },
            "type": "mesh3d"
           }
          ],
          "parcoords": [
           {
            "line": {
             "colorbar": {
              "outlinewidth": 0,
              "ticks": ""
             }
            },
            "type": "parcoords"
           }
          ],
          "pie": [
           {
            "automargin": true,
            "type": "pie"
           }
          ],
          "scatter": [
           {
            "fillpattern": {
             "fillmode": "overlay",
             "size": 10,
             "solidity": 0.2
            },
            "type": "scatter"
           }
          ],
          "scatter3d": [
           {
            "line": {
             "colorbar": {
              "outlinewidth": 0,
              "ticks": ""
             }
            },
            "marker": {
             "colorbar": {
              "outlinewidth": 0,
              "ticks": ""
             }
            },
            "type": "scatter3d"
           }
          ],
          "scattercarpet": [
           {
            "marker": {
             "colorbar": {
              "outlinewidth": 0,
              "ticks": ""
             }
            },
            "type": "scattercarpet"
           }
          ],
          "scattergeo": [
           {
            "marker": {
             "colorbar": {
              "outlinewidth": 0,
              "ticks": ""
             }
            },
            "type": "scattergeo"
           }
          ],
          "scattergl": [
           {
            "marker": {
             "colorbar": {
              "outlinewidth": 0,
              "ticks": ""
             }
            },
            "type": "scattergl"
           }
          ],
          "scattermapbox": [
           {
            "marker": {
             "colorbar": {
              "outlinewidth": 0,
              "ticks": ""
             }
            },
            "type": "scattermapbox"
           }
          ],
          "scatterpolar": [
           {
            "marker": {
             "colorbar": {
              "outlinewidth": 0,
              "ticks": ""
             }
            },
            "type": "scatterpolar"
           }
          ],
          "scatterpolargl": [
           {
            "marker": {
             "colorbar": {
              "outlinewidth": 0,
              "ticks": ""
             }
            },
            "type": "scatterpolargl"
           }
          ],
          "scatterternary": [
           {
            "marker": {
             "colorbar": {
              "outlinewidth": 0,
              "ticks": ""
             }
            },
            "type": "scatterternary"
           }
          ],
          "surface": [
           {
            "colorbar": {
             "outlinewidth": 0,
             "ticks": ""
            },
            "colorscale": [
             [
              0,
              "#0d0887"
             ],
             [
              0.1111111111111111,
              "#46039f"
             ],
             [
              0.2222222222222222,
              "#7201a8"
             ],
             [
              0.3333333333333333,
              "#9c179e"
             ],
             [
              0.4444444444444444,
              "#bd3786"
             ],
             [
              0.5555555555555556,
              "#d8576b"
             ],
             [
              0.6666666666666666,
              "#ed7953"
             ],
             [
              0.7777777777777778,
              "#fb9f3a"
             ],
             [
              0.8888888888888888,
              "#fdca26"
             ],
             [
              1,
              "#f0f921"
             ]
            ],
            "type": "surface"
           }
          ],
          "table": [
           {
            "cells": {
             "fill": {
              "color": "#EBF0F8"
             },
             "line": {
              "color": "white"
             }
            },
            "header": {
             "fill": {
              "color": "#C8D4E3"
             },
             "line": {
              "color": "white"
             }
            },
            "type": "table"
           }
          ]
         },
         "layout": {
          "annotationdefaults": {
           "arrowcolor": "#2a3f5f",
           "arrowhead": 0,
           "arrowwidth": 1
          },
          "autotypenumbers": "strict",
          "coloraxis": {
           "colorbar": {
            "outlinewidth": 0,
            "ticks": ""
           }
          },
          "colorscale": {
           "diverging": [
            [
             0,
             "#8e0152"
            ],
            [
             0.1,
             "#c51b7d"
            ],
            [
             0.2,
             "#de77ae"
            ],
            [
             0.3,
             "#f1b6da"
            ],
            [
             0.4,
             "#fde0ef"
            ],
            [
             0.5,
             "#f7f7f7"
            ],
            [
             0.6,
             "#e6f5d0"
            ],
            [
             0.7,
             "#b8e186"
            ],
            [
             0.8,
             "#7fbc41"
            ],
            [
             0.9,
             "#4d9221"
            ],
            [
             1,
             "#276419"
            ]
           ],
           "sequential": [
            [
             0,
             "#0d0887"
            ],
            [
             0.1111111111111111,
             "#46039f"
            ],
            [
             0.2222222222222222,
             "#7201a8"
            ],
            [
             0.3333333333333333,
             "#9c179e"
            ],
            [
             0.4444444444444444,
             "#bd3786"
            ],
            [
             0.5555555555555556,
             "#d8576b"
            ],
            [
             0.6666666666666666,
             "#ed7953"
            ],
            [
             0.7777777777777778,
             "#fb9f3a"
            ],
            [
             0.8888888888888888,
             "#fdca26"
            ],
            [
             1,
             "#f0f921"
            ]
           ],
           "sequentialminus": [
            [
             0,
             "#0d0887"
            ],
            [
             0.1111111111111111,
             "#46039f"
            ],
            [
             0.2222222222222222,
             "#7201a8"
            ],
            [
             0.3333333333333333,
             "#9c179e"
            ],
            [
             0.4444444444444444,
             "#bd3786"
            ],
            [
             0.5555555555555556,
             "#d8576b"
            ],
            [
             0.6666666666666666,
             "#ed7953"
            ],
            [
             0.7777777777777778,
             "#fb9f3a"
            ],
            [
             0.8888888888888888,
             "#fdca26"
            ],
            [
             1,
             "#f0f921"
            ]
           ]
          },
          "colorway": [
           "#636efa",
           "#EF553B",
           "#00cc96",
           "#ab63fa",
           "#FFA15A",
           "#19d3f3",
           "#FF6692",
           "#B6E880",
           "#FF97FF",
           "#FECB52"
          ],
          "font": {
           "color": "#2a3f5f"
          },
          "geo": {
           "bgcolor": "white",
           "lakecolor": "white",
           "landcolor": "#E5ECF6",
           "showlakes": true,
           "showland": true,
           "subunitcolor": "white"
          },
          "hoverlabel": {
           "align": "left"
          },
          "hovermode": "closest",
          "mapbox": {
           "style": "light"
          },
          "paper_bgcolor": "white",
          "plot_bgcolor": "#E5ECF6",
          "polar": {
           "angularaxis": {
            "gridcolor": "white",
            "linecolor": "white",
            "ticks": ""
           },
           "bgcolor": "#E5ECF6",
           "radialaxis": {
            "gridcolor": "white",
            "linecolor": "white",
            "ticks": ""
           }
          },
          "scene": {
           "xaxis": {
            "backgroundcolor": "#E5ECF6",
            "gridcolor": "white",
            "gridwidth": 2,
            "linecolor": "white",
            "showbackground": true,
            "ticks": "",
            "zerolinecolor": "white"
           },
           "yaxis": {
            "backgroundcolor": "#E5ECF6",
            "gridcolor": "white",
            "gridwidth": 2,
            "linecolor": "white",
            "showbackground": true,
            "ticks": "",
            "zerolinecolor": "white"
           },
           "zaxis": {
            "backgroundcolor": "#E5ECF6",
            "gridcolor": "white",
            "gridwidth": 2,
            "linecolor": "white",
            "showbackground": true,
            "ticks": "",
            "zerolinecolor": "white"
           }
          },
          "shapedefaults": {
           "line": {
            "color": "#2a3f5f"
           }
          },
          "ternary": {
           "aaxis": {
            "gridcolor": "white",
            "linecolor": "white",
            "ticks": ""
           },
           "baxis": {
            "gridcolor": "white",
            "linecolor": "white",
            "ticks": ""
           },
           "bgcolor": "#E5ECF6",
           "caxis": {
            "gridcolor": "white",
            "linecolor": "white",
            "ticks": ""
           }
          },
          "title": {
           "x": 0.05
          },
          "xaxis": {
           "automargin": true,
           "gridcolor": "white",
           "linecolor": "white",
           "ticks": "",
           "title": {
            "standoff": 15
           },
           "zerolinecolor": "white",
           "zerolinewidth": 2
          },
          "yaxis": {
           "automargin": true,
           "gridcolor": "white",
           "linecolor": "white",
           "ticks": "",
           "title": {
            "standoff": 15
           },
           "zerolinecolor": "white",
           "zerolinewidth": 2
          }
         }
        },
        "title": {
         "text": "Best price-rating restaurants - Uber Eats"
        },
        "width": 500,
        "xaxis": {
         "anchor": "y",
         "domain": [
          0,
          1
         ],
         "title": {
          "text": "Restaurant"
         }
        },
        "yaxis": {
         "anchor": "x",
         "domain": [
          0,
          1
         ],
         "title": {
          "text": "Average item price and rating"
         }
        }
       }
      }
     },
     "metadata": {},
     "output_type": "display_data"
    }
   ],
   "source": [
    "# Uber Eats\n",
    "best_uber = cur.execute(\"\"\"\n",
    "SELECT rest_name, rating,\n",
    "ROUND(AVG(price), 2) AS avg_price\n",
    "FROM main.restaurants\n",
    "WHERE rating_count >= 10\n",
    "AND platform = 'UberEats'\n",
    "GROUP BY rest_id \n",
    "ORDER BY rating DESC, avg_price ASC\n",
    "LIMIT 3;\n",
    "            \"\"\")\n",
    "\n",
    "best_uber_df = pd.DataFrame(best_uber.fetchall(), columns=['Restaurant', 'Rating', 'Avg. item price €'])\n",
    "\n",
    "\n",
    "# plot\n",
    "best_takeaway_df_long = best_uber_df.melt(\n",
    "    id_vars=[\"Restaurant\"], \n",
    "    var_name=\"metric\",   \n",
    "    value_name=\"value\"   \n",
    ").sort_values(by='Restaurant')\n",
    "\n",
    "\n",
    "best_takeaway_df_fig = px.bar(\n",
    "    best_takeaway_df_long ,\n",
    "    height=500,\n",
    "    width=500,\n",
    "    orientation='v',\n",
    "    x='Restaurant',\n",
    "    y=\"value\",\n",
    "    color=\"metric\",  \n",
    "    barmode=\"group\",  \n",
    "    title=\"Best price-rating restaurants - Uber Eats\",\n",
    "    labels={\"value\": \"Average item price and rating\", \"platform_rest_name\": \"Best restaurant per platform\"},\n",
    "    text='value',\n",
    "    hover_data={\"Restaurant\": True, \"metric\": True, 'value': True},\n",
    "    color_discrete_sequence=['#87bba2', \"#55828b\"],\n",
    ")\n",
    "\n",
    "\n",
    "best_takeaway_df_fig.update_traces(\n",
    "    hovertemplate=\"<b>%{x}</b><br>%{y:.2f}<extra></extra>\",  \n",
    "    texttemplate=\"%{text:.2f}\", \n",
    "    textposition=\"inside\" \n",
    ")\n",
    "best_takeaway_df_fig.show()"
   ]
  },
  {
   "cell_type": "markdown",
   "metadata": {},
   "source": [
    "- Best price-ratio restaurant with 500+ reviews:"
   ]
  },
  {
   "cell_type": "code",
   "execution_count": 14,
   "metadata": {},
   "outputs": [
    {
     "data": {
      "text/plain": [
       "('Takeaway',\n",
       " 'De Echte Eethuis Carlos',\n",
       " 'Rating: 5.0',\n",
       " 'Rating count: 599',\n",
       " '€ 11.08')"
      ]
     },
     "execution_count": 14,
     "metadata": {},
     "output_type": "execute_result"
    }
   ],
   "source": [
    "# Uber Eats\n",
    "best_500 = cur.execute(\"\"\"\n",
    "SELECT platform, rest_name, \n",
    "'Rating: ' || rating, \n",
    "'Rating count: ' || CAST(rating_count AS INTEGER),\n",
    "'€ ' || ROUND(AVG(price), 2) AS avg_price\n",
    "FROM main.restaurants\n",
    "WHERE rating_count >= 500\n",
    "GROUP BY rest_id \n",
    "ORDER BY rating DESC, avg_price ASC\n",
    ";\n",
    "            \"\"\").fetchone()\n",
    "best_500"
   ]
  },
  {
   "cell_type": "markdown",
   "metadata": {},
   "source": [
    "### - How do delivery fees vary across platforms and locations? <br>\n",
    "The Uber Eats database does not contain information on the delivery fee, but we can still check the delivery fees for Deliveroo and Takeaway:"
   ]
  },
  {
   "cell_type": "code",
   "execution_count": 15,
   "metadata": {},
   "outputs": [
    {
     "name": "stdout",
     "output_type": "stream",
     "text": [
      "[('Deliveroo', 'Avg. delivery fee: € 4.98'), ('Takeaway', 'Avg. delivery fee: € 3.92')]\n"
     ]
    },
    {
     "data": {
      "application/vnd.plotly.v1+json": {
       "config": {
        "plotlyServerURL": "https://plot.ly"
       },
       "data": [
        {
         "alignmentgroup": "True",
         "hovertemplate": "<b>%{x}</b><br>Maximum Price: € %{y:.2f}<extra></extra>",
         "legendgroup": "Deliveroo",
         "marker": {
          "color": "#55828b",
          "pattern": {
           "shape": ""
          }
         },
         "name": "Deliveroo",
         "offsetgroup": "Deliveroo",
         "orientation": "h",
         "showlegend": true,
         "text": [
          4.98
         ],
         "textposition": "inside",
         "texttemplate": "€%{text:.2f}",
         "type": "bar",
         "x": [
          4.98
         ],
         "xaxis": "x",
         "y": [
          "Deliveroo"
         ],
         "yaxis": "y"
        },
        {
         "alignmentgroup": "True",
         "hovertemplate": "<b>%{x}</b><br>Maximum Price: € %{y:.2f}<extra></extra>",
         "legendgroup": "Takeaway",
         "marker": {
          "color": "#87bba2",
          "pattern": {
           "shape": ""
          }
         },
         "name": "Takeaway",
         "offsetgroup": "Takeaway",
         "orientation": "h",
         "showlegend": true,
         "text": [
          3.92
         ],
         "textposition": "inside",
         "texttemplate": "€%{text:.2f}",
         "type": "bar",
         "x": [
          3.92
         ],
         "xaxis": "x",
         "y": [
          "Takeaway"
         ],
         "yaxis": "y"
        }
       ],
       "layout": {
        "barmode": "relative",
        "height": 500,
        "legend": {
         "title": {
          "text": "Platform"
         },
         "tracegroupgap": 0
        },
        "template": {
         "data": {
          "bar": [
           {
            "error_x": {
             "color": "#2a3f5f"
            },
            "error_y": {
             "color": "#2a3f5f"
            },
            "marker": {
             "line": {
              "color": "#E5ECF6",
              "width": 0.5
             },
             "pattern": {
              "fillmode": "overlay",
              "size": 10,
              "solidity": 0.2
             }
            },
            "type": "bar"
           }
          ],
          "barpolar": [
           {
            "marker": {
             "line": {
              "color": "#E5ECF6",
              "width": 0.5
             },
             "pattern": {
              "fillmode": "overlay",
              "size": 10,
              "solidity": 0.2
             }
            },
            "type": "barpolar"
           }
          ],
          "carpet": [
           {
            "aaxis": {
             "endlinecolor": "#2a3f5f",
             "gridcolor": "white",
             "linecolor": "white",
             "minorgridcolor": "white",
             "startlinecolor": "#2a3f5f"
            },
            "baxis": {
             "endlinecolor": "#2a3f5f",
             "gridcolor": "white",
             "linecolor": "white",
             "minorgridcolor": "white",
             "startlinecolor": "#2a3f5f"
            },
            "type": "carpet"
           }
          ],
          "choropleth": [
           {
            "colorbar": {
             "outlinewidth": 0,
             "ticks": ""
            },
            "type": "choropleth"
           }
          ],
          "contour": [
           {
            "colorbar": {
             "outlinewidth": 0,
             "ticks": ""
            },
            "colorscale": [
             [
              0,
              "#0d0887"
             ],
             [
              0.1111111111111111,
              "#46039f"
             ],
             [
              0.2222222222222222,
              "#7201a8"
             ],
             [
              0.3333333333333333,
              "#9c179e"
             ],
             [
              0.4444444444444444,
              "#bd3786"
             ],
             [
              0.5555555555555556,
              "#d8576b"
             ],
             [
              0.6666666666666666,
              "#ed7953"
             ],
             [
              0.7777777777777778,
              "#fb9f3a"
             ],
             [
              0.8888888888888888,
              "#fdca26"
             ],
             [
              1,
              "#f0f921"
             ]
            ],
            "type": "contour"
           }
          ],
          "contourcarpet": [
           {
            "colorbar": {
             "outlinewidth": 0,
             "ticks": ""
            },
            "type": "contourcarpet"
           }
          ],
          "heatmap": [
           {
            "colorbar": {
             "outlinewidth": 0,
             "ticks": ""
            },
            "colorscale": [
             [
              0,
              "#0d0887"
             ],
             [
              0.1111111111111111,
              "#46039f"
             ],
             [
              0.2222222222222222,
              "#7201a8"
             ],
             [
              0.3333333333333333,
              "#9c179e"
             ],
             [
              0.4444444444444444,
              "#bd3786"
             ],
             [
              0.5555555555555556,
              "#d8576b"
             ],
             [
              0.6666666666666666,
              "#ed7953"
             ],
             [
              0.7777777777777778,
              "#fb9f3a"
             ],
             [
              0.8888888888888888,
              "#fdca26"
             ],
             [
              1,
              "#f0f921"
             ]
            ],
            "type": "heatmap"
           }
          ],
          "heatmapgl": [
           {
            "colorbar": {
             "outlinewidth": 0,
             "ticks": ""
            },
            "colorscale": [
             [
              0,
              "#0d0887"
             ],
             [
              0.1111111111111111,
              "#46039f"
             ],
             [
              0.2222222222222222,
              "#7201a8"
             ],
             [
              0.3333333333333333,
              "#9c179e"
             ],
             [
              0.4444444444444444,
              "#bd3786"
             ],
             [
              0.5555555555555556,
              "#d8576b"
             ],
             [
              0.6666666666666666,
              "#ed7953"
             ],
             [
              0.7777777777777778,
              "#fb9f3a"
             ],
             [
              0.8888888888888888,
              "#fdca26"
             ],
             [
              1,
              "#f0f921"
             ]
            ],
            "type": "heatmapgl"
           }
          ],
          "histogram": [
           {
            "marker": {
             "pattern": {
              "fillmode": "overlay",
              "size": 10,
              "solidity": 0.2
             }
            },
            "type": "histogram"
           }
          ],
          "histogram2d": [
           {
            "colorbar": {
             "outlinewidth": 0,
             "ticks": ""
            },
            "colorscale": [
             [
              0,
              "#0d0887"
             ],
             [
              0.1111111111111111,
              "#46039f"
             ],
             [
              0.2222222222222222,
              "#7201a8"
             ],
             [
              0.3333333333333333,
              "#9c179e"
             ],
             [
              0.4444444444444444,
              "#bd3786"
             ],
             [
              0.5555555555555556,
              "#d8576b"
             ],
             [
              0.6666666666666666,
              "#ed7953"
             ],
             [
              0.7777777777777778,
              "#fb9f3a"
             ],
             [
              0.8888888888888888,
              "#fdca26"
             ],
             [
              1,
              "#f0f921"
             ]
            ],
            "type": "histogram2d"
           }
          ],
          "histogram2dcontour": [
           {
            "colorbar": {
             "outlinewidth": 0,
             "ticks": ""
            },
            "colorscale": [
             [
              0,
              "#0d0887"
             ],
             [
              0.1111111111111111,
              "#46039f"
             ],
             [
              0.2222222222222222,
              "#7201a8"
             ],
             [
              0.3333333333333333,
              "#9c179e"
             ],
             [
              0.4444444444444444,
              "#bd3786"
             ],
             [
              0.5555555555555556,
              "#d8576b"
             ],
             [
              0.6666666666666666,
              "#ed7953"
             ],
             [
              0.7777777777777778,
              "#fb9f3a"
             ],
             [
              0.8888888888888888,
              "#fdca26"
             ],
             [
              1,
              "#f0f921"
             ]
            ],
            "type": "histogram2dcontour"
           }
          ],
          "mesh3d": [
           {
            "colorbar": {
             "outlinewidth": 0,
             "ticks": ""
            },
            "type": "mesh3d"
           }
          ],
          "parcoords": [
           {
            "line": {
             "colorbar": {
              "outlinewidth": 0,
              "ticks": ""
             }
            },
            "type": "parcoords"
           }
          ],
          "pie": [
           {
            "automargin": true,
            "type": "pie"
           }
          ],
          "scatter": [
           {
            "fillpattern": {
             "fillmode": "overlay",
             "size": 10,
             "solidity": 0.2
            },
            "type": "scatter"
           }
          ],
          "scatter3d": [
           {
            "line": {
             "colorbar": {
              "outlinewidth": 0,
              "ticks": ""
             }
            },
            "marker": {
             "colorbar": {
              "outlinewidth": 0,
              "ticks": ""
             }
            },
            "type": "scatter3d"
           }
          ],
          "scattercarpet": [
           {
            "marker": {
             "colorbar": {
              "outlinewidth": 0,
              "ticks": ""
             }
            },
            "type": "scattercarpet"
           }
          ],
          "scattergeo": [
           {
            "marker": {
             "colorbar": {
              "outlinewidth": 0,
              "ticks": ""
             }
            },
            "type": "scattergeo"
           }
          ],
          "scattergl": [
           {
            "marker": {
             "colorbar": {
              "outlinewidth": 0,
              "ticks": ""
             }
            },
            "type": "scattergl"
           }
          ],
          "scattermapbox": [
           {
            "marker": {
             "colorbar": {
              "outlinewidth": 0,
              "ticks": ""
             }
            },
            "type": "scattermapbox"
           }
          ],
          "scatterpolar": [
           {
            "marker": {
             "colorbar": {
              "outlinewidth": 0,
              "ticks": ""
             }
            },
            "type": "scatterpolar"
           }
          ],
          "scatterpolargl": [
           {
            "marker": {
             "colorbar": {
              "outlinewidth": 0,
              "ticks": ""
             }
            },
            "type": "scatterpolargl"
           }
          ],
          "scatterternary": [
           {
            "marker": {
             "colorbar": {
              "outlinewidth": 0,
              "ticks": ""
             }
            },
            "type": "scatterternary"
           }
          ],
          "surface": [
           {
            "colorbar": {
             "outlinewidth": 0,
             "ticks": ""
            },
            "colorscale": [
             [
              0,
              "#0d0887"
             ],
             [
              0.1111111111111111,
              "#46039f"
             ],
             [
              0.2222222222222222,
              "#7201a8"
             ],
             [
              0.3333333333333333,
              "#9c179e"
             ],
             [
              0.4444444444444444,
              "#bd3786"
             ],
             [
              0.5555555555555556,
              "#d8576b"
             ],
             [
              0.6666666666666666,
              "#ed7953"
             ],
             [
              0.7777777777777778,
              "#fb9f3a"
             ],
             [
              0.8888888888888888,
              "#fdca26"
             ],
             [
              1,
              "#f0f921"
             ]
            ],
            "type": "surface"
           }
          ],
          "table": [
           {
            "cells": {
             "fill": {
              "color": "#EBF0F8"
             },
             "line": {
              "color": "white"
             }
            },
            "header": {
             "fill": {
              "color": "#C8D4E3"
             },
             "line": {
              "color": "white"
             }
            },
            "type": "table"
           }
          ]
         },
         "layout": {
          "annotationdefaults": {
           "arrowcolor": "#2a3f5f",
           "arrowhead": 0,
           "arrowwidth": 1
          },
          "autotypenumbers": "strict",
          "coloraxis": {
           "colorbar": {
            "outlinewidth": 0,
            "ticks": ""
           }
          },
          "colorscale": {
           "diverging": [
            [
             0,
             "#8e0152"
            ],
            [
             0.1,
             "#c51b7d"
            ],
            [
             0.2,
             "#de77ae"
            ],
            [
             0.3,
             "#f1b6da"
            ],
            [
             0.4,
             "#fde0ef"
            ],
            [
             0.5,
             "#f7f7f7"
            ],
            [
             0.6,
             "#e6f5d0"
            ],
            [
             0.7,
             "#b8e186"
            ],
            [
             0.8,
             "#7fbc41"
            ],
            [
             0.9,
             "#4d9221"
            ],
            [
             1,
             "#276419"
            ]
           ],
           "sequential": [
            [
             0,
             "#0d0887"
            ],
            [
             0.1111111111111111,
             "#46039f"
            ],
            [
             0.2222222222222222,
             "#7201a8"
            ],
            [
             0.3333333333333333,
             "#9c179e"
            ],
            [
             0.4444444444444444,
             "#bd3786"
            ],
            [
             0.5555555555555556,
             "#d8576b"
            ],
            [
             0.6666666666666666,
             "#ed7953"
            ],
            [
             0.7777777777777778,
             "#fb9f3a"
            ],
            [
             0.8888888888888888,
             "#fdca26"
            ],
            [
             1,
             "#f0f921"
            ]
           ],
           "sequentialminus": [
            [
             0,
             "#0d0887"
            ],
            [
             0.1111111111111111,
             "#46039f"
            ],
            [
             0.2222222222222222,
             "#7201a8"
            ],
            [
             0.3333333333333333,
             "#9c179e"
            ],
            [
             0.4444444444444444,
             "#bd3786"
            ],
            [
             0.5555555555555556,
             "#d8576b"
            ],
            [
             0.6666666666666666,
             "#ed7953"
            ],
            [
             0.7777777777777778,
             "#fb9f3a"
            ],
            [
             0.8888888888888888,
             "#fdca26"
            ],
            [
             1,
             "#f0f921"
            ]
           ]
          },
          "colorway": [
           "#636efa",
           "#EF553B",
           "#00cc96",
           "#ab63fa",
           "#FFA15A",
           "#19d3f3",
           "#FF6692",
           "#B6E880",
           "#FF97FF",
           "#FECB52"
          ],
          "font": {
           "color": "#2a3f5f"
          },
          "geo": {
           "bgcolor": "white",
           "lakecolor": "white",
           "landcolor": "#E5ECF6",
           "showlakes": true,
           "showland": true,
           "subunitcolor": "white"
          },
          "hoverlabel": {
           "align": "left"
          },
          "hovermode": "closest",
          "mapbox": {
           "style": "light"
          },
          "paper_bgcolor": "white",
          "plot_bgcolor": "#E5ECF6",
          "polar": {
           "angularaxis": {
            "gridcolor": "white",
            "linecolor": "white",
            "ticks": ""
           },
           "bgcolor": "#E5ECF6",
           "radialaxis": {
            "gridcolor": "white",
            "linecolor": "white",
            "ticks": ""
           }
          },
          "scene": {
           "xaxis": {
            "backgroundcolor": "#E5ECF6",
            "gridcolor": "white",
            "gridwidth": 2,
            "linecolor": "white",
            "showbackground": true,
            "ticks": "",
            "zerolinecolor": "white"
           },
           "yaxis": {
            "backgroundcolor": "#E5ECF6",
            "gridcolor": "white",
            "gridwidth": 2,
            "linecolor": "white",
            "showbackground": true,
            "ticks": "",
            "zerolinecolor": "white"
           },
           "zaxis": {
            "backgroundcolor": "#E5ECF6",
            "gridcolor": "white",
            "gridwidth": 2,
            "linecolor": "white",
            "showbackground": true,
            "ticks": "",
            "zerolinecolor": "white"
           }
          },
          "shapedefaults": {
           "line": {
            "color": "#2a3f5f"
           }
          },
          "ternary": {
           "aaxis": {
            "gridcolor": "white",
            "linecolor": "white",
            "ticks": ""
           },
           "baxis": {
            "gridcolor": "white",
            "linecolor": "white",
            "ticks": ""
           },
           "bgcolor": "#E5ECF6",
           "caxis": {
            "gridcolor": "white",
            "linecolor": "white",
            "ticks": ""
           }
          },
          "title": {
           "x": 0.05
          },
          "xaxis": {
           "automargin": true,
           "gridcolor": "white",
           "linecolor": "white",
           "ticks": "",
           "title": {
            "standoff": 15
           },
           "zerolinecolor": "white",
           "zerolinewidth": 2
          },
          "yaxis": {
           "automargin": true,
           "gridcolor": "white",
           "linecolor": "white",
           "ticks": "",
           "title": {
            "standoff": 15
           },
           "zerolinecolor": "white",
           "zerolinewidth": 2
          }
         }
        },
        "title": {
         "text": "Average delivery fee by platform"
        },
        "width": 500,
        "xaxis": {
         "anchor": "y",
         "domain": [
          0,
          1
         ],
         "title": {
          "text": "Average delivery fee"
         }
        },
        "yaxis": {
         "anchor": "x",
         "categoryarray": [
          "Takeaway",
          "Deliveroo"
         ],
         "categoryorder": "array",
         "domain": [
          0,
          1
         ],
         "title": {
          "text": "Platform"
         }
        }
       }
      }
     },
     "metadata": {},
     "output_type": "display_data"
    }
   ],
   "source": [
    "ave_del_fees = cur.execute(\"\"\"\n",
    "SELECT platform, 'Avg. delivery fee: € ' || ROUND(AVG(delivery_fee), 2)\n",
    "FROM main.restaurants\n",
    "WHERE delivery_fee > 0\n",
    "GROUP BY platform\n",
    "\"\"\").fetchall()\n",
    "print(ave_del_fees)\n",
    "\n",
    "query = \"\"\"\n",
    "SELECT platform, ROUND(AVG(delivery_fee), 2)\n",
    "FROM main.restaurants\n",
    "WHERE delivery_fee > 0\n",
    "GROUP BY platform\n",
    "\"\"\"\n",
    "\n",
    "ave_del_fees_df = pd.DataFrame(cur.execute(query))\n",
    "ave_del_fees_df\n",
    "\n",
    "ave_del_fees_fig = px.bar(ave_del_fees_df, \n",
    "             x=1, \n",
    "             y=0, \n",
    "             orientation='h',\n",
    "             text = 1,\n",
    "             hover_data=[0, 1],\n",
    "             height = 500,\n",
    "             width = 500,\n",
    "             title=\"Average delivery fee by platform\",\n",
    "             labels={\"0\": \"Platform\", \"1\": \"Average delivery fee\", },\n",
    "             color_discrete_sequence=[\"#87bba2\"],\n",
    "             color=0, \n",
    "             color_discrete_map={\n",
    "            0: \"#87bba2\",      \n",
    "            1: \"#87bba2\",   \n",
    "            \"Deliveroo\": \"#55828b\"   \n",
    "            }\n",
    ")\n",
    "\n",
    "ave_del_fees_fig.update_traces(\n",
    "    hovertemplate=\"<b>%{x}</b><br>Maximum Price: € %{y:.2f}<extra></extra>\",  \n",
    "    texttemplate=\"€%{text:.2f}\",  \n",
    "    textposition=\"inside\"  \n",
    ")\n",
    "ave_del_fees_fig.show()"
   ]
  },
  {
   "cell_type": "code",
   "execution_count": 16,
   "metadata": {},
   "outputs": [
    {
     "data": {
      "application/vnd.plotly.v1+json": {
       "config": {
        "plotlyServerURL": "https://plot.ly"
       },
       "data": [
        {
         "alignmentgroup": "True",
         "hovertemplate": "<b>%{x}</b><br>Min fee: € %{x:.2f}<extra></extra>",
         "legendgroup": "Deliveroo",
         "marker": {
          "color": "#55828b",
          "pattern": {
           "shape": ""
          }
         },
         "name": "Deliveroo",
         "offsetgroup": "Deliveroo",
         "orientation": "h",
         "showlegend": true,
         "text": [
          0.01
         ],
         "textposition": "outside",
         "texttemplate": "€%{text:.2f}",
         "type": "bar",
         "x": [
          0.01
         ],
         "xaxis": "x",
         "y": [
          "Deliveroo"
         ],
         "yaxis": "y"
        },
        {
         "alignmentgroup": "True",
         "hovertemplate": "<b>%{x}</b><br>Min fee: € %{x:.2f}<extra></extra>",
         "legendgroup": "Takeaway",
         "marker": {
          "color": "#87bba2",
          "pattern": {
           "shape": ""
          }
         },
         "name": "Takeaway",
         "offsetgroup": "Takeaway",
         "orientation": "h",
         "showlegend": true,
         "text": [
          0.5
         ],
         "textposition": "outside",
         "texttemplate": "€%{text:.2f}",
         "type": "bar",
         "x": [
          0.5
         ],
         "xaxis": "x",
         "y": [
          "Takeaway"
         ],
         "yaxis": "y"
        }
       ],
       "layout": {
        "barmode": "relative",
        "height": 500,
        "legend": {
         "title": {
          "text": "Platform"
         },
         "tracegroupgap": 0
        },
        "template": {
         "data": {
          "bar": [
           {
            "error_x": {
             "color": "#2a3f5f"
            },
            "error_y": {
             "color": "#2a3f5f"
            },
            "marker": {
             "line": {
              "color": "#E5ECF6",
              "width": 0.5
             },
             "pattern": {
              "fillmode": "overlay",
              "size": 10,
              "solidity": 0.2
             }
            },
            "type": "bar"
           }
          ],
          "barpolar": [
           {
            "marker": {
             "line": {
              "color": "#E5ECF6",
              "width": 0.5
             },
             "pattern": {
              "fillmode": "overlay",
              "size": 10,
              "solidity": 0.2
             }
            },
            "type": "barpolar"
           }
          ],
          "carpet": [
           {
            "aaxis": {
             "endlinecolor": "#2a3f5f",
             "gridcolor": "white",
             "linecolor": "white",
             "minorgridcolor": "white",
             "startlinecolor": "#2a3f5f"
            },
            "baxis": {
             "endlinecolor": "#2a3f5f",
             "gridcolor": "white",
             "linecolor": "white",
             "minorgridcolor": "white",
             "startlinecolor": "#2a3f5f"
            },
            "type": "carpet"
           }
          ],
          "choropleth": [
           {
            "colorbar": {
             "outlinewidth": 0,
             "ticks": ""
            },
            "type": "choropleth"
           }
          ],
          "contour": [
           {
            "colorbar": {
             "outlinewidth": 0,
             "ticks": ""
            },
            "colorscale": [
             [
              0,
              "#0d0887"
             ],
             [
              0.1111111111111111,
              "#46039f"
             ],
             [
              0.2222222222222222,
              "#7201a8"
             ],
             [
              0.3333333333333333,
              "#9c179e"
             ],
             [
              0.4444444444444444,
              "#bd3786"
             ],
             [
              0.5555555555555556,
              "#d8576b"
             ],
             [
              0.6666666666666666,
              "#ed7953"
             ],
             [
              0.7777777777777778,
              "#fb9f3a"
             ],
             [
              0.8888888888888888,
              "#fdca26"
             ],
             [
              1,
              "#f0f921"
             ]
            ],
            "type": "contour"
           }
          ],
          "contourcarpet": [
           {
            "colorbar": {
             "outlinewidth": 0,
             "ticks": ""
            },
            "type": "contourcarpet"
           }
          ],
          "heatmap": [
           {
            "colorbar": {
             "outlinewidth": 0,
             "ticks": ""
            },
            "colorscale": [
             [
              0,
              "#0d0887"
             ],
             [
              0.1111111111111111,
              "#46039f"
             ],
             [
              0.2222222222222222,
              "#7201a8"
             ],
             [
              0.3333333333333333,
              "#9c179e"
             ],
             [
              0.4444444444444444,
              "#bd3786"
             ],
             [
              0.5555555555555556,
              "#d8576b"
             ],
             [
              0.6666666666666666,
              "#ed7953"
             ],
             [
              0.7777777777777778,
              "#fb9f3a"
             ],
             [
              0.8888888888888888,
              "#fdca26"
             ],
             [
              1,
              "#f0f921"
             ]
            ],
            "type": "heatmap"
           }
          ],
          "heatmapgl": [
           {
            "colorbar": {
             "outlinewidth": 0,
             "ticks": ""
            },
            "colorscale": [
             [
              0,
              "#0d0887"
             ],
             [
              0.1111111111111111,
              "#46039f"
             ],
             [
              0.2222222222222222,
              "#7201a8"
             ],
             [
              0.3333333333333333,
              "#9c179e"
             ],
             [
              0.4444444444444444,
              "#bd3786"
             ],
             [
              0.5555555555555556,
              "#d8576b"
             ],
             [
              0.6666666666666666,
              "#ed7953"
             ],
             [
              0.7777777777777778,
              "#fb9f3a"
             ],
             [
              0.8888888888888888,
              "#fdca26"
             ],
             [
              1,
              "#f0f921"
             ]
            ],
            "type": "heatmapgl"
           }
          ],
          "histogram": [
           {
            "marker": {
             "pattern": {
              "fillmode": "overlay",
              "size": 10,
              "solidity": 0.2
             }
            },
            "type": "histogram"
           }
          ],
          "histogram2d": [
           {
            "colorbar": {
             "outlinewidth": 0,
             "ticks": ""
            },
            "colorscale": [
             [
              0,
              "#0d0887"
             ],
             [
              0.1111111111111111,
              "#46039f"
             ],
             [
              0.2222222222222222,
              "#7201a8"
             ],
             [
              0.3333333333333333,
              "#9c179e"
             ],
             [
              0.4444444444444444,
              "#bd3786"
             ],
             [
              0.5555555555555556,
              "#d8576b"
             ],
             [
              0.6666666666666666,
              "#ed7953"
             ],
             [
              0.7777777777777778,
              "#fb9f3a"
             ],
             [
              0.8888888888888888,
              "#fdca26"
             ],
             [
              1,
              "#f0f921"
             ]
            ],
            "type": "histogram2d"
           }
          ],
          "histogram2dcontour": [
           {
            "colorbar": {
             "outlinewidth": 0,
             "ticks": ""
            },
            "colorscale": [
             [
              0,
              "#0d0887"
             ],
             [
              0.1111111111111111,
              "#46039f"
             ],
             [
              0.2222222222222222,
              "#7201a8"
             ],
             [
              0.3333333333333333,
              "#9c179e"
             ],
             [
              0.4444444444444444,
              "#bd3786"
             ],
             [
              0.5555555555555556,
              "#d8576b"
             ],
             [
              0.6666666666666666,
              "#ed7953"
             ],
             [
              0.7777777777777778,
              "#fb9f3a"
             ],
             [
              0.8888888888888888,
              "#fdca26"
             ],
             [
              1,
              "#f0f921"
             ]
            ],
            "type": "histogram2dcontour"
           }
          ],
          "mesh3d": [
           {
            "colorbar": {
             "outlinewidth": 0,
             "ticks": ""
            },
            "type": "mesh3d"
           }
          ],
          "parcoords": [
           {
            "line": {
             "colorbar": {
              "outlinewidth": 0,
              "ticks": ""
             }
            },
            "type": "parcoords"
           }
          ],
          "pie": [
           {
            "automargin": true,
            "type": "pie"
           }
          ],
          "scatter": [
           {
            "fillpattern": {
             "fillmode": "overlay",
             "size": 10,
             "solidity": 0.2
            },
            "type": "scatter"
           }
          ],
          "scatter3d": [
           {
            "line": {
             "colorbar": {
              "outlinewidth": 0,
              "ticks": ""
             }
            },
            "marker": {
             "colorbar": {
              "outlinewidth": 0,
              "ticks": ""
             }
            },
            "type": "scatter3d"
           }
          ],
          "scattercarpet": [
           {
            "marker": {
             "colorbar": {
              "outlinewidth": 0,
              "ticks": ""
             }
            },
            "type": "scattercarpet"
           }
          ],
          "scattergeo": [
           {
            "marker": {
             "colorbar": {
              "outlinewidth": 0,
              "ticks": ""
             }
            },
            "type": "scattergeo"
           }
          ],
          "scattergl": [
           {
            "marker": {
             "colorbar": {
              "outlinewidth": 0,
              "ticks": ""
             }
            },
            "type": "scattergl"
           }
          ],
          "scattermapbox": [
           {
            "marker": {
             "colorbar": {
              "outlinewidth": 0,
              "ticks": ""
             }
            },
            "type": "scattermapbox"
           }
          ],
          "scatterpolar": [
           {
            "marker": {
             "colorbar": {
              "outlinewidth": 0,
              "ticks": ""
             }
            },
            "type": "scatterpolar"
           }
          ],
          "scatterpolargl": [
           {
            "marker": {
             "colorbar": {
              "outlinewidth": 0,
              "ticks": ""
             }
            },
            "type": "scatterpolargl"
           }
          ],
          "scatterternary": [
           {
            "marker": {
             "colorbar": {
              "outlinewidth": 0,
              "ticks": ""
             }
            },
            "type": "scatterternary"
           }
          ],
          "surface": [
           {
            "colorbar": {
             "outlinewidth": 0,
             "ticks": ""
            },
            "colorscale": [
             [
              0,
              "#0d0887"
             ],
             [
              0.1111111111111111,
              "#46039f"
             ],
             [
              0.2222222222222222,
              "#7201a8"
             ],
             [
              0.3333333333333333,
              "#9c179e"
             ],
             [
              0.4444444444444444,
              "#bd3786"
             ],
             [
              0.5555555555555556,
              "#d8576b"
             ],
             [
              0.6666666666666666,
              "#ed7953"
             ],
             [
              0.7777777777777778,
              "#fb9f3a"
             ],
             [
              0.8888888888888888,
              "#fdca26"
             ],
             [
              1,
              "#f0f921"
             ]
            ],
            "type": "surface"
           }
          ],
          "table": [
           {
            "cells": {
             "fill": {
              "color": "#EBF0F8"
             },
             "line": {
              "color": "white"
             }
            },
            "header": {
             "fill": {
              "color": "#C8D4E3"
             },
             "line": {
              "color": "white"
             }
            },
            "type": "table"
           }
          ]
         },
         "layout": {
          "annotationdefaults": {
           "arrowcolor": "#2a3f5f",
           "arrowhead": 0,
           "arrowwidth": 1
          },
          "autotypenumbers": "strict",
          "coloraxis": {
           "colorbar": {
            "outlinewidth": 0,
            "ticks": ""
           }
          },
          "colorscale": {
           "diverging": [
            [
             0,
             "#8e0152"
            ],
            [
             0.1,
             "#c51b7d"
            ],
            [
             0.2,
             "#de77ae"
            ],
            [
             0.3,
             "#f1b6da"
            ],
            [
             0.4,
             "#fde0ef"
            ],
            [
             0.5,
             "#f7f7f7"
            ],
            [
             0.6,
             "#e6f5d0"
            ],
            [
             0.7,
             "#b8e186"
            ],
            [
             0.8,
             "#7fbc41"
            ],
            [
             0.9,
             "#4d9221"
            ],
            [
             1,
             "#276419"
            ]
           ],
           "sequential": [
            [
             0,
             "#0d0887"
            ],
            [
             0.1111111111111111,
             "#46039f"
            ],
            [
             0.2222222222222222,
             "#7201a8"
            ],
            [
             0.3333333333333333,
             "#9c179e"
            ],
            [
             0.4444444444444444,
             "#bd3786"
            ],
            [
             0.5555555555555556,
             "#d8576b"
            ],
            [
             0.6666666666666666,
             "#ed7953"
            ],
            [
             0.7777777777777778,
             "#fb9f3a"
            ],
            [
             0.8888888888888888,
             "#fdca26"
            ],
            [
             1,
             "#f0f921"
            ]
           ],
           "sequentialminus": [
            [
             0,
             "#0d0887"
            ],
            [
             0.1111111111111111,
             "#46039f"
            ],
            [
             0.2222222222222222,
             "#7201a8"
            ],
            [
             0.3333333333333333,
             "#9c179e"
            ],
            [
             0.4444444444444444,
             "#bd3786"
            ],
            [
             0.5555555555555556,
             "#d8576b"
            ],
            [
             0.6666666666666666,
             "#ed7953"
            ],
            [
             0.7777777777777778,
             "#fb9f3a"
            ],
            [
             0.8888888888888888,
             "#fdca26"
            ],
            [
             1,
             "#f0f921"
            ]
           ]
          },
          "colorway": [
           "#636efa",
           "#EF553B",
           "#00cc96",
           "#ab63fa",
           "#FFA15A",
           "#19d3f3",
           "#FF6692",
           "#B6E880",
           "#FF97FF",
           "#FECB52"
          ],
          "font": {
           "color": "#2a3f5f"
          },
          "geo": {
           "bgcolor": "white",
           "lakecolor": "white",
           "landcolor": "#E5ECF6",
           "showlakes": true,
           "showland": true,
           "subunitcolor": "white"
          },
          "hoverlabel": {
           "align": "left"
          },
          "hovermode": "closest",
          "mapbox": {
           "style": "light"
          },
          "paper_bgcolor": "white",
          "plot_bgcolor": "#E5ECF6",
          "polar": {
           "angularaxis": {
            "gridcolor": "white",
            "linecolor": "white",
            "ticks": ""
           },
           "bgcolor": "#E5ECF6",
           "radialaxis": {
            "gridcolor": "white",
            "linecolor": "white",
            "ticks": ""
           }
          },
          "scene": {
           "xaxis": {
            "backgroundcolor": "#E5ECF6",
            "gridcolor": "white",
            "gridwidth": 2,
            "linecolor": "white",
            "showbackground": true,
            "ticks": "",
            "zerolinecolor": "white"
           },
           "yaxis": {
            "backgroundcolor": "#E5ECF6",
            "gridcolor": "white",
            "gridwidth": 2,
            "linecolor": "white",
            "showbackground": true,
            "ticks": "",
            "zerolinecolor": "white"
           },
           "zaxis": {
            "backgroundcolor": "#E5ECF6",
            "gridcolor": "white",
            "gridwidth": 2,
            "linecolor": "white",
            "showbackground": true,
            "ticks": "",
            "zerolinecolor": "white"
           }
          },
          "shapedefaults": {
           "line": {
            "color": "#2a3f5f"
           }
          },
          "ternary": {
           "aaxis": {
            "gridcolor": "white",
            "linecolor": "white",
            "ticks": ""
           },
           "baxis": {
            "gridcolor": "white",
            "linecolor": "white",
            "ticks": ""
           },
           "bgcolor": "#E5ECF6",
           "caxis": {
            "gridcolor": "white",
            "linecolor": "white",
            "ticks": ""
           }
          },
          "title": {
           "x": 0.05
          },
          "xaxis": {
           "automargin": true,
           "gridcolor": "white",
           "linecolor": "white",
           "ticks": "",
           "title": {
            "standoff": 15
           },
           "zerolinecolor": "white",
           "zerolinewidth": 2
          },
          "yaxis": {
           "automargin": true,
           "gridcolor": "white",
           "linecolor": "white",
           "ticks": "",
           "title": {
            "standoff": 15
           },
           "zerolinecolor": "white",
           "zerolinewidth": 2
          }
         }
        },
        "title": {
         "text": "Minimum delivery fee per item"
        },
        "width": 500,
        "xaxis": {
         "anchor": "y",
         "domain": [
          0,
          1
         ],
         "title": {
          "text": " delivery fee"
         }
        },
        "yaxis": {
         "anchor": "x",
         "categoryarray": [
          "Takeaway",
          "Deliveroo"
         ],
         "categoryorder": "array",
         "domain": [
          0,
          1
         ],
         "title": {
          "text": "Platform"
         }
        }
       }
      }
     },
     "metadata": {},
     "output_type": "display_data"
    },
    {
     "data": {
      "application/vnd.plotly.v1+json": {
       "config": {
        "plotlyServerURL": "https://plot.ly"
       },
       "data": [
        {
         "alignmentgroup": "True",
         "hovertemplate": "<b>%{x}</b><br>Max fee: € %{x:.2f}<extra></extra>",
         "legendgroup": "Deliveroo",
         "marker": {
          "color": "#55828b",
          "pattern": {
           "shape": ""
          }
         },
         "name": "Deliveroo",
         "offsetgroup": "Deliveroo",
         "orientation": "h",
         "showlegend": true,
         "text": [
          10
         ],
         "textposition": "inside",
         "texttemplate": "€%{text:.2f}",
         "type": "bar",
         "x": [
          10
         ],
         "xaxis": "x",
         "y": [
          "Deliveroo"
         ],
         "yaxis": "y"
        },
        {
         "alignmentgroup": "True",
         "hovertemplate": "<b>%{x}</b><br>Max fee: € %{x:.2f}<extra></extra>",
         "legendgroup": "Takeaway",
         "marker": {
          "color": "#87bba2",
          "pattern": {
           "shape": ""
          }
         },
         "name": "Takeaway",
         "offsetgroup": "Takeaway",
         "orientation": "h",
         "showlegend": true,
         "text": [
          20
         ],
         "textposition": "inside",
         "texttemplate": "€%{text:.2f}",
         "type": "bar",
         "x": [
          20
         ],
         "xaxis": "x",
         "y": [
          "Takeaway"
         ],
         "yaxis": "y"
        }
       ],
       "layout": {
        "barmode": "relative",
        "height": 500,
        "legend": {
         "title": {
          "text": "Platform"
         },
         "tracegroupgap": 0
        },
        "template": {
         "data": {
          "bar": [
           {
            "error_x": {
             "color": "#2a3f5f"
            },
            "error_y": {
             "color": "#2a3f5f"
            },
            "marker": {
             "line": {
              "color": "#E5ECF6",
              "width": 0.5
             },
             "pattern": {
              "fillmode": "overlay",
              "size": 10,
              "solidity": 0.2
             }
            },
            "type": "bar"
           }
          ],
          "barpolar": [
           {
            "marker": {
             "line": {
              "color": "#E5ECF6",
              "width": 0.5
             },
             "pattern": {
              "fillmode": "overlay",
              "size": 10,
              "solidity": 0.2
             }
            },
            "type": "barpolar"
           }
          ],
          "carpet": [
           {
            "aaxis": {
             "endlinecolor": "#2a3f5f",
             "gridcolor": "white",
             "linecolor": "white",
             "minorgridcolor": "white",
             "startlinecolor": "#2a3f5f"
            },
            "baxis": {
             "endlinecolor": "#2a3f5f",
             "gridcolor": "white",
             "linecolor": "white",
             "minorgridcolor": "white",
             "startlinecolor": "#2a3f5f"
            },
            "type": "carpet"
           }
          ],
          "choropleth": [
           {
            "colorbar": {
             "outlinewidth": 0,
             "ticks": ""
            },
            "type": "choropleth"
           }
          ],
          "contour": [
           {
            "colorbar": {
             "outlinewidth": 0,
             "ticks": ""
            },
            "colorscale": [
             [
              0,
              "#0d0887"
             ],
             [
              0.1111111111111111,
              "#46039f"
             ],
             [
              0.2222222222222222,
              "#7201a8"
             ],
             [
              0.3333333333333333,
              "#9c179e"
             ],
             [
              0.4444444444444444,
              "#bd3786"
             ],
             [
              0.5555555555555556,
              "#d8576b"
             ],
             [
              0.6666666666666666,
              "#ed7953"
             ],
             [
              0.7777777777777778,
              "#fb9f3a"
             ],
             [
              0.8888888888888888,
              "#fdca26"
             ],
             [
              1,
              "#f0f921"
             ]
            ],
            "type": "contour"
           }
          ],
          "contourcarpet": [
           {
            "colorbar": {
             "outlinewidth": 0,
             "ticks": ""
            },
            "type": "contourcarpet"
           }
          ],
          "heatmap": [
           {
            "colorbar": {
             "outlinewidth": 0,
             "ticks": ""
            },
            "colorscale": [
             [
              0,
              "#0d0887"
             ],
             [
              0.1111111111111111,
              "#46039f"
             ],
             [
              0.2222222222222222,
              "#7201a8"
             ],
             [
              0.3333333333333333,
              "#9c179e"
             ],
             [
              0.4444444444444444,
              "#bd3786"
             ],
             [
              0.5555555555555556,
              "#d8576b"
             ],
             [
              0.6666666666666666,
              "#ed7953"
             ],
             [
              0.7777777777777778,
              "#fb9f3a"
             ],
             [
              0.8888888888888888,
              "#fdca26"
             ],
             [
              1,
              "#f0f921"
             ]
            ],
            "type": "heatmap"
           }
          ],
          "heatmapgl": [
           {
            "colorbar": {
             "outlinewidth": 0,
             "ticks": ""
            },
            "colorscale": [
             [
              0,
              "#0d0887"
             ],
             [
              0.1111111111111111,
              "#46039f"
             ],
             [
              0.2222222222222222,
              "#7201a8"
             ],
             [
              0.3333333333333333,
              "#9c179e"
             ],
             [
              0.4444444444444444,
              "#bd3786"
             ],
             [
              0.5555555555555556,
              "#d8576b"
             ],
             [
              0.6666666666666666,
              "#ed7953"
             ],
             [
              0.7777777777777778,
              "#fb9f3a"
             ],
             [
              0.8888888888888888,
              "#fdca26"
             ],
             [
              1,
              "#f0f921"
             ]
            ],
            "type": "heatmapgl"
           }
          ],
          "histogram": [
           {
            "marker": {
             "pattern": {
              "fillmode": "overlay",
              "size": 10,
              "solidity": 0.2
             }
            },
            "type": "histogram"
           }
          ],
          "histogram2d": [
           {
            "colorbar": {
             "outlinewidth": 0,
             "ticks": ""
            },
            "colorscale": [
             [
              0,
              "#0d0887"
             ],
             [
              0.1111111111111111,
              "#46039f"
             ],
             [
              0.2222222222222222,
              "#7201a8"
             ],
             [
              0.3333333333333333,
              "#9c179e"
             ],
             [
              0.4444444444444444,
              "#bd3786"
             ],
             [
              0.5555555555555556,
              "#d8576b"
             ],
             [
              0.6666666666666666,
              "#ed7953"
             ],
             [
              0.7777777777777778,
              "#fb9f3a"
             ],
             [
              0.8888888888888888,
              "#fdca26"
             ],
             [
              1,
              "#f0f921"
             ]
            ],
            "type": "histogram2d"
           }
          ],
          "histogram2dcontour": [
           {
            "colorbar": {
             "outlinewidth": 0,
             "ticks": ""
            },
            "colorscale": [
             [
              0,
              "#0d0887"
             ],
             [
              0.1111111111111111,
              "#46039f"
             ],
             [
              0.2222222222222222,
              "#7201a8"
             ],
             [
              0.3333333333333333,
              "#9c179e"
             ],
             [
              0.4444444444444444,
              "#bd3786"
             ],
             [
              0.5555555555555556,
              "#d8576b"
             ],
             [
              0.6666666666666666,
              "#ed7953"
             ],
             [
              0.7777777777777778,
              "#fb9f3a"
             ],
             [
              0.8888888888888888,
              "#fdca26"
             ],
             [
              1,
              "#f0f921"
             ]
            ],
            "type": "histogram2dcontour"
           }
          ],
          "mesh3d": [
           {
            "colorbar": {
             "outlinewidth": 0,
             "ticks": ""
            },
            "type": "mesh3d"
           }
          ],
          "parcoords": [
           {
            "line": {
             "colorbar": {
              "outlinewidth": 0,
              "ticks": ""
             }
            },
            "type": "parcoords"
           }
          ],
          "pie": [
           {
            "automargin": true,
            "type": "pie"
           }
          ],
          "scatter": [
           {
            "fillpattern": {
             "fillmode": "overlay",
             "size": 10,
             "solidity": 0.2
            },
            "type": "scatter"
           }
          ],
          "scatter3d": [
           {
            "line": {
             "colorbar": {
              "outlinewidth": 0,
              "ticks": ""
             }
            },
            "marker": {
             "colorbar": {
              "outlinewidth": 0,
              "ticks": ""
             }
            },
            "type": "scatter3d"
           }
          ],
          "scattercarpet": [
           {
            "marker": {
             "colorbar": {
              "outlinewidth": 0,
              "ticks": ""
             }
            },
            "type": "scattercarpet"
           }
          ],
          "scattergeo": [
           {
            "marker": {
             "colorbar": {
              "outlinewidth": 0,
              "ticks": ""
             }
            },
            "type": "scattergeo"
           }
          ],
          "scattergl": [
           {
            "marker": {
             "colorbar": {
              "outlinewidth": 0,
              "ticks": ""
             }
            },
            "type": "scattergl"
           }
          ],
          "scattermapbox": [
           {
            "marker": {
             "colorbar": {
              "outlinewidth": 0,
              "ticks": ""
             }
            },
            "type": "scattermapbox"
           }
          ],
          "scatterpolar": [
           {
            "marker": {
             "colorbar": {
              "outlinewidth": 0,
              "ticks": ""
             }
            },
            "type": "scatterpolar"
           }
          ],
          "scatterpolargl": [
           {
            "marker": {
             "colorbar": {
              "outlinewidth": 0,
              "ticks": ""
             }
            },
            "type": "scatterpolargl"
           }
          ],
          "scatterternary": [
           {
            "marker": {
             "colorbar": {
              "outlinewidth": 0,
              "ticks": ""
             }
            },
            "type": "scatterternary"
           }
          ],
          "surface": [
           {
            "colorbar": {
             "outlinewidth": 0,
             "ticks": ""
            },
            "colorscale": [
             [
              0,
              "#0d0887"
             ],
             [
              0.1111111111111111,
              "#46039f"
             ],
             [
              0.2222222222222222,
              "#7201a8"
             ],
             [
              0.3333333333333333,
              "#9c179e"
             ],
             [
              0.4444444444444444,
              "#bd3786"
             ],
             [
              0.5555555555555556,
              "#d8576b"
             ],
             [
              0.6666666666666666,
              "#ed7953"
             ],
             [
              0.7777777777777778,
              "#fb9f3a"
             ],
             [
              0.8888888888888888,
              "#fdca26"
             ],
             [
              1,
              "#f0f921"
             ]
            ],
            "type": "surface"
           }
          ],
          "table": [
           {
            "cells": {
             "fill": {
              "color": "#EBF0F8"
             },
             "line": {
              "color": "white"
             }
            },
            "header": {
             "fill": {
              "color": "#C8D4E3"
             },
             "line": {
              "color": "white"
             }
            },
            "type": "table"
           }
          ]
         },
         "layout": {
          "annotationdefaults": {
           "arrowcolor": "#2a3f5f",
           "arrowhead": 0,
           "arrowwidth": 1
          },
          "autotypenumbers": "strict",
          "coloraxis": {
           "colorbar": {
            "outlinewidth": 0,
            "ticks": ""
           }
          },
          "colorscale": {
           "diverging": [
            [
             0,
             "#8e0152"
            ],
            [
             0.1,
             "#c51b7d"
            ],
            [
             0.2,
             "#de77ae"
            ],
            [
             0.3,
             "#f1b6da"
            ],
            [
             0.4,
             "#fde0ef"
            ],
            [
             0.5,
             "#f7f7f7"
            ],
            [
             0.6,
             "#e6f5d0"
            ],
            [
             0.7,
             "#b8e186"
            ],
            [
             0.8,
             "#7fbc41"
            ],
            [
             0.9,
             "#4d9221"
            ],
            [
             1,
             "#276419"
            ]
           ],
           "sequential": [
            [
             0,
             "#0d0887"
            ],
            [
             0.1111111111111111,
             "#46039f"
            ],
            [
             0.2222222222222222,
             "#7201a8"
            ],
            [
             0.3333333333333333,
             "#9c179e"
            ],
            [
             0.4444444444444444,
             "#bd3786"
            ],
            [
             0.5555555555555556,
             "#d8576b"
            ],
            [
             0.6666666666666666,
             "#ed7953"
            ],
            [
             0.7777777777777778,
             "#fb9f3a"
            ],
            [
             0.8888888888888888,
             "#fdca26"
            ],
            [
             1,
             "#f0f921"
            ]
           ],
           "sequentialminus": [
            [
             0,
             "#0d0887"
            ],
            [
             0.1111111111111111,
             "#46039f"
            ],
            [
             0.2222222222222222,
             "#7201a8"
            ],
            [
             0.3333333333333333,
             "#9c179e"
            ],
            [
             0.4444444444444444,
             "#bd3786"
            ],
            [
             0.5555555555555556,
             "#d8576b"
            ],
            [
             0.6666666666666666,
             "#ed7953"
            ],
            [
             0.7777777777777778,
             "#fb9f3a"
            ],
            [
             0.8888888888888888,
             "#fdca26"
            ],
            [
             1,
             "#f0f921"
            ]
           ]
          },
          "colorway": [
           "#636efa",
           "#EF553B",
           "#00cc96",
           "#ab63fa",
           "#FFA15A",
           "#19d3f3",
           "#FF6692",
           "#B6E880",
           "#FF97FF",
           "#FECB52"
          ],
          "font": {
           "color": "#2a3f5f"
          },
          "geo": {
           "bgcolor": "white",
           "lakecolor": "white",
           "landcolor": "#E5ECF6",
           "showlakes": true,
           "showland": true,
           "subunitcolor": "white"
          },
          "hoverlabel": {
           "align": "left"
          },
          "hovermode": "closest",
          "mapbox": {
           "style": "light"
          },
          "paper_bgcolor": "white",
          "plot_bgcolor": "#E5ECF6",
          "polar": {
           "angularaxis": {
            "gridcolor": "white",
            "linecolor": "white",
            "ticks": ""
           },
           "bgcolor": "#E5ECF6",
           "radialaxis": {
            "gridcolor": "white",
            "linecolor": "white",
            "ticks": ""
           }
          },
          "scene": {
           "xaxis": {
            "backgroundcolor": "#E5ECF6",
            "gridcolor": "white",
            "gridwidth": 2,
            "linecolor": "white",
            "showbackground": true,
            "ticks": "",
            "zerolinecolor": "white"
           },
           "yaxis": {
            "backgroundcolor": "#E5ECF6",
            "gridcolor": "white",
            "gridwidth": 2,
            "linecolor": "white",
            "showbackground": true,
            "ticks": "",
            "zerolinecolor": "white"
           },
           "zaxis": {
            "backgroundcolor": "#E5ECF6",
            "gridcolor": "white",
            "gridwidth": 2,
            "linecolor": "white",
            "showbackground": true,
            "ticks": "",
            "zerolinecolor": "white"
           }
          },
          "shapedefaults": {
           "line": {
            "color": "#2a3f5f"
           }
          },
          "ternary": {
           "aaxis": {
            "gridcolor": "white",
            "linecolor": "white",
            "ticks": ""
           },
           "baxis": {
            "gridcolor": "white",
            "linecolor": "white",
            "ticks": ""
           },
           "bgcolor": "#E5ECF6",
           "caxis": {
            "gridcolor": "white",
            "linecolor": "white",
            "ticks": ""
           }
          },
          "title": {
           "x": 0.05
          },
          "xaxis": {
           "automargin": true,
           "gridcolor": "white",
           "linecolor": "white",
           "ticks": "",
           "title": {
            "standoff": 15
           },
           "zerolinecolor": "white",
           "zerolinewidth": 2
          },
          "yaxis": {
           "automargin": true,
           "gridcolor": "white",
           "linecolor": "white",
           "ticks": "",
           "title": {
            "standoff": 15
           },
           "zerolinecolor": "white",
           "zerolinewidth": 2
          }
         }
        },
        "title": {
         "text": "Maximum delivery fee per item"
        },
        "width": 500,
        "xaxis": {
         "anchor": "y",
         "domain": [
          0,
          1
         ],
         "title": {
          "text": " delivery fee"
         }
        },
        "yaxis": {
         "anchor": "x",
         "categoryarray": [
          "Takeaway",
          "Deliveroo"
         ],
         "categoryorder": "array",
         "domain": [
          0,
          1
         ],
         "title": {
          "text": "Platform"
         }
        }
       }
      }
     },
     "metadata": {},
     "output_type": "display_data"
    }
   ],
   "source": [
    "min_fees = cur.execute(\"\"\"\n",
    "SELECT platform, MIN(delivery_fee)\n",
    "FROM main.restaurants\n",
    "WHERE delivery_fee > 0\n",
    "GROUP BY platform;\n",
    "\"\"\").fetchall()\n",
    "\n",
    "max_fees = cur.execute(\"\"\"\n",
    "SELECT platform, MAX(delivery_fee)\n",
    "FROM main.restaurants\n",
    "WHERE delivery_fee > 0\n",
    "GROUP BY platform;\n",
    "\"\"\").fetchall()\n",
    "\n",
    "min_fees_df = pd.DataFrame(min_fees)\n",
    "max_fees_df = pd.DataFrame(max_fees)\n",
    "\n",
    "min_fees_fig = px.bar(min_fees_df, \n",
    "             x=1, \n",
    "             y=0, \n",
    "             orientation='h',\n",
    "             text = 1,\n",
    "             hover_data=[1],\n",
    "             height = 500,\n",
    "             width = 500,\n",
    "             title=\"Minimum delivery fee per item\",\n",
    "             labels={\"0\": \"Platform\", \"1\": \" delivery fee\", },\n",
    "             color_discrete_sequence=[\"#87bba2\"],\n",
    "             color=0, \n",
    "             color_discrete_map={\n",
    "            0: \"#87bba2\",      \n",
    "            1: \"#87bba2\",   \n",
    "            \"Deliveroo\": \"#55828b\"   \n",
    "            }\n",
    ")\n",
    "\n",
    "min_fees_fig.update_traces(\n",
    "    hovertemplate=\"<b>%{x}</b><br>Min fee: € %{x:.2f}<extra></extra>\",  \n",
    "    texttemplate=\"€%{text:.2f}\",  \n",
    "    textposition=\"outside\"  \n",
    ")\n",
    "min_fees_fig.show()\n",
    "\n",
    "max_fees_fig = px.bar(max_fees_df, \n",
    "             x=1, \n",
    "             y=0, \n",
    "             orientation='h',\n",
    "             text = 1,\n",
    "             hover_data=[1],\n",
    "             height = 500,\n",
    "             width = 500,\n",
    "             title=\"Maximum delivery fee per item\",\n",
    "             labels={\"0\": \"Platform\", \"1\": \" delivery fee\", },\n",
    "             color_discrete_sequence=[\"#87bba2\"],\n",
    "             color=0, \n",
    "             color_discrete_map={\n",
    "            0: \"#87bba2\",      \n",
    "            1: \"#87bba2\",   \n",
    "            \"Deliveroo\": \"#55828b\"   \n",
    "            }\n",
    ")\n",
    "\n",
    "max_fees_fig.update_traces(\n",
    "    hovertemplate=\"<b>%{x}</b><br>Max fee: € %{x:.2f}<extra></extra>\",  \n",
    "    texttemplate=\"€%{text:.2f}\",  \n",
    "    textposition=\"inside\"  \n",
    ")\n",
    "max_fees_fig.show()"
   ]
  },
  {
   "cell_type": "markdown",
   "metadata": {},
   "source": [
    "- Delivery fees by location "
   ]
  },
  {
   "cell_type": "code",
   "execution_count": 17,
   "metadata": {},
   "outputs": [
    {
     "data": {
      "text/plain": [
       "[('Hove', 0.5),\n",
       " ('Linkeroever', 0.9),\n",
       " ('Berlare', 1.0),\n",
       " ('Boechout', 1.0),\n",
       " ('Buggenhout', 1.0),\n",
       " ('De Haan', 1.0),\n",
       " ('De Klinge', 1.0),\n",
       " ('Kortenberg', 1.0),\n",
       " ('Lebbeke', 1.0),\n",
       " ('Niel', 1.0)]"
      ]
     },
     "execution_count": 17,
     "metadata": {},
     "output_type": "execute_result"
    }
   ],
   "source": [
    "cur.execute(\"\"\"SELECT city, ROUND(AVG(delivery_fee), 2) AS avg_fee\n",
    "            FROM main.restaurants\n",
    "            WHERE city IS NOT NULL AND delivery_fee > 0\n",
    "            GROUP BY city\n",
    "            ORDER by avg_fee\n",
    "            LIMIT 10 \"\"\").fetchall()"
   ]
  },
  {
   "cell_type": "code",
   "execution_count": 18,
   "metadata": {},
   "outputs": [],
   "source": [
    "data = cur.execute(\"\"\"SELECT * FROM main.restaurants\"\"\")\n",
    "df = pd.DataFrame(data.fetchall(), columns=[x[0] for x in data.description])"
   ]
  },
  {
   "cell_type": "code",
   "execution_count": 19,
   "metadata": {},
   "outputs": [
    {
     "data": {
      "text/html": [
       "<div>\n",
       "<style scoped>\n",
       "    .dataframe tbody tr th:only-of-type {\n",
       "        vertical-align: middle;\n",
       "    }\n",
       "\n",
       "    .dataframe tbody tr th {\n",
       "        vertical-align: top;\n",
       "    }\n",
       "\n",
       "    .dataframe thead th {\n",
       "        text-align: right;\n",
       "    }\n",
       "</style>\n",
       "<table border=\"1\" class=\"dataframe\">\n",
       "  <thead>\n",
       "    <tr style=\"text-align: right;\">\n",
       "      <th></th>\n",
       "      <th>city</th>\n",
       "      <th>delivery_fee</th>\n",
       "    </tr>\n",
       "  </thead>\n",
       "  <tbody>\n",
       "    <tr>\n",
       "      <th>1</th>\n",
       "      <td>Hove</td>\n",
       "      <td>0.5</td>\n",
       "    </tr>\n",
       "    <tr>\n",
       "      <th>2</th>\n",
       "      <td>Linkeroever</td>\n",
       "      <td>0.9</td>\n",
       "    </tr>\n",
       "    <tr>\n",
       "      <th>3</th>\n",
       "      <td>Boechout</td>\n",
       "      <td>1.0</td>\n",
       "    </tr>\n",
       "    <tr>\n",
       "      <th>4</th>\n",
       "      <td>Berlare</td>\n",
       "      <td>1.0</td>\n",
       "    </tr>\n",
       "    <tr>\n",
       "      <th>5</th>\n",
       "      <td>Buggenhout</td>\n",
       "      <td>1.0</td>\n",
       "    </tr>\n",
       "    <tr>\n",
       "      <th>6</th>\n",
       "      <td>Sint Niklaas</td>\n",
       "      <td>1.0</td>\n",
       "    </tr>\n",
       "    <tr>\n",
       "      <th>7</th>\n",
       "      <td>Termonde</td>\n",
       "      <td>1.0</td>\n",
       "    </tr>\n",
       "    <tr>\n",
       "      <th>8</th>\n",
       "      <td>Waasmunster</td>\n",
       "      <td>1.0</td>\n",
       "    </tr>\n",
       "    <tr>\n",
       "      <th>9</th>\n",
       "      <td>Niel</td>\n",
       "      <td>1.0</td>\n",
       "    </tr>\n",
       "    <tr>\n",
       "      <th>10</th>\n",
       "      <td>Lebbeke</td>\n",
       "      <td>1.0</td>\n",
       "    </tr>\n",
       "  </tbody>\n",
       "</table>\n",
       "</div>"
      ],
      "text/plain": [
       "            city  delivery_fee\n",
       "1           Hove           0.5\n",
       "2    Linkeroever           0.9\n",
       "3       Boechout           1.0\n",
       "4        Berlare           1.0\n",
       "5     Buggenhout           1.0\n",
       "6   Sint Niklaas           1.0\n",
       "7       Termonde           1.0\n",
       "8    Waasmunster           1.0\n",
       "9           Niel           1.0\n",
       "10       Lebbeke           1.0"
      ]
     },
     "execution_count": 19,
     "metadata": {},
     "output_type": "execute_result"
    }
   ],
   "source": [
    "#df = df.dropna(subset=['city'])\n",
    "fees = df[(df['delivery_fee'] > 0) & (df['city'].notnull())]\n",
    "delivery_fees = fees.groupby('city')['delivery_fee'].mean().sort_values().reset_index()\n",
    "delivery_fees.index = delivery_fees.index + 1 \n",
    "delivery_fees.head(10)"
   ]
  },
  {
   "cell_type": "code",
   "execution_count": 39,
   "metadata": {},
   "outputs": [
    {
     "data": {
      "application/vnd.plotly.v1+json": {
       "config": {
        "plotlyServerURL": "https://plot.ly"
       },
       "data": [
        {
         "cells": {
          "align": "center",
          "fill": {
           "color": "#87bba2"
          },
          "values": [
           [
            "Hove",
            "Linkeroever",
            "Boechout",
            "Berlare",
            "Buggenhout",
            "Sint Niklaas",
            "Termonde",
            "Waasmunster",
            "Niel",
            "Lebbeke"
           ],
           [
            0.5,
            0.9,
            1,
            1,
            1,
            1,
            1,
            1,
            1,
            1
           ]
          ]
         },
         "header": {
          "align": "center",
          "fill": {
           "color": "lightblue"
          },
          "values": [
           "city",
           "delivery_fee"
          ]
         },
         "type": "table"
        }
       ],
       "layout": {
        "height": 410,
        "template": {
         "data": {
          "bar": [
           {
            "error_x": {
             "color": "#2a3f5f"
            },
            "error_y": {
             "color": "#2a3f5f"
            },
            "marker": {
             "line": {
              "color": "#E5ECF6",
              "width": 0.5
             },
             "pattern": {
              "fillmode": "overlay",
              "size": 10,
              "solidity": 0.2
             }
            },
            "type": "bar"
           }
          ],
          "barpolar": [
           {
            "marker": {
             "line": {
              "color": "#E5ECF6",
              "width": 0.5
             },
             "pattern": {
              "fillmode": "overlay",
              "size": 10,
              "solidity": 0.2
             }
            },
            "type": "barpolar"
           }
          ],
          "carpet": [
           {
            "aaxis": {
             "endlinecolor": "#2a3f5f",
             "gridcolor": "white",
             "linecolor": "white",
             "minorgridcolor": "white",
             "startlinecolor": "#2a3f5f"
            },
            "baxis": {
             "endlinecolor": "#2a3f5f",
             "gridcolor": "white",
             "linecolor": "white",
             "minorgridcolor": "white",
             "startlinecolor": "#2a3f5f"
            },
            "type": "carpet"
           }
          ],
          "choropleth": [
           {
            "colorbar": {
             "outlinewidth": 0,
             "ticks": ""
            },
            "type": "choropleth"
           }
          ],
          "contour": [
           {
            "colorbar": {
             "outlinewidth": 0,
             "ticks": ""
            },
            "colorscale": [
             [
              0,
              "#0d0887"
             ],
             [
              0.1111111111111111,
              "#46039f"
             ],
             [
              0.2222222222222222,
              "#7201a8"
             ],
             [
              0.3333333333333333,
              "#9c179e"
             ],
             [
              0.4444444444444444,
              "#bd3786"
             ],
             [
              0.5555555555555556,
              "#d8576b"
             ],
             [
              0.6666666666666666,
              "#ed7953"
             ],
             [
              0.7777777777777778,
              "#fb9f3a"
             ],
             [
              0.8888888888888888,
              "#fdca26"
             ],
             [
              1,
              "#f0f921"
             ]
            ],
            "type": "contour"
           }
          ],
          "contourcarpet": [
           {
            "colorbar": {
             "outlinewidth": 0,
             "ticks": ""
            },
            "type": "contourcarpet"
           }
          ],
          "heatmap": [
           {
            "colorbar": {
             "outlinewidth": 0,
             "ticks": ""
            },
            "colorscale": [
             [
              0,
              "#0d0887"
             ],
             [
              0.1111111111111111,
              "#46039f"
             ],
             [
              0.2222222222222222,
              "#7201a8"
             ],
             [
              0.3333333333333333,
              "#9c179e"
             ],
             [
              0.4444444444444444,
              "#bd3786"
             ],
             [
              0.5555555555555556,
              "#d8576b"
             ],
             [
              0.6666666666666666,
              "#ed7953"
             ],
             [
              0.7777777777777778,
              "#fb9f3a"
             ],
             [
              0.8888888888888888,
              "#fdca26"
             ],
             [
              1,
              "#f0f921"
             ]
            ],
            "type": "heatmap"
           }
          ],
          "heatmapgl": [
           {
            "colorbar": {
             "outlinewidth": 0,
             "ticks": ""
            },
            "colorscale": [
             [
              0,
              "#0d0887"
             ],
             [
              0.1111111111111111,
              "#46039f"
             ],
             [
              0.2222222222222222,
              "#7201a8"
             ],
             [
              0.3333333333333333,
              "#9c179e"
             ],
             [
              0.4444444444444444,
              "#bd3786"
             ],
             [
              0.5555555555555556,
              "#d8576b"
             ],
             [
              0.6666666666666666,
              "#ed7953"
             ],
             [
              0.7777777777777778,
              "#fb9f3a"
             ],
             [
              0.8888888888888888,
              "#fdca26"
             ],
             [
              1,
              "#f0f921"
             ]
            ],
            "type": "heatmapgl"
           }
          ],
          "histogram": [
           {
            "marker": {
             "pattern": {
              "fillmode": "overlay",
              "size": 10,
              "solidity": 0.2
             }
            },
            "type": "histogram"
           }
          ],
          "histogram2d": [
           {
            "colorbar": {
             "outlinewidth": 0,
             "ticks": ""
            },
            "colorscale": [
             [
              0,
              "#0d0887"
             ],
             [
              0.1111111111111111,
              "#46039f"
             ],
             [
              0.2222222222222222,
              "#7201a8"
             ],
             [
              0.3333333333333333,
              "#9c179e"
             ],
             [
              0.4444444444444444,
              "#bd3786"
             ],
             [
              0.5555555555555556,
              "#d8576b"
             ],
             [
              0.6666666666666666,
              "#ed7953"
             ],
             [
              0.7777777777777778,
              "#fb9f3a"
             ],
             [
              0.8888888888888888,
              "#fdca26"
             ],
             [
              1,
              "#f0f921"
             ]
            ],
            "type": "histogram2d"
           }
          ],
          "histogram2dcontour": [
           {
            "colorbar": {
             "outlinewidth": 0,
             "ticks": ""
            },
            "colorscale": [
             [
              0,
              "#0d0887"
             ],
             [
              0.1111111111111111,
              "#46039f"
             ],
             [
              0.2222222222222222,
              "#7201a8"
             ],
             [
              0.3333333333333333,
              "#9c179e"
             ],
             [
              0.4444444444444444,
              "#bd3786"
             ],
             [
              0.5555555555555556,
              "#d8576b"
             ],
             [
              0.6666666666666666,
              "#ed7953"
             ],
             [
              0.7777777777777778,
              "#fb9f3a"
             ],
             [
              0.8888888888888888,
              "#fdca26"
             ],
             [
              1,
              "#f0f921"
             ]
            ],
            "type": "histogram2dcontour"
           }
          ],
          "mesh3d": [
           {
            "colorbar": {
             "outlinewidth": 0,
             "ticks": ""
            },
            "type": "mesh3d"
           }
          ],
          "parcoords": [
           {
            "line": {
             "colorbar": {
              "outlinewidth": 0,
              "ticks": ""
             }
            },
            "type": "parcoords"
           }
          ],
          "pie": [
           {
            "automargin": true,
            "type": "pie"
           }
          ],
          "scatter": [
           {
            "fillpattern": {
             "fillmode": "overlay",
             "size": 10,
             "solidity": 0.2
            },
            "type": "scatter"
           }
          ],
          "scatter3d": [
           {
            "line": {
             "colorbar": {
              "outlinewidth": 0,
              "ticks": ""
             }
            },
            "marker": {
             "colorbar": {
              "outlinewidth": 0,
              "ticks": ""
             }
            },
            "type": "scatter3d"
           }
          ],
          "scattercarpet": [
           {
            "marker": {
             "colorbar": {
              "outlinewidth": 0,
              "ticks": ""
             }
            },
            "type": "scattercarpet"
           }
          ],
          "scattergeo": [
           {
            "marker": {
             "colorbar": {
              "outlinewidth": 0,
              "ticks": ""
             }
            },
            "type": "scattergeo"
           }
          ],
          "scattergl": [
           {
            "marker": {
             "colorbar": {
              "outlinewidth": 0,
              "ticks": ""
             }
            },
            "type": "scattergl"
           }
          ],
          "scattermapbox": [
           {
            "marker": {
             "colorbar": {
              "outlinewidth": 0,
              "ticks": ""
             }
            },
            "type": "scattermapbox"
           }
          ],
          "scatterpolar": [
           {
            "marker": {
             "colorbar": {
              "outlinewidth": 0,
              "ticks": ""
             }
            },
            "type": "scatterpolar"
           }
          ],
          "scatterpolargl": [
           {
            "marker": {
             "colorbar": {
              "outlinewidth": 0,
              "ticks": ""
             }
            },
            "type": "scatterpolargl"
           }
          ],
          "scatterternary": [
           {
            "marker": {
             "colorbar": {
              "outlinewidth": 0,
              "ticks": ""
             }
            },
            "type": "scatterternary"
           }
          ],
          "surface": [
           {
            "colorbar": {
             "outlinewidth": 0,
             "ticks": ""
            },
            "colorscale": [
             [
              0,
              "#0d0887"
             ],
             [
              0.1111111111111111,
              "#46039f"
             ],
             [
              0.2222222222222222,
              "#7201a8"
             ],
             [
              0.3333333333333333,
              "#9c179e"
             ],
             [
              0.4444444444444444,
              "#bd3786"
             ],
             [
              0.5555555555555556,
              "#d8576b"
             ],
             [
              0.6666666666666666,
              "#ed7953"
             ],
             [
              0.7777777777777778,
              "#fb9f3a"
             ],
             [
              0.8888888888888888,
              "#fdca26"
             ],
             [
              1,
              "#f0f921"
             ]
            ],
            "type": "surface"
           }
          ],
          "table": [
           {
            "cells": {
             "fill": {
              "color": "#EBF0F8"
             },
             "line": {
              "color": "white"
             }
            },
            "header": {
             "fill": {
              "color": "#C8D4E3"
             },
             "line": {
              "color": "white"
             }
            },
            "type": "table"
           }
          ]
         },
         "layout": {
          "annotationdefaults": {
           "arrowcolor": "#2a3f5f",
           "arrowhead": 0,
           "arrowwidth": 1
          },
          "autotypenumbers": "strict",
          "coloraxis": {
           "colorbar": {
            "outlinewidth": 0,
            "ticks": ""
           }
          },
          "colorscale": {
           "diverging": [
            [
             0,
             "#8e0152"
            ],
            [
             0.1,
             "#c51b7d"
            ],
            [
             0.2,
             "#de77ae"
            ],
            [
             0.3,
             "#f1b6da"
            ],
            [
             0.4,
             "#fde0ef"
            ],
            [
             0.5,
             "#f7f7f7"
            ],
            [
             0.6,
             "#e6f5d0"
            ],
            [
             0.7,
             "#b8e186"
            ],
            [
             0.8,
             "#7fbc41"
            ],
            [
             0.9,
             "#4d9221"
            ],
            [
             1,
             "#276419"
            ]
           ],
           "sequential": [
            [
             0,
             "#0d0887"
            ],
            [
             0.1111111111111111,
             "#46039f"
            ],
            [
             0.2222222222222222,
             "#7201a8"
            ],
            [
             0.3333333333333333,
             "#9c179e"
            ],
            [
             0.4444444444444444,
             "#bd3786"
            ],
            [
             0.5555555555555556,
             "#d8576b"
            ],
            [
             0.6666666666666666,
             "#ed7953"
            ],
            [
             0.7777777777777778,
             "#fb9f3a"
            ],
            [
             0.8888888888888888,
             "#fdca26"
            ],
            [
             1,
             "#f0f921"
            ]
           ],
           "sequentialminus": [
            [
             0,
             "#0d0887"
            ],
            [
             0.1111111111111111,
             "#46039f"
            ],
            [
             0.2222222222222222,
             "#7201a8"
            ],
            [
             0.3333333333333333,
             "#9c179e"
            ],
            [
             0.4444444444444444,
             "#bd3786"
            ],
            [
             0.5555555555555556,
             "#d8576b"
            ],
            [
             0.6666666666666666,
             "#ed7953"
            ],
            [
             0.7777777777777778,
             "#fb9f3a"
            ],
            [
             0.8888888888888888,
             "#fdca26"
            ],
            [
             1,
             "#f0f921"
            ]
           ]
          },
          "colorway": [
           "#636efa",
           "#EF553B",
           "#00cc96",
           "#ab63fa",
           "#FFA15A",
           "#19d3f3",
           "#FF6692",
           "#B6E880",
           "#FF97FF",
           "#FECB52"
          ],
          "font": {
           "color": "#2a3f5f"
          },
          "geo": {
           "bgcolor": "white",
           "lakecolor": "white",
           "landcolor": "#E5ECF6",
           "showlakes": true,
           "showland": true,
           "subunitcolor": "white"
          },
          "hoverlabel": {
           "align": "left"
          },
          "hovermode": "closest",
          "mapbox": {
           "style": "light"
          },
          "paper_bgcolor": "white",
          "plot_bgcolor": "#E5ECF6",
          "polar": {
           "angularaxis": {
            "gridcolor": "white",
            "linecolor": "white",
            "ticks": ""
           },
           "bgcolor": "#E5ECF6",
           "radialaxis": {
            "gridcolor": "white",
            "linecolor": "white",
            "ticks": ""
           }
          },
          "scene": {
           "xaxis": {
            "backgroundcolor": "#E5ECF6",
            "gridcolor": "white",
            "gridwidth": 2,
            "linecolor": "white",
            "showbackground": true,
            "ticks": "",
            "zerolinecolor": "white"
           },
           "yaxis": {
            "backgroundcolor": "#E5ECF6",
            "gridcolor": "white",
            "gridwidth": 2,
            "linecolor": "white",
            "showbackground": true,
            "ticks": "",
            "zerolinecolor": "white"
           },
           "zaxis": {
            "backgroundcolor": "#E5ECF6",
            "gridcolor": "white",
            "gridwidth": 2,
            "linecolor": "white",
            "showbackground": true,
            "ticks": "",
            "zerolinecolor": "white"
           }
          },
          "shapedefaults": {
           "line": {
            "color": "#2a3f5f"
           }
          },
          "ternary": {
           "aaxis": {
            "gridcolor": "white",
            "linecolor": "white",
            "ticks": ""
           },
           "baxis": {
            "gridcolor": "white",
            "linecolor": "white",
            "ticks": ""
           },
           "bgcolor": "#E5ECF6",
           "caxis": {
            "gridcolor": "white",
            "linecolor": "white",
            "ticks": ""
           }
          },
          "title": {
           "x": 0.05
          },
          "xaxis": {
           "automargin": true,
           "gridcolor": "white",
           "linecolor": "white",
           "ticks": "",
           "title": {
            "standoff": 15
           },
           "zerolinecolor": "white",
           "zerolinewidth": 2
          },
          "yaxis": {
           "automargin": true,
           "gridcolor": "white",
           "linecolor": "white",
           "ticks": "",
           "title": {
            "standoff": 15
           },
           "zerolinecolor": "white",
           "zerolinewidth": 2
          }
         }
        },
        "title": {
         "text": "Cities with lowest average delivery fee"
        },
        "width": 400
       }
      }
     },
     "metadata": {},
     "output_type": "display_data"
    }
   ],
   "source": [
    "fig = go.Figure(data=[go.Table(\n",
    "    header=dict(values=list(delivery_fees.columns),\n",
    "                fill_color='lightblue',\n",
    "                align='center',),\n",
    "    cells=dict(values=[delivery_fees[col].head(10) for col in delivery_fees.columns],\n",
    "               fill_color='#87bba2',\n",
    "               align='center')),\n",
    "               \n",
    "])\n",
    "\n",
    "fig.update_layout(\n",
    "    width=400,  \n",
    "    height=410,\n",
    "    title = \"Cities with lowest average delivery fee\" \n",
    ")\n",
    "# Show the table\n",
    "fig.show()"
   ]
  },
  {
   "cell_type": "markdown",
   "metadata": {},
   "source": [
    "- Map locations offering kapsalons and their average price."
   ]
  },
  {
   "cell_type": "code",
   "execution_count": 21,
   "metadata": {},
   "outputs": [],
   "source": [
    "kapsalon = \"\"\"\n",
    "SELECT rest_name, latitude, longitude, ROUND(AVG(price),2) AS avg_ks_price\n",
    "FROM main.restaurants\n",
    "WHERE item_name LIKE '%Kapsalon%'\n",
    "GROUP BY rest_id\n",
    "ORDER BY rest_name;\n",
    "   \"\"\""
   ]
  },
  {
   "cell_type": "code",
   "execution_count": 22,
   "metadata": {},
   "outputs": [],
   "source": [
    "kapsalon_df = pd.DataFrame(cur.execute(kapsalon).fetchall(), columns= [x[0] for x in cur.execute(kapsalon).description])"
   ]
  },
  {
   "cell_type": "code",
   "execution_count": 23,
   "metadata": {},
   "outputs": [],
   "source": [
    "kapsalon_data = cur.execute(kapsalon).fetchall()\n",
    "\n",
    "rest_names = [row[0] for row in kapsalon_data]\n",
    "latitudes = [row[1] for row in kapsalon_data]\n",
    "longitudes = [row[2] for row in kapsalon_data]\n",
    "avg_kp_price = [row[3] for row in kapsalon_data]"
   ]
  },
  {
   "cell_type": "code",
   "execution_count": 24,
   "metadata": {},
   "outputs": [
    {
     "data": {
      "application/vnd.plotly.v1+json": {
       "config": {
        "plotlyServerURL": "https://plot.ly"
       },
       "data": [
        {
         "hoverinfo": "text",
         "lat": [
          51.2190249,
          50.9292419,
          51.2976457,
          51.161182,
          51.2421,
          50.7841913,
          51.0258352,
          51.2124675,
          51.293016,
          51.1967036,
          51.1746364,
          51.21978,
          50.868771,
          50.8465692,
          50.868771,
          51.250926,
          51.0290669,
          51.0291061,
          51.0290669,
          51.20943,
          51.3787817,
          50.90692,
          51.2226074,
          50.8769268,
          51.037434,
          50.8385187,
          50.9330042,
          50.9380499,
          50.9115883,
          51.0782718,
          50.8788881,
          51.0763479,
          50.8788873,
          51.0185386,
          51.1344772,
          50.77303,
          50.8789029,
          50.8078796,
          50.98028,
          51.018564,
          51.219015,
          50.9935446,
          50.9935238,
          50.9935263,
          50.9802545,
          50.98023200000001,
          51.06086519999999,
          51.3015694,
          51.21913,
          51.0864141,
          50.7712832,
          51.1785685,
          51.3342494,
          51.4678223,
          51.215942,
          51.112926,
          51.1652283,
          50.86883,
          51.2950518,
          51.1162628,
          51.1829676,
          51.29501,
          50.986765,
          51.0280462,
          51.2514972,
          51.17458,
          51.3960999,
          51.0673158,
          51.1166965,
          51.0402795,
          51.0402796,
          50.9073594,
          51.2245941,
          51.1948087,
          51.0217628,
          51.2220568,
          51.221695,
          51.2219602,
          51.2198579,
          50.9100396,
          51.31398,
          51.2076757,
          51.20767739999999,
          50.8116006,
          51.1326595,
          51.072137,
          51.060475,
          51.199245,
          50.8595094,
          50.93336,
          50.87795,
          50.8779438,
          51.1710139,
          51.06056,
          51.060491,
          51.028309,
          51.1728415,
          51.1210878,
          51.1652144,
          51.1299453,
          51.0673327,
          51.2257173,
          51.19835,
          51.0588082,
          51.2131824,
          51.1676609,
          51.2788573,
          51.27883,
          51.2075049,
          50.7713494,
          50.7713494,
          50.7710849,
          50.8355777,
          50.83558,
          50.8574331,
          51.232577,
          51.2325423,
          50.8920932,
          51.2245014,
          51.2028147,
          51.20259,
          51.224524,
          51.22443,
          50.94920579999999,
          51.20124,
          51.2036366,
          51.20364,
          50.8753181,
          51.1038132,
          50.816322,
          50.9672032,
          50.8897114,
          50.93069190000001,
          51.1793005,
          51.1764672,
          51.31533,
          51.3153417,
          50.9304853,
          51.2100923,
          51.2100923,
          51.2075496,
          51.2076333,
          51.061226,
          50.9886723,
          50.9333642,
          51.060844,
          50.8260794,
          51.2146721,
          51.0416276,
          51.2250618,
          51.2250618,
          50.9429437,
          50.9429785,
          51.0058452,
          51.2180687,
          50.9658811,
          50.96793,
          50.9933773,
          51.0429,
          51.042915,
          51.0567325,
          50.9912688,
          50.87349,
          51.2438076,
          51.1410312,
          50.8686357,
          50.86795,
          51.21951,
          51.2194223,
          51.1726832,
          51.04166,
          51.0416463,
          51.1988853,
          50.8669031,
          50.83326,
          50.8332944,
          50.98085,
          51.227137,
          50.8559926,
          50.9008,
          51.13044,
          51.027973,
          50.7871651,
          50.7871592,
          50.7871651,
          51.2203,
          51.2110818,
          51.2110818,
          51.2207499,
          51.2208174,
          50.8773949,
          50.8773949,
          51.2207499,
          50.8505236,
          51.0524419,
          51.0023083,
          51.2191013,
          50.9092739,
          51.20939,
          51.0372686,
          50.87566,
          50.8756293,
          50.8756293,
          50.90793,
          51.1785108,
          51.33266,
          51.33258,
          51.0905238,
          51.2078277,
          50.8984698,
          51.05751,
          51.06969,
          51.0698019,
          51.0599073,
          51.17092,
          51.170444,
          50.7526979,
          51.0316401,
          51.2489808,
          51.24829,
          51.24508,
          50.93823,
          51.1968333,
          51.1968244,
          51.1969691656475,
          51.252831,
          51.0954102,
          51.11423,
          51.2220515,
          51.11452,
          50.8475034,
          50.8067955,
          51.21824,
          51.2221673,
          51.2181571,
          51.2181348,
          50.79381,
          50.7937035,
          51.0297439,
          50.9911311,
          50.9075832,
          51.3915605,
          51.3937523,
          50.8904648,
          51.0347288,
          51.0526079,
          51.1811525,
          51.2321067,
          51.2317153,
          50.925994,
          51.3141468,
          51.0320949,
          51.2259261,
          50.8487033,
          50.9426912,
          50.8221402,
          51.09329,
          51.093322,
          50.8228108,
          51.0388933,
          51.21175,
          50.9477982,
          51.080901,
          50.8042765,
          51.1788669,
          51.1310196,
          51.319332,
          51.1841675,
          51.18412,
          51.1615063,
          50.8895158,
          51.219894,
          51.3109921,
          50.8901089,
          50.9798127,
          51.18691,
          51.1873243,
          50.988972,
          51.02239,
          51.0224244,
          51.2222301,
          50.9411841,
          50.9412639,
          50.9313569,
          51.1318678,
          51.2409064,
          51.24087,
          51.1706303,
          51.22599,
          51.1287558,
          51.1994999,
          50.8577828,
          51.027906,
          50.949074,
          50.8992074,
          51.0405731,
          51.04086,
          50.8766627,
          51.2187238,
          51.0284808,
          51.02844,
          51.3557804,
          51.019872,
          51.2234184,
          50.8455292,
          50.8004216,
          50.8899295,
          50.94172,
          51.036934,
          50.93254,
          50.9325605,
          50.8107376,
          50.8448432,
          51.1620708,
          51.24035,
          50.8529716,
          50.8860058,
          50.8952141,
          50.89521,
          51.0407393,
          51.2110179,
          51.2329817,
          51.216785,
          50.95023,
          50.81315130000001,
          50.9811288,
          51.171145,
          51.2003843,
          51.2003641,
          51.200447,
          51.0730633,
          51.2141448,
          51.0370599,
          50.96179,
          50.912605,
          50.7315003,
          51.0391266,
          51.2137655,
          51.213764,
          51.1321495,
          51.0405731,
          51.0415614,
          50.9413006,
          51.2102952,
          51.1992501,
          50.8974472,
          51.2329817,
          51.13211,
          50.8605512,
          50.87174,
          51.219154,
          51.19642,
          51.196372,
          51.196373,
          51.2818,
          51.2464296,
          51.0566182,
          51.05668,
          51.200648,
          51.1852106,
          51.22195439999999,
          51.22202,
          51.0967684,
          50.8820908,
          50.88357,
          50.9642271,
          50.877283,
          50.8771943,
          50.8066648,
          51.050273,
          50.8820908,
          50.8502978,
          50.9311393,
          51.15627,
          51.050273,
          50.8701862,
          50.9496493,
          50.8479888,
          51.0514672,
          50.8055699,
          50.8580323,
          50.8310437,
          51.3214973,
          51.32141,
          50.9301263,
          51.0567129,
          51.0306176,
          51.0756262,
          51.1745451,
          50.8771289,
          51.3200678,
          51.037051,
          50.992436,
          51.0579276,
          51.16082,
          51.23214,
          51.1618789,
          51.1311405,
          51.1447208,
          51.1163805,
          51.2203373,
          50.86166,
          51.2329328,
          50.9896628,
          51.20393,
          51.2038924,
          51.203775,
          51.4281673,
          51.1672968,
          51.16056,
          50.8788052,
          51.1609827,
          51.2190487,
          51.2191061,
          50.9909538,
          51.1321422,
          50.9755102,
          50.97528,
          50.8788052,
          51.28356,
          51.2798399,
          50.9493699,
          51.232292,
          51.2545203,
          50.9664556,
          50.9666456,
          51.18477,
          51.1336097,
          50.82957,
          51.0391626,
          50.8678838,
          50.8686357,
          50.84443,
          51.229379,
          51.2094928,
          51.0288925,
          51.0290797,
          51.0448385,
          51.0448154,
          50.920294,
          0,
          50.8254856,
          50.8813682,
          51.1021044,
          50.88036899999999,
          50.8803556,
          51.2132023,
          51.226,
          51.20393,
          51.05631,
          51.0497458,
          51.0497458,
          50.9369842,
          50.9370516,
          50.9369842,
          51.232254,
          50.929356,
          0,
          51.3249431,
          50.978933,
          50.87394,
          50.8739395,
          50.9787777,
          50.8926649,
          51.1982186,
          51.0973895,
          50.9799202,
          51.32186,
          51.3219452,
          51.183926,
          51.1401444,
          51.2094817,
          51.2094748,
          50.9770486,
          51.0534807,
          51.15955,
          51.1595353,
          50.929214,
          51.1341236,
          51.2094748,
          51.20942,
          51.2021287,
          51.2021287,
          51.22547,
          51.1763368,
          51.22055,
          51.226234,
          51.1750392,
          51.0535273,
          51.06084329999999,
          51.22917,
          51.1338131,
          51.1647761,
          51.2069524,
          51.2069524,
          50.98347378654782,
          50.8354388,
          50.8459048,
          51.2308451,
          51.2309394,
          51.21843,
          51.2184284,
          50.7874891,
          51.1393449,
          51.1819222,
          51.2180206,
          51.003218,
          51.244299,
          50.8289445,
          50.84671,
          0,
          51.117792,
          50.8596365,
          50.8249196,
          51.2684622,
          51.2371943,
          50.998704,
          51.1953055,
          51.2025914,
          51.2026936,
          51.3320877,
          50.8784156,
          50.87404,
          51.2261487,
          50.8026021,
          50.8364735,
          51.2437065,
          51.2437152,
          51.0761247,
          50.8068626,
          51.0435964,
          50.8252362,
          50.8396305,
          50.8856404,
          50.856793,
          51.0033413,
          51.0950361,
          51.1522604,
          51.2226,
          50.8578394,
          50.9008007,
          50.9008021,
          50.9008109,
          50.82496,
          50.8133081,
          50.83499,
          50.8349879,
          51.2924252,
          51.2009456,
          50.8703965,
          50.8083945,
          50.8083945,
          50.9158814,
          50.977367,
          51.203775,
          50.945308,
          51.1772165,
          50.8875816,
          50.8144757,
          50.88762,
          51.22145,
          51.2142722,
          50.890503,
          50.9050631,
          50.9196292,
          50.7174088,
          50.7174358,
          50.8841354,
          50.9407756,
          50.9925856,
          50.94985,
          51.16472,
          50.8204079,
          51.22519,
          50.8297152,
          51.0006958,
          51.2456912,
          51.24641,
          51.09946,
          50.9768089,
          51.1615201,
          50.9835692,
          51.2372439,
          51.1895375,
          51.17938,
          0,
          50.8306611,
          50.8716804,
          51.2162709,
          50.992883,
          51.2192348,
          51.2192348,
          51.21893,
          50.80029732375358,
          50.8709695,
          50.87052,
          51.2054624,
          51.205426768731755,
          51.31302,
          50.93051,
          51.3129515,
          50.930466,
          51.0194736,
          51.01945,
          51.2076892,
          51.3519864,
          51.1261817,
          50.9872387,
          50.82515356342085,
          50.9872033,
          51.2163032,
          51.214038,
          51.1326409,
          50.752292,
          50.9083137,
          51.2548016,
          51.2547943,
          51.223938,
          50.8932578,
          50.8888527,
          51.0555709,
          50.8096291,
          51.1869835,
          50.86063,
          51.0211834,
          50.87803,
          50.8780503,
          50.87983,
          50.8760583,
          50.8364771,
          51.2080005,
          51.0867384,
          50.8078304,
          51.323803,
          50.87218,
          50.9453622,
          50.8861168,
          50.8582362,
          50.7951364,
          51.1162617,
          51.153099,
          51.22128,
          51.22128,
          51.2212584,
          50.9249881,
          50.9800088,
          50.9247431,
          50.9415088,
          50.8947108,
          51.2119421,
          51.0318177,
          50.817049,
          51.0611,
          50.8730912,
          51.06103,
          51.21822,
          51.02431250000001,
          50.8255249,
          50.8254855,
          50.9304853,
          51.2337942,
          50.873455,
          50.87344,
          51.2182671,
          51.12676,
          51.0404918,
          50.9712916,
          51.0332193,
          51.1654451,
          50.941807,
          51.0733844,
          50.8567628,
          50.8405877,
          51.2508647,
          50.8728694,
          0,
          50.994568,
          50.9393891,
          51.1738,
          51.1735923,
          51.20781,
          51.20610413,
          51.206015,
          50.6641724,
          51.1829645,
          51.2074982,
          51.2075136,
          51.103759407597664,
          50.9421559,
          51.2076892,
          51.207707,
          51.34269,
          50.938,
          50.9379926,
          50.93804249999999,
          50.9613236,
          51.28197,
          51.0847842,
          51.38298,
          51.1639517,
          51.16387,
          50.8443904,
          51.17049,
          51.207938,
          51.2078309,
          51.213503,
          50.9387904,
          51.2085448,
          51.2253247,
          51.213497,
          0,
          51.2023183,
          51.1717341,
          51.0243125,
          51.02429,
          50.8252119,
          50.8456491,
          51.2114476,
          51.181997,
          51.0386761,
          51.1076122,
          50.8698006,
          50.831,
          51.0426523,
          51.2318024,
          51.2318024,
          51.062187,
          51.06218699999999,
          51.0616385,
          51.3142247,
          51.0527847,
          51.3152888,
          51.2337831,
          51.23376400000001,
          50.8940277,
          50.94935,
          51.0587544,
          51.185037,
          50.870853,
          50.9401898,
          50.9401098,
          50.8252855,
          50.82531,
          50.86891,
          50.868915,
          51.0478339,
          50.7118857,
          50.97435,
          51.1802528,
          50.9998937,
          51.0410855,
          50.8612862,
          51.2139925,
          50.7699036,
          51.0372872,
          51.037178,
          50.9226945,
          50.9460015,
          51.1038131,
          50.942187,
          50.9421771,
          51.1542688,
          50.9438126,
          51.0945939,
          51.3125245,
          51.3426788,
          51.24864,
          51.2486088,
          51.02856321680552,
          51.0286668,
          51.06037,
          51.1325761,
          51.12723,
          50.8032244,
          51.1892163,
          51.1987497,
          51.1987497,
          51.0528254,
          50.95411,
          50.954109,
          51.037505,
          51.037505,
          51.0234,
          51.1516652,
          51.0712026,
          50.949387,
          51.20080978,
          51.037482,
          51.031079,
          50.92075,
          51.4644444,
          50.931698,
          51.2112126,
          51.3131951,
          51.1060883,
          51.2187,
          51.071333,
          51.0713194,
          51.189492,
          51.069962,
          51.204868,
          51.20487,
          51.0996057,
          51.21308,
          51.2561525,
          51.071335,
          51.1643562,
          51.0014269,
          50.8360373,
          50.841038,
          51.0017346,
          50.8246451,
          51.0828962,
          51.0759414,
          51.1032629,
          51.1433937,
          51.0875698,
          51.135663185273565,
          51.135815,
          50.839714,
          51.2526622,
          51.4447886,
          50.9306343,
          51.0021956,
          51.05791,
          51.0956102,
          51.0651573,
          51.1792768,
          50.983724,
          51.0992448,
          51.127893,
          51.14608,
          51.2469449,
          51.18811,
          51.0952496,
          51.0951,
          50.8964317,
          51.06783069999999,
          51.2080947,
          51.0994106,
          51.20473,
          51.2041539,
          51.1544825,
          50.8418517,
          51.13204,
          51.1325761,
          51.145525,
          51.0017551,
          51.1798851,
          51.1272762,
          51.2233233,
          51.2066982,
          51.1342628,
          51.2068362,
          51.21871,
          51.0643909,
          51.06443,
          51.0576267,
          51.0555994,
          51.3141839,
          51.175496,
          50.8902312,
          51.1701238,
          50.8684049,
          51.01931,
          51.0193229,
          51.0661099,
          51.2197869,
          51.1235066,
          50.8760583,
          50.87601,
          50.8474702,
          50.847103822701136,
          51.03617,
          50.9236701,
          50.8508582,
          51.0361601,
          51.03616,
          50.8917936,
          51.3169613,
          51.3394195,
          51.33941,
          51.0912225,
          50.878939,
          50.878939,
          50.8789219,
          51.1211835,
          51.0388277,
          51.0607777,
          50.8154097,
          50.8745392,
          50.9207779,
          51.2536044,
          51.1379308,
          51.25363,
          51.2268,
          51.2439049,
          51.0522166,
          51.0702424,
          51.2143253,
          51.0538633,
          51.06517,
          50.7805606,
          51.29156,
          51.2916329,
          51.1648,
          51.017464,
          51.19851,
          51.1973852,
          51.23866,
          51.2387006,
          51.117996,
          51.2251981,
          51.2251981,
          51.3706301,
          51.2082731,
          50.87551,
          50.8296651,
          50.82996,
          51.19930287323225,
          50.8836767,
          50.9043522,
          51.05801,
          51.0958982,
          51.0000089,
          50.8325241,
          51.17228,
          51.18616,
          51.1861375,
          50.8893431,
          51.0369563,
          50.9911804,
          51.31418,
          51.1975082,
          50.938774,
          50.9884214,
          51.1246762,
          51.3148154,
          51.18616,
          50.998208,
          50.9483796,
          51.0229785,
          50.9865354,
          50.98787,
          50.861949,
          51.2334662,
          50.9074031,
          50.90735,
          50.98005,
          51.24612,
          51.2275,
          51.227605,
          51.049376,
          51.049376,
          51.04937,
          51.161534,
          50.9796424,
          50.83481310000001,
          50.8777072,
          51.394011,
          51.1736447,
          51.11002,
          51.1148621,
          51.06084,
          51.1700383,
          51.1867237,
          51.1700074,
          51.18893,
          51.09036,
          50.733166,
          51.116352,
          50.920698,
          50.9276312,
          51.1865467,
          51.2202396,
          51.22016,
          50.749761,
          50.925087,
          51.351267,
          51.2179472,
          51.04085,
          51.2062849,
          51.20622773,
          51.2176988,
          51.18434,
          50.7802657,
          51.2198804,
          50.987235,
          50.87126980000001,
          51.208929,
          51.21901,
          50.8006942,
          51.1383619,
          51.1344736,
          50.997961,
          50.8084433,
          51.0638718,
          50.82850819999999,
          50.9323878,
          50.8822221,
          51.059011,
          51.05926,
          51.3221189,
          51.32196,
          51.3220649,
          50.9332903,
          51.0971005,
          51.21318,
          51.2191294,
          51.3187134,
          51.1872698,
          51.228675,
          51.1687661,
          50.9310813,
          51.1313923,
          50.8309809,
          50.8240914,
          50.9399256,
          50.9399256,
          50.9494353,
          50.8330455,
          50.8156131,
          50.8672003,
          50.7453163,
          50.7897166,
          51.0286715,
          50.8243819,
          51.20776,
          50.864184,
          50.8714801,
          50.8701326,
          50.8888894,
          50.8518175,
          51.0748681,
          50.9635393,
          51.1045326,
          51.2274273,
          51.2273916,
          50.7997464,
          50.9142631,
          0,
          50.84294,
          50.9285905,
          50.882133,
          50.8361915,
          50.9420067,
          50.8686346,
          50.929419,
          50.87645752675995,
          50.8765373,
          51.2145585,
          50.8774576,
          50.8548619,
          50.842117,
          51.0702663,
          50.8281543,
          50.8591069,
          50.909688,
          51.22473,
          50.8800921,
          50.82777,
          50.8922625,
          51.0412191,
          51.0412608,
          50.94189,
          50.84865176564045,
          50.848743,
          50.8714998,
          51.0304194,
          50.8600219,
          50.8039923,
          50.8039908,
          50.8039908,
          50.9884185,
          50.9126421,
          50.8712543,
          50.8508108,
          50.8478045,
          50.967342,
          50.8653653,
          50.8437401,
          50.9302208,
          50.7997492,
          50.8521231,
          50.9294474,
          50.8726117,
          50.8686357,
          50.8684606,
          51.0392768,
          50.8709662,
          50.8527175,
          50.83547732424592,
          50.866702,
          50.7170552,
          50.835412,
          50.8634042,
          50.72958,
          50.7475772,
          50.8594957,
          50.8719335,
          50.8297666,
          50.8800869,
          50.821392,
          50.92572759999999,
          50.8536962,
          51.2016103,
          51.2076189,
          50.8566814,
          50.7962682,
          50.860157,
          50.8386936,
          50.855393,
          50.8880768,
          50.8352676,
          50.8351755,
          50.8391966,
          51.0730654,
          50.9013694,
          51.2179847,
          51.2179812,
          50.8695437,
          50.8779263,
          51.2253019,
          51.2296711,
          50.9691957,
          50.8709745,
          51.039307,
          51.03761,
          51.0625456,
          50.8367019,
          51.002115,
          50.90637,
          50.9095302,
          50.9276422156451,
          50.9118822,
          50.92939,
          51.2127031,
          51.21277,
          50.80953,
          50.8349281,
          50.8219526,
          50.8635911,
          51.222267,
          50.8365798,
          50.8669161,
          50.8701943,
          50.9984585,
          50.87165,
          50.8133607,
          50.818046,
          51.0408567,
          50.8635228,
          50.8186283,
          50.8186284,
          50.8025734,
          50.80257,
          51.1866205,
          50.8243939,
          50.88213,
          51.1184148,
          51.2247607,
          50.8360019,
          50.8361415,
          50.69229,
          51.19741,
          50.89639894649198,
          51.2223336,
          50.87125,
          50.872596506878565,
          50.8012434,
          50.8572749,
          51.21803,
          50.8078851,
          51.0375788,
          50.8397466,
          51.1976017,
          51.20390399999999,
          51.2039491,
          51.0497258,
          50.9945976,
          51.03928,
          50.9644592,
          51.1704312,
          51.0746271,
          51.2189946,
          51.2189946,
          51.2189432,
          51.05137,
          51.2463889,
          51.3216267,
          51.3216802,
          51.4430011,
          51.1861375,
          51.1046623,
          50.853887,
          51.1310279,
          51.018772,
          51.218858,
          51.1666658,
          51.0184101,
          51.01875,
          51.018772,
          50.8731519,
          50.844020971804625,
          50.9263663,
          50.92666,
          51.2251546,
          51.0387482,
          50.859793,
          50.8752133,
          51.0556705,
          51.055791,
          51.0611441,
          51.0758523,
          50.79322,
          50.8799181,
          51.21303,
          51.212832,
          51.3491317,
          51.0367741,
          51.038816,
          51.207916,
          51.20791,
          50.87452,
          51.254,
          51.2251116,
          51.0921674,
          51.0415591,
          51.161282,
          51.132175,
          50.7709132,
          50.77085,
          51.1586094,
          51.1605694,
          51.0940817,
          50.69286,
          50.78019,
          50.852814,
          50.8778404,
          50.87785521725503,
          50.9863669,
          50.8493196,
          50.7738295,
          51.1636273,
          51.0031161,
          51.0268966,
          51.02694,
          51.02688,
          51.0268966,
          51.0531394,
          51.05315,
          51.0241203,
          51.1402858,
          51.46431,
          50.9995553,
          51.0874035,
          51.055254,
          51.1320362,
          50.80944,
          50.80947,
          50.91032,
          51.219982,
          51.303104,
          51.2182847,
          51.21829,
          50.8804476,
          50.9434713,
          51.34099,
          51.20832,
          50.86797929999999,
          50.9780074,
          51.3156801,
          51.2152661,
          51.050273,
          50.88035559999999,
          51.24433,
          51.2077784,
          51.208929,
          50.8285,
          51.2124675,
          51.21258,
          51.22517,
          50.94283,
          51.19,
          50.83977,
          51.1899486,
          51.1899559
         ],
         "lon": [
          2.9078665,
          5.3373425,
          3.0830791,
          4.1323647,
          4.9658074,
          5.474018,
          5.3753281,
          4.4076701,
          4.4945229,
          4.4224195,
          4.3662012,
          4.40266,
          4.6990148,
          5.6941176,
          4.6990148,
          5.5421495,
          4.4883672,
          4.4884294,
          4.4883672,
          3.229208,
          4.4745592,
          4.67377,
          4.425693,
          4.3792967,
          4.476926,
          4.3102498,
          5.3268261,
          5.3404621,
          4.1956724,
          5.2187304,
          4.700082999999999,
          4.721808,
          4.7000875,
          4.4824376,
          4.5701273,
          4.5392365,
          4.7000107,
          4.2887373,
          5.49165,
          4.48254,
          4.4199488,
          5.5185342,
          5.5186852,
          5.5186807,
          5.4919544,
          5.4917294,
          3.7012991,
          4.5703876,
          4.42011,
          4.3285395,
          3.0456823,
          4.3587163,
          4.9634086,
          4.4682463,
          4.3292193,
          5.638634,
          4.1427483,
          4.3111409,
          4.4892408,
          5.2592204,
          4.3842068,
          4.48913,
          5.1927006,
          4.0987641,
          5.5466132,
          4.36611,
          4.75359,
          5.0911336,
          3.7142608,
          3.7254889,
          3.7254715,
          5.0596721,
          2.9087838,
          4.7340181,
          4.1140786,
          4.4131116,
          4.4133263,
          4.4134255,
          4.4027308,
          4.1993064,
          4.42805,
          4.465059,
          4.4650981,
          5.1899666,
          4.4462483,
          3.7100586,
          3.7477763,
          3.811369,
          4.3623686,
          4.53792,
          4.69879,
          4.6987789,
          5.1663912,
          3.71041,
          3.7103738,
          4.9815332,
          5.1696578,
          5.0539219,
          4.6819769,
          5.4185639,
          5.0875676,
          4.4233361,
          4.42706,
          5.2733333,
          3.2182781,
          4.4521842,
          4.4188902,
          4.41899,
          4.465058,
          4.5350813,
          4.5350813,
          3.8828792,
          4.2999137,
          4.29991,
          4.3105647,
          2.9159456,
          2.9166375,
          4.0721603,
          4.4167564,
          4.4838906,
          4.48457,
          4.4169147,
          4.41686,
          3.1317448,
          4.43267,
          4.3893121,
          4.38934,
          5.3082716,
          3.9928181,
          4.4281378,
          3.9770103,
          4.5524114,
          5.3396605,
          4.3779457,
          4.3669013,
          4.94977,
          4.9499194,
          5.343439099999999,
          3.2231422,
          3.2231422,
          4.4649243,
          4.4649362,
          4.361404,
          5.6955838,
          4.5379418,
          3.701226,
          3.2378919,
          4.2533856,
          4.5157261,
          4.4074559,
          4.4074559,
          4.0288648,
          4.0287696,
          3.8886878,
          4.419398,
          5.5022231,
          3.51292,
          5.3678495,
          3.7373,
          3.7373457,
          4.6288207,
          5.3688786,
          4.315421,
          4.8955912,
          4.8398966,
          4.3122373,
          4.45044,
          4.419,
          4.4189822,
          4.3962038,
          3.72964,
          3.7297433,
          4.4283805,
          4.3582998,
          4.32852,
          4.3285403,
          5.49208,
          4.4502062,
          2.7291697,
          4.36079,
          4.37451,
          4.4791218,
          4.3295849,
          4.3296668,
          4.3295849,
          4.39974,
          3.2424745,
          3.2424745,
          4.4266288,
          4.4264278,
          4.703391,
          4.703391,
          4.4266288,
          3.287144,
          4.7776624,
          4.8359204,
          4.1945366,
          4.3519413,
          4.42945,
          5.3310157,
          4.70004,
          4.7001928,
          4.7001928,
          4.51349,
          3.7467088,
          4.9590822,
          4.95928,
          4.9161535,
          4.4643244,
          4.3623259,
          3.70702,
          5.08769,
          5.0882976,
          4.3605483,
          3.86017,
          3.8599658,
          5.0808884,
          5.3725979,
          4.4543133,
          4.45416,
          4.44745,
          4.04069,
          4.4580978,
          4.4580891,
          4.458203143931745,
          5.106028,
          4.5099468,
          4.86599,
          4.463011,
          4.866375,
          4.303581,
          5.2858685,
          4.42003,
          4.435703,
          4.4200142,
          4.4199321,
          5.22048,
          5.2203537,
          5.2592668,
          3.8307237,
          5.4189421,
          4.4668839,
          4.3295408,
          5.653412,
          5.729146,
          4.7287392,
          4.8300739,
          5.3469081,
          5.4469011,
          5.3251184,
          4.9438156,
          4.8327207,
          5.4302185,
          5.4899992,
          5.2861735,
          4.8914991,
          5.06127,
          5.0611908,
          5.1759431,
          5.2991728,
          4.4283533,
          5.344999,
          4.430953,
          5.5746671,
          4.831852,
          4.3893394,
          4.949775,
          4.4271969,
          4.42715,
          4.6694733,
          5.6507451,
          4.2795415,
          4.8870504,
          5.1147702,
          5.0549133,
          5.11947,
          5.1196074,
          4.840586,
          4.48192,
          4.4820092,
          4.4356682,
          4.0391104,
          4.0392034,
          5.3401621,
          5.0810792,
          4.4391414,
          4.43924,
          4.4492091,
          4.40095,
          4.5771098,
          4.4303691,
          4.3642117,
          5.5321544,
          4.57991,
          4.6809435,
          3.725505,
          3.7255595,
          4.3405033,
          5.3134026,
          4.4782928,
          4.4783,
          4.8650923,
          5.4752219,
          2.9064047,
          4.2840575,
          4.3173681,
          5.6506281,
          5.30092,
          3.7413306,
          5.40493,
          5.4049223,
          3.2995754,
          3.6028256,
          4.1413516,
          4.43869,
          4.3882698,
          4.3425412,
          4.3720045,
          4.372,
          5.2817897,
          4.4344252,
          4.4531407,
          2.9356925,
          4.0558586,
          3.2494097,
          5.4923153,
          4.127612,
          4.4406962,
          4.4406549,
          4.441138,
          5.2227106,
          4.4101504,
          3.726667,
          4.4555063,
          4.372477,
          4.2309004,
          5.2998532,
          4.3978625,
          4.3978624,
          4.5668378,
          3.725505,
          3.7294274,
          3.6335992,
          4.4277605,
          4.4287476,
          4.4350421,
          4.4531407,
          4.56687,
          5.6178644,
          4.31109,
          4.419343,
          4.44363,
          4.4434889,
          4.443489,
          4.41795,
          4.4477511,
          3.7099235,
          3.71002,
          4.4444544,
          3.5627169,
          3.2077884,
          3.20787,
          4.2329777,
          4.713554,
          4.081533,
          5.4949196,
          4.70103,
          4.700696,
          4.9394094,
          3.730271,
          4.713553999999999,
          4.3751426,
          5.5741936,
          4.14989,
          3.730271,
          4.3722995,
          4.3115043,
          4.3099943,
          3.662672,
          4.1549889,
          4.3188731,
          4.3444473,
          4.9371254,
          4.93709,
          5.3318256,
          3.7352987,
          4.7567441,
          4.7252205,
          4.838171,
          4.7004385,
          4.9751429,
          3.7265533,
          4.555168,
          3.7067908,
          4.99106,
          4.8317,
          4.9908608,
          5.4560267,
          5.7423493,
          5.2619274,
          4.4026728,
          4.3028,
          4.4240106,
          5.0502084,
          3.20845,
          3.2084074,
          3.208446,
          4.4618152,
          5.1734859,
          4.98974,
          4.7001891,
          4.9906752,
          4.4193643,
          4.4193604,
          4.8407489,
          2.7512009,
          5.4706466,
          5.47083,
          4.7001891,
          4.41634,
          4.4187852,
          3.2893233,
          2.914207,
          5.4785896,
          5.5000842,
          5.5002103,
          4.38705,
          2.7538643,
          4.306,
          5.3002396,
          4.4504362,
          4.3122373,
          4.3849,
          5.3068659,
          4.4295403,
          4.098554600000001,
          4.0986522,
          4.1056225,
          4.1055125,
          4.756737,
          0,
          4.2987251,
          4.7156895,
          2.5882683,
          4.7055851,
          4.7055925,
          4.5908882,
          5.3141255,
          3.20845,
          3.726280499999999,
          3.7322255,
          3.7322255,
          4.0271876,
          4.0272089,
          4.0271876,
          5.331347,
          5.4626102,
          0,
          4.9393244,
          5.0567785,
          4.3145,
          4.3145004,
          4.9792033,
          5.1141853,
          3.2193108,
          4.9451813,
          4.9708248,
          4.94021,
          4.9401798,
          5.1148286,
          5.5835198,
          3.2289341,
          3.22894,
          4.6345681,
          4.8821208,
          4.14405,
          4.1439857,
          4.4269543,
          4.3864343,
          3.22894,
          3.22904,
          4.3928709,
          4.3928709,
          4.42269,
          5.8374658,
          4.40188,
          4.425389,
          5.1355752,
          3.7217288,
          3.7102631,
          5.4319444,
          4.4428021,
          4.1415672,
          4.415094799999999,
          4.4150948,
          4.461487494242663,
          4.2999718,
          4.3425521,
          4.4063067,
          4.4064993,
          4.43045,
          4.4304207,
          3.1269461,
          4.6095,
          4.6016273,
          4.4181578,
          4.1255906,
          4.4447138,
          4.3726359,
          4.4136806,
          0,
          5.2601209,
          4.3409006,
          3.2722017,
          4.8671555,
          4.8258901,
          5.512514,
          5.4032187,
          4.3899234,
          4.3901947,
          4.3652936,
          4.699806,
          4.7090521,
          5.3141093,
          5.3490397,
          4.3392771,
          4.4433324,
          4.4433173,
          4.7219067,
          5.0969517,
          3.9117998,
          3.2645729,
          5.0213554,
          4.3176225,
          4.3752124,
          3.8004919,
          4.1359653,
          5.8106697,
          4.42561,
          4.319434,
          4.3607886,
          4.3607906,
          4.3607925,
          3.27199,
          5.6691349,
          4.30592,
          4.305918,
          4.4441251,
          3.8055828,
          4.3717317,
          3.279237,
          3.279237,
          4.6556004,
          5.489949,
          3.208446,
          3.1194103,
          4.8330195,
          3.4306791,
          4.3658038,
          3.43065,
          4.4618373,
          4.2572492,
          3.0607631,
          3.5288347,
          3.8620404,
          4.3962768,
          4.3962193,
          4.7230861,
          4.7316923,
          4.7061002,
          4.71249,
          4.14158,
          3.2843159,
          4.40478,
          4.3433057,
          4.8298804,
          4.4478081,
          4.45034,
          4.23442,
          4.6335843,
          5.3969554,
          4.8312654,
          5.113052,
          5.0757013,
          4.37792,
          0,
          4.3904781,
          4.4002252,
          4.2514887,
          3.7468562,
          4.4203085,
          4.4203085,
          4.42001,
          4.317389008693414,
          4.2649549,
          4.26733,
          4.4728745,
          4.472862170249654,
          4.4294,
          5.34326,
          4.4294497,
          5.343357,
          4.4822218,
          4.48208,
          4.3887578,
          4.3974537,
          5.358197,
          5.40882,
          3.264678195118904,
          5.408851,
          4.39924,
          4.4411826,
          4.335473,
          5.302248,
          4.6756146,
          4.5036859,
          4.503681,
          3.22676,
          4.7740197,
          5.527032,
          4.6305208,
          4.9320733,
          5.1173167,
          4.69804,
          5.4712118,
          4.71963,
          4.7196363,
          4.70054,
          4.7089882,
          4.0263442,
          4.4643167,
          3.4484218,
          3.2801325,
          4.947664,
          4.39123,
          5.2611201,
          5.5289695,
          4.3400189,
          4.3212211,
          5.2620302,
          5.392288,
          4.4026248,
          4.4026248,
          4.4024951,
          5.3259603,
          5.0445122,
          5.3262535,
          5.3007665,
          5.6650737,
          5.4230823,
          5.3730854,
          5.1770964,
          3.69323,
          5.5212681,
          3.6932049,
          4.41831,
          4.4775937,
          4.2977704,
          4.297839,
          5.3434391,
          2.9164435,
          4.3134475,
          4.31345,
          4.4183326,
          4.21261,
          5.3049018,
          4.1865574,
          5.2812994,
          4.989585,
          4.044479,
          5.2258014,
          4.3729156,
          4.3322309,
          4.4479395,
          3.1824152,
          0,
          3.3257418,
          3.1221289,
          4.44474,
          4.4444482,
          4.38874,
          3.21791429,
          3.2177265,
          5.5366125,
          4.3833547,
          4.4135897,
          4.4135132,
          3.988229157999711,
          4.04657,
          4.3887578,
          4.38891,
          3.28807,
          4.03187,
          4.0319358,
          4.0319657,
          4.4549823,
          4.41785,
          3.4483041,
          4.47518,
          4.1394059,
          4.1393,
          3.6037331,
          4.1440005,
          4.38915,
          4.389232199999999,
          4.4094513,
          4.0332502,
          3.2226075,
          4.4095748,
          4.409349,
          0,
          4.4855979,
          4.3877893,
          4.4775937,
          4.47761,
          3.2646587,
          3.6096502,
          4.251832,
          3.5726984,
          3.7102649,
          3.9004134,
          3.6220167,
          3.25553,
          4.104073,
          2.9144097,
          2.9144097,
          3.7498953,
          3.7498953,
          3.700181,
          3.1268987,
          3.7463782,
          3.1271573,
          2.9164431,
          2.9161473,
          4.3826189,
          4.04103,
          3.8182144,
          3.5638525,
          4.0181446,
          4.042674,
          4.0432019,
          3.2649506,
          3.26488,
          4.31126,
          4.3112619,
          3.7270756,
          3.8347091,
          3.014752,
          3.7467185,
          3.7501562,
          3.3964371,
          4.3716419,
          3.4468523,
          3.8745797,
          3.7404987,
          3.7405629,
          3.4458184,
          3.8041969,
          3.9879605,
          4.046648,
          4.0466792,
          3.2375995,
          3.1247193,
          4.143846,
          3.1272587,
          3.2880538,
          2.96674,
          2.9667543,
          4.480282875330187,
          4.4803971,
          3.74785,
          3.6796668,
          4.21209,
          5.5709341,
          3.2116095,
          3.1889283,
          3.1889283,
          3.7474673,
          4.0631,
          4.0630978,
          3.714077,
          3.714077,
          3.72028,
          3.6077882,
          3.7095474,
          4.04096,
          3.245848471,
          3.7140548,
          3.7061828,
          4.07018,
          4.4725981,
          4.0362616,
          4.252266,
          3.1876991,
          3.9879205,
          4.42411,
          3.7306784,
          3.7306285,
          2.8307733,
          4.5316614,
          4.3961402,
          4.39603,
          4.2404586,
          4.257836,
          4.0899404,
          3.7306783,
          4.4998914,
          4.3023356,
          4.3268519,
          4.834623,
          3.751311,
          4.5132418,
          4.6687013,
          4.7886443,
          4.7276196,
          4.8599987,
          4.8717344,
          4.443796606979154,
          4.4435816,
          3.47281,
          4.5033576,
          4.9250641,
          4.7245528,
          3.8813768,
          3.70678,
          4.1426429,
          3.7264744,
          4.3553309,
          4.461841,
          4.2342988,
          4.2160941,
          4.0850115,
          4.4435028,
          5.12056,
          4.5029904,
          4.50295,
          4.8248638,
          3.7290914,
          3.4510793,
          4.2343152,
          4.52347,
          4.5231233,
          3.2358945,
          4.9459863,
          4.44694,
          3.6796668,
          4.2987186,
          3.8777948,
          4.2334942,
          4.2120871,
          4.4369035,
          4.3927748,
          4.4520796,
          4.3928489,
          4.424192,
          3.7264021,
          3.72674,
          3.7071178,
          4.2056305,
          3.3022606,
          4.8243417,
          3.0602099,
          4.3120615,
          3.8137421,
          3.76404,
          3.764036,
          4.034365,
          4.3823975,
          4.8682401,
          4.708988199999999,
          4.70914,
          4.8209022,
          4.821171476416675,
          4.47547,
          4.692179,
          2.8868742,
          4.475635899999999,
          4.475636,
          3.427323,
          3.133781,
          3.2383649,
          3.23854,
          4.1360277,
          4.700267999999999,
          4.700268,
          4.7002106,
          4.1964177,
          3.7465613,
          4.8365614,
          3.3179776,
          4.6914768,
          3.8538031,
          4.5023549,
          4.3783788,
          4.50219,
          4.51877,
          4.5922835,
          3.7485857,
          4.531321,
          4.65802,
          4.883327,
          3.72645,
          3.1251744,
          4.49407,
          4.4938601,
          4.14306,
          3.9579873,
          4.4315,
          4.430622,
          4.44156,
          4.441577,
          4.656598,
          3.2314266,
          3.2314266,
          4.9941559,
          4.4492776,
          4.7301188,
          3.2715595,
          3.27097,
          2.9778159811013403,
          4.7197713,
          4.7222932,
          3.70674,
          5.7928862,
          4.5861227,
          5.1042698,
          4.4470744,
          4.38731,
          4.3874416,
          5.2900713,
          2.8714629,
          4.4926872,
          3.30235,
          4.4527734,
          4.619825,
          4.7820077,
          4.495271,
          4.8895358,
          4.38731,
          4.1295875,
          3.1296242,
          5.3137589,
          4.7810916,
          4.78533,
          5.6249084,
          2.9214644,
          4.2053163,
          4.20531,
          3.5329998,
          5.54582,
          4.51831,
          4.5182991,
          3.730604,
          3.730604,
          3.73058,
          4.6696033,
          5.4915451,
          3.2514619,
          4.346458,
          4.5962642,
          5.5797481,
          4.3696,
          4.3898315,
          3.71023,
          4.3873492,
          4.3865355,
          4.3873815,
          4.4331958,
          3.7163,
          5.2091265,
          2.681679,
          3.2155599,
          4.4331812,
          4.3749696,
          4.4594739,
          4.45954,
          3.5969296,
          3.9524026,
          4.6441514,
          2.8950886,
          3.72536,
          3.2180116,
          3.218068992,
          4.427042999999999,
          4.9846778,
          5.4635312,
          4.4385031,
          4.8388002,
          4.399716199999999,
          4.4491621,
          2.90793,
          4.9563972,
          4.9038049,
          4.5655313,
          5.077685,
          5.4662026,
          3.7095352,
          3.2649605,
          5.3422072,
          4.7133678,
          3.7042263,
          3.70453,
          4.9524556,
          4.95232,
          4.952329,
          5.3331392,
          3.2095149,
          4.3975,
          4.4193314,
          5.0863443,
          4.4285447,
          5.4325213,
          3.8579406,
          4.4249935,
          4.5674943,
          4.4520538,
          4.2958255,
          4.0258409,
          4.0258409,
          3.1313294,
          4.3740091,
          4.3400529,
          4.3589807,
          4.345307,
          4.2983155,
          4.4845363,
          4.4004368,
          4.46519,
          4.3659068,
          4.4008113,
          4.372873,
          4.3389537,
          4.3850787,
          5.2200034,
          5.500285,
          5.1772193,
          4.4547623,
          4.4547647,
          4.3366474,
          4.1931411,
          0,
          4.4083082,
          4.4218529,
          4.4725341,
          4.3656511,
          4.0351025,
          4.374455,
          4.4221315,
          4.4066644807685815,
          4.4066588,
          4.4351753,
          4.3489332,
          4.3673975,
          4.33133,
          4.036278,
          4.3304799,
          4.3796936,
          4.193773,
          4.45487,
          4.3296928,
          4.3017688,
          4.0729595,
          3.7253941,
          3.7254743,
          4.0448,
          4.31879027890444,
          4.3189361,
          4.3839557,
          3.8018376,
          4.4176894,
          4.3364628,
          4.3364598,
          4.3364598,
          5.6923432,
          4.3724309,
          4.3996881,
          4.3919207,
          4.3982331,
          3.9873674,
          4.3885953,
          4.4126857,
          4.4264047,
          4.33645,
          4.3439342,
          4.4278192,
          4.3907899,
          4.3122373,
          4.31202,
          3.725784,
          4.2639294,
          4.373779,
          4.311028588166092,
          4.3775992,
          4.6070235,
          4.3110307,
          4.3774531,
          4.2413,
          3.6015994,
          4.5141147,
          4.3754976,
          4.3786763,
          4.3472217,
          4.2943516,
          5.3260064,
          4.3882244,
          4.4334429,
          4.4280825,
          4.3277586,
          3.1212188,
          4.371001,
          4.3977664,
          4.3997117,
          4.3398709,
          4.3084661,
          4.3085427,
          4.3341794,
          3.7310747,
          4.3608428,
          4.4288729,
          4.428862899999999,
          4.3328935,
          4.3477112,
          4.4167098,
          2.9191153,
          4.1890306,
          4.375243,
          3.725667,
          3.74225,
          3.6986091,
          4.3808233,
          4.3020346,
          4.207182,
          4.354658,
          4.433235861361027,
          4.4350511,
          4.42223,
          2.8822633,
          2.88223,
          4.31717,
          4.3061951,
          4.3421654,
          4.3301211,
          4.436264,
          4.3661102,
          4.3761611,
          4.3721496,
          3.3270373,
          4.32553,
          4.3386547,
          4.3929502,
          3.7253756,
          4.3443448,
          4.3792999,
          4.3793152,
          4.3411907,
          4.34119,
          5.1177366,
          4.327402,
          4.47258,
          3.5611182,
          4.4548562,
          4.3001559,
          4.3154125,
          4.2052684,
          4.42432,
          4.3578602256968875,
          4.4356959,
          4.39973,
          4.390637865145786,
          4.3735706,
          4.3730178,
          4.42875,
          4.3164883,
          3.7423194,
          4.3070863,
          4.4242343,
          4.394543,
          4.394389,
          3.7318555,
          4.7097848,
          3.72572,
          5.69626,
          4.1439551,
          5.2202015,
          4.420245899999999,
          4.4202459,
          4.4203149,
          5.239609,
          4.4491667,
          4.9368617,
          4.9367899,
          4.9296567,
          4.3874416,
          5.0021347,
          4.3537965,
          5.4576418,
          4.483109,
          4.4050159,
          4.9889729,
          4.9488446,
          4.48317,
          4.4831088,
          4.3869141,
          4.31348056115117,
          5.3399257,
          5.34127,
          4.4048148,
          3.7467169,
          4.3766128,
          4.7079149,
          3.7228147,
          3.7225961,
          3.7011711,
          4.7251002,
          4.48221,
          4.3292771,
          4.25677,
          4.2564012,
          3.2893011,
          3.7416992,
          3.7262825,
          4.392708,
          4.39269,
          4.69157,
          4.50265,
          4.4047447,
          4.0255789,
          3.72555,
          4.669973,
          2.6723878,
          3.8756524,
          3.87578,
          4.4913434,
          4.1507192,
          5.7923279,
          4.20507,
          3.0345345,
          2.893423,
          4.4096982,
          4.40961668423113,
          5.0487732,
          4.3741259,
          4.886823,
          4.1392218,
          4.6327539,
          3.7218444,
          3.7218974,
          3.72182,
          3.7218444,
          3.7461081,
          3.74613,
          5.3752994,
          4.3375162,
          4.45796,
          5.3320171,
          5.2196722,
          5.2738908,
          4.4468262,
          3.18506,
          3.1851952,
          4.3009225,
          4.4150385,
          4.7355146,
          4.418298200000001,
          4.41831,
          4.6960742,
          3.9847027,
          3.2888477,
          3.22223,
          4.3205671,
          5.1217436,
          3.1292305,
          4.4378506,
          3.730271,
          4.7055925,
          4.44462,
          4.3887721,
          4.4491621,
          3.26512,
          4.4076701,
          4.40771,
          4.40467,
          3.124207,
          4.37771,
          4.30707,
          4.3778715,
          4.3778795
         ],
         "marker": {
          "color": [
           10,
           11.99,
           13.5,
           7.5,
           13.58,
           9.8,
           12.1,
           9.71,
           13.22,
           7.83,
           7.5,
           7.63,
           8,
           12.4,
           8,
           11.56,
           11.2,
           9.36,
           10.29,
           9.5,
           13.8,
           9.31,
           6.5,
           7,
           7.42,
           7.5,
           12.6,
           12,
           9.88,
           11.33,
           8.88,
           10.13,
           12.28,
           11.82,
           8.67,
           11.75,
           7.38,
           9,
           10.33,
           8.83,
           10.2,
           11.67,
           12.33,
           12.33,
           12.33,
           11.33,
           7,
           9,
           8.48,
           11.33,
           9.5,
           8,
           13.6,
           11.2,
           8.5,
           11,
           6.5,
           7.5,
           12.25,
           11.5,
           9.63,
           12.25,
           10.8,
           12.1,
           12.1,
           7.5,
           19.17,
           12.67,
           9.5,
           10.2,
           10.22,
           12.5,
           11,
           12.71,
           13.6,
           8.33,
           8.33,
           8.33,
           7.88,
           10,
           11.25,
           11.48,
           9.21,
           13,
           9.31,
           7.67,
           12.25,
           8.31,
           11,
           9.5,
           10,
           11.59,
           12.8,
           5,
           10,
           11.71,
           13,
           11.75,
           14.65,
           11.93,
           11.83,
           8.5,
           10,
           12.21,
           8,
           10.25,
           11.24,
           10.25,
           7,
           8.99,
           8.8,
           12.29,
           9.33,
           9.13,
           9.2,
           12,
           9,
           7.33,
           9.18,
           10.02,
           10.05,
           9.29,
           9.5,
           8.92,
           11.5,
           7.5,
           7.5,
           12.93,
           12.25,
           12.14,
           12.5,
           10.5,
           11.5,
           12.94,
           9,
           9.28,
           9.75,
           9,
           9.88,
           10.44,
           7,
           6.5,
           10,
           10.5,
           9.5,
           8.5,
           11.9,
           10.38,
           12.78,
           13.31,
           12.64,
           12,
           10.5,
           20.84,
           12.92,
           10.33,
           11,
           11.75,
           9.33,
           9,
           13.25,
           11.38,
           8.13,
           10.78,
           14.14,
           10.47,
           11.25,
           7,
           7,
           10.57,
           11,
           11.85,
           6.75,
           8.5,
           8.75,
           8.82,
           11.5,
           11.2,
           9.5,
           9.9,
           9.05,
           9.63,
           10.23,
           10,
           9.5,
           9,
           15,
           12.25,
           7.19,
           19.99,
           9,
           10,
           8.99,
           9,
           11,
           13.78,
           13,
           8.5,
           5.95,
           12.5,
           7.08,
           7.58,
           6.25,
           13.25,
           11,
           12,
           10.7,
           12.63,
           8,
           9.67,
           8.1,
           10.9,
           12.4,
           9.9,
           7.25,
           9.46,
           8,
           11,
           11.73,
           10.73,
           8.5,
           10.5,
           11.62,
           11.62,
           12.29,
           12.63,
           10.69,
           13.38,
           10.67,
           13.55,
           11,
           11,
           15.99,
           9.75,
           15.99,
           9.99,
           9.3,
           11.58,
           13.25,
           13.07,
           12.75,
           11.21,
           8.8,
           13.36,
           12.38,
           13.18,
           11.12,
           11.14,
           12.07,
           13.2,
           9.42,
           12,
           14.71,
           12.33,
           12.71,
           11.17,
           11.94,
           13.21,
           11.8,
           15,
           8.5,
           11.1,
           10.5,
           11.9,
           12.17,
           13.2,
           13.07,
           8.33,
           8.33,
           13.2,
           10.67,
           12.5,
           13.86,
           11.5,
           11.78,
           11.65,
           14.15,
           12.63,
           8.55,
           8.29,
           9.89,
           10.75,
           10,
           11.5,
           10.63,
           10.5,
           6.75,
           9.25,
           8.43,
           10.88,
           13.67,
           9,
           12,
           13.13,
           9.25,
           8,
           8,
           9,
           11.75,
           9.11,
           8.7,
           17.35,
           11.38,
           10,
           9.9,
           9.79,
           6,
           10.5,
           11.1,
           10.58,
           13.92,
           8,
           12,
           9.24,
           7.5,
           8.25,
           12.9,
           7.63,
           9.63,
           9,
           8,
           7.64,
           14,
           10,
           12.83,
           12.5,
           14.9,
           8.25,
           8.25,
           8.25,
           10.17,
           10,
           12.4,
           8.83,
           9.2,
           10.5,
           11,
           9.1,
           9.1,
           9,
           8.5,
           10.67,
           12,
           7.83,
           10,
           10.8,
           7.64,
           8,
           11.3,
           7.8,
           6,
           9,
           8,
           9.33,
           10,
           12.5,
           10.13,
           7.25,
           14.25,
           10.7,
           9,
           9,
           11.29,
           10.17,
           10,
           11.38,
           7.38,
           7.33,
           13.62,
           9.7,
           10,
           10.5,
           12.14,
           8,
           10,
           6.8,
           8.04,
           11.75,
           10.25,
           13.67,
           10,
           9.21,
           10.41,
           9.14,
           11.33,
           6.5,
           11,
           10.93,
           15.57,
           7.5,
           13.22,
           12.4,
           12.25,
           7.5,
           11.4,
           8.38,
           11.95,
           15.11,
           11.83,
           12.86,
           11,
           7.5,
           9.25,
           11.4,
           11,
           11,
           11,
           12.25,
           14.65,
           10.79,
           12.33,
           11,
           7.5,
           7.5,
           11.75,
           13,
           11.5,
           11.8,
           7.38,
           8,
           8,
           10,
           12,
           10,
           10.67,
           10.67,
           8,
           11,
           7.04,
           10.33,
           10.5,
           7.14,
           16.4,
           11.43,
           7.23,
           12,
           11.83,
           12,
           12,
           11.89,
           9.9,
           7.5,
           10,
           13.5,
           9.25,
           9.13,
           11.11,
           12.6,
           10.05,
           6,
           7,
           7.67,
           13,
           13,
           12.25,
           10.33,
           13.83,
           12,
           10.67,
           12.5,
           9,
           8.5,
           12,
           10.83,
           12.31,
           14.38,
           12.53,
           10.5,
           11.5,
           12.8,
           15.78,
           9.5,
           10,
           11,
           13,
           8.5,
           8.5,
           8.95,
           8.5,
           10,
           10,
           8,
           9,
           10.44,
           13,
           9.5,
           7.5,
           12.43,
           11.17,
           8,
           13.23,
           11.13,
           8.3,
           9.86,
           10.13,
           9.5,
           9.13,
           7,
           11.9,
           9.9,
           11.95,
           11.95,
           9,
           15.75,
           12.25,
           8.2,
           11.8,
           10.9,
           10.5,
           10,
           9.5,
           14,
           10,
           7.9,
           10.57,
           11.43,
           11.67,
           11.8,
           8.83,
           10.33,
           10,
           9.3,
           9.3,
           11,
           11.9,
           8.57,
           9.15,
           9.9,
           12.38,
           12,
           8.6,
           10,
           10.33,
           12.5,
           9,
           10.46,
           10.5,
           10.92,
           7.23,
           7.17,
           9.75,
           9.75,
           10.9,
           8.5,
           13,
           7.5,
           7.5,
           12,
           9.5,
           9,
           9,
           9,
           11,
           13.17,
           9.4,
           7,
           9,
           14,
           9.21,
           14,
           9.83,
           12.82,
           12.92,
           22.79,
           12,
           8.5,
           12,
           11.8,
           11,
           9.89,
           10,
           8.8,
           9,
           6.47,
           10,
           13.67,
           9.29,
           9.29,
           11.4,
           13.17,
           13.88,
           13.38,
           12.08,
           15.65,
           7.63,
           13,
           10.5,
           8.6,
           9,
           9,
           10.95,
           8.98,
           9,
           9.79,
           8,
           10,
           12.25,
           12.25,
           10,
           14,
           10,
           14,
           10.83,
           10.83,
           10.7,
           10.5,
           12.63,
           15.39,
           9,
           17.88,
           8.5,
           6.5,
           9.32,
           10.8,
           11.75,
           13.72,
           9.5,
           7,
           10.5,
           10,
           13.67,
           10.88,
           11.38,
           10.5,
           9.6,
           11.33,
           11,
           8.75,
           11.6,
           9.56,
           9.5,
           10,
           8.33,
           9.25,
           6.67,
           12.4,
           14.25,
           8,
           9.5,
           13.17,
           11.08,
           9.15,
           9.05,
           8.53,
           13.5,
           11.4,
           10.9,
           12.17,
           10.28,
           14.5,
           11.33,
           12,
           8.67,
           12.86,
           11.83,
           9,
           15.9,
           9.08,
           7.94,
           9,
           10,
           9.2,
           7.25,
           10,
           9.85,
           10.29,
           13.15,
           15,
           10.5,
           11.38,
           10.33,
           9.5,
           8.75,
           11.14,
           9.5,
           9.1,
           8.5,
           11.25,
           10.4,
           11.2,
           10,
           9.5,
           12,
           11.25,
           7.69,
           9.5,
           11.5,
           9.41,
           8.25,
           10.58,
           10.7,
           11,
           12,
           12,
           12,
           10,
           12.1,
           8.4,
           11.73,
           8.44,
           7.75,
           12,
           12.08,
           11.33,
           10.6,
           14.7,
           10.75,
           9.33,
           11.21,
           14.7,
           12,
           9.88,
           13.5,
           14.9,
           15.9,
           8.95,
           12,
           12.15,
           9.75,
           9.5,
           11.75,
           13.5,
           8.7,
           11.25,
           10,
           9,
           11.33,
           11,
           11.5,
           10.8,
           6.13,
           10.18,
           10,
           10,
           9.17,
           13.5,
           10.58,
           10,
           13.5,
           15.33,
           12.7,
           9.45,
           6.95,
           8.25,
           8.25,
           8,
           9.43,
           14.33,
           13,
           12.22,
           11,
           10.5,
           10.67,
           13.7,
           9,
           7.38,
           15,
           15,
           10.69,
           7.25,
           8.7,
           11.16,
           11.5,
           11.35,
           10.44,
           10.83,
           10.5,
           10.9,
           9.06,
           9.06,
           12.25,
           11.5,
           9.85,
           10.49,
           10.83,
           11.1,
           11.5,
           13.09,
           11.25,
           11.25,
           15.33,
           14.67,
           9.33,
           8.33,
           11.25,
           13.58,
           10,
           15.33,
           8.13,
           13,
           13.83,
           11.25,
           13.5,
           11.75,
           12.5,
           9.45,
           10.35,
           9.39,
           9.08,
           12,
           10.5,
           10.5,
           11.32,
           9.83,
           11.5,
           10,
           11.9,
           10.83,
           7,
           11,
           10,
           11,
           12.06,
           12.44,
           13,
           12.13,
           12,
           8.9,
           10.3,
           12.5,
           10.5,
           9.75,
           12,
           12.4,
           8.5,
           11.42,
           11,
           13.28,
           9.88,
           12.17,
           10.96,
           9.95,
           14.28,
           8.5,
           11.63,
           12,
           8.38,
           7.75,
           12.5,
           11.75,
           9.9,
           9.9,
           9.5,
           8.5,
           8.86,
           10,
           12,
           10,
           8.67,
           10.88,
           9,
           10.5,
           11.38,
           11.5,
           10.28,
           10.5,
           10.67,
           9.3,
           12.25,
           10.5,
           13.18,
           11.63,
           10.5,
           9,
           10.24,
           12.11,
           9.88,
           9,
           12.72,
           7,
           7.5,
           8.8,
           7.8,
           10.07,
           10.33,
           11.5,
           10.07,
           11.7,
           13.5,
           12.75,
           13.25,
           13.25,
           9.93,
           8.9,
           11.9,
           10.9,
           11.9,
           9.93,
           13.1,
           8.5,
           12.38,
           13,
           12.5,
           11.3,
           12.5,
           8.89,
           10.7,
           11.21,
           11.63,
           9.1,
           12.25,
           10.67,
           10,
           10.95,
           10.95,
           10.95,
           15.5,
           8.9,
           12.9,
           8.5,
           9.79,
           12.07,
           10.63,
           10.71,
           12,
           9.33,
           12.25,
           4.5,
           4.5,
           10.5,
           11.43,
           11.33,
           8.5,
           9.88,
           10.75,
           11.94,
           10.93,
           9.67,
           10.33,
           10.5,
           8.5,
           10.25,
           10.5,
           12.5,
           10.75,
           11.38,
           13.92,
           14.3,
           7.32,
           12.7,
           10.5,
           12.64,
           12.19,
           9.86,
           15.44,
           10.67,
           11,
           9.25,
           10,
           12.5,
           7,
           9.5,
           11.9,
           11.9,
           11.9,
           12.6,
           16,
           9.67,
           11,
           11.38,
           10.82,
           9.43,
           12.2,
           8,
           11.83,
           8.25,
           10.5,
           9.5,
           9,
           11.5,
           13,
           9.33,
           7,
           8.38,
           10.67,
           10.67,
           11.2,
           11,
           11.6,
           11,
           11.9,
           14,
           11,
           8,
           12.13,
           10,
           8.86,
           12.09,
           8.5,
           7.65,
           8.8,
           11.4,
           13.5,
           8.7,
           11.21,
           12.25,
           8.5,
           14,
           12.75,
           10.16,
           11.17,
           11.17,
           9,
           9,
           9,
           8,
           8.8,
           10,
           7.5,
           14.25,
           10.13,
           8,
           9.75,
           7.63,
           8,
           9.06,
           7.5,
           9.94,
           8,
           8.94,
           11,
           8.5,
           11,
           11.5,
           8.25,
           10.58,
           8.83,
           11.9,
           9.5,
           9.07,
           9,
           7.8,
           8.5,
           13.13,
           12,
           11.5,
           8.63,
           8.63,
           6,
           11.5,
           9.9,
           12,
           8.75,
           9.1,
           8.14,
           8.83,
           8.39,
           9,
           8.63,
           8.63,
           9,
           9.38,
           11,
           7.5,
           12.5,
           7.5,
           8.5,
           9.4,
           10.76,
           9.25,
           8.5,
           11,
           9.23,
           9.39,
           8,
           10.54,
           8.59,
           9.2,
           11.5,
           11.5,
           11,
           10,
           10.08,
           7.75,
           9.5,
           8.5,
           8,
           8,
           11,
           11.2,
           12,
           9.5,
           8.5,
           11.31,
           8.33,
           7.25,
           9.9,
           9.9,
           9.13,
           10.5,
           8.5,
           6.5,
           9.25,
           9,
           6.99,
           10,
           14.5,
           12,
           12,
           7.5,
           8,
           9.5,
           9,
           12,
           11.59,
           10.5,
           9,
           8.04,
           9.5,
           10,
           9,
           9.83,
           10,
           9,
           9.4,
           6.5,
           8,
           9.5,
           7.25,
           8.68,
           10.7,
           10.5,
           7,
           10,
           12.5,
           12.5,
           11.07,
           7.5,
           7.13,
           8.5,
           10.33,
           10.5,
           9.25,
           8.29,
           9.07,
           7,
           10.22,
           10.22,
           11,
           9.75,
           8,
           10.25,
           9,
           12.5,
           9.63,
           9.49,
           9.17,
           11,
           10,
           10.22,
           11.9,
           8.79,
           11.69,
           18.25,
           9.56,
           8.14,
           12.75,
           9,
           10.2,
           10.4,
           10.5,
           10.5,
           9.5,
           9,
           7.25,
           11.83,
           9.75,
           8.5,
           8.25,
           9.17,
           8.5,
           8.68,
           7.56,
           7.5,
           7.8,
           12,
           8.17,
           8.13,
           8.95,
           11.31,
           14.45,
           10,
           7.08,
           12.67,
           6.45,
           7.95,
           8.13,
           10.88,
           10,
           7.43,
           8.16,
           12.5,
           6.81,
           12.05,
           5.7,
           11.07,
           9.5,
           6.19,
           7,
           11,
           8.29,
           9.29,
           9.2,
           8.3,
           12.12,
           12.28,
           7.47,
           8,
           9.25,
           11,
           8.9,
           8.9,
           7.46,
           10.67,
           7.9,
           9.5,
           12.23,
           12.77,
           11,
           14.9,
           15,
           11.8,
           11,
           11.13,
           9.5,
           9.62,
           10.5,
           11.72,
           11.72,
           12.17,
           11,
           11,
           12.5,
           9.25,
           10.5,
           5,
           7.5,
           11.4,
           8.5,
           10.2,
           11.29,
           10,
           9.67,
           8,
           11.13,
           8.88,
           11.45,
           11.45,
           11.45,
           12,
           12,
           10.5,
           8.9,
           11.75,
           11,
           12.8,
           12.8,
           11.83,
           7,
           8.25,
           12.53,
           9.45,
           12,
           5,
           6.38,
           10.5,
           10.33,
           11.38,
           12,
           5.83,
           11,
           9.33,
           8.56,
           9.7,
           8.5,
           12.17,
           10,
           7.65,
           14,
           9.81,
           10.5,
           6.47,
           8.75,
           5,
           7.8,
           5.5,
           5
          ],
          "colorscale": [
           [
            0,
            "#440154"
           ],
           [
            0.1111111111111111,
            "#482878"
           ],
           [
            0.2222222222222222,
            "#3e4989"
           ],
           [
            0.3333333333333333,
            "#31688e"
           ],
           [
            0.4444444444444444,
            "#26828e"
           ],
           [
            0.5555555555555556,
            "#1f9e89"
           ],
           [
            0.6666666666666666,
            "#35b779"
           ],
           [
            0.7777777777777778,
            "#6ece58"
           ],
           [
            0.8888888888888888,
            "#b5de2b"
           ],
           [
            1,
            "#fde725"
           ]
          ],
          "showscale": true,
          "size": 10
         },
         "mode": "markers",
         "text": [
          "\t Samoo Baba Tacos Kebab & Grill<br>Avg. kapsalon price: €10.0",
          " Delifranco<br>Avg. kapsalon price: €11.99",
          "'T Food Dilemma<br>Avg. kapsalon price: €13.5",
          "'t Gouden Frietje<br>Avg. kapsalon price: €7.5",
          "'t Hoekske<br>Avg. kapsalon price: €13.58",
          "'t Hoekske<br>Avg. kapsalon price: €9.8",
          "'t Kebabske<br>Avg. kapsalon price: €12.1",
          "'t Stad Kebab<br>Avg. kapsalon price: €9.71",
          "4 Seizoenen<br>Avg. kapsalon price: €13.22",
          "A La Turka Berchem<br>Avg. kapsalon price: €7.83",
          "ANATOLIA hoboken<br>Avg. kapsalon price: €7.5",
          "ANTWERP PIZZA-PASTA-KEBAB<br>Avg. kapsalon price: €7.63",
          "Ada Eethuis<br>Avg. kapsalon price: €8.0",
          "Ada Grill & Burger<br>Avg. kapsalon price: €12.4",
          "Ada Pizza<br>Avg. kapsalon price: €8.0",
          "Adak Kebab<br>Avg. kapsalon price: €11.56",
          "Adana Kebab<br>Avg. kapsalon price: €11.2",
          "Adana Kebab<br>Avg. kapsalon price: €9.36",
          "Adana Kebab BBQ<br>Avg. kapsalon price: €10.29",
          "Adana Kebab Brugge<br>Avg. kapsalon price: €9.5",
          "Adel Eethuis<br>Avg. kapsalon price: €13.8",
          "Aelia Capitolina<br>Avg. kapsalon price: €9.31",
          "Afghan Restaurant Mahya<br>Avg. kapsalon price: €6.5",
          "Akym Food<br>Avg. kapsalon price: €7.0",
          "Al Baraka<br>Avg. kapsalon price: €7.42",
          "Al Manama<br>Avg. kapsalon price: €7.5",
          "Aladin<br>Avg. kapsalon price: €12.6",
          "Aleppo food<br>Avg. kapsalon price: €12.0",
          "Alex Grill House<br>Avg. kapsalon price: €9.88",
          "Ali Baba<br>Avg. kapsalon price: €11.33",
          "Ali Baba<br>Avg. kapsalon price: €8.88",
          "Ali Baba<br>Avg. kapsalon price: €10.13",
          "Ali Baba<br>Avg. kapsalon price: €12.28",
          "Ali Baba<br>Avg. kapsalon price: €11.82",
          "Ali Baba<br>Avg. kapsalon price: €8.67",
          "Ali Baba<br>Avg. kapsalon price: €11.75",
          "Ali Baba<br>Avg. kapsalon price: €7.38",
          "Ali Baba - Chez Assaad<br>Avg. kapsalon price: €9.0",
          "Ali Baba Doner Kebab Vennestraat<br>Avg. kapsalon price: €10.33",
          "Ali Baba Mechelen<br>Avg. kapsalon price: €8.83",
          "Ali Baba Restaurant<br>Avg. kapsalon price: €10.2",
          "Ali Baba Stalenstraat<br>Avg. kapsalon price: €11.67",
          "Ali Baba Stalenstraat<br>Avg. kapsalon price: €12.33",
          "Ali Baba Stalenstraat<br>Avg. kapsalon price: €12.33",
          "Ali Baba Vennestraat<br>Avg. kapsalon price: €12.33",
          "Ali Baba Vennestraat<br>Avg. kapsalon price: €11.33",
          "Ali Kebab <br>Avg. kapsalon price: €7.0",
          "Ali Pizzahuis<br>Avg. kapsalon price: €9.0",
          "Ali baba kebab<br>Avg. kapsalon price: €8.48",
          "Ali's Eethuis<br>Avg. kapsalon price: €11.33",
          "Allo Pizza<br>Avg. kapsalon price: €9.5",
          "Almina<br>Avg. kapsalon price: €8.0",
          "Alo Pizza<br>Avg. kapsalon price: €13.6",
          "Aly Baba<br>Avg. kapsalon price: €11.2",
          "Amari's<br>Avg. kapsalon price: €8.5",
          "Amber's Pizzalijn<br>Avg. kapsalon price: €11.0",
          "Amigo's<br>Avg. kapsalon price: €6.5",
          "Amine Delices<br>Avg. kapsalon price: €7.5",
          "Amon<br>Avg. kapsalon price: €12.25",
          "Amon<br>Avg. kapsalon price: €11.5",
          "Amon<br>Avg. kapsalon price: €9.63",
          "Amon<br>Avg. kapsalon price: €12.25",
          "Anatolia<br>Avg. kapsalon price: €10.8",
          "Anatolia<br>Avg. kapsalon price: €12.1",
          "Anatolia 23<br>Avg. kapsalon price: €12.1",
          "Anatolia Bakkerij<br>Avg. kapsalon price: €7.5",
          "Anatolia Hoogstraten<br>Avg. kapsalon price: €19.17",
          "Anatolian Kebap<br>Avg. kapsalon price: €12.67",
          "Anatolie's<br>Avg. kapsalon price: €9.5",
          "Andromeda<br>Avg. kapsalon price: €10.2",
          "Andromeda<br>Avg. kapsalon price: €10.22",
          "Anka Kebab<br>Avg. kapsalon price: €12.5",
          "Antalya Grill<br>Avg. kapsalon price: €11.0",
          "Antalya Kebab<br>Avg. kapsalon price: €12.71",
          "Antalya Pita<br>Avg. kapsalon price: €13.6",
          "Antwerp Kebab<br>Avg. kapsalon price: €8.33",
          "Antwerp Kebab<br>Avg. kapsalon price: €8.33",
          "Antwerp Kebab<br>Avg. kapsalon price: €8.33",
          "Antwerp Pizza - Pasta - Kebab<br>Avg. kapsalon price: €7.88",
          "Apollo Pizza<br>Avg. kapsalon price: €10.0",
          "Arabesq<br>Avg. kapsalon price: €11.25",
          "Arabesque<br>Avg. kapsalon price: €11.48",
          "Arabesque <br>Avg. kapsalon price: €9.21",
          "Ararat<br>Avg. kapsalon price: €13.0",
          "Aras Kontich Snack<br>Avg. kapsalon price: €9.31",
          "Arif Usta<br>Avg. kapsalon price: €7.67",
          "Asmin<br>Avg. kapsalon price: €12.25",
          "Atlas Lunch en Grillroom<br>Avg. kapsalon price: €8.31",
          "Atlasresto<br>Avg. kapsalon price: €11.0",
          "B@H - Burger At Home<br>Avg. kapsalon price: €9.5",
          "Baguette & Salad Bar<br>Avg. kapsalon price: €10.0",
          "Baguette & Salad Bar<br>Avg. kapsalon price: €11.59",
          "Balen'se Kebap<br>Avg. kapsalon price: €12.8",
          "Barbecue Duhok<br>Avg. kapsalon price: €5.0",
          "Barbercue Duhok<br>Avg. kapsalon price: €10.0",
          "Baskent Averbode<br>Avg. kapsalon price: €11.71",
          "Baskent Balen<br>Avg. kapsalon price: €13.0",
          "Baskent Meerhout<br>Avg. kapsalon price: €11.75",
          "Baskent Nijlen<br>Avg. kapsalon price: €14.65",
          "Baskent Peer<br>Avg. kapsalon price: €11.93",
          "Baskent Tessenderlo<br>Avg. kapsalon price: €11.83",
          "Bawabet Demashq<br>Avg. kapsalon price: €8.5",
          "Beko's<br>Avg. kapsalon price: €10.0",
          "Bel Kebab<br>Avg. kapsalon price: €12.21",
          "Belfort Fast Food<br>Avg. kapsalon price: €8.0",
          "Bella Rosa<br>Avg. kapsalon price: €10.25",
          "Bella Vita<br>Avg. kapsalon price: €11.24",
          "BellaVita<br>Avg. kapsalon price: €10.25",
          "Bereket Eethuis & Bakkerij<br>Avg. kapsalon price: €7.0",
          "Best Fresh<br>Avg. kapsalon price: €8.99",
          "Best Fresh <br>Avg. kapsalon price: €8.8",
          "Best Grill<br>Avg. kapsalon price: €12.29",
          "Best Grill<br>Avg. kapsalon price: €9.33",
          "Best Grill<br>Avg. kapsalon price: €9.13",
          "Best Grill Molenbeek<br>Avg. kapsalon price: €9.2",
          "Best Kebab<br>Avg. kapsalon price: €12.0",
          "Best Kebab<br>Avg. kapsalon price: €9.0",
          "Best of Kebap & Pizza Dender<br>Avg. kapsalon price: €7.33",
          "Beyzade<br>Avg. kapsalon price: €9.18",
          "Big Bite<br>Avg. kapsalon price: €10.02",
          "Big Bite<br>Avg. kapsalon price: €10.05",
          "Bodrum Palace<br>Avg. kapsalon price: €9.29",
          "Bodrum Palace<br>Avg. kapsalon price: €9.5",
          "Bogaz Kebab<br>Avg. kapsalon price: €8.92",
          "Bohemian Bistro <br>Avg. kapsalon price: €11.5",
          "Bolifrit<br>Avg. kapsalon price: €7.5",
          "Bolifrit<br>Avg. kapsalon price: €7.5",
          "Bosphorus<br>Avg. kapsalon price: €12.93",
          "Bosphorus<br>Avg. kapsalon price: €12.25",
          "Bosphorus Snack<br>Avg. kapsalon price: €12.14",
          "Boston Pizza<br>Avg. kapsalon price: €12.5",
          "Boston Pizza & Burgers<br>Avg. kapsalon price: €10.5",
          "Botanique<br>Avg. kapsalon price: €11.5",
          "Brasserie Shammy's<br>Avg. kapsalon price: €12.94",
          "Breughelhof Cafe Bistro<br>Avg. kapsalon price: €9.0",
          "Broodjescorner<br>Avg. kapsalon price: €9.28",
          "Broodjescorner<br>Avg. kapsalon price: €9.75",
          "Broodjeszaak PAINDOR<br>Avg. kapsalon price: €9.0",
          "Brugge Kebab<br>Avg. kapsalon price: €9.88",
          "Brugge Kebab<br>Avg. kapsalon price: €10.44",
          "Buenos Burgers<br>Avg. kapsalon price: €7.0",
          "Buenos Burgers<br>Avg. kapsalon price: €6.5",
          "Burger House<br>Avg. kapsalon price: €10.0",
          "Burger Kofte<br>Avg. kapsalon price: €10.5",
          "Burger at Home<br>Avg. kapsalon price: €9.5",
          "Bursa Kebab<br>Avg. kapsalon price: €8.5",
          "CaCo<br>Avg. kapsalon price: €11.9",
          "Cairo One<br>Avg. kapsalon price: €10.38",
          "Call Pizza<br>Avg. kapsalon price: €12.78",
          "Campus & Fratelli<br>Avg. kapsalon price: €13.31",
          "Campus & Fratelli<br>Avg. kapsalon price: €12.64",
          "Can Snack<br>Avg. kapsalon price: €12.0",
          "Can Snack & Grill<br>Avg. kapsalon price: €10.5",
          "Cannur Pizza Pasta Pitta BBQ<br>Avg. kapsalon price: €20.84",
          "Cappadocia<br>Avg. kapsalon price: €12.92",
          "Cappadocië<br>Avg. kapsalon price: €10.33",
          "Cedi's Kebab House<br>Avg. kapsalon price: €11.0",
          "Centrum Kebap<br>Avg. kapsalon price: €11.75",
          "Cesar Pizza Gent<br>Avg. kapsalon price: €9.33",
          "Cesar Pizza Snack<br>Avg. kapsalon price: €9.0",
          "Cesars<br>Avg. kapsalon price: €13.25",
          "Chef Eethuis<br>Avg. kapsalon price: €11.38",
          "Chef Kebab<br>Avg. kapsalon price: €8.13",
          "Chef Tielen<br>Avg. kapsalon price: €10.78",
          "Cheff Kebab<br>Avg. kapsalon price: €14.14",
          "Chez Hakan<br>Avg. kapsalon price: €10.47",
          "Chez Kalender<br>Avg. kapsalon price: €11.25",
          "Chicken Center<br>Avg. kapsalon price: €7.0",
          "Chicken Center<br>Avg. kapsalon price: €7.0",
          "Chicken Style<br>Avg. kapsalon price: €10.57",
          "Chicken World<br>Avg. kapsalon price: €11.0",
          "Chicken World Gent<br>Avg. kapsalon price: €11.85",
          "Chill's Corner<br>Avg. kapsalon price: €6.75",
          "Choco Pitta<br>Avg. kapsalon price: €8.5",
          "Cicek Kebab<br>Avg. kapsalon price: €8.75",
          "Cicek kebab<br>Avg. kapsalon price: €8.82",
          "City Food Lounge<br>Avg. kapsalon price: €11.5",
          "Cizbiz Donerland<br>Avg. kapsalon price: €11.2",
          "Cleopatra<br>Avg. kapsalon price: €9.5",
          "Compo's<br>Avg. kapsalon price: €9.9",
          "Containerke<br>Avg. kapsalon price: €9.05",
          "Cook Mazi<br>Avg. kapsalon price: €9.63",
          "Couleur Safran<br>Avg. kapsalon price: €10.23",
          "Couleur Safran<br>Avg. kapsalon price: €10.0",
          "Couleur Safran<br>Avg. kapsalon price: €9.5",
          "D'oude Stad<br>Avg. kapsalon price: €9.0",
          "DailySlice<br>Avg. kapsalon price: €15.0",
          "Dailyslice<br>Avg. kapsalon price: €12.25",
          "Damas Veneto<br>Avg. kapsalon price: €7.19",
          "Damas Veneto<br>Avg. kapsalon price: €19.99",
          "Damasco<br>Avg. kapsalon price: €9.0",
          "Damasco Leuven<br>Avg. kapsalon price: €10.0",
          "Damasveneto<br>Avg. kapsalon price: €8.99",
          "Dar Es Salaam<br>Avg. kapsalon price: €9.0",
          "De Chef<br>Avg. kapsalon price: €11.0",
          "De Echte Eethuis Carlos<br>Avg. kapsalon price: €13.78",
          "De Fontein<br>Avg. kapsalon price: €13.0",
          "De Hoek Van Marrakech<br>Avg. kapsalon price: €8.5",
          "De Kapsalon<br>Avg. kapsalon price: €5.95",
          "De Mijn Kebab<br>Avg. kapsalon price: €12.5",
          "De Nijl<br>Avg. kapsalon price: €7.08",
          "De Nijl 1<br>Avg. kapsalon price: €7.58",
          "De Nijl | Leuven<br>Avg. kapsalon price: €6.25",
          "De Pizzabakker<br>Avg. kapsalon price: €13.25",
          "De Pyramiden<br>Avg. kapsalon price: €11.0",
          "De Waterput<br>Avg. kapsalon price: €12.0",
          "De Waterput<br>Avg. kapsalon price: €10.7",
          "De ster pizzeria & doner kebap<br>Avg. kapsalon price: €12.63",
          "Dejeuner Delice<br>Avg. kapsalon price: €8.0",
          "Delicio Snack<br>Avg. kapsalon price: €9.67",
          "Delta Pizza<br>Avg. kapsalon price: €8.1",
          "Dennis Kebab<br>Avg. kapsalon price: €10.9",
          "Dennis Kebap<br>Avg. kapsalon price: €12.4",
          "Dilsu Pizza Pitta<br>Avg. kapsalon price: €9.9",
          "Dinner & you burgers, grill & more <br>Avg. kapsalon price: €7.25",
          "Dinner&You Burgers, Grill & More<br>Avg. kapsalon price: €9.46",
          "Don Sako<br>Avg. kapsalon price: €8.0",
          "Doner Kebab Bahri<br>Avg. kapsalon price: €11.0",
          "Donerix<br>Avg. kapsalon price: €11.73",
          "Donerix<br>Avg. kapsalon price: €10.73",
          "Donerland<br>Avg. kapsalon price: €8.5",
          "Donerland Aalst<br>Avg. kapsalon price: €10.5",
          "Doy Doys<br>Avg. kapsalon price: €11.62",
          "Doy Doys<br>Avg. kapsalon price: €11.62",
          "Doy Doys<br>Avg. kapsalon price: €12.29",
          "Dr. Grill<br>Avg. kapsalon price: €12.63",
          "Duffelse Kebab<br>Avg. kapsalon price: €10.69",
          "Dunya - Kebab<br>Avg. kapsalon price: €13.38",
          "Dunya Döner<br>Avg. kapsalon price: €10.67",
          "Dunya Kebab<br>Avg. kapsalon price: €13.55",
          "Durum Express<br>Avg. kapsalon price: €11.0",
          "Döner Kebab Anatolia<br>Avg. kapsalon price: €11.0",
          "EALAA KAYFIK <br>Avg. kapsalon price: €15.99",
          "EL BARAKA antwerp<br>Avg. kapsalon price: €9.75",
          "Eala Kayfik<br>Avg. kapsalon price: €15.99",
          "Ealaa Kayfik<br>Avg. kapsalon price: €9.99",
          "Eat Point<br>Avg. kapsalon price: €9.3",
          "Eat-Point<br>Avg. kapsalon price: €11.58",
          "Eatpoint<br>Avg. kapsalon price: €13.25",
          "Ediz Pizza-Pita<br>Avg. kapsalon price: €13.07",
          "Eetboutique Kaya<br>Avg. kapsalon price: €12.75",
          "Eetcafe Antep<br>Avg. kapsalon price: €11.21",
          "Eetcafé Ossendrecht<br>Avg. kapsalon price: €8.8",
          "Eethuis Bidos<br>Avg. kapsalon price: €13.36",
          "Eethuis Bij Hakan<br>Avg. kapsalon price: €12.38",
          "Eethuis Botan<br>Avg. kapsalon price: €13.18",
          "Eethuis Dalin<br>Avg. kapsalon price: €11.12",
          "Eethuis Florya Lommel<br>Avg. kapsalon price: €11.14",
          "Eethuis Florya Neerpelt<br>Avg. kapsalon price: €12.07",
          "Eethuis Hoekske<br>Avg. kapsalon price: €13.2",
          "Eethuis Istanbul<br>Avg. kapsalon price: €9.42",
          "Eethuis Istanbul<br>Avg. kapsalon price: €12.0",
          "Eethuis Kodak<br>Avg. kapsalon price: €14.71",
          "Eethuis Mehmet<br>Avg. kapsalon price: €12.33",
          "Eethuis Meyman<br>Avg. kapsalon price: €12.71",
          "Eethuis Musti<br>Avg. kapsalon price: €11.17",
          "Eethuis Nazar<br>Avg. kapsalon price: €11.94",
          "Eethuis Nazar<br>Avg. kapsalon price: €13.21",
          "Eethuis Orient<br>Avg. kapsalon price: €11.8",
          "Eethuis Orient<br>Avg. kapsalon price: €15.0",
          "Eethuis Royale<br>Avg. kapsalon price: €8.5",
          "Eethuis Star<br>Avg. kapsalon price: €11.1",
          "Eethuis Taha<br>Avg. kapsalon price: €10.5",
          "Eethuis Taksim<br>Avg. kapsalon price: €11.9",
          "Eethuis Troja<br>Avg. kapsalon price: €12.17",
          "Eethuis Tuba<br>Avg. kapsalon price: €13.2",
          "Eethuis Turnhout<br>Avg. kapsalon price: €13.07",
          "Eethuis Van Gogh<br>Avg. kapsalon price: €8.33",
          "Eethuis Van Gogh<br>Avg. kapsalon price: €8.33",
          "Eethuis Yuksel<br>Avg. kapsalon price: €13.2",
          "Eethuis Zemzem<br>Avg. kapsalon price: €10.67",
          "Eethuis familia<br>Avg. kapsalon price: €12.5",
          "Efes<br>Avg. kapsalon price: €13.86",
          "Efes Geetbets<br>Avg. kapsalon price: €11.5",
          "Efes Grillhouse, Kebab & Pizzeria<br>Avg. kapsalon price: €11.78",
          "Efes Mol<br>Avg. kapsalon price: €11.65",
          "Efes Mol<br>Avg. kapsalon price: €14.15",
          "Efes bij Carlos Niko<br>Avg. kapsalon price: €12.63",
          "Egmont Snack<br>Avg. kapsalon price: €8.55",
          "Egmont Snack<br>Avg. kapsalon price: €8.29",
          "El Baraka<br>Avg. kapsalon price: €9.89",
          "El Nacho's<br>Avg. kapsalon price: €10.75",
          "El Nacho's<br>Avg. kapsalon price: €10.0",
          "El assyl<br>Avg. kapsalon price: €11.5",
          "Ela Kebap<br>Avg. kapsalon price: €10.63",
          "Eldina Snack<br>Avg. kapsalon price: €10.5",
          "Eldina Snack & Resto<br>Avg. kapsalon price: €6.75",
          "Elif Grill Huis<br>Avg. kapsalon price: €9.25",
          "Elit<br>Avg. kapsalon price: €8.43",
          "Elite Kebab<br>Avg. kapsalon price: €10.88",
          "Emir Baba Köfte & Kebab<br>Avg. kapsalon price: €13.67",
          "Eric's Burger & Streetfood<br>Avg. kapsalon price: €9.0",
          "Euro Kebab-Pizza<br>Avg. kapsalon price: €12.0",
          "Euro Pizza Grill<br>Avg. kapsalon price: €13.13",
          "Everest Quick Food<br>Avg. kapsalon price: €9.25",
          "FRITUUR OVERPOORT<br>Avg. kapsalon price: €8.0",
          "FRITUUR OVERPOORT<br>Avg. kapsalon price: €8.0",
          "Family<br>Avg. kapsalon price: €9.0",
          "Fansa<br>Avg. kapsalon price: €11.75",
          "Fast 2 Go<br>Avg. kapsalon price: €9.11",
          "Fast2go <br>Avg. kapsalon price: €8.7",
          "Flamingo Pizza & Kebap<br>Avg. kapsalon price: €17.35",
          "Florya Kebab & Pizzeria<br>Avg. kapsalon price: €11.38",
          "Food Box<br>Avg. kapsalon price: €10.0",
          "Food King<br>Avg. kapsalon price: €9.9",
          "Food Like Home<br>Avg. kapsalon price: €9.79",
          "Foodbar Melisa<br>Avg. kapsalon price: €6.0",
          "Foodbar Orient Kuringen<br>Avg. kapsalon price: €10.5",
          "Foodtruck Pitta Mustafari<br>Avg. kapsalon price: €11.1",
          "Forty Seven<br>Avg. kapsalon price: €10.58",
          "Forty Seven<br>Avg. kapsalon price: €13.92",
          "Fratello KORTRIJK<br>Avg. kapsalon price: €8.0",
          "Fresca<br>Avg. kapsalon price: €12.0",
          "Fresh Pita<br>Avg. kapsalon price: €9.24",
          "Friethouse - Merksem<br>Avg. kapsalon price: €7.5",
          "Friterie Dailly<br>Avg. kapsalon price: €8.25",
          "Friterie Houba<br>Avg. kapsalon price: €12.9",
          "Friterie Ylli<br>Avg. kapsalon price: €7.63",
          "Friterie Ylli - Bruxelles<br>Avg. kapsalon price: €9.63",
          "Frituur 't Bekske<br>Avg. kapsalon price: €9.0",
          "Frituur 't Hoekske<br>Avg. kapsalon price: €8.0",
          "Frituur 't Kroontje<br>Avg. kapsalon price: €7.64",
          "Frituur 't Patatje<br>Avg. kapsalon price: €14.0",
          "Frituur Anita<br>Avg. kapsalon price: €10.0",
          "Frituur Bossuwé Pottelberg<br>Avg. kapsalon price: €12.83",
          "Frituur Cité<br>Avg. kapsalon price: €12.5",
          "Frituur Conny & Franky<br>Avg. kapsalon price: €14.9",
          "Frituur De Gitschotel<br>Avg. kapsalon price: €8.25",
          "Frituur De Gitschotel<br>Avg. kapsalon price: €8.25",
          "Frituur De Gitschotel<br>Avg. kapsalon price: €8.25",
          "Frituur De Mijn<br>Avg. kapsalon price: €10.17",
          "Frituur De Petaat<br>Avg. kapsalon price: €10.0",
          "Frituur Heuvelpoort<br>Avg. kapsalon price: €12.4",
          "Frituur Karin<br>Avg. kapsalon price: €8.83",
          "Frituur Koningslo<br>Avg. kapsalon price: €9.2",
          "Frituur L'Orient Express<br>Avg. kapsalon price: €10.5",
          "Frituur Muzzy<br>Avg. kapsalon price: €11.0",
          "Frituur Nationale<br>Avg. kapsalon price: €9.1",
          "Frituur Nationale<br>Avg. kapsalon price: €9.1",
          "Frituur Nou Nou<br>Avg. kapsalon price: €9.0",
          "Frituur Overpoort<br>Avg. kapsalon price: €8.5",
          "Frituur Pita de Brug<br>Avg. kapsalon price: €10.67",
          "Frituur Pitta Twee Deuren<br>Avg. kapsalon price: €12.0",
          "Frituur Plantin<br>Avg. kapsalon price: €7.83",
          "Frituur Statie<br>Avg. kapsalon price: €10.0",
          "Frituur brother's<br>Avg. kapsalon price: €10.8",
          "Frituur het kroontje<br>Avg. kapsalon price: €7.64",
          "Frituur nounou <br>Avg. kapsalon price: €8.0",
          "Frituur-Grillroom Dalia<br>Avg. kapsalon price: €11.3",
          "Gansho Food<br>Avg. kapsalon price: €7.8",
          "Gevara<br>Avg. kapsalon price: €6.0",
          "Ghoshto Eethuis<br>Avg. kapsalon price: €9.0",
          "Ghoshto Eethuis<br>Avg. kapsalon price: €8.0",
          "Ghoshto Eethuis<br>Avg. kapsalon price: €9.33",
          "Giovanniâ€™s Ekeren<br>Avg. kapsalon price: €10.0",
          "Gold Pizza<br>Avg. kapsalon price: €12.5",
          "Golden Friet<br>Avg. kapsalon price: €10.13",
          "Golden Friet<br>Avg. kapsalon price: €7.25",
          "Golden Spice<br>Avg. kapsalon price: €14.25",
          "Goody's<br>Avg. kapsalon price: €10.7",
          "Grand Basha<br>Avg. kapsalon price: €9.0",
          "Grand Basha Brugge<br>Avg. kapsalon price: €9.0",
          "Grand Station<br>Avg. kapsalon price: €11.29",
          "Grill & Service<br>Avg. kapsalon price: €10.17",
          "Grill Bar - The Shake<br>Avg. kapsalon price: €10.0",
          "Grill House Centrum<br>Avg. kapsalon price: €11.38",
          "Grill Leuven<br>Avg. kapsalon price: €7.38",
          "Grill Leuven<br>Avg. kapsalon price: €7.33",
          "Grill Metin<br>Avg. kapsalon price: €13.62",
          "Grill Mix Centrum<br>Avg. kapsalon price: €9.7",
          "Grill&service<br>Avg. kapsalon price: €10.0",
          "Grillades Panios<br>Avg. kapsalon price: €10.5",
          "Grillhouse Kusadasi<br>Avg. kapsalon price: €12.14",
          "Grillhouse Seven & Ipek<br>Avg. kapsalon price: €8.0",
          "Grillmixcentrum<br>Avg. kapsalon price: €10.0",
          "Grillé Darna<br>Avg. kapsalon price: €6.8",
          "Gulle Lepel<br>Avg. kapsalon price: €8.04",
          "Gül Food<br>Avg. kapsalon price: €11.75",
          "HB Resto<br>Avg. kapsalon price: €10.25",
          "HKebab Pizza<br>Avg. kapsalon price: €13.67",
          "Hakko<br>Avg. kapsalon price: €10.0",
          "Hanelly Food<br>Avg. kapsalon price: €9.21",
          "Hapjes Time<br>Avg. kapsalon price: €10.41",
          "Hapjes Time<br>Avg. kapsalon price: €9.14",
          "Hasseltse Kebab<br>Avg. kapsalon price: €11.33",
          "Hawin Bakkerij Gent<br>Avg. kapsalon price: €6.5",
          "Heide<br>Avg. kapsalon price: €11.0",
          "Heist Kebab<br>Avg. kapsalon price: €10.93",
          "Herentals Kebab<br>Avg. kapsalon price: €15.57",
          "Het Hoekske<br>Avg. kapsalon price: €7.5",
          "Het Paleis Eethuis<br>Avg. kapsalon price: €13.22",
          "Heuvelpoort - Frituur & Snack<br>Avg. kapsalon price: €12.4",
          "Hever Kebab<br>Avg. kapsalon price: €12.25",
          "Hot Pizza<br>Avg. kapsalon price: €7.5",
          "Huzur Kebab<br>Avg. kapsalon price: €11.4",
          "Huzur Kebab - Lille<br>Avg. kapsalon price: €8.38",
          "Huzur Pizzeria Kebab<br>Avg. kapsalon price: €11.95",
          "Huzur Pizzeria Kebab<br>Avg. kapsalon price: €15.11",
          "Huzur Pizzeria Kebab<br>Avg. kapsalon price: €11.83",
          "Huzur Pizzeria Kebab<br>Avg. kapsalon price: €12.86",
          "Il Gusto Pizzeria<br>Avg. kapsalon price: €11.0",
          "Il Padrino<br>Avg. kapsalon price: €7.5",
          "Il Viadotto<br>Avg. kapsalon price: €9.25",
          "Indian tadka & Istanbul kebab<br>Avg. kapsalon price: €11.4",
          "Iran Chicken Grill<br>Avg. kapsalon price: €11.0",
          "Iran Chicken Grill<br>Avg. kapsalon price: €11.0",
          "Iran Chicken Grill <br>Avg. kapsalon price: €11.0",
          "Isis<br>Avg. kapsalon price: €12.25",
          "Istanbul<br>Avg. kapsalon price: €14.65",
          "Istanbul<br>Avg. kapsalon price: €10.79",
          "Istanbul<br>Avg. kapsalon price: €12.33",
          "Istanbul<br>Avg. kapsalon price: €11.0",
          "Istanbul Eethuis<br>Avg. kapsalon price: €7.5",
          "Istanbul Eethuis<br>Avg. kapsalon price: €7.5",
          "Istanbul Grill Huis<br>Avg. kapsalon price: €11.75",
          "Istanbul Resto Snack<br>Avg. kapsalon price: €13.0",
          "Istanbul Snacks<br>Avg. kapsalon price: €11.5",
          "Istanbul Snacks<br>Avg. kapsalon price: €11.8",
          "Istanbul leuven<br>Avg. kapsalon price: €7.38",
          "Istanbul pita & pizza <br>Avg. kapsalon price: €8.0",
          "Istanbul pizza & pita<br>Avg. kapsalon price: €8.0",
          "Italian Delights<br>Avg. kapsalon price: €10.0",
          "Izmir Kebab<br>Avg. kapsalon price: €12.0",
          "Izmir Snacks<br>Avg. kapsalon price: €10.0",
          "Jerusalem<br>Avg. kapsalon price: €10.67",
          "Jerusalem Pita-Shoarma-Pizzeria<br>Avg. kapsalon price: €10.67",
          "Just Veggies<br>Avg. kapsalon price: €8.0",
          "Kaai Pizzeria<br>Avg. kapsalon price: €11.0",
          "Kaboulsnack<br>Avg. kapsalon price: €7.04",
          "Kadirga<br>Avg. kapsalon price: €10.33",
          "Kalender Frietjes<br>Avg. kapsalon price: €10.5",
          "Kap Saloon<br>Avg. kapsalon price: €7.14",
          "Kap ou pas Kap Salon<br>Avg. kapsalon price: €16.4",
          "Kapadokya döner<br>Avg. kapsalon price: €11.43",
          "Kapsalon <br>Avg. kapsalon price: €7.23",
          "Karine Dendermonde<br>Avg. kapsalon price: €12.0",
          "Karine Dendermonde<br>Avg. kapsalon price: €11.83",
          "Karine Grembergen<br>Avg. kapsalon price: €12.0",
          "Karine Grembergen<br>Avg. kapsalon price: €12.0",
          "Kaya<br>Avg. kapsalon price: €11.89",
          "Kaya Pitta<br>Avg. kapsalon price: €9.9",
          "Kebab Bizet<br>Avg. kapsalon price: €7.5",
          "Kebab Company<br>Avg. kapsalon price: €10.0",
          "Kebab House<br>Avg. kapsalon price: €13.5",
          "Kebab Leuven<br>Avg. kapsalon price: €9.25",
          "Kebab Leuven<br>Avg. kapsalon price: €9.13",
          "Kebab Oelegem<br>Avg. kapsalon price: €11.11",
          "Kebab Time<br>Avg. kapsalon price: €12.6",
          "Kebab Time<br>Avg. kapsalon price: €10.05",
          "Kebab Vrijdag<br>Avg. kapsalon price: €6.0",
          "Kebab love<br>Avg. kapsalon price: €7.0",
          "Kebab love <br>Avg. kapsalon price: €7.67",
          "Kebab@Home<br>Avg. kapsalon price: €13.0",
          "Kebab@Home<br>Avg. kapsalon price: €13.0",
          "Kebab@home<br>Avg. kapsalon price: €12.25",
          "Kebaba<br>Avg. kapsalon price: €10.33",
          "Kebabstore<br>Avg. kapsalon price: €13.83",
          "Kebap - Pizza De Brug<br>Avg. kapsalon price: €12.0",
          "Kebap Anatolia<br>Avg. kapsalon price: €10.67",
          "Kebap Corner<br>Avg. kapsalon price: €12.5",
          "Kebap Food<br>Avg. kapsalon price: €9.0",
          "Kebap Food<br>Avg. kapsalon price: €8.5",
          "Kebap Kursat<br>Avg. kapsalon price: €12.0",
          "Kebap Mustafa<br>Avg. kapsalon price: €10.83",
          "Kebap Nisa<br>Avg. kapsalon price: €12.31",
          "Kebap Oasis<br>Avg. kapsalon price: €14.38",
          "Kebap Store<br>Avg. kapsalon price: €12.53",
          "Kebap X-Press Turnhout<br>Avg. kapsalon price: €10.5",
          "Kebap Xpress<br>Avg. kapsalon price: €11.5",
          "Kent<br>Avg. kapsalon price: €12.8",
          "Keyf Lounge<br>Avg. kapsalon price: €15.78",
          "King Kebab<br>Avg. kapsalon price: €9.5",
          "King Kebab<br>Avg. kapsalon price: €10.0",
          "King Kebap<br>Avg. kapsalon price: €11.0",
          "King Of Kebab<br>Avg. kapsalon price: €13.0",
          "King Pizza & More<br>Avg. kapsalon price: €8.5",
          "King Pizza & More<br>Avg. kapsalon price: €8.5",
          "King Pizza Vilvoorde<br>Avg. kapsalon price: €8.95",
          "King Potato<br>Avg. kapsalon price: €8.5",
          "King kebab<br>Avg. kapsalon price: €10.0",
          "King kebab<br>Avg. kapsalon price: €10.0",
          "Kokorecci Antwerpen<br>Avg. kapsalon price: €8.0",
          "Kokorecci Antwerpen<br>Avg. kapsalon price: €9.0",
          "Konak<br>Avg. kapsalon price: €10.44",
          "Konak Pizzeria Doner Kebab<br>Avg. kapsalon price: €13.0",
          "Konya kebab<br>Avg. kapsalon price: €9.5",
          "Koz Kebap<br>Avg. kapsalon price: €7.5",
          "Kral Snacks<br>Avg. kapsalon price: €12.43",
          "Kubaba<br>Avg. kapsalon price: €11.17",
          "Kulba Kabul ( Afghan restaurant)<br>Avg. kapsalon price: €8.0",
          "La Bella<br>Avg. kapsalon price: €13.23",
          "La Casa Pizzeria<br>Avg. kapsalon price: €11.13",
          "La Casa Snack<br>Avg. kapsalon price: €8.3",
          "La Dany<br>Avg. kapsalon price: €9.86",
          "La Dany<br>Avg. kapsalon price: €10.13",
          "La Famiglia<br>Avg. kapsalon price: €9.5",
          "La Maison du Kebab<br>Avg. kapsalon price: €9.13",
          "La Medina Chez Houssin<br>Avg. kapsalon price: €7.0",
          "La Monte Carlo<br>Avg. kapsalon price: €11.9",
          "La Monte Carlo<br>Avg. kapsalon price: €9.9",
          "La Monte Carlo - City<br>Avg. kapsalon price: €11.95",
          "La Monte Carlo City<br>Avg. kapsalon price: €11.95",
          "La Palmeraie<br>Avg. kapsalon price: €9.0",
          "La Rosa<br>Avg. kapsalon price: €15.75",
          "La Rosa<br>Avg. kapsalon price: €12.25",
          "La Rose<br>Avg. kapsalon price: €8.2",
          "Lara Eethuis<br>Avg. kapsalon price: €11.8",
          "Layana Food<br>Avg. kapsalon price: €10.9",
          "Le 1050 Snack<br>Avg. kapsalon price: €10.5",
          "Le Cerisier<br>Avg. kapsalon price: €10.0",
          "Le Kasseria<br>Avg. kapsalon price: €9.5",
          "Leo's Bakkerij & Kebab<br>Avg. kapsalon price: €14.0",
          "Les 4 Goûts<br>Avg. kapsalon price: €10.0",
          "Lezziz<br>Avg. kapsalon price: €7.9",
          "Lilse Kebab 2<br>Avg. kapsalon price: €10.57",
          "Lilse Kebap<br>Avg. kapsalon price: €11.43",
          "Liman Grill House<br>Avg. kapsalon price: €11.67",
          "LindelBaskent<br>Avg. kapsalon price: €11.8",
          "Liva Kebab<br>Avg. kapsalon price: €8.83",
          "LivaKebab<br>Avg. kapsalon price: €10.33",
          "Liya Kebab & Pizzaria<br>Avg. kapsalon price: €10.0",
          "Loco Pizza<br>Avg. kapsalon price: €9.3",
          "Loco Pizza 2<br>Avg. kapsalon price: €9.3",
          "Lommelse Kebab<br>Avg. kapsalon price: €11.0",
          "Loons Qebap<br>Avg. kapsalon price: €11.9",
          "Lunch Factory<br>Avg. kapsalon price: €8.57",
          "Lunch Halte<br>Avg. kapsalon price: €9.15",
          "Lunch Halte<br>Avg. kapsalon price: €9.9",
          "M&N Royal<br>Avg. kapsalon price: €12.38",
          "M84U<br>Avg. kapsalon price: €12.0",
          "MARHABA<br>Avg. kapsalon price: €8.6",
          "MY PIZZA (KOR)<br>Avg. kapsalon price: €10.0",
          "Maara Uno<br>Avg. kapsalon price: €10.33",
          "Madame Gusto<br>Avg. kapsalon price: €12.5",
          "Madina food<br>Avg. kapsalon price: €9.0",
          "Maestro<br>Avg. kapsalon price: €10.46",
          "Magic Food<br>Avg. kapsalon price: €10.5",
          "Magic Kebap-Kessenich<br>Avg. kapsalon price: €10.92",
          "Mahya<br>Avg. kapsalon price: €7.23",
          "Maison Grill<br>Avg. kapsalon price: €7.17",
          "Mam's Burger<br>Avg. kapsalon price: €9.75",
          "Mam's burger<br>Avg. kapsalon price: €9.75",
          "Mam's burger<br>Avg. kapsalon price: €10.9",
          "Mama Eethuis<br>Avg. kapsalon price: €8.5",
          "Mamma Mia<br>Avg. kapsalon price: €13.0",
          "Marinah<br>Avg. kapsalon price: €7.5",
          "Marinah<br>Avg. kapsalon price: €7.5",
          "Mario's Pizza<br>Avg. kapsalon price: €12.0",
          "Marmara<br>Avg. kapsalon price: €9.5",
          "Marrakech<br>Avg. kapsalon price: €9.0",
          "Masala Express<br>Avg. kapsalon price: €9.0",
          "Masala Express<br>Avg. kapsalon price: €9.0",
          "Masaya<br>Avg. kapsalon price: €11.0",
          "Mashar Pide<br>Avg. kapsalon price: €13.17",
          "Master Kebab<br>Avg. kapsalon price: €9.4",
          "Max snacks<br>Avg. kapsalon price: €7.0",
          "Maxx Pizza<br>Avg. kapsalon price: €9.0",
          "Mc Buffet<br>Avg. kapsalon price: €14.0",
          "Mc'Döner'S<br>Avg. kapsalon price: €9.21",
          "Mcbuffet<br>Avg. kapsalon price: €14.0",
          "Mehtap<br>Avg. kapsalon price: €9.83",
          "Melita<br>Avg. kapsalon price: €12.82",
          "Melita<br>Avg. kapsalon price: €12.92",
          "Melita Original<br>Avg. kapsalon price: €22.79",
          "Memo Pizza<br>Avg. kapsalon price: €12.0",
          "Memo's<br>Avg. kapsalon price: €8.5",
          "Memo's<br>Avg. kapsalon price: €12.0",
          "Merdin 1<br>Avg. kapsalon price: €11.8",
          "Merdin 2<br>Avg. kapsalon price: €11.0",
          "Merdin 3<br>Avg. kapsalon price: €9.89",
          "Merdin Kebab<br>Avg. kapsalon price: €10.0",
          "Meydaan<br>Avg. kapsalon price: €8.8",
          "Mezopotamya<br>Avg. kapsalon price: €9.0",
          "Mi-Chaud Snack<br>Avg. kapsalon price: €6.47",
          "Miam's Burger<br>Avg. kapsalon price: €10.0",
          "Midyat<br>Avg. kapsalon price: €13.67",
          "Mila Palace<br>Avg. kapsalon price: €9.29",
          "Mila Palace<br>Avg. kapsalon price: €9.29",
          "Milano Bornem<br>Avg. kapsalon price: €11.4",
          "Milano Pizza Grill<br>Avg. kapsalon price: €13.17",
          "Milas<br>Avg. kapsalon price: €13.88",
          "Millenium Kebap<br>Avg. kapsalon price: €13.38",
          "Milo II Kebap Pizza Pasta<br>Avg. kapsalon price: €12.08",
          "Milo Kebap Pizza Pasta<br>Avg. kapsalon price: €15.65",
          "Mimm's <br>Avg. kapsalon price: €7.63",
          "Mira<br>Avg. kapsalon price: €13.0",
          "Miracle<br>Avg. kapsalon price: €10.5",
          "Miro's snack<br>Avg. kapsalon price: €8.6",
          "Miss Pizza<br>Avg. kapsalon price: €9.0",
          "Mister Pizza<br>Avg. kapsalon price: €9.0",
          "Mixor Kebab<br>Avg. kapsalon price: €10.95",
          "Mixor Kebab<br>Avg. kapsalon price: €8.98",
          "Mixor Kebab<br>Avg. kapsalon price: €9.0",
          "Mks Food Like Home<br>Avg. kapsalon price: €9.79",
          "Mob's Grill (Halal)<br>Avg. kapsalon price: €8.0",
          "Mobs Grillpizza <br>Avg. kapsalon price: €10.0",
          "Moni<br>Avg. kapsalon price: €12.25",
          "Moni<br>Avg. kapsalon price: €12.25",
          "Mr Ribs<br>Avg. kapsalon price: €10.0",
          "Mr spare ribs<br>Avg. kapsalon price: €14.0",
          "Mr. Ribs<br>Avg. kapsalon price: €10.0",
          "Mr. Spareribs<br>Avg. kapsalon price: €14.0",
          "Munis Restaurant<br>Avg. kapsalon price: €10.83",
          "Munis Restaurant<br>Avg. kapsalon price: €10.83",
          "Muradim<br>Avg. kapsalon price: €10.7",
          "Murat Pita Pizza Pasta<br>Avg. kapsalon price: €10.5",
          "Musty Kebab<br>Avg. kapsalon price: €12.63",
          "My Kebab<br>Avg. kapsalon price: €15.39",
          "My Pizza<br>Avg. kapsalon price: €9.0",
          "My kebab - Zonhoven<br>Avg. kapsalon price: €17.88",
          "NAZ Kebab<br>Avg. kapsalon price: €8.5",
          "Najmat Al shaam<br>Avg. kapsalon price: €6.5",
          "Napoli<br>Avg. kapsalon price: €9.32",
          "Napoli Heers<br>Avg. kapsalon price: €10.8",
          "Napoli Pizza Grill<br>Avg. kapsalon price: €11.75",
          "Napoli Schoten<br>Avg. kapsalon price: €13.72",
          "Napoli Schoten<br>Avg. kapsalon price: €9.5",
          "Napolitano<br>Avg. kapsalon price: €7.0",
          "Naroj<br>Avg. kapsalon price: €10.5",
          "Nasip<br>Avg. kapsalon price: €10.0",
          "Nazar Pizza Kebap<br>Avg. kapsalon price: €13.67",
          "Nazar Side<br>Avg. kapsalon price: €10.88",
          "Nefertete<br>Avg. kapsalon price: €11.38",
          "Nemrut<br>Avg. kapsalon price: €10.5",
          "New City<br>Avg. kapsalon price: €9.6",
          "New Maan<br>Avg. kapsalon price: €11.33",
          "New Maan Pizza & Wok & Burger<br>Avg. kapsalon price: €11.0",
          "NewWay<br>Avg. kapsalon price: €8.75",
          "NewWay Leuven<br>Avg. kapsalon price: €11.6",
          "Nino Grill<br>Avg. kapsalon price: €9.56",
          "Nisa Pita & Kebab<br>Avg. kapsalon price: €9.5",
          "Njam Njam Pizza<br>Avg. kapsalon price: €10.0",
          "Noor Pizza<br>Avg. kapsalon price: €8.33",
          "Noumidia Resto<br>Avg. kapsalon price: €9.25",
          "Nrj<br>Avg. kapsalon price: €6.67",
          "Number One Snack<br>Avg. kapsalon price: €12.4",
          "Nur Kebab<br>Avg. kapsalon price: €14.25",
          "O Saveurs<br>Avg. kapsalon price: €8.0",
          "O'Couscous<br>Avg. kapsalon price: €9.5",
          "Oba Grillhuis<br>Avg. kapsalon price: €13.17",
          "Oklava<br>Avg. kapsalon price: €11.08",
          "Only Kebab<br>Avg. kapsalon price: €9.15",
          "Only Kebab<br>Avg. kapsalon price: €9.05",
          "Only Kebap<br>Avg. kapsalon price: €8.53",
          "Orient<br>Avg. kapsalon price: €13.5",
          "Orient Diest<br>Avg. kapsalon price: €11.4",
          "Orient Hasselt<br>Avg. kapsalon price: €10.9",
          "Orient KURINGEN<br>Avg. kapsalon price: €12.17",
          "Orient Lanaken<br>Avg. kapsalon price: €10.28",
          "Orient Overpelt<br>Avg. kapsalon price: €14.5",
          "Orontes<br>Avg. kapsalon price: €11.33",
          "Osman Kebab Pizzeria<br>Avg. kapsalon price: €12.0",
          "Ottoman BBQ<br>Avg. kapsalon price: €8.67",
          "Ottoman Eethuis<br>Avg. kapsalon price: €12.86",
          "Ottoman Pizza & BBQ<br>Avg. kapsalon price: €11.83",
          "PALMIRA RESTAURANT<br>Avg. kapsalon price: €9.0",
          "PITAWAN<br>Avg. kapsalon price: €15.9",
          "Pacha Kebab<br>Avg. kapsalon price: €9.08",
          "Pacha Kebap<br>Avg. kapsalon price: €7.94",
          "Pain d'Or<br>Avg. kapsalon price: €9.0",
          "Pakistan Royal Food<br>Avg. kapsalon price: €10.0",
          "Pala's Food<br>Avg. kapsalon price: €9.2",
          "Pala's Food<br>Avg. kapsalon price: €7.25",
          "Palmira Restaurant<br>Avg. kapsalon price: €10.0",
          "Pamukkale II - Pitta<br>Avg. kapsalon price: €9.85",
          "Panini & Grill<br>Avg. kapsalon price: €10.29",
          "Papi's pizza<br>Avg. kapsalon price: €13.15",
          "Pasa<br>Avg. kapsalon price: €15.0",
          "Pasa Snack<br>Avg. kapsalon price: €10.5",
          "Pasta Pitta Derik<br>Avg. kapsalon price: €11.38",
          "Payitaht<br>Avg. kapsalon price: €10.33",
          "Petit palais<br>Avg. kapsalon price: €9.5",
          "Pim's Burger<br>Avg. kapsalon price: €8.75",
          "Pinocchio<br>Avg. kapsalon price: €11.14",
          "Pita & Pizza Ela<br>Avg. kapsalon price: €9.5",
          "Pita 't Krokantje<br>Avg. kapsalon price: €9.1",
          "Pita Antalya<br>Avg. kapsalon price: €8.5",
          "Pita Babylon<br>Avg. kapsalon price: €11.25",
          "Pita Cleopatra<br>Avg. kapsalon price: €10.4",
          "Pita Cleopatra<br>Avg. kapsalon price: €11.2",
          "Pita De Waterpoort<br>Avg. kapsalon price: €10.0",
          "Pita Efes<br>Avg. kapsalon price: €9.5",
          "Pita Efes 2<br>Avg. kapsalon price: €12.0",
          "Pita Ephesus<br>Avg. kapsalon price: €11.25",
          "Pita Express<br>Avg. kapsalon price: €7.69",
          "Pita Huis Blauwwater<br>Avg. kapsalon price: €9.5",
          "Pita Huis Blauwwater<br>Avg. kapsalon price: €11.5",
          "Pita Mersan<br>Avg. kapsalon price: €9.41",
          "Pita Moorselbaan<br>Avg. kapsalon price: €8.25",
          "Pita Muradim<br>Avg. kapsalon price: €10.58",
          "Pita Muradim<br>Avg. kapsalon price: €10.7",
          "Pita Number 1<br>Avg. kapsalon price: €11.0",
          "Pita Piramide<br>Avg. kapsalon price: €12.0",
          "Pita Piramide<br>Avg. kapsalon price: €12.0",
          "Pita Piramide Aalst<br>Avg. kapsalon price: €12.0",
          "Pita Pizza Pasta Ararat<br>Avg. kapsalon price: €10.0",
          "Pita Pizza Primax<br>Avg. kapsalon price: €12.1",
          "Pita Pizza Pyramide<br>Avg. kapsalon price: €8.4",
          "Pita Pizza Pyramide<br>Avg. kapsalon price: €11.73",
          "Pita Planet<br>Avg. kapsalon price: €8.44",
          "Pita Planet Frituur<br>Avg. kapsalon price: €7.75",
          "Pita Pyramide<br>Avg. kapsalon price: €12.0",
          "Pita Sofra<br>Avg. kapsalon price: €12.08",
          "Pita Ster<br>Avg. kapsalon price: €11.33",
          "Pita Ster Antwerpen<br>Avg. kapsalon price: €10.6",
          "Pita Vogelmarkt<br>Avg. kapsalon price: €14.7",
          "Pita Vrede<br>Avg. kapsalon price: €10.75",
          "Pita Xander <br>Avg. kapsalon price: €9.33",
          "Pita pocket<br>Avg. kapsalon price: €11.21",
          "Pita vogelmarkt<br>Avg. kapsalon price: €14.7",
          "Pita4you<br>Avg. kapsalon price: €12.0",
          "Pitaverne<br>Avg. kapsalon price: €9.88",
          "Pitaverne Wilrijk<br>Avg. kapsalon price: €13.5",
          "Pitawan<br>Avg. kapsalon price: €14.9",
          "Pitawan!<br>Avg. kapsalon price: €15.9",
          "Pitta <br>Avg. kapsalon price: €8.95",
          "Pitta & Grill ‘T Parkske<br>Avg. kapsalon price: €12.0",
          "Pitta & Pizza Antalya<br>Avg. kapsalon price: €12.15",
          "Pitta & Pizza Izmir Eeklo<br>Avg. kapsalon price: €9.75",
          "Pitta 03<br>Avg. kapsalon price: €9.5",
          "Pitta Alpay<br>Avg. kapsalon price: €11.75",
          "Pitta Araz<br>Avg. kapsalon price: €13.5",
          "Pitta Bodrum<br>Avg. kapsalon price: €8.7",
          "Pitta Bodrum<br>Avg. kapsalon price: €11.25",
          "Pitta Bon Appetit<br>Avg. kapsalon price: €10.0",
          "Pitta Bon Appetit<br>Avg. kapsalon price: €9.0",
          "Pitta Can<br>Avg. kapsalon price: €11.33",
          "Pitta Can <br>Avg. kapsalon price: €11.0",
          "Pitta Canan<br>Avg. kapsalon price: €11.5",
          "Pitta Cem<br>Avg. kapsalon price: €10.8",
          "Pitta Cengoo<br>Avg. kapsalon price: €6.13",
          "Pitta Corner<br>Avg. kapsalon price: €10.18",
          "Pitta Corner<br>Avg. kapsalon price: €10.0",
          "Pitta Corner Oostende<br>Avg. kapsalon price: €10.0",
          "Pitta D'Or<br>Avg. kapsalon price: €9.17",
          "Pitta De Kroon<br>Avg. kapsalon price: €13.5",
          "Pitta Destelbergen<br>Avg. kapsalon price: €10.58",
          "Pitta Diana<br>Avg. kapsalon price: €10.0",
          "Pitta Dorp<br>Avg. kapsalon price: €13.5",
          "Pitta Gizem<br>Avg. kapsalon price: €15.33",
          "Pitta Gizem<br>Avg. kapsalon price: €12.7",
          "Pitta House<br>Avg. kapsalon price: €9.45",
          "Pitta House<br>Avg. kapsalon price: €6.95",
          "Pitta House 2<br>Avg. kapsalon price: €8.25",
          "Pitta House 2<br>Avg. kapsalon price: €8.25",
          "Pitta Isparta<br>Avg. kapsalon price: €8.0",
          "Pitta Istanbul<br>Avg. kapsalon price: €9.43",
          "Pitta Istanbul<br>Avg. kapsalon price: €14.33",
          "Pitta Izmir 2 Ertvelde<br>Avg. kapsalon price: €13.0",
          "Pitta Kebab Sude<br>Avg. kapsalon price: €12.22",
          "Pitta Kervan<br>Avg. kapsalon price: €11.0",
          "Pitta Magic<br>Avg. kapsalon price: €10.5",
          "Pitta Maldegem<br>Avg. kapsalon price: €10.67",
          "Pitta Marmaris<br>Avg. kapsalon price: €13.7",
          "Pitta Melissa<br>Avg. kapsalon price: €9.0",
          "Pitta Melissa<br>Avg. kapsalon price: €7.38",
          "Pitta Melita<br>Avg. kapsalon price: €15.0",
          "Pitta Melita<br>Avg. kapsalon price: €15.0",
          "Pitta Mersan<br>Avg. kapsalon price: €10.69",
          "Pitta Moorselbaan<br>Avg. kapsalon price: €7.25",
          "Pitta Moorselbaan<br>Avg. kapsalon price: €8.7",
          "Pitta Mr. Food<br>Avg. kapsalon price: €11.16",
          "Pitta Murat<br>Avg. kapsalon price: €11.5",
          "Pitta New York<br>Avg. kapsalon price: €11.35",
          "Pitta Number 1<br>Avg. kapsalon price: €10.44",
          "Pitta Number 1<br>Avg. kapsalon price: €10.83",
          "Pitta Number 1 <br>Avg. kapsalon price: €10.5",
          "Pitta Number 1 Bredene<br>Avg. kapsalon price: €10.9",
          "Pitta Palace<br>Avg. kapsalon price: €9.06",
          "Pitta Palace<br>Avg. kapsalon price: €9.06",
          "Pitta Pizza Asmin<br>Avg. kapsalon price: €12.25",
          "Pitta Pizza Ludwig<br>Avg. kapsalon price: €11.5",
          "Pitta Pizza Pamukkale II<br>Avg. kapsalon price: €9.85",
          "Pitta Point<br>Avg. kapsalon price: €10.49",
          "Pitta Reco<br>Avg. kapsalon price: €10.83",
          "Pitta Roos<br>Avg. kapsalon price: €11.1",
          "Pitta Roos<br>Avg. kapsalon price: €11.5",
          "Pitta Sari 9040<br>Avg. kapsalon price: €13.09",
          "Pitta Seker<br>Avg. kapsalon price: €11.25",
          "Pitta Seker<br>Avg. kapsalon price: €11.25",
          "Pitta Sena<br>Avg. kapsalon price: €15.33",
          "Pitta Sena <br>Avg. kapsalon price: €14.67",
          "Pitta Snack Metropol<br>Avg. kapsalon price: €9.33",
          "Pitta Snack Waarschoot<br>Avg. kapsalon price: €8.33",
          "Pitta Yasmin<br>Avg. kapsalon price: €11.25",
          "Pitta de Kroon<br>Avg. kapsalon price: €13.58",
          "Pitta efes Assebroek<br>Avg. kapsalon price: €10.0",
          "Pitta sena<br>Avg. kapsalon price: €15.33",
          "Pitta-Snack Magic<br>Avg. kapsalon price: €8.13",
          "Pittaland Erembodegem<br>Avg. kapsalon price: €13.0",
          "Pittaverne<br>Avg. kapsalon price: €13.83",
          "Pittazino<br>Avg. kapsalon price: €11.25",
          "Pitza Service Beveren<br>Avg. kapsalon price: €13.5",
          "Pizza & Kebab Zeebrugge<br>Avg. kapsalon price: €11.75",
          "Pizza & Pitta Home<br>Avg. kapsalon price: €12.5",
          "Pizza - Pasta - Pita Mazador<br>Avg. kapsalon price: €9.45",
          "Pizza Aurelia<br>Avg. kapsalon price: €10.35",
          "Pizza Aurelia Restaurant<br>Avg. kapsalon price: €9.39",
          "Pizza Bella Pitta<br>Avg. kapsalon price: €9.08",
          "Pizza Bodrum<br>Avg. kapsalon price: €12.0",
          "Pizza Boxx<br>Avg. kapsalon price: €10.5",
          "Pizza Boxx Antwerpen<br>Avg. kapsalon price: €10.5",
          "Pizza Bulls<br>Avg. kapsalon price: €11.32",
          "Pizza Company<br>Avg. kapsalon price: €9.83",
          "Pizza Corner<br>Avg. kapsalon price: €11.5",
          "Pizza De Hoek<br>Avg. kapsalon price: €10.0",
          "Pizza Deal<br>Avg. kapsalon price: €11.9",
          "Pizza Delicia<br>Avg. kapsalon price: €10.83",
          "Pizza Deliorman<br>Avg. kapsalon price: €7.0",
          "Pizza Desperado<br>Avg. kapsalon price: €11.0",
          "Pizza Diamond<br>Avg. kapsalon price: €10.0",
          "Pizza Dino 21<br>Avg. kapsalon price: €11.0",
          "Pizza Efe Berlaar<br>Avg. kapsalon price: €12.06",
          "Pizza Efe Hulshout<br>Avg. kapsalon price: €12.44",
          "Pizza Efe Itegem<br>Avg. kapsalon price: €13.0",
          "Pizza Efe Olen<br>Avg. kapsalon price: €12.13",
          "Pizza Efe Westerlo<br>Avg. kapsalon price: €12.0",
          "Pizza Florence<br>Avg. kapsalon price: €8.9",
          "Pizza Florence<br>Avg. kapsalon price: €10.3",
          "Pizza Florida<br>Avg. kapsalon price: €12.5",
          "Pizza Giorno<br>Avg. kapsalon price: €10.5",
          "Pizza Grens<br>Avg. kapsalon price: €9.75",
          "Pizza Grill Huis<br>Avg. kapsalon price: €12.0",
          "Pizza Hanoo<br>Avg. kapsalon price: €12.4",
          "Pizza Hot<br>Avg. kapsalon price: €8.5",
          "Pizza Istanbul<br>Avg. kapsalon price: €11.42",
          "Pizza King<br>Avg. kapsalon price: €11.0",
          "Pizza L'Esta<br>Avg. kapsalon price: €13.28",
          "Pizza La Famiglia<br>Avg. kapsalon price: €9.88",
          "Pizza La Vince<br>Avg. kapsalon price: €12.17",
          "Pizza Lacasa<br>Avg. kapsalon price: €10.96",
          "Pizza Maestro Belsele<br>Avg. kapsalon price: €9.95",
          "Pizza Marmaris<br>Avg. kapsalon price: €14.28",
          "Pizza Masters <br>Avg. kapsalon price: €8.5",
          "Pizza Meet Point<br>Avg. kapsalon price: €11.63",
          "Pizza Meet Point<br>Avg. kapsalon price: €12.0",
          "Pizza Metin<br>Avg. kapsalon price: €8.38",
          "Pizza Mia Ghent<br>Avg. kapsalon price: €7.75",
          "Pizza Midas<br>Avg. kapsalon price: €12.5",
          "Pizza Milano<br>Avg. kapsalon price: €11.75",
          "Pizza Monza<br>Avg. kapsalon price: €9.9",
          "Pizza Monza<br>Avg. kapsalon price: €9.9",
          "Pizza Mr. Food<br>Avg. kapsalon price: €9.5",
          "Pizza Napoli<br>Avg. kapsalon price: €8.5",
          "Pizza Napoli Kontich<br>Avg. kapsalon price: €8.86",
          "Pizza Ozy<br>Avg. kapsalon price: €10.0",
          "Pizza Palace<br>Avg. kapsalon price: €12.0",
          "Pizza Palace Fastfood<br>Avg. kapsalon price: €10.0",
          "Pizza Paleis Haasdonk<br>Avg. kapsalon price: €8.67",
          "Pizza Pamukkale<br>Avg. kapsalon price: €10.88",
          "Pizza Pasta Locale<br>Avg. kapsalon price: €9.0",
          "Pizza Pasta Nr 1 - City<br>Avg. kapsalon price: €10.5",
          "Pizza Pasta Nr1<br>Avg. kapsalon price: €11.38",
          "Pizza Pasta Nr1 City<br>Avg. kapsalon price: €11.5",
          "Pizza Pasta Pita Mazador<br>Avg. kapsalon price: €10.28",
          "Pizza Pisa<br>Avg. kapsalon price: €10.5",
          "Pizza Pisa<br>Avg. kapsalon price: €10.67",
          "Pizza Pita Delta<br>Avg. kapsalon price: €9.3",
          "Pizza Pita Ege 2<br>Avg. kapsalon price: €12.25",
          "Pizza Pita Grillroom Milano<br>Avg. kapsalon price: €10.5",
          "Pizza Pita House<br>Avg. kapsalon price: €13.18",
          "Pizza Pita King's<br>Avg. kapsalon price: €11.63",
          "Pizza Pita Pala<br>Avg. kapsalon price: €10.5",
          "Pizza Pita Zottegem<br>Avg. kapsalon price: €9.0",
          "Pizza Pitta Flora<br>Avg. kapsalon price: €10.24",
          "Pizza Pitta Flora<br>Avg. kapsalon price: €12.11",
          "Pizza Pitta Melissa<br>Avg. kapsalon price: €9.88",
          "Pizza Point<br>Avg. kapsalon price: €9.0",
          "Pizza Point<br>Avg. kapsalon price: €12.72",
          "Pizza Posto<br>Avg. kapsalon price: €7.0",
          "Pizza Posto<br>Avg. kapsalon price: €7.5",
          "Pizza Punto<br>Avg. kapsalon price: €8.8",
          "Pizza Punto<br>Avg. kapsalon price: €7.8",
          "Pizza Roma<br>Avg. kapsalon price: €10.07",
          "Pizza Roma<br>Avg. kapsalon price: €10.33",
          "Pizza Roma<br>Avg. kapsalon price: €11.5",
          "Pizza Roma <br>Avg. kapsalon price: €10.07",
          "Pizza Roma Mechelen<br>Avg. kapsalon price: €11.7",
          "Pizza Royal<br>Avg. kapsalon price: €13.5",
          "Pizza Sam<br>Avg. kapsalon price: €12.75",
          "Pizza Sam<br>Avg. kapsalon price: €13.25",
          "Pizza Sam<br>Avg. kapsalon price: €13.25",
          "Pizza Sara<br>Avg. kapsalon price: €9.93",
          "Pizza Sole Mio<br>Avg. kapsalon price: €8.9",
          "Pizza Sole Mio<br>Avg. kapsalon price: €11.9",
          "Pizza Sole Mio<br>Avg. kapsalon price: €10.9",
          "Pizza Star<br>Avg. kapsalon price: €11.9",
          "Pizza Stop<br>Avg. kapsalon price: €9.93",
          "Pizza Sultan Westmeerbeek<br>Avg. kapsalon price: €13.1",
          "Pizza Taliano<br>Avg. kapsalon price: €8.5",
          "Pizza Ti Amo<br>Avg. kapsalon price: €12.38",
          "Pizza Town Houtem<br>Avg. kapsalon price: €13.0",
          "Pizza Trenti<br>Avg. kapsalon price: €12.5",
          "Pizza Trenti<br>Avg. kapsalon price: €11.3",
          "Pizza Trenti Schoten<br>Avg. kapsalon price: €12.5",
          "Pizza Vali<br>Avg. kapsalon price: €8.89",
          "Pizza Verona<br>Avg. kapsalon price: €10.7",
          "Pizza Yavuz<br>Avg. kapsalon price: €11.21",
          "Pizza Zaga<br>Avg. kapsalon price: €11.63",
          "Pizza Zandhoven<br>Avg. kapsalon price: €9.1",
          "Pizza kebap Pasa<br>Avg. kapsalon price: €12.25",
          "Pizza king<br>Avg. kapsalon price: €10.67",
          "Pizza&Co<br>Avg. kapsalon price: €10.0",
          "Pizza@Home<br>Avg. kapsalon price: €10.95",
          "Pizza@Home<br>Avg. kapsalon price: €10.95",
          "Pizza@Home - Sint-Niklaas<br>Avg. kapsalon price: €10.95",
          "Pizzalicious<br>Avg. kapsalon price: €15.5",
          "Pizzalijn Berchem<br>Avg. kapsalon price: €8.9",
          "Pizzalijn Berchem<br>Avg. kapsalon price: €12.9",
          "Pizzalijn Merksem<br>Avg. kapsalon price: €8.5",
          "Pizzalijn Merksem<br>Avg. kapsalon price: €9.79",
          "Pizzaria Gunther<br>Avg. kapsalon price: €12.07",
          "Pizzaria Mr. Sebino<br>Avg. kapsalon price: €10.63",
          "Pizzaria Mr. Sebino<br>Avg. kapsalon price: €10.71",
          "Pizzaria Vlam II<br>Avg. kapsalon price: €12.0",
          "Pizzaworld<br>Avg. kapsalon price: €9.33",
          "Pizzeria Alma<br>Avg. kapsalon price: €12.25",
          "Pizzeria Amore<br>Avg. kapsalon price: €4.5",
          "Pizzeria Amore<br>Avg. kapsalon price: €4.5",
          "Pizzeria De Avondstar <br>Avg. kapsalon price: €10.5",
          "Pizzeria Dilan<br>Avg. kapsalon price: €11.43",
          "Pizzeria Evin<br>Avg. kapsalon price: €11.33",
          "Pizzeria Fullmoon<br>Avg. kapsalon price: €8.5",
          "Pizzeria Grillroom Dudi<br>Avg. kapsalon price: €9.88",
          "Pizzeria Grissini & Kebab House<br>Avg. kapsalon price: €10.75",
          "Pizzeria Kebap Selin<br>Avg. kapsalon price: €11.94",
          "Pizzeria La Familia<br>Avg. kapsalon price: €10.93",
          "Pizzeria Lina<br>Avg. kapsalon price: €9.67",
          "Pizzeria Lina<br>Avg. kapsalon price: €10.33",
          "Pizzeria Luigi<br>Avg. kapsalon price: €10.5",
          "Pizzeria Lyaz<br>Avg. kapsalon price: €8.5",
          "Pizzeria Messina<br>Avg. kapsalon price: €10.25",
          "Pizzeria Milano<br>Avg. kapsalon price: €10.5",
          "Pizzeria Pompeji<br>Avg. kapsalon price: €12.5",
          "Pizzeria Saray<br>Avg. kapsalon price: €10.75",
          "Pizzeria Sipan<br>Avg. kapsalon price: €11.38",
          "Pizzeria Valentino<br>Avg. kapsalon price: €13.92",
          "Pizzeria Vosselaar<br>Avg. kapsalon price: €14.3",
          "Pizzeria steakhouse Amsterdam<br>Avg. kapsalon price: €7.32",
          "Pizzo<br>Avg. kapsalon price: €12.7",
          "Place 2 Eat<br>Avg. kapsalon price: €10.5",
          "Plaza Snacks<br>Avg. kapsalon price: €12.64",
          "Poker Friet<br>Avg. kapsalon price: €12.19",
          "Pokerfriet<br>Avg. kapsalon price: €9.86",
          "Populair<br>Avg. kapsalon price: €15.44",
          "Posh Kebab<br>Avg. kapsalon price: €10.67",
          "Post'a Kebab<br>Avg. kapsalon price: €11.0",
          "Post'a Kebab<br>Avg. kapsalon price: €9.25",
          "Pyramida - Grill<br>Avg. kapsalon price: €10.0",
          "Pyramide<br>Avg. kapsalon price: €12.5",
          "Pyramide grillroom pizza pita pasta<br>Avg. kapsalon price: €7.0",
          "Pyramide grillroom pizza pita pasta<br>Avg. kapsalon price: €9.5",
          "Q'bap Gent<br>Avg. kapsalon price: €11.9",
          "Q'bap Gent<br>Avg. kapsalon price: €11.9",
          "Qbap Ghent<br>Avg. kapsalon price: €11.9",
          "Qivvi<br>Avg. kapsalon price: €12.6",
          "Qubbe Lounge<br>Avg. kapsalon price: €16.0",
          "ROYAL PIZZA (Kortrijk 2022)<br>Avg. kapsalon price: €9.67",
          "Ramses<br>Avg. kapsalon price: €11.0",
          "Ramses II<br>Avg. kapsalon price: €11.38",
          "Rana<br>Avg. kapsalon price: €10.82",
          "Reet Grill House<br>Avg. kapsalon price: €9.43",
          "Reet Grillhouse<br>Avg. kapsalon price: €12.2",
          "Restaurant Kulba Kabul<br>Avg. kapsalon price: €8.0",
          "Restaurant Marmaris<br>Avg. kapsalon price: €11.83",
          "Restaurant Medina<br>Avg. kapsalon price: €8.25",
          "Restaurant marmaris<br>Avg. kapsalon price: €10.5",
          "Resto Borsa<br>Avg. kapsalon price: €9.5",
          "Resto Ky<br>Avg. kapsalon price: €9.0",
          "Resto Simke<br>Avg. kapsalon price: €11.5",
          "Resto Snack Alanya<br>Avg. kapsalon price: €13.0",
          "Resto Snack Istanbul<br>Avg. kapsalon price: €9.33",
          "Resto Snack Zen<br>Avg. kapsalon price: €7.0",
          "Rifaga<br>Avg. kapsalon price: €8.38",
          "Rinascente Eethuis<br>Avg. kapsalon price: €10.67",
          "Rinascente eethuis<br>Avg. kapsalon price: €10.67",
          "Ronse Grill<br>Avg. kapsalon price: €11.2",
          "Route 46<br>Avg. kapsalon price: €11.0",
          "Rozalin Kebab Pizza<br>Avg. kapsalon price: €11.6",
          "Ruby Frituur<br>Avg. kapsalon price: €11.0",
          "SNACK TOSI<br>Avg. kapsalon price: €11.9",
          "SaBa Snack<br>Avg. kapsalon price: €14.0",
          "Saba snack<br>Avg. kapsalon price: €11.0",
          "Sabito's Pizza<br>Avg. kapsalon price: €8.0",
          "Sahin Eethuis<br>Avg. kapsalon price: €12.13",
          "Sali Kebap<br>Avg. kapsalon price: €10.0",
          "Salt n' Pepper Snack Burgerhouse<br>Avg. kapsalon price: €8.86",
          "Sam Kebab<br>Avg. kapsalon price: €12.09",
          "Samet snack grill<br>Avg. kapsalon price: €8.5",
          "Samo Bakkerij & Snack<br>Avg. kapsalon price: €7.65",
          "Samoo baba<br>Avg. kapsalon price: €8.8",
          "Saray<br>Avg. kapsalon price: €11.4",
          "Saray Pizza & Kebab<br>Avg. kapsalon price: €13.5",
          "Sardinië<br>Avg. kapsalon price: €8.7",
          "Schaffense Kebap<br>Avg. kapsalon price: €11.21",
          "Sebo<br>Avg. kapsalon price: €12.25",
          "Selale Pitta & Grill<br>Avg. kapsalon price: €8.5",
          "Sesam<br>Avg. kapsalon price: €14.0",
          "Seven Kebap 7<br>Avg. kapsalon price: €12.75",
          "Sewar Snack-Resto<br>Avg. kapsalon price: €10.16",
          "Sezer Snack-Pizza<br>Avg. kapsalon price: €11.17",
          "Sezer Snack-Pizza<br>Avg. kapsalon price: €11.17",
          "Sfinx<br>Avg. kapsalon price: €9.0",
          "Sfinx<br>Avg. kapsalon price: €9.0",
          "Sfinx Turnhout<br>Avg. kapsalon price: €9.0",
          "Shaam<br>Avg. kapsalon price: €8.0",
          "Shaan pizza<br>Avg. kapsalon price: €8.8",
          "Shawarma Doctor<br>Avg. kapsalon price: €10.0",
          "Shoarma Baghdad<br>Avg. kapsalon price: €7.5",
          "Side Kebap<br>Avg. kapsalon price: €14.25",
          "Sila Snack & Pide<br>Avg. kapsalon price: €10.13",
          "Sint-Antonius<br>Avg. kapsalon price: €8.0",
          "SixtyOne<br>Avg. kapsalon price: €9.75",
          "Snack & Pizza de Oase<br>Avg. kapsalon price: €7.63",
          "Snack 2500<br>Avg. kapsalon price: €8.0",
          "Snack 4 You<br>Avg. kapsalon price: €9.06",
          "Snack 4 You<br>Avg. kapsalon price: €7.5",
          "Snack Aalst<br>Avg. kapsalon price: €9.94",
          "Snack Aalst<br>Avg. kapsalon price: €8.0",
          "Snack Ailnor<br>Avg. kapsalon price: €8.94",
          "Snack Aladdin<br>Avg. kapsalon price: €11.0",
          "Snack Alsemberg<br>Avg. kapsalon price: €8.5",
          "Snack Altan<br>Avg. kapsalon price: €11.0",
          "Snack Anka<br>Avg. kapsalon price: €11.5",
          "Snack Antalya<br>Avg. kapsalon price: €8.25",
          "Snack Antalya<br>Avg. kapsalon price: €10.58",
          "Snack Aquarium<br>Avg. kapsalon price: €8.83",
          "Snack Arabesque<br>Avg. kapsalon price: €11.9",
          "Snack Araff<br>Avg. kapsalon price: €9.5",
          "Snack Arc en Ciel<br>Avg. kapsalon price: €9.07",
          "Snack Au Bled<br>Avg. kapsalon price: €9.0",
          "Snack Au Lunch<br>Avg. kapsalon price: €7.8",
          "Snack Au Petit Creux<br>Avg. kapsalon price: €8.5",
          "Snack Aydin Beringen<br>Avg. kapsalon price: €13.13",
          "Snack Aydin Genk<br>Avg. kapsalon price: €12.0",
          "Snack Aydin Ham<br>Avg. kapsalon price: €11.5",
          "Snack Ayouni<br>Avg. kapsalon price: €8.63",
          "Snack Ayouni<br>Avg. kapsalon price: €8.63",
          "Snack Babylon Uccle<br>Avg. kapsalon price: €6.0",
          "Snack Best Grill<br>Avg. kapsalon price: €11.5",
          "Snack Bockstael<br>Avg. kapsalon price: €9.9",
          "Snack Bodrum<br>Avg. kapsalon price: €12.0",
          "Snack Bodrum<br>Avg. kapsalon price: €8.75",
          "Snack Bodrum<br>Avg. kapsalon price: €9.1",
          "Snack Boniface<br>Avg. kapsalon price: €8.14",
          "Snack Boss<br>Avg. kapsalon price: €8.83",
          "Snack Bruxelles<br>Avg. kapsalon price: €8.39",
          "Snack Canlar<br>Avg. kapsalon price: €9.0",
          "Snack Cassaba<br>Avg. kapsalon price: €8.63",
          "Snack Cassaba<br>Avg. kapsalon price: €8.63",
          "Snack Centraal<br>Avg. kapsalon price: €9.0",
          "Snack Cherif<br>Avg. kapsalon price: €9.38",
          "Snack Chez Zeki<br>Avg. kapsalon price: €11.0",
          "Snack Clems<br>Avg. kapsalon price: €7.5",
          "Snack Corner<br>Avg. kapsalon price: €12.5",
          "Snack Cousin<br>Avg. kapsalon price: €7.5",
          "Snack Dag<br>Avg. kapsalon price: €8.5",
          "Snack Dayi<br>Avg. kapsalon price: €9.4",
          "Snack De Hoek<br>Avg. kapsalon price: €10.76",
          "Snack Dekan<br>Avg. kapsalon price: €9.25",
          "Snack Dem's<br>Avg. kapsalon price: €8.5",
          "Snack Denderleeuw<br>Avg. kapsalon price: €11.0",
          "Snack Deniz<br>Avg. kapsalon price: €9.23",
          "Snack Deniz II<br>Avg. kapsalon price: €9.39",
          "Snack Derik<br>Avg. kapsalon price: €8.0",
          "Snack Derya<br>Avg. kapsalon price: €10.54",
          "Snack Derya<br>Avg. kapsalon price: €8.59",
          "Snack Des Frères<br>Avg. kapsalon price: €9.2",
          "Snack Dodo<br>Avg. kapsalon price: €11.5",
          "Snack Dylan<br>Avg. kapsalon price: €11.5",
          "Snack DÃ©lice - Uccle<br>Avg. kapsalon price: €11.0",
          "Snack Délice Halal<br>Avg. kapsalon price: €10.0",
          "Snack Délice Halal<br>Avg. kapsalon price: €10.08",
          "Snack El Medina<br>Avg. kapsalon price: €7.75",
          "Snack Es Es<br>Avg. kapsalon price: €9.5",
          "Snack Evere<br>Avg. kapsalon price: €8.5",
          "Snack Felix<br>Avg. kapsalon price: €8.0",
          "Snack Felix 2<br>Avg. kapsalon price: €8.0",
          "Snack Frituur Hanoodi<br>Avg. kapsalon price: €11.0",
          "Snack Gab & Dav<br>Avg. kapsalon price: €11.2",
          "Snack Georges Henri<br>Avg. kapsalon price: €12.0",
          "Snack Gold<br>Avg. kapsalon price: €9.5",
          "Snack Grill Babylone<br>Avg. kapsalon price: €8.5",
          "Snack Grill Dansaert<br>Avg. kapsalon price: €11.31",
          "Snack Grill Pizza Asalam<br>Avg. kapsalon price: €8.33",
          "Snack Gürso<br>Avg. kapsalon price: €7.25",
          "Snack Hakan<br>Avg. kapsalon price: €9.9",
          "Snack Hakan<br>Avg. kapsalon price: €9.9",
          "Snack Halte<br>Avg. kapsalon price: €9.13",
          "Snack House<br>Avg. kapsalon price: €10.5",
          "Snack Houwaert<br>Avg. kapsalon price: €8.5",
          "Snack Istanbul<br>Avg. kapsalon price: €6.5",
          "Snack Istanbul<br>Avg. kapsalon price: €9.25",
          "Snack Istanbul<br>Avg. kapsalon price: €9.0",
          "Snack Istanbul Wayez<br>Avg. kapsalon price: €6.99",
          "Snack Joker<br>Avg. kapsalon price: €10.0",
          "Snack Kronos<br>Avg. kapsalon price: €14.5",
          "Snack Kursatto<br>Avg. kapsalon price: €12.0",
          "Snack L'oppem<br>Avg. kapsalon price: €12.0",
          "Snack La Cage<br>Avg. kapsalon price: €7.5",
          "Snack La Couronne<br>Avg. kapsalon price: €8.0",
          "Snack Ledi<br>Avg. kapsalon price: €9.5",
          "Snack Lems<br>Avg. kapsalon price: €9.0",
          "Snack Marhaba<br>Avg. kapsalon price: €12.0",
          "Snack Marmara<br>Avg. kapsalon price: €11.59",
          "Snack Maya<br>Avg. kapsalon price: €10.5",
          "Snack Medo<br>Avg. kapsalon price: €9.0",
          "Snack Melike<br>Avg. kapsalon price: €8.04",
          "Snack Melita<br>Avg. kapsalon price: €9.5",
          "Snack Memo - Chez Feyyaz<br>Avg. kapsalon price: €10.0",
          "Snack Merode<br>Avg. kapsalon price: €9.0",
          "Snack Mevan - Meiser<br>Avg. kapsalon price: €9.83",
          "Snack Mimoza<br>Avg. kapsalon price: €10.0",
          "Snack Mirvan<br>Avg. kapsalon price: €9.0",
          "Snack Mirvan<br>Avg. kapsalon price: €9.4",
          "Snack Mogusto<br>Avg. kapsalon price: €6.5",
          "Snack Muide<br>Avg. kapsalon price: €8.0",
          "Snack Mutsaert<br>Avg. kapsalon price: €9.5",
          "Snack Nakhil<br>Avg. kapsalon price: €7.25",
          "Snack Nakhil<br>Avg. kapsalon price: €8.68",
          "Snack O Tac<br>Avg. kapsalon price: €10.7",
          "Snack O'Laeken<br>Avg. kapsalon price: €10.5",
          "Snack Omar<br>Avg. kapsalon price: €7.0",
          "Snack Oostende<br>Avg. kapsalon price: €10.0",
          "Snack Opwijk<br>Avg. kapsalon price: €12.5",
          "Snack Ot's<br>Avg. kapsalon price: €12.5",
          "Snack Overpoort<br>Avg. kapsalon price: €11.07",
          "Snack Ozzy<br>Avg. kapsalon price: €7.5",
          "Snack Pamukkale<br>Avg. kapsalon price: €7.13",
          "Snack Papay<br>Avg. kapsalon price: €8.5",
          "Snack Pitta 't Hoeksken<br>Avg. kapsalon price: €10.33",
          "Snack Pizza Bodrum<br>Avg. kapsalon price: €10.5",
          "Snack Pizza City<br>Avg. kapsalon price: €9.25",
          "Snack Pizza Zen<br>Avg. kapsalon price: €8.29",
          "Snack Resto Istanbul<br>Avg. kapsalon price: €9.07",
          "Snack Resto de Chef<br>Avg. kapsalon price: €7.0",
          "Snack Royal<br>Avg. kapsalon price: €10.22",
          "Snack Royal - Oostende<br>Avg. kapsalon price: €10.22",
          "Snack Saint-Denis<br>Avg. kapsalon price: €11.0",
          "Snack Saint-Guidon 2012<br>Avg. kapsalon price: €9.75",
          "Snack Seven<br>Avg. kapsalon price: €8.0",
          "Snack Simonis<br>Avg. kapsalon price: €10.25",
          "Snack Stuivenberg<br>Avg. kapsalon price: €9.0",
          "Snack Sympa<br>Avg. kapsalon price: €12.5",
          "Snack Taksim<br>Avg. kapsalon price: €9.63",
          "Snack Tarik<br>Avg. kapsalon price: €9.49",
          "Snack Tielt<br>Avg. kapsalon price: €9.17",
          "Snack Tim<br>Avg. kapsalon price: €11.0",
          "Snack Tip Top<br>Avg. kapsalon price: €10.0",
          "Snack Top's<br>Avg. kapsalon price: €10.22",
          "Snack Tosi<br>Avg. kapsalon price: €11.9",
          "Snack Tour et Taxi<br>Avg. kapsalon price: €8.79",
          "Snack Twenty Six<br>Avg. kapsalon price: €11.69",
          "Snack Twenty Six<br>Avg. kapsalon price: €18.25",
          "Snack Twins<br>Avg. kapsalon price: €9.56",
          "Snack Twins<br>Avg. kapsalon price: €8.14",
          "Snack Unal<br>Avg. kapsalon price: €12.75",
          "Snack Wielemans<br>Avg. kapsalon price: €9.0",
          "Snack Zaventem<br>Avg. kapsalon price: €10.2",
          "Snack Zomergem<br>Avg. kapsalon price: €10.4",
          "Snack de Hoek<br>Avg. kapsalon price: €10.5",
          "Snack de Linde<br>Avg. kapsalon price: €10.5",
          "Snack de la Famille<br>Avg. kapsalon price: €9.5",
          "Snack de la Gare<br>Avg. kapsalon price: €9.0",
          "Snack de prins<br>Avg. kapsalon price: €7.25",
          "Snack de wand<br>Avg. kapsalon price: €11.83",
          "Snack el baraka<br>Avg. kapsalon price: €9.75",
          "Snack evere<br>Avg. kapsalon price: €8.5",
          "Snack gurso<br>Avg. kapsalon price: €8.25",
          "Snack la Cambre<br>Avg. kapsalon price: €9.17",
          "Snack les 2 Frères<br>Avg. kapsalon price: €8.5",
          "Snack nakhil<br>Avg. kapsalon price: €8.68",
          "Snack neerstalle<br>Avg. kapsalon price: €7.56",
          "Snack ozzy<br>Avg. kapsalon price: €7.5",
          "Snack Özmu<br>Avg. kapsalon price: €7.8",
          "Snack-Grill Berchem<br>Avg. kapsalon price: €12.0",
          "Snackbar 109<br>Avg. kapsalon price: €8.17",
          "Snackbar 109<br>Avg. kapsalon price: €8.13",
          "Snackbar 9000<br>Avg. kapsalon price: €8.95",
          "Snackbar Tasty<br>Avg. kapsalon price: €11.31",
          "Snackhalte<br>Avg. kapsalon price: €14.45",
          "Sofra<br>Avg. kapsalon price: €10.0",
          "Sofra<br>Avg. kapsalon price: €7.08",
          "Sofram<br>Avg. kapsalon price: €12.67",
          "Solav Kebab<br>Avg. kapsalon price: €6.45",
          "Solav Kebab<br>Avg. kapsalon price: €7.95",
          "Solav kabab<br>Avg. kapsalon price: €8.13",
          "Soyy Eethuis & Gelateria<br>Avg. kapsalon price: €10.88",
          "Sphinx<br>Avg. kapsalon price: €10.0",
          "Star Kebab<br>Avg. kapsalon price: €7.43",
          "Star Kebab<br>Avg. kapsalon price: €8.16",
          "Steakhouse Mamma<br>Avg. kapsalon price: €12.5",
          "Steakhouse pizzaria Amsterdam<br>Avg. kapsalon price: €6.81",
          "Stela<br>Avg. kapsalon price: €12.05",
          "Street Kap<br>Avg. kapsalon price: €5.7",
          "Sude Snacks<br>Avg. kapsalon price: €11.07",
          "Sultan<br>Avg. kapsalon price: €9.5",
          "Sultan Kebap<br>Avg. kapsalon price: €6.19",
          "Sultan Kebap Geel<br>Avg. kapsalon price: €7.0",
          "Sultan Testelt<br>Avg. kapsalon price: €11.0",
          "Sultan kebab<br>Avg. kapsalon price: €8.29",
          "Sultan kebab <br>Avg. kapsalon price: €9.29",
          "Suslu by Tuna<br>Avg. kapsalon price: €9.2",
          "Sweet deli<br>Avg. kapsalon price: €8.3",
          "TAT<br>Avg. kapsalon price: €12.12",
          "TAT<br>Avg. kapsalon price: €12.28",
          "TCHITCHI KEBAB PIZZERIA<br>Avg. kapsalon price: €7.47",
          "Tabouleh<br>Avg. kapsalon price: €8.0",
          "Tadim Kumpir<br>Avg. kapsalon price: €9.25",
          "Tasty Food Vesalius<br>Avg. kapsalon price: €11.0",
          "Tasty World<br>Avg. kapsalon price: €8.9",
          "Tasty World Hoogpoort<br>Avg. kapsalon price: €8.9",
          "That's Kebap<br>Avg. kapsalon price: €7.46",
          "The Black Horse<br>Avg. kapsalon price: €10.67",
          "The Burger Bar <br>Avg. kapsalon price: €7.9",
          "The Cousin's<br>Avg. kapsalon price: €9.5",
          "The Daily<br>Avg. kapsalon price: €12.23",
          "The Daily<br>Avg. kapsalon price: €12.77",
          "The Food Affair<br>Avg. kapsalon price: €11.0",
          "The Pizza Masters<br>Avg. kapsalon price: €14.9",
          "The Ribhouse Gent<br>Avg. kapsalon price: €15.0",
          "The Vend<br>Avg. kapsalon price: €11.8",
          "The Vend<br>Avg. kapsalon price: €11.0",
          "Ti Amo<br>Avg. kapsalon price: €11.13",
          "Ti'hamo<br>Avg. kapsalon price: €9.5",
          "Tito<br>Avg. kapsalon price: €9.62",
          "Tokcel<br>Avg. kapsalon price: €10.5",
          "Ton Ton Snack<br>Avg. kapsalon price: €11.72",
          "Top Snack<br>Avg. kapsalon price: €11.72",
          "Topkapi-Pitta Grillhouse<br>Avg. kapsalon price: €12.17",
          "Toronto Pizza & Burger<br>Avg. kapsalon price: €11.0",
          "Toronto Pizza&Burger<br>Avg. kapsalon price: €11.0",
          "Toscana<br>Avg. kapsalon price: €12.5",
          "Tradita<br>Avg. kapsalon price: €9.25",
          "Trend Kebab & Pizzeria<br>Avg. kapsalon price: €10.5",
          "Tubize Food<br>Avg. kapsalon price: €5.0",
          "Tucker Food<br>Avg. kapsalon price: €7.5",
          "Turkische Food<br>Avg. kapsalon price: €11.4",
          "Turkish Kebap<br>Avg. kapsalon price: €8.5",
          "Turkish Kebap<br>Avg. kapsalon price: €10.2",
          "Turkoase<br>Avg. kapsalon price: €11.29",
          "Turkuaz Kebap<br>Avg. kapsalon price: €10.0",
          "Twins<br>Avg. kapsalon price: €9.67",
          "U Tacos<br>Avg. kapsalon price: €8.0",
          "Unal Snacks<br>Avg. kapsalon price: €11.13",
          "Uniq Kebab<br>Avg. kapsalon price: €8.88",
          "Uniq Kebab<br>Avg. kapsalon price: €11.45",
          "Uniq Kebab<br>Avg. kapsalon price: €11.45",
          "Uniq Kebab Gent<br>Avg. kapsalon price: €11.45",
          "Urban pizza<br>Avg. kapsalon price: €12.0",
          "Urban pizza<br>Avg. kapsalon price: €12.0",
          "Ustun Kebab<br>Avg. kapsalon price: €10.5",
          "Valento Pizzeria<br>Avg. kapsalon price: €8.9",
          "Venezia<br>Avg. kapsalon price: €11.75",
          "Venus<br>Avg. kapsalon price: €11.0",
          "Venus 7<br>Avg. kapsalon price: €12.8",
          "Venus 8<br>Avg. kapsalon price: €12.8",
          "Vero Napoli<br>Avg. kapsalon price: €11.83",
          "Viva La Snack<br>Avg. kapsalon price: €7.0",
          "Viva la Snack<br>Avg. kapsalon price: €8.25",
          "Wemmel Grill<br>Avg. kapsalon price: €12.53",
          "What the Kebab<br>Avg. kapsalon price: €9.45",
          "Wow Pizza<br>Avg. kapsalon price: €12.0",
          "Yamal Alsham <br>Avg. kapsalon price: €5.0",
          "Yamal Alsham Antwerpen<br>Avg. kapsalon price: €6.38",
          "Yamy Food<br>Avg. kapsalon price: €10.5",
          "You You<br>Avg. kapsalon price: €10.33",
          "Yum Smaak<br>Avg. kapsalon price: €11.38",
          "Yummy Street Food<br>Avg. kapsalon price: €12.0",
          "Z'appétit<br>Avg. kapsalon price: €5.83",
          "Zelem Pizzeria<br>Avg. kapsalon price: €11.0",
          "Zem Zem<br>Avg. kapsalon price: €9.33",
          "eetcafé panorama<br>Avg. kapsalon price: €8.56",
          "grillmixcentrum<br>Avg. kapsalon price: €9.7",
          "kebab Leuven Diestsestraat<br>Avg. kapsalon price: €8.5",
          "layana food<br>Avg. kapsalon price: €12.17",
          "pita pizza waterpoort<br>Avg. kapsalon price: €10.0",
          "samo bakkerij<br>Avg. kapsalon price: €7.65",
          "sesam<br>Avg. kapsalon price: €14.0",
          "t Stad Kebab<br>Avg. kapsalon price: €9.81",
          "t Stad Kebab<br>Avg. kapsalon price: €10.5",
          "tok tok<br>Avg. kapsalon price: €6.47",
          "yalcin snacks<br>Avg. kapsalon price: €8.75",
          "Ã–z Ahi<br>Avg. kapsalon price: €5.0",
          "Ã–zmu Snack<br>Avg. kapsalon price: €7.8",
          "ÖZ AHI<br>Avg. kapsalon price: €5.5",
          "Öz Ahi Döner<br>Avg. kapsalon price: €5.0"
         ],
         "type": "scattermapbox"
        }
       ],
       "layout": {
        "mapbox": {
         "accesstoken": "your_mapbox_access_token",
         "center": {
          "lat": 50.8503,
          "lon": 4.3517
         },
         "style": "carto-positron",
         "zoom": 7.2
        },
        "margin": {
         "b": 0,
         "l": 0,
         "r": 0,
         "t": 50
        },
        "template": {
         "data": {
          "bar": [
           {
            "error_x": {
             "color": "#2a3f5f"
            },
            "error_y": {
             "color": "#2a3f5f"
            },
            "marker": {
             "line": {
              "color": "#E5ECF6",
              "width": 0.5
             },
             "pattern": {
              "fillmode": "overlay",
              "size": 10,
              "solidity": 0.2
             }
            },
            "type": "bar"
           }
          ],
          "barpolar": [
           {
            "marker": {
             "line": {
              "color": "#E5ECF6",
              "width": 0.5
             },
             "pattern": {
              "fillmode": "overlay",
              "size": 10,
              "solidity": 0.2
             }
            },
            "type": "barpolar"
           }
          ],
          "carpet": [
           {
            "aaxis": {
             "endlinecolor": "#2a3f5f",
             "gridcolor": "white",
             "linecolor": "white",
             "minorgridcolor": "white",
             "startlinecolor": "#2a3f5f"
            },
            "baxis": {
             "endlinecolor": "#2a3f5f",
             "gridcolor": "white",
             "linecolor": "white",
             "minorgridcolor": "white",
             "startlinecolor": "#2a3f5f"
            },
            "type": "carpet"
           }
          ],
          "choropleth": [
           {
            "colorbar": {
             "outlinewidth": 0,
             "ticks": ""
            },
            "type": "choropleth"
           }
          ],
          "contour": [
           {
            "colorbar": {
             "outlinewidth": 0,
             "ticks": ""
            },
            "colorscale": [
             [
              0,
              "#0d0887"
             ],
             [
              0.1111111111111111,
              "#46039f"
             ],
             [
              0.2222222222222222,
              "#7201a8"
             ],
             [
              0.3333333333333333,
              "#9c179e"
             ],
             [
              0.4444444444444444,
              "#bd3786"
             ],
             [
              0.5555555555555556,
              "#d8576b"
             ],
             [
              0.6666666666666666,
              "#ed7953"
             ],
             [
              0.7777777777777778,
              "#fb9f3a"
             ],
             [
              0.8888888888888888,
              "#fdca26"
             ],
             [
              1,
              "#f0f921"
             ]
            ],
            "type": "contour"
           }
          ],
          "contourcarpet": [
           {
            "colorbar": {
             "outlinewidth": 0,
             "ticks": ""
            },
            "type": "contourcarpet"
           }
          ],
          "heatmap": [
           {
            "colorbar": {
             "outlinewidth": 0,
             "ticks": ""
            },
            "colorscale": [
             [
              0,
              "#0d0887"
             ],
             [
              0.1111111111111111,
              "#46039f"
             ],
             [
              0.2222222222222222,
              "#7201a8"
             ],
             [
              0.3333333333333333,
              "#9c179e"
             ],
             [
              0.4444444444444444,
              "#bd3786"
             ],
             [
              0.5555555555555556,
              "#d8576b"
             ],
             [
              0.6666666666666666,
              "#ed7953"
             ],
             [
              0.7777777777777778,
              "#fb9f3a"
             ],
             [
              0.8888888888888888,
              "#fdca26"
             ],
             [
              1,
              "#f0f921"
             ]
            ],
            "type": "heatmap"
           }
          ],
          "heatmapgl": [
           {
            "colorbar": {
             "outlinewidth": 0,
             "ticks": ""
            },
            "colorscale": [
             [
              0,
              "#0d0887"
             ],
             [
              0.1111111111111111,
              "#46039f"
             ],
             [
              0.2222222222222222,
              "#7201a8"
             ],
             [
              0.3333333333333333,
              "#9c179e"
             ],
             [
              0.4444444444444444,
              "#bd3786"
             ],
             [
              0.5555555555555556,
              "#d8576b"
             ],
             [
              0.6666666666666666,
              "#ed7953"
             ],
             [
              0.7777777777777778,
              "#fb9f3a"
             ],
             [
              0.8888888888888888,
              "#fdca26"
             ],
             [
              1,
              "#f0f921"
             ]
            ],
            "type": "heatmapgl"
           }
          ],
          "histogram": [
           {
            "marker": {
             "pattern": {
              "fillmode": "overlay",
              "size": 10,
              "solidity": 0.2
             }
            },
            "type": "histogram"
           }
          ],
          "histogram2d": [
           {
            "colorbar": {
             "outlinewidth": 0,
             "ticks": ""
            },
            "colorscale": [
             [
              0,
              "#0d0887"
             ],
             [
              0.1111111111111111,
              "#46039f"
             ],
             [
              0.2222222222222222,
              "#7201a8"
             ],
             [
              0.3333333333333333,
              "#9c179e"
             ],
             [
              0.4444444444444444,
              "#bd3786"
             ],
             [
              0.5555555555555556,
              "#d8576b"
             ],
             [
              0.6666666666666666,
              "#ed7953"
             ],
             [
              0.7777777777777778,
              "#fb9f3a"
             ],
             [
              0.8888888888888888,
              "#fdca26"
             ],
             [
              1,
              "#f0f921"
             ]
            ],
            "type": "histogram2d"
           }
          ],
          "histogram2dcontour": [
           {
            "colorbar": {
             "outlinewidth": 0,
             "ticks": ""
            },
            "colorscale": [
             [
              0,
              "#0d0887"
             ],
             [
              0.1111111111111111,
              "#46039f"
             ],
             [
              0.2222222222222222,
              "#7201a8"
             ],
             [
              0.3333333333333333,
              "#9c179e"
             ],
             [
              0.4444444444444444,
              "#bd3786"
             ],
             [
              0.5555555555555556,
              "#d8576b"
             ],
             [
              0.6666666666666666,
              "#ed7953"
             ],
             [
              0.7777777777777778,
              "#fb9f3a"
             ],
             [
              0.8888888888888888,
              "#fdca26"
             ],
             [
              1,
              "#f0f921"
             ]
            ],
            "type": "histogram2dcontour"
           }
          ],
          "mesh3d": [
           {
            "colorbar": {
             "outlinewidth": 0,
             "ticks": ""
            },
            "type": "mesh3d"
           }
          ],
          "parcoords": [
           {
            "line": {
             "colorbar": {
              "outlinewidth": 0,
              "ticks": ""
             }
            },
            "type": "parcoords"
           }
          ],
          "pie": [
           {
            "automargin": true,
            "type": "pie"
           }
          ],
          "scatter": [
           {
            "fillpattern": {
             "fillmode": "overlay",
             "size": 10,
             "solidity": 0.2
            },
            "type": "scatter"
           }
          ],
          "scatter3d": [
           {
            "line": {
             "colorbar": {
              "outlinewidth": 0,
              "ticks": ""
             }
            },
            "marker": {
             "colorbar": {
              "outlinewidth": 0,
              "ticks": ""
             }
            },
            "type": "scatter3d"
           }
          ],
          "scattercarpet": [
           {
            "marker": {
             "colorbar": {
              "outlinewidth": 0,
              "ticks": ""
             }
            },
            "type": "scattercarpet"
           }
          ],
          "scattergeo": [
           {
            "marker": {
             "colorbar": {
              "outlinewidth": 0,
              "ticks": ""
             }
            },
            "type": "scattergeo"
           }
          ],
          "scattergl": [
           {
            "marker": {
             "colorbar": {
              "outlinewidth": 0,
              "ticks": ""
             }
            },
            "type": "scattergl"
           }
          ],
          "scattermapbox": [
           {
            "marker": {
             "colorbar": {
              "outlinewidth": 0,
              "ticks": ""
             }
            },
            "type": "scattermapbox"
           }
          ],
          "scatterpolar": [
           {
            "marker": {
             "colorbar": {
              "outlinewidth": 0,
              "ticks": ""
             }
            },
            "type": "scatterpolar"
           }
          ],
          "scatterpolargl": [
           {
            "marker": {
             "colorbar": {
              "outlinewidth": 0,
              "ticks": ""
             }
            },
            "type": "scatterpolargl"
           }
          ],
          "scatterternary": [
           {
            "marker": {
             "colorbar": {
              "outlinewidth": 0,
              "ticks": ""
             }
            },
            "type": "scatterternary"
           }
          ],
          "surface": [
           {
            "colorbar": {
             "outlinewidth": 0,
             "ticks": ""
            },
            "colorscale": [
             [
              0,
              "#0d0887"
             ],
             [
              0.1111111111111111,
              "#46039f"
             ],
             [
              0.2222222222222222,
              "#7201a8"
             ],
             [
              0.3333333333333333,
              "#9c179e"
             ],
             [
              0.4444444444444444,
              "#bd3786"
             ],
             [
              0.5555555555555556,
              "#d8576b"
             ],
             [
              0.6666666666666666,
              "#ed7953"
             ],
             [
              0.7777777777777778,
              "#fb9f3a"
             ],
             [
              0.8888888888888888,
              "#fdca26"
             ],
             [
              1,
              "#f0f921"
             ]
            ],
            "type": "surface"
           }
          ],
          "table": [
           {
            "cells": {
             "fill": {
              "color": "#EBF0F8"
             },
             "line": {
              "color": "white"
             }
            },
            "header": {
             "fill": {
              "color": "#C8D4E3"
             },
             "line": {
              "color": "white"
             }
            },
            "type": "table"
           }
          ]
         },
         "layout": {
          "annotationdefaults": {
           "arrowcolor": "#2a3f5f",
           "arrowhead": 0,
           "arrowwidth": 1
          },
          "autotypenumbers": "strict",
          "coloraxis": {
           "colorbar": {
            "outlinewidth": 0,
            "ticks": ""
           }
          },
          "colorscale": {
           "diverging": [
            [
             0,
             "#8e0152"
            ],
            [
             0.1,
             "#c51b7d"
            ],
            [
             0.2,
             "#de77ae"
            ],
            [
             0.3,
             "#f1b6da"
            ],
            [
             0.4,
             "#fde0ef"
            ],
            [
             0.5,
             "#f7f7f7"
            ],
            [
             0.6,
             "#e6f5d0"
            ],
            [
             0.7,
             "#b8e186"
            ],
            [
             0.8,
             "#7fbc41"
            ],
            [
             0.9,
             "#4d9221"
            ],
            [
             1,
             "#276419"
            ]
           ],
           "sequential": [
            [
             0,
             "#0d0887"
            ],
            [
             0.1111111111111111,
             "#46039f"
            ],
            [
             0.2222222222222222,
             "#7201a8"
            ],
            [
             0.3333333333333333,
             "#9c179e"
            ],
            [
             0.4444444444444444,
             "#bd3786"
            ],
            [
             0.5555555555555556,
             "#d8576b"
            ],
            [
             0.6666666666666666,
             "#ed7953"
            ],
            [
             0.7777777777777778,
             "#fb9f3a"
            ],
            [
             0.8888888888888888,
             "#fdca26"
            ],
            [
             1,
             "#f0f921"
            ]
           ],
           "sequentialminus": [
            [
             0,
             "#0d0887"
            ],
            [
             0.1111111111111111,
             "#46039f"
            ],
            [
             0.2222222222222222,
             "#7201a8"
            ],
            [
             0.3333333333333333,
             "#9c179e"
            ],
            [
             0.4444444444444444,
             "#bd3786"
            ],
            [
             0.5555555555555556,
             "#d8576b"
            ],
            [
             0.6666666666666666,
             "#ed7953"
            ],
            [
             0.7777777777777778,
             "#fb9f3a"
            ],
            [
             0.8888888888888888,
             "#fdca26"
            ],
            [
             1,
             "#f0f921"
            ]
           ]
          },
          "colorway": [
           "#636efa",
           "#EF553B",
           "#00cc96",
           "#ab63fa",
           "#FFA15A",
           "#19d3f3",
           "#FF6692",
           "#B6E880",
           "#FF97FF",
           "#FECB52"
          ],
          "font": {
           "color": "#2a3f5f"
          },
          "geo": {
           "bgcolor": "white",
           "lakecolor": "white",
           "landcolor": "#E5ECF6",
           "showlakes": true,
           "showland": true,
           "subunitcolor": "white"
          },
          "hoverlabel": {
           "align": "left"
          },
          "hovermode": "closest",
          "mapbox": {
           "style": "light"
          },
          "paper_bgcolor": "white",
          "plot_bgcolor": "#E5ECF6",
          "polar": {
           "angularaxis": {
            "gridcolor": "white",
            "linecolor": "white",
            "ticks": ""
           },
           "bgcolor": "#E5ECF6",
           "radialaxis": {
            "gridcolor": "white",
            "linecolor": "white",
            "ticks": ""
           }
          },
          "scene": {
           "xaxis": {
            "backgroundcolor": "#E5ECF6",
            "gridcolor": "white",
            "gridwidth": 2,
            "linecolor": "white",
            "showbackground": true,
            "ticks": "",
            "zerolinecolor": "white"
           },
           "yaxis": {
            "backgroundcolor": "#E5ECF6",
            "gridcolor": "white",
            "gridwidth": 2,
            "linecolor": "white",
            "showbackground": true,
            "ticks": "",
            "zerolinecolor": "white"
           },
           "zaxis": {
            "backgroundcolor": "#E5ECF6",
            "gridcolor": "white",
            "gridwidth": 2,
            "linecolor": "white",
            "showbackground": true,
            "ticks": "",
            "zerolinecolor": "white"
           }
          },
          "shapedefaults": {
           "line": {
            "color": "#2a3f5f"
           }
          },
          "ternary": {
           "aaxis": {
            "gridcolor": "white",
            "linecolor": "white",
            "ticks": ""
           },
           "baxis": {
            "gridcolor": "white",
            "linecolor": "white",
            "ticks": ""
           },
           "bgcolor": "#E5ECF6",
           "caxis": {
            "gridcolor": "white",
            "linecolor": "white",
            "ticks": ""
           }
          },
          "title": {
           "x": 0.05
          },
          "xaxis": {
           "automargin": true,
           "gridcolor": "white",
           "linecolor": "white",
           "ticks": "",
           "title": {
            "standoff": 15
           },
           "zerolinecolor": "white",
           "zerolinewidth": 2
          },
          "yaxis": {
           "automargin": true,
           "gridcolor": "white",
           "linecolor": "white",
           "ticks": "",
           "title": {
            "standoff": 15
           },
           "zerolinecolor": "white",
           "zerolinewidth": 2
          }
         }
        },
        "title": {
         "font": {
          "size": 20
         },
         "text": "Restaurants in Belgium offering kapsalon",
         "x": 0.5
        }
       }
      }
     },
     "metadata": {},
     "output_type": "display_data"
    }
   ],
   "source": [
    "# Create the map\n",
    "fig = go.Figure(go.Scattermapbox(\n",
    "    lat=latitudes,\n",
    "    lon=longitudes,\n",
    "    mode='markers',\n",
    "    marker=go.scattermapbox.Marker(\n",
    "        size=10,\n",
    "        color=avg_kp_price,  \n",
    "        colorscale='Viridis',  \n",
    "        showscale=True  \n",
    "    ),\n",
    "    text=[f\"{name}<br>Avg. kapsalon price: €{price}\" for name, price in zip(rest_names, avg_kp_price)],  # Hover text\n",
    "    hoverinfo='text'\n",
    "))\n",
    "\n",
    "fig.update_layout(\n",
    "    mapbox=dict(\n",
    "        accesstoken='your_mapbox_access_token', \n",
    "        style=\"carto-positron\",  # Map style\n",
    "        center=dict(lat=50.8503, lon=4.3517),\n",
    "        zoom=7.2  \n",
    "    ),\n",
    "    title=dict(\n",
    "        text=\"Restaurants in Belgium offering kapsalon\",\n",
    "        font=dict(size=20),  # Adjust font size\n",
    "        x=0.5  # Center the title\n",
    "    ),\n",
    "    margin={\"r\":0,\"t\":50,\"l\":0,\"b\":0}  # Add space at the top for the title\n",
    ")\n",
    "\n",
    "# Show the map\n",
    "fig.show()"
   ]
  },
  {
   "cell_type": "code",
   "execution_count": 25,
   "metadata": {},
   "outputs": [
    {
     "name": "stdout",
     "output_type": "stream",
     "text": [
      "Tables in the new database:\n",
      "('restaurants',)\n"
     ]
    }
   ],
   "source": [
    "print(\"Tables in the new database:\")\n",
    "for row in conn.execute(\"SELECT name FROM main.sqlite_master WHERE type='table';\"):\n",
    "    print(row)"
   ]
  }
 ],
 "metadata": {
  "kernelspec": {
   "display_name": "sqlenv",
   "language": "python",
   "name": "python3"
  },
  "language_info": {
   "codemirror_mode": {
    "name": "ipython",
    "version": 3
   },
   "file_extension": ".py",
   "mimetype": "text/x-python",
   "name": "python",
   "nbconvert_exporter": "python",
   "pygments_lexer": "ipython3",
   "version": "3.10.0"
  }
 },
 "nbformat": 4,
 "nbformat_minor": 2
}
